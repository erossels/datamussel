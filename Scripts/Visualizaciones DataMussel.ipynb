{
 "cells": [
  {
   "cell_type": "code",
   "execution_count": 14,
   "id": "061f4d45",
   "metadata": {},
   "outputs": [],
   "source": [
    "import pandas as pd\n",
    "import seaborn as sns\n",
    "import os\n",
    "import numpy as np\n"
   ]
  },
  {
   "cell_type": "code",
   "execution_count": 15,
   "id": "1131331c",
   "metadata": {},
   "outputs": [],
   "source": [
    "ingresos_mmpp = pd.read_csv('../Procesos_Ingresos_2021.csv')\n"
   ]
  },
  {
   "cell_type": "markdown",
   "id": "30305ada",
   "metadata": {},
   "source": [
    "# Transformaciones"
   ]
  },
  {
   "cell_type": "markdown",
   "id": "6f6cd14c",
   "metadata": {},
   "source": [
    "### Unidad de medida pesajes"
   ]
  },
  {
   "cell_type": "code",
   "execution_count": 16,
   "id": "28a93778",
   "metadata": {
    "scrolled": true
   },
   "outputs": [],
   "source": [
    "# Kilos a toneladas\n",
    "ingresos_mmpp['Valor'] = [ingresos_mmpp.Valor.iloc[i]/1000 if ingresos_mmpp['Unidad de medida'].iloc[i] == 'Kilos' else ingresos_mmpp.Valor.iloc[i]  for i in ingresos_mmpp.index]\n",
    "ingresos_mmpp['Unidad de medida'] = ingresos_mmpp['Unidad de medida'].apply(lambda u: 'Ton' if u == 'Kilos' else u)"
   ]
  },
  {
   "cell_type": "markdown",
   "id": "7c397ac0",
   "metadata": {},
   "source": [
    "### Agrupación indicadores"
   ]
  },
  {
   "cell_type": "code",
   "execution_count": 17,
   "id": "8f8b69e6",
   "metadata": {},
   "outputs": [],
   "source": [
    "ingresos_mmpp.Indicador.unique()\n",
    "\n",
    "dict_indicadores_tipo = {\n",
    "    'Ingreso Materia Bruta Prima Propia':'MP Bruta',\n",
    "    'Ingreso Materia Prima Neta o Pagada Propia':'MP Neta',\n",
    "    'Unidades por kilo mmpp propia*': \"No aplica\",\n",
    "    'Ingreso Materia Prima Bruta Terceros':'MP Bruta',\n",
    "    'Ingreso Materia Prima Neta o Pagada Terceros':'MP Neta',\n",
    "    'Unidades por kilo mmpp terceros*': \"No aplica\", \n",
    "    'Ingreso Materia Prima Propia':'MP Bruta',\n",
    "    'Ingreso Materia Prima Neta Propia':'MP Neta',\n",
    "    'Ingreso Materia Prima Terceros':'MP Bruta',\n",
    "    'Ingreso Materia Prima Neta Terceros':'MP Neta',\n",
    "    'Ingreso Materia Prima Bruta Propia':'MP Bruta'\n",
    "}\n",
    "\n",
    "ingresos_mmpp['Tipo'] = ingresos_mmpp.Indicador.apply(lambda i: dict_indicadores_tipo[i])"
   ]
  },
  {
   "cell_type": "code",
   "execution_count": 18,
   "id": "3a33ec93",
   "metadata": {},
   "outputs": [],
   "source": [
    "dict_indicadores_propiedad = {\n",
    "    'Ingreso Materia Bruta Prima Propia':'MPB Propia',\n",
    "    'Ingreso Materia Prima Neta o Pagada Propia':'MPN Propia',\n",
    "    'Unidades por kilo mmpp propia*': \"No aplica\",\n",
    "    'Ingreso Materia Prima Bruta Terceros':'MPB Terceros',\n",
    "    'Ingreso Materia Prima Neta o Pagada Terceros':'MPN Terceros',\n",
    "    'Unidades por kilo mmpp terceros*': \"No aplica\", \n",
    "    'Ingreso Materia Prima Propia':'MPB Propia',\n",
    "    'Ingreso Materia Prima Neta Propia':'MPN Propia',\n",
    "    'Ingreso Materia Prima Terceros':'MPB Terceros',\n",
    "    'Ingreso Materia Prima Neta Terceros':'MPN Terceros',\n",
    "    'Ingreso Materia Prima Bruta Propia':'MPB Propia'\n",
    "}\n",
    "\n",
    "ingresos_mmpp['Propiedad'] = ingresos_mmpp.Indicador.apply(lambda i: dict_indicadores_propiedad[i])"
   ]
  },
  {
   "cell_type": "markdown",
   "id": "9c09f9f5",
   "metadata": {},
   "source": [
    "# Resumen Mensual Ingreso Materia Prima"
   ]
  },
  {
   "cell_type": "markdown",
   "id": "2874adcf",
   "metadata": {},
   "source": [
    "### Resumen Mensual Ingreso Materia Prima Industria"
   ]
  },
  {
   "cell_type": "markdown",
   "id": "61caddb4",
   "metadata": {},
   "source": [
    "#### Empresa "
   ]
  },
  {
   "cell_type": "code",
   "execution_count": 19,
   "id": "f11a020f",
   "metadata": {},
   "outputs": [],
   "source": [
    "dict_meses = {\n",
    "    1:'Enero',\n",
    "    2:'Febrero',\n",
    "    3:'Marzo',\n",
    "    4:'Abril',\n",
    "    5:'Mayo',\n",
    "    6:'Junio',\n",
    "    7:'Julio',\n",
    "    8:'Agosto',\n",
    "    9:'Septiembre',\n",
    "    10:'Octubre',\n",
    "    11:'Noviembre',\n",
    "    12:'Diciembre'\n",
    "}"
   ]
  },
  {
   "cell_type": "code",
   "execution_count": 20,
   "id": "e9d20e21",
   "metadata": {},
   "outputs": [
    {
     "data": {
      "text/plain": [
       "array(['SA Chonchi', 'SA Quemchi', 'Landes', 'Camanchaca', 'Manuelita',\n",
       "       'Sudmaris', 'Blue Shell'], dtype=object)"
      ]
     },
     "execution_count": 20,
     "metadata": {},
     "output_type": "execute_result"
    }
   ],
   "source": [
    "ingresos_mmpp.Empresa.unique()"
   ]
  },
  {
   "cell_type": "code",
   "execution_count": 21,
   "id": "48259b3d",
   "metadata": {},
   "outputs": [],
   "source": [
    "empresa = 'Manuelita'"
   ]
  },
  {
   "cell_type": "code",
   "execution_count": 22,
   "id": "1c010160",
   "metadata": {
    "scrolled": false
   },
   "outputs": [
    {
     "data": {
      "text/html": [
       "<div>\n",
       "<style scoped>\n",
       "    .dataframe tbody tr th:only-of-type {\n",
       "        vertical-align: middle;\n",
       "    }\n",
       "\n",
       "    .dataframe tbody tr th {\n",
       "        vertical-align: top;\n",
       "    }\n",
       "\n",
       "    .dataframe thead tr th {\n",
       "        text-align: left;\n",
       "    }\n",
       "\n",
       "    .dataframe thead tr:last-of-type th {\n",
       "        text-align: right;\n",
       "    }\n",
       "</style>\n",
       "<table border=\"1\" class=\"dataframe\">\n",
       "  <thead>\n",
       "    <tr>\n",
       "      <th></th>\n",
       "      <th></th>\n",
       "      <th colspan=\"2\" halign=\"left\">Enero</th>\n",
       "      <th colspan=\"2\" halign=\"left\">Febrero</th>\n",
       "      <th colspan=\"2\" halign=\"left\">Marzo</th>\n",
       "      <th colspan=\"2\" halign=\"left\">Abril</th>\n",
       "      <th colspan=\"2\" halign=\"left\">Mayo</th>\n",
       "      <th colspan=\"2\" halign=\"left\">Junio</th>\n",
       "      <th colspan=\"2\" halign=\"left\">Julio</th>\n",
       "      <th colspan=\"2\" halign=\"left\">Total</th>\n",
       "      <th colspan=\"2\" halign=\"left\">Promedio</th>\n",
       "    </tr>\n",
       "    <tr>\n",
       "      <th></th>\n",
       "      <th></th>\n",
       "      <th>Ton</th>\n",
       "      <th>%</th>\n",
       "      <th>Ton</th>\n",
       "      <th>%</th>\n",
       "      <th>Ton</th>\n",
       "      <th>%</th>\n",
       "      <th>Ton</th>\n",
       "      <th>%</th>\n",
       "      <th>Ton</th>\n",
       "      <th>%</th>\n",
       "      <th>Ton</th>\n",
       "      <th>%</th>\n",
       "      <th>Ton</th>\n",
       "      <th>%</th>\n",
       "      <th>Ton</th>\n",
       "      <th>%</th>\n",
       "      <th>Ton</th>\n",
       "      <th>%</th>\n",
       "    </tr>\n",
       "    <tr>\n",
       "      <th>Tipo</th>\n",
       "      <th>Propiedad</th>\n",
       "      <th></th>\n",
       "      <th></th>\n",
       "      <th></th>\n",
       "      <th></th>\n",
       "      <th></th>\n",
       "      <th></th>\n",
       "      <th></th>\n",
       "      <th></th>\n",
       "      <th></th>\n",
       "      <th></th>\n",
       "      <th></th>\n",
       "      <th></th>\n",
       "      <th></th>\n",
       "      <th></th>\n",
       "      <th></th>\n",
       "      <th></th>\n",
       "      <th></th>\n",
       "      <th></th>\n",
       "    </tr>\n",
       "  </thead>\n",
       "  <tbody>\n",
       "    <tr>\n",
       "      <th rowspan=\"3\" valign=\"top\">MP Bruta</th>\n",
       "      <th>MPB Propia</th>\n",
       "      <td>1812.0</td>\n",
       "      <td>59.0</td>\n",
       "      <td>2083.0</td>\n",
       "      <td>68.0</td>\n",
       "      <td>3114.0</td>\n",
       "      <td>82.0</td>\n",
       "      <td>1964.0</td>\n",
       "      <td>61.0</td>\n",
       "      <td>2117.0</td>\n",
       "      <td>63.0</td>\n",
       "      <td>1591.0</td>\n",
       "      <td>57.0</td>\n",
       "      <td>380.0</td>\n",
       "      <td>79.0</td>\n",
       "      <td>13062.0</td>\n",
       "      <td>67.0</td>\n",
       "      <td>1866.0</td>\n",
       "      <td>67.0</td>\n",
       "    </tr>\n",
       "    <tr>\n",
       "      <th>MPB Terceros</th>\n",
       "      <td>1261.0</td>\n",
       "      <td>41.0</td>\n",
       "      <td>997.0</td>\n",
       "      <td>32.0</td>\n",
       "      <td>685.0</td>\n",
       "      <td>18.0</td>\n",
       "      <td>1253.0</td>\n",
       "      <td>39.0</td>\n",
       "      <td>1238.0</td>\n",
       "      <td>37.0</td>\n",
       "      <td>1196.0</td>\n",
       "      <td>43.0</td>\n",
       "      <td>102.0</td>\n",
       "      <td>21.0</td>\n",
       "      <td>6732.0</td>\n",
       "      <td>33.0</td>\n",
       "      <td>962.0</td>\n",
       "      <td>33.0</td>\n",
       "    </tr>\n",
       "    <tr>\n",
       "      <th>Total</th>\n",
       "      <td>3074.0</td>\n",
       "      <td>100.0</td>\n",
       "      <td>3080.0</td>\n",
       "      <td>100.0</td>\n",
       "      <td>3799.0</td>\n",
       "      <td>100.0</td>\n",
       "      <td>3217.0</td>\n",
       "      <td>100.0</td>\n",
       "      <td>3355.0</td>\n",
       "      <td>100.0</td>\n",
       "      <td>2787.0</td>\n",
       "      <td>100.0</td>\n",
       "      <td>483.0</td>\n",
       "      <td>100.0</td>\n",
       "      <td>19794.0</td>\n",
       "      <td>100.0</td>\n",
       "      <td>2828.0</td>\n",
       "      <td>100.0</td>\n",
       "    </tr>\n",
       "    <tr>\n",
       "      <th rowspan=\"3\" valign=\"top\">MP Neta</th>\n",
       "      <th>MPN Propia</th>\n",
       "      <td>1620.0</td>\n",
       "      <td>59.0</td>\n",
       "      <td>1897.0</td>\n",
       "      <td>68.0</td>\n",
       "      <td>2781.0</td>\n",
       "      <td>82.0</td>\n",
       "      <td>1727.0</td>\n",
       "      <td>61.0</td>\n",
       "      <td>1797.0</td>\n",
       "      <td>64.0</td>\n",
       "      <td>1348.0</td>\n",
       "      <td>57.0</td>\n",
       "      <td>333.0</td>\n",
       "      <td>79.0</td>\n",
       "      <td>11502.0</td>\n",
       "      <td>67.0</td>\n",
       "      <td>1643.0</td>\n",
       "      <td>67.0</td>\n",
       "    </tr>\n",
       "    <tr>\n",
       "      <th>MPN Terceros</th>\n",
       "      <td>1123.0</td>\n",
       "      <td>41.0</td>\n",
       "      <td>885.0</td>\n",
       "      <td>32.0</td>\n",
       "      <td>618.0</td>\n",
       "      <td>18.0</td>\n",
       "      <td>1084.0</td>\n",
       "      <td>39.0</td>\n",
       "      <td>1016.0</td>\n",
       "      <td>36.0</td>\n",
       "      <td>1022.0</td>\n",
       "      <td>43.0</td>\n",
       "      <td>88.0</td>\n",
       "      <td>21.0</td>\n",
       "      <td>5837.0</td>\n",
       "      <td>33.0</td>\n",
       "      <td>834.0</td>\n",
       "      <td>33.0</td>\n",
       "    </tr>\n",
       "    <tr>\n",
       "      <th>Total</th>\n",
       "      <td>2743.0</td>\n",
       "      <td>100.0</td>\n",
       "      <td>2782.0</td>\n",
       "      <td>100.0</td>\n",
       "      <td>3399.0</td>\n",
       "      <td>100.0</td>\n",
       "      <td>2811.0</td>\n",
       "      <td>100.0</td>\n",
       "      <td>2813.0</td>\n",
       "      <td>100.0</td>\n",
       "      <td>2370.0</td>\n",
       "      <td>100.0</td>\n",
       "      <td>421.0</td>\n",
       "      <td>100.0</td>\n",
       "      <td>17339.0</td>\n",
       "      <td>100.0</td>\n",
       "      <td>2477.0</td>\n",
       "      <td>100.0</td>\n",
       "    </tr>\n",
       "    <tr>\n",
       "      <th>General</th>\n",
       "      <th>Total</th>\n",
       "      <td>5817.0</td>\n",
       "      <td>200.0</td>\n",
       "      <td>5862.0</td>\n",
       "      <td>200.0</td>\n",
       "      <td>7198.0</td>\n",
       "      <td>200.0</td>\n",
       "      <td>6028.0</td>\n",
       "      <td>200.0</td>\n",
       "      <td>6168.0</td>\n",
       "      <td>200.0</td>\n",
       "      <td>5157.0</td>\n",
       "      <td>200.0</td>\n",
       "      <td>904.0</td>\n",
       "      <td>200.0</td>\n",
       "      <td>37133.0</td>\n",
       "      <td>200.0</td>\n",
       "      <td>5305.0</td>\n",
       "      <td>200.0</td>\n",
       "    </tr>\n",
       "  </tbody>\n",
       "</table>\n",
       "</div>"
      ],
      "text/plain": [
       "                        Enero        Febrero          Marzo          Abril  \\\n",
       "                          Ton      %     Ton      %     Ton      %     Ton   \n",
       "Tipo     Propiedad                                                           \n",
       "MP Bruta MPB Propia    1812.0   59.0  2083.0   68.0  3114.0   82.0  1964.0   \n",
       "         MPB Terceros  1261.0   41.0   997.0   32.0   685.0   18.0  1253.0   \n",
       "         Total         3074.0  100.0  3080.0  100.0  3799.0  100.0  3217.0   \n",
       "MP Neta  MPN Propia    1620.0   59.0  1897.0   68.0  2781.0   82.0  1727.0   \n",
       "         MPN Terceros  1123.0   41.0   885.0   32.0   618.0   18.0  1084.0   \n",
       "         Total         2743.0  100.0  2782.0  100.0  3399.0  100.0  2811.0   \n",
       "General  Total         5817.0  200.0  5862.0  200.0  7198.0  200.0  6028.0   \n",
       "\n",
       "                                Mayo          Junio         Julio         \\\n",
       "                           %     Ton      %     Ton      %    Ton      %   \n",
       "Tipo     Propiedad                                                         \n",
       "MP Bruta MPB Propia     61.0  2117.0   63.0  1591.0   57.0  380.0   79.0   \n",
       "         MPB Terceros   39.0  1238.0   37.0  1196.0   43.0  102.0   21.0   \n",
       "         Total         100.0  3355.0  100.0  2787.0  100.0  483.0  100.0   \n",
       "MP Neta  MPN Propia     61.0  1797.0   64.0  1348.0   57.0  333.0   79.0   \n",
       "         MPN Terceros   39.0  1016.0   36.0  1022.0   43.0   88.0   21.0   \n",
       "         Total         100.0  2813.0  100.0  2370.0  100.0  421.0  100.0   \n",
       "General  Total         200.0  6168.0  200.0  5157.0  200.0  904.0  200.0   \n",
       "\n",
       "                         Total        Promedio         \n",
       "                           Ton      %      Ton      %  \n",
       "Tipo     Propiedad                                     \n",
       "MP Bruta MPB Propia    13062.0   67.0   1866.0   67.0  \n",
       "         MPB Terceros   6732.0   33.0    962.0   33.0  \n",
       "         Total         19794.0  100.0   2828.0  100.0  \n",
       "MP Neta  MPN Propia    11502.0   67.0   1643.0   67.0  \n",
       "         MPN Terceros   5837.0   33.0    834.0   33.0  \n",
       "         Total         17339.0  100.0   2477.0  100.0  \n",
       "General  Total         37133.0  200.0   5305.0  200.0  "
      ]
     },
     "execution_count": 22,
     "metadata": {},
     "output_type": "execute_result"
    }
   ],
   "source": [
    "pv = ingresos_mmpp[ingresos_mmpp.Empresa == empresa].pivot_table(index=['Tipo','Propiedad'], columns='Mes', values='Valor', aggfunc=sum)\n",
    "pv = pv[pv.index.get_level_values('Tipo').isin(['MP Bruta', 'MP Neta'])]\n",
    "total = pv.sum(axis=1).round(0)\n",
    "average = pv.mean(axis=1).round(0)\n",
    "pv[13] = total.copy()\n",
    "pv[14] = average.copy()\n",
    "\n",
    "pv2 = ingresos_mmpp[ingresos_mmpp.Empresa == empresa].pivot_table(index=['Tipo','Propiedad'], columns='Mes', values='Valor')\n",
    "pv2 = pv2.groupby(level=0).transform(lambda x: (x / x.sum()).round(2))*100\n",
    "pv2 = pv2[pv2.index.get_level_values('Tipo').isin(['MP Bruta', 'MP Neta'])]\n",
    "total2 = pv2.mean(axis=1).round(0)\n",
    "average2 = pv2.mean(axis=1).round(0)\n",
    "pv2[13] = total2\n",
    "pv2[14] = average2\n",
    "\n",
    "largo = len(pv2.columns)\n",
    "new_index = []\n",
    "for i in range(1, largo+1):\n",
    "    if i == largo - 1:\n",
    "        new_index.append(('Total','Ton'))\n",
    "        new_index.append(('Total','%'))\n",
    "    elif i == largo:\n",
    "        new_index.append(('Promedio','Ton'))\n",
    "        new_index.append(('Promedio','%'))\n",
    "    else: \n",
    "        new_index.append((dict_meses[i],'Ton'))\n",
    "        new_index.append((dict_meses[i],'%'))\n",
    "\n",
    "pv3 = pd.concat([pv, pv2], axis=1).sort_index(level=0,axis=1)\n",
    "pv3.columns = pd.MultiIndex.from_tuples(new_index)\n",
    "pv3\n",
    "\n",
    "pv_empresa = pd.concat([\n",
    "    d.append(d.sum().rename((k, 'Total')))\n",
    "    for k, d in pv3.groupby(level=0)\n",
    "]).append(pv3.sum().rename(('General', 'Total'))).round()\n",
    "\n",
    "pv_empresa"
   ]
  },
  {
   "cell_type": "code",
   "execution_count": 23,
   "id": "1ad00b89",
   "metadata": {
    "scrolled": false
   },
   "outputs": [],
   "source": [
    "pv_empresa2 = pv_empresa.reset_index(level=None, drop=False)"
   ]
  },
  {
   "cell_type": "code",
   "execution_count": 24,
   "id": "b6f6e94c",
   "metadata": {},
   "outputs": [
    {
     "data": {
      "text/html": [
       "<div>\n",
       "<style scoped>\n",
       "    .dataframe tbody tr th:only-of-type {\n",
       "        vertical-align: middle;\n",
       "    }\n",
       "\n",
       "    .dataframe tbody tr th {\n",
       "        vertical-align: top;\n",
       "    }\n",
       "\n",
       "    .dataframe thead tr th {\n",
       "        text-align: left;\n",
       "    }\n",
       "</style>\n",
       "<table border=\"1\" class=\"dataframe\">\n",
       "  <thead>\n",
       "    <tr>\n",
       "      <th></th>\n",
       "      <th>Tipo</th>\n",
       "      <th>Propiedad</th>\n",
       "      <th colspan=\"2\" halign=\"left\">Enero</th>\n",
       "      <th colspan=\"2\" halign=\"left\">Febrero</th>\n",
       "      <th colspan=\"2\" halign=\"left\">Marzo</th>\n",
       "      <th colspan=\"2\" halign=\"left\">Abril</th>\n",
       "      <th colspan=\"2\" halign=\"left\">Mayo</th>\n",
       "      <th colspan=\"2\" halign=\"left\">Junio</th>\n",
       "      <th colspan=\"2\" halign=\"left\">Julio</th>\n",
       "      <th colspan=\"2\" halign=\"left\">Total</th>\n",
       "      <th colspan=\"2\" halign=\"left\">Promedio</th>\n",
       "    </tr>\n",
       "    <tr>\n",
       "      <th></th>\n",
       "      <th></th>\n",
       "      <th></th>\n",
       "      <th>Ton</th>\n",
       "      <th>%</th>\n",
       "      <th>Ton</th>\n",
       "      <th>%</th>\n",
       "      <th>Ton</th>\n",
       "      <th>%</th>\n",
       "      <th>Ton</th>\n",
       "      <th>%</th>\n",
       "      <th>Ton</th>\n",
       "      <th>%</th>\n",
       "      <th>Ton</th>\n",
       "      <th>%</th>\n",
       "      <th>Ton</th>\n",
       "      <th>%</th>\n",
       "      <th>Ton</th>\n",
       "      <th>%</th>\n",
       "      <th>Ton</th>\n",
       "      <th>%</th>\n",
       "    </tr>\n",
       "  </thead>\n",
       "  <tbody>\n",
       "    <tr>\n",
       "      <th>0</th>\n",
       "      <td>MP Bruta</td>\n",
       "      <td>MPB Propia</td>\n",
       "      <td>1812.0</td>\n",
       "      <td>59.0</td>\n",
       "      <td>2083.0</td>\n",
       "      <td>68.0</td>\n",
       "      <td>3114.0</td>\n",
       "      <td>82.0</td>\n",
       "      <td>1964.0</td>\n",
       "      <td>61.0</td>\n",
       "      <td>2117.0</td>\n",
       "      <td>63.0</td>\n",
       "      <td>1591.0</td>\n",
       "      <td>57.0</td>\n",
       "      <td>380.0</td>\n",
       "      <td>79.0</td>\n",
       "      <td>13062.0</td>\n",
       "      <td>67.0</td>\n",
       "      <td>1866.0</td>\n",
       "      <td>67.0</td>\n",
       "    </tr>\n",
       "    <tr>\n",
       "      <th>1</th>\n",
       "      <td>MP Bruta</td>\n",
       "      <td>MPB Terceros</td>\n",
       "      <td>1261.0</td>\n",
       "      <td>41.0</td>\n",
       "      <td>997.0</td>\n",
       "      <td>32.0</td>\n",
       "      <td>685.0</td>\n",
       "      <td>18.0</td>\n",
       "      <td>1253.0</td>\n",
       "      <td>39.0</td>\n",
       "      <td>1238.0</td>\n",
       "      <td>37.0</td>\n",
       "      <td>1196.0</td>\n",
       "      <td>43.0</td>\n",
       "      <td>102.0</td>\n",
       "      <td>21.0</td>\n",
       "      <td>6732.0</td>\n",
       "      <td>33.0</td>\n",
       "      <td>962.0</td>\n",
       "      <td>33.0</td>\n",
       "    </tr>\n",
       "    <tr>\n",
       "      <th>2</th>\n",
       "      <td>MP Bruta</td>\n",
       "      <td>Total</td>\n",
       "      <td>3074.0</td>\n",
       "      <td>100.0</td>\n",
       "      <td>3080.0</td>\n",
       "      <td>100.0</td>\n",
       "      <td>3799.0</td>\n",
       "      <td>100.0</td>\n",
       "      <td>3217.0</td>\n",
       "      <td>100.0</td>\n",
       "      <td>3355.0</td>\n",
       "      <td>100.0</td>\n",
       "      <td>2787.0</td>\n",
       "      <td>100.0</td>\n",
       "      <td>483.0</td>\n",
       "      <td>100.0</td>\n",
       "      <td>19794.0</td>\n",
       "      <td>100.0</td>\n",
       "      <td>2828.0</td>\n",
       "      <td>100.0</td>\n",
       "    </tr>\n",
       "    <tr>\n",
       "      <th>3</th>\n",
       "      <td>MP Neta</td>\n",
       "      <td>MPN Propia</td>\n",
       "      <td>1620.0</td>\n",
       "      <td>59.0</td>\n",
       "      <td>1897.0</td>\n",
       "      <td>68.0</td>\n",
       "      <td>2781.0</td>\n",
       "      <td>82.0</td>\n",
       "      <td>1727.0</td>\n",
       "      <td>61.0</td>\n",
       "      <td>1797.0</td>\n",
       "      <td>64.0</td>\n",
       "      <td>1348.0</td>\n",
       "      <td>57.0</td>\n",
       "      <td>333.0</td>\n",
       "      <td>79.0</td>\n",
       "      <td>11502.0</td>\n",
       "      <td>67.0</td>\n",
       "      <td>1643.0</td>\n",
       "      <td>67.0</td>\n",
       "    </tr>\n",
       "    <tr>\n",
       "      <th>4</th>\n",
       "      <td>MP Neta</td>\n",
       "      <td>MPN Terceros</td>\n",
       "      <td>1123.0</td>\n",
       "      <td>41.0</td>\n",
       "      <td>885.0</td>\n",
       "      <td>32.0</td>\n",
       "      <td>618.0</td>\n",
       "      <td>18.0</td>\n",
       "      <td>1084.0</td>\n",
       "      <td>39.0</td>\n",
       "      <td>1016.0</td>\n",
       "      <td>36.0</td>\n",
       "      <td>1022.0</td>\n",
       "      <td>43.0</td>\n",
       "      <td>88.0</td>\n",
       "      <td>21.0</td>\n",
       "      <td>5837.0</td>\n",
       "      <td>33.0</td>\n",
       "      <td>834.0</td>\n",
       "      <td>33.0</td>\n",
       "    </tr>\n",
       "    <tr>\n",
       "      <th>5</th>\n",
       "      <td>MP Neta</td>\n",
       "      <td>Total</td>\n",
       "      <td>2743.0</td>\n",
       "      <td>100.0</td>\n",
       "      <td>2782.0</td>\n",
       "      <td>100.0</td>\n",
       "      <td>3399.0</td>\n",
       "      <td>100.0</td>\n",
       "      <td>2811.0</td>\n",
       "      <td>100.0</td>\n",
       "      <td>2813.0</td>\n",
       "      <td>100.0</td>\n",
       "      <td>2370.0</td>\n",
       "      <td>100.0</td>\n",
       "      <td>421.0</td>\n",
       "      <td>100.0</td>\n",
       "      <td>17339.0</td>\n",
       "      <td>100.0</td>\n",
       "      <td>2477.0</td>\n",
       "      <td>100.0</td>\n",
       "    </tr>\n",
       "    <tr>\n",
       "      <th>6</th>\n",
       "      <td>General</td>\n",
       "      <td>Total</td>\n",
       "      <td>5817.0</td>\n",
       "      <td>200.0</td>\n",
       "      <td>5862.0</td>\n",
       "      <td>200.0</td>\n",
       "      <td>7198.0</td>\n",
       "      <td>200.0</td>\n",
       "      <td>6028.0</td>\n",
       "      <td>200.0</td>\n",
       "      <td>6168.0</td>\n",
       "      <td>200.0</td>\n",
       "      <td>5157.0</td>\n",
       "      <td>200.0</td>\n",
       "      <td>904.0</td>\n",
       "      <td>200.0</td>\n",
       "      <td>37133.0</td>\n",
       "      <td>200.0</td>\n",
       "      <td>5305.0</td>\n",
       "      <td>200.0</td>\n",
       "    </tr>\n",
       "  </tbody>\n",
       "</table>\n",
       "</div>"
      ],
      "text/plain": [
       "       Tipo     Propiedad   Enero        Febrero          Marzo         \\\n",
       "                              Ton      %     Ton      %     Ton      %   \n",
       "0  MP Bruta    MPB Propia  1812.0   59.0  2083.0   68.0  3114.0   82.0   \n",
       "1  MP Bruta  MPB Terceros  1261.0   41.0   997.0   32.0   685.0   18.0   \n",
       "2  MP Bruta         Total  3074.0  100.0  3080.0  100.0  3799.0  100.0   \n",
       "3   MP Neta    MPN Propia  1620.0   59.0  1897.0   68.0  2781.0   82.0   \n",
       "4   MP Neta  MPN Terceros  1123.0   41.0   885.0   32.0   618.0   18.0   \n",
       "5   MP Neta         Total  2743.0  100.0  2782.0  100.0  3399.0  100.0   \n",
       "6   General         Total  5817.0  200.0  5862.0  200.0  7198.0  200.0   \n",
       "\n",
       "    Abril           Mayo          Junio         Julio           Total         \\\n",
       "      Ton      %     Ton      %     Ton      %    Ton      %      Ton      %   \n",
       "0  1964.0   61.0  2117.0   63.0  1591.0   57.0  380.0   79.0  13062.0   67.0   \n",
       "1  1253.0   39.0  1238.0   37.0  1196.0   43.0  102.0   21.0   6732.0   33.0   \n",
       "2  3217.0  100.0  3355.0  100.0  2787.0  100.0  483.0  100.0  19794.0  100.0   \n",
       "3  1727.0   61.0  1797.0   64.0  1348.0   57.0  333.0   79.0  11502.0   67.0   \n",
       "4  1084.0   39.0  1016.0   36.0  1022.0   43.0   88.0   21.0   5837.0   33.0   \n",
       "5  2811.0  100.0  2813.0  100.0  2370.0  100.0  421.0  100.0  17339.0  100.0   \n",
       "6  6028.0  200.0  6168.0  200.0  5157.0  200.0  904.0  200.0  37133.0  200.0   \n",
       "\n",
       "  Promedio         \n",
       "       Ton      %  \n",
       "0   1866.0   67.0  \n",
       "1    962.0   33.0  \n",
       "2   2828.0  100.0  \n",
       "3   1643.0   67.0  \n",
       "4    834.0   33.0  \n",
       "5   2477.0  100.0  \n",
       "6   5305.0  200.0  "
      ]
     },
     "execution_count": 24,
     "metadata": {},
     "output_type": "execute_result"
    }
   ],
   "source": [
    "pv_empresa2"
   ]
  },
  {
   "cell_type": "code",
   "execution_count": 25,
   "id": "3e1d61a1",
   "metadata": {},
   "outputs": [],
   "source": [
    "pv_empresa2.Tipo = [\"\" if pv_empresa2.Tipo.iloc[i] == pv_empresa2.Tipo.iloc[i-1] else pv_empresa2.Tipo.iloc[i] for i in range(len(pv_empresa2.Tipo))]"
   ]
  },
  {
   "cell_type": "code",
   "execution_count": 26,
   "id": "4e52b10b",
   "metadata": {},
   "outputs": [
    {
     "ename": "SyntaxError",
     "evalue": "invalid syntax (Temp/ipykernel_15932/150569337.py, line 1)",
     "output_type": "error",
     "traceback": [
      "\u001b[1;36m  File \u001b[1;32m\"C:\\Users\\erossel\\AppData\\Local\\Temp/ipykernel_15932/150569337.py\"\u001b[1;36m, line \u001b[1;32m1\u001b[0m\n\u001b[1;33m    pv.empresa.Tipo.apply(lambda t: )\u001b[0m\n\u001b[1;37m                                    ^\u001b[0m\n\u001b[1;31mSyntaxError\u001b[0m\u001b[1;31m:\u001b[0m invalid syntax\n"
     ]
    }
   ],
   "source": [
    "pv.empresa.Tipo.apply(lambda t: )"
   ]
  },
  {
   "cell_type": "code",
   "execution_count": 27,
   "id": "093b5243",
   "metadata": {},
   "outputs": [
    {
     "data": {
      "text/html": [
       "<div>\n",
       "<style scoped>\n",
       "    .dataframe tbody tr th:only-of-type {\n",
       "        vertical-align: middle;\n",
       "    }\n",
       "\n",
       "    .dataframe tbody tr th {\n",
       "        vertical-align: top;\n",
       "    }\n",
       "\n",
       "    .dataframe thead tr th {\n",
       "        text-align: left;\n",
       "    }\n",
       "\n",
       "    .dataframe thead tr:last-of-type th {\n",
       "        text-align: right;\n",
       "    }\n",
       "</style>\n",
       "<table border=\"1\" class=\"dataframe\">\n",
       "  <thead>\n",
       "    <tr>\n",
       "      <th></th>\n",
       "      <th></th>\n",
       "      <th colspan=\"2\" halign=\"left\">Enero</th>\n",
       "      <th colspan=\"2\" halign=\"left\">Febrero</th>\n",
       "      <th colspan=\"2\" halign=\"left\">Marzo</th>\n",
       "      <th colspan=\"2\" halign=\"left\">Abril</th>\n",
       "      <th colspan=\"2\" halign=\"left\">Mayo</th>\n",
       "      <th colspan=\"2\" halign=\"left\">Junio</th>\n",
       "      <th colspan=\"2\" halign=\"left\">Julio</th>\n",
       "      <th colspan=\"2\" halign=\"left\">Total</th>\n",
       "      <th colspan=\"2\" halign=\"left\">Promedio</th>\n",
       "    </tr>\n",
       "    <tr>\n",
       "      <th></th>\n",
       "      <th></th>\n",
       "      <th>Ton</th>\n",
       "      <th>%</th>\n",
       "      <th>Ton</th>\n",
       "      <th>%</th>\n",
       "      <th>Ton</th>\n",
       "      <th>%</th>\n",
       "      <th>Ton</th>\n",
       "      <th>%</th>\n",
       "      <th>Ton</th>\n",
       "      <th>%</th>\n",
       "      <th>Ton</th>\n",
       "      <th>%</th>\n",
       "      <th>Ton</th>\n",
       "      <th>%</th>\n",
       "      <th>Ton</th>\n",
       "      <th>%</th>\n",
       "      <th>Ton</th>\n",
       "      <th>%</th>\n",
       "    </tr>\n",
       "    <tr>\n",
       "      <th>Tipo</th>\n",
       "      <th>Propiedad</th>\n",
       "      <th></th>\n",
       "      <th></th>\n",
       "      <th></th>\n",
       "      <th></th>\n",
       "      <th></th>\n",
       "      <th></th>\n",
       "      <th></th>\n",
       "      <th></th>\n",
       "      <th></th>\n",
       "      <th></th>\n",
       "      <th></th>\n",
       "      <th></th>\n",
       "      <th></th>\n",
       "      <th></th>\n",
       "      <th></th>\n",
       "      <th></th>\n",
       "      <th></th>\n",
       "      <th></th>\n",
       "    </tr>\n",
       "  </thead>\n",
       "  <tbody>\n",
       "    <tr>\n",
       "      <th rowspan=\"3\" valign=\"top\">MP Bruta</th>\n",
       "      <th>MPB Propia</th>\n",
       "      <td>1812.0</td>\n",
       "      <td>59.0</td>\n",
       "      <td>2083.0</td>\n",
       "      <td>68.0</td>\n",
       "      <td>3114.0</td>\n",
       "      <td>82.0</td>\n",
       "      <td>1964.0</td>\n",
       "      <td>61.0</td>\n",
       "      <td>2117.0</td>\n",
       "      <td>63.0</td>\n",
       "      <td>1591.0</td>\n",
       "      <td>57.0</td>\n",
       "      <td>380.0</td>\n",
       "      <td>79.0</td>\n",
       "      <td>13062.0</td>\n",
       "      <td>67.0</td>\n",
       "      <td>1866.0</td>\n",
       "      <td>67.0</td>\n",
       "    </tr>\n",
       "    <tr>\n",
       "      <th>MPB Terceros</th>\n",
       "      <td>1261.0</td>\n",
       "      <td>41.0</td>\n",
       "      <td>997.0</td>\n",
       "      <td>32.0</td>\n",
       "      <td>685.0</td>\n",
       "      <td>18.0</td>\n",
       "      <td>1253.0</td>\n",
       "      <td>39.0</td>\n",
       "      <td>1238.0</td>\n",
       "      <td>37.0</td>\n",
       "      <td>1196.0</td>\n",
       "      <td>43.0</td>\n",
       "      <td>102.0</td>\n",
       "      <td>21.0</td>\n",
       "      <td>6732.0</td>\n",
       "      <td>33.0</td>\n",
       "      <td>962.0</td>\n",
       "      <td>33.0</td>\n",
       "    </tr>\n",
       "    <tr>\n",
       "      <th>Total</th>\n",
       "      <td>3074.0</td>\n",
       "      <td>100.0</td>\n",
       "      <td>3080.0</td>\n",
       "      <td>100.0</td>\n",
       "      <td>3799.0</td>\n",
       "      <td>100.0</td>\n",
       "      <td>3217.0</td>\n",
       "      <td>100.0</td>\n",
       "      <td>3355.0</td>\n",
       "      <td>100.0</td>\n",
       "      <td>2787.0</td>\n",
       "      <td>100.0</td>\n",
       "      <td>483.0</td>\n",
       "      <td>100.0</td>\n",
       "      <td>19794.0</td>\n",
       "      <td>100.0</td>\n",
       "      <td>2828.0</td>\n",
       "      <td>100.0</td>\n",
       "    </tr>\n",
       "    <tr>\n",
       "      <th rowspan=\"3\" valign=\"top\">MP Neta</th>\n",
       "      <th>MPN Propia</th>\n",
       "      <td>1620.0</td>\n",
       "      <td>59.0</td>\n",
       "      <td>1897.0</td>\n",
       "      <td>68.0</td>\n",
       "      <td>2781.0</td>\n",
       "      <td>82.0</td>\n",
       "      <td>1727.0</td>\n",
       "      <td>61.0</td>\n",
       "      <td>1797.0</td>\n",
       "      <td>64.0</td>\n",
       "      <td>1348.0</td>\n",
       "      <td>57.0</td>\n",
       "      <td>333.0</td>\n",
       "      <td>79.0</td>\n",
       "      <td>11502.0</td>\n",
       "      <td>67.0</td>\n",
       "      <td>1643.0</td>\n",
       "      <td>67.0</td>\n",
       "    </tr>\n",
       "    <tr>\n",
       "      <th>MPN Terceros</th>\n",
       "      <td>1123.0</td>\n",
       "      <td>41.0</td>\n",
       "      <td>885.0</td>\n",
       "      <td>32.0</td>\n",
       "      <td>618.0</td>\n",
       "      <td>18.0</td>\n",
       "      <td>1084.0</td>\n",
       "      <td>39.0</td>\n",
       "      <td>1016.0</td>\n",
       "      <td>36.0</td>\n",
       "      <td>1022.0</td>\n",
       "      <td>43.0</td>\n",
       "      <td>88.0</td>\n",
       "      <td>21.0</td>\n",
       "      <td>5837.0</td>\n",
       "      <td>33.0</td>\n",
       "      <td>834.0</td>\n",
       "      <td>33.0</td>\n",
       "    </tr>\n",
       "    <tr>\n",
       "      <th>Total</th>\n",
       "      <td>2743.0</td>\n",
       "      <td>100.0</td>\n",
       "      <td>2782.0</td>\n",
       "      <td>100.0</td>\n",
       "      <td>3399.0</td>\n",
       "      <td>100.0</td>\n",
       "      <td>2811.0</td>\n",
       "      <td>100.0</td>\n",
       "      <td>2813.0</td>\n",
       "      <td>100.0</td>\n",
       "      <td>2370.0</td>\n",
       "      <td>100.0</td>\n",
       "      <td>421.0</td>\n",
       "      <td>100.0</td>\n",
       "      <td>17339.0</td>\n",
       "      <td>100.0</td>\n",
       "      <td>2477.0</td>\n",
       "      <td>100.0</td>\n",
       "    </tr>\n",
       "    <tr>\n",
       "      <th>General</th>\n",
       "      <th>Total</th>\n",
       "      <td>5817.0</td>\n",
       "      <td>200.0</td>\n",
       "      <td>5862.0</td>\n",
       "      <td>200.0</td>\n",
       "      <td>7198.0</td>\n",
       "      <td>200.0</td>\n",
       "      <td>6028.0</td>\n",
       "      <td>200.0</td>\n",
       "      <td>6168.0</td>\n",
       "      <td>200.0</td>\n",
       "      <td>5157.0</td>\n",
       "      <td>200.0</td>\n",
       "      <td>904.0</td>\n",
       "      <td>200.0</td>\n",
       "      <td>37133.0</td>\n",
       "      <td>200.0</td>\n",
       "      <td>5305.0</td>\n",
       "      <td>200.0</td>\n",
       "    </tr>\n",
       "  </tbody>\n",
       "</table>\n",
       "</div>"
      ],
      "text/plain": [
       "                        Enero        Febrero          Marzo          Abril  \\\n",
       "                          Ton      %     Ton      %     Ton      %     Ton   \n",
       "Tipo     Propiedad                                                           \n",
       "MP Bruta MPB Propia    1812.0   59.0  2083.0   68.0  3114.0   82.0  1964.0   \n",
       "         MPB Terceros  1261.0   41.0   997.0   32.0   685.0   18.0  1253.0   \n",
       "         Total         3074.0  100.0  3080.0  100.0  3799.0  100.0  3217.0   \n",
       "MP Neta  MPN Propia    1620.0   59.0  1897.0   68.0  2781.0   82.0  1727.0   \n",
       "         MPN Terceros  1123.0   41.0   885.0   32.0   618.0   18.0  1084.0   \n",
       "         Total         2743.0  100.0  2782.0  100.0  3399.0  100.0  2811.0   \n",
       "General  Total         5817.0  200.0  5862.0  200.0  7198.0  200.0  6028.0   \n",
       "\n",
       "                                Mayo          Junio         Julio         \\\n",
       "                           %     Ton      %     Ton      %    Ton      %   \n",
       "Tipo     Propiedad                                                         \n",
       "MP Bruta MPB Propia     61.0  2117.0   63.0  1591.0   57.0  380.0   79.0   \n",
       "         MPB Terceros   39.0  1238.0   37.0  1196.0   43.0  102.0   21.0   \n",
       "         Total         100.0  3355.0  100.0  2787.0  100.0  483.0  100.0   \n",
       "MP Neta  MPN Propia     61.0  1797.0   64.0  1348.0   57.0  333.0   79.0   \n",
       "         MPN Terceros   39.0  1016.0   36.0  1022.0   43.0   88.0   21.0   \n",
       "         Total         100.0  2813.0  100.0  2370.0  100.0  421.0  100.0   \n",
       "General  Total         200.0  6168.0  200.0  5157.0  200.0  904.0  200.0   \n",
       "\n",
       "                         Total        Promedio         \n",
       "                           Ton      %      Ton      %  \n",
       "Tipo     Propiedad                                     \n",
       "MP Bruta MPB Propia    13062.0   67.0   1866.0   67.0  \n",
       "         MPB Terceros   6732.0   33.0    962.0   33.0  \n",
       "         Total         19794.0  100.0   2828.0  100.0  \n",
       "MP Neta  MPN Propia    11502.0   67.0   1643.0   67.0  \n",
       "         MPN Terceros   5837.0   33.0    834.0   33.0  \n",
       "         Total         17339.0  100.0   2477.0  100.0  \n",
       "General  Total         37133.0  200.0   5305.0  200.0  "
      ]
     },
     "execution_count": 27,
     "metadata": {},
     "output_type": "execute_result"
    }
   ],
   "source": [
    "largo = len(pv_empresa.columns)\n",
    "for i in range(1,largo+1,2):\n",
    "    if pv_empresa.iloc[0,i]+pv_empresa.iloc[1,i] != 100:\n",
    "        pv_empresa.iloc[:,[i-1, i]] = pv_empresa.iloc[:,[i,i-1]].copy() \n",
    "        \n",
    "pv_empresa"
   ]
  },
  {
   "cell_type": "markdown",
   "id": "4edd15c4",
   "metadata": {},
   "source": [
    "#### Todas las industrias"
   ]
  },
  {
   "cell_type": "code",
   "execution_count": 28,
   "id": "b5cc190d",
   "metadata": {},
   "outputs": [
    {
     "data": {
      "text/html": [
       "<div>\n",
       "<style scoped>\n",
       "    .dataframe tbody tr th:only-of-type {\n",
       "        vertical-align: middle;\n",
       "    }\n",
       "\n",
       "    .dataframe tbody tr th {\n",
       "        vertical-align: top;\n",
       "    }\n",
       "\n",
       "    .dataframe thead tr th {\n",
       "        text-align: left;\n",
       "    }\n",
       "\n",
       "    .dataframe thead tr:last-of-type th {\n",
       "        text-align: right;\n",
       "    }\n",
       "</style>\n",
       "<table border=\"1\" class=\"dataframe\">\n",
       "  <thead>\n",
       "    <tr>\n",
       "      <th></th>\n",
       "      <th></th>\n",
       "      <th colspan=\"2\" halign=\"left\">Enero</th>\n",
       "      <th colspan=\"2\" halign=\"left\">Febrero</th>\n",
       "      <th colspan=\"2\" halign=\"left\">Marzo</th>\n",
       "      <th colspan=\"2\" halign=\"left\">Abril</th>\n",
       "      <th colspan=\"2\" halign=\"left\">Mayo</th>\n",
       "      <th>...</th>\n",
       "      <th colspan=\"2\" halign=\"left\">Julio</th>\n",
       "      <th colspan=\"2\" halign=\"left\">Agosto</th>\n",
       "      <th colspan=\"2\" halign=\"left\">Septiembre</th>\n",
       "      <th colspan=\"2\" halign=\"left\">Total</th>\n",
       "      <th colspan=\"2\" halign=\"left\">Promedio</th>\n",
       "    </tr>\n",
       "    <tr>\n",
       "      <th></th>\n",
       "      <th></th>\n",
       "      <th>Ton</th>\n",
       "      <th>%</th>\n",
       "      <th>Ton</th>\n",
       "      <th>%</th>\n",
       "      <th>Ton</th>\n",
       "      <th>%</th>\n",
       "      <th>Ton</th>\n",
       "      <th>%</th>\n",
       "      <th>Ton</th>\n",
       "      <th>%</th>\n",
       "      <th>...</th>\n",
       "      <th>Ton</th>\n",
       "      <th>%</th>\n",
       "      <th>Ton</th>\n",
       "      <th>%</th>\n",
       "      <th>Ton</th>\n",
       "      <th>%</th>\n",
       "      <th>Ton</th>\n",
       "      <th>%</th>\n",
       "      <th>Ton</th>\n",
       "      <th>%</th>\n",
       "    </tr>\n",
       "    <tr>\n",
       "      <th>Tipo</th>\n",
       "      <th>Propiedad</th>\n",
       "      <th></th>\n",
       "      <th></th>\n",
       "      <th></th>\n",
       "      <th></th>\n",
       "      <th></th>\n",
       "      <th></th>\n",
       "      <th></th>\n",
       "      <th></th>\n",
       "      <th></th>\n",
       "      <th></th>\n",
       "      <th></th>\n",
       "      <th></th>\n",
       "      <th></th>\n",
       "      <th></th>\n",
       "      <th></th>\n",
       "      <th></th>\n",
       "      <th></th>\n",
       "      <th></th>\n",
       "      <th></th>\n",
       "      <th></th>\n",
       "      <th></th>\n",
       "    </tr>\n",
       "  </thead>\n",
       "  <tbody>\n",
       "    <tr>\n",
       "      <th rowspan=\"3\" valign=\"top\">MP Bruta</th>\n",
       "      <th>MPB Propia</th>\n",
       "      <td>14590.0</td>\n",
       "      <td>53.0</td>\n",
       "      <td>17519.0</td>\n",
       "      <td>60.0</td>\n",
       "      <td>18839.0</td>\n",
       "      <td>65.0</td>\n",
       "      <td>13147.0</td>\n",
       "      <td>58.0</td>\n",
       "      <td>17059.0</td>\n",
       "      <td>63.0</td>\n",
       "      <td>...</td>\n",
       "      <td>9032.0</td>\n",
       "      <td>42.0</td>\n",
       "      <td>4707.0</td>\n",
       "      <td>29.0</td>\n",
       "      <td>46.0</td>\n",
       "      <td>1426.0</td>\n",
       "      <td>52.0</td>\n",
       "      <td>109954.0</td>\n",
       "      <td>12217.0</td>\n",
       "      <td>52.0</td>\n",
       "    </tr>\n",
       "    <tr>\n",
       "      <th>MPB Terceros</th>\n",
       "      <td>12943.0</td>\n",
       "      <td>47.0</td>\n",
       "      <td>11613.0</td>\n",
       "      <td>40.0</td>\n",
       "      <td>11740.0</td>\n",
       "      <td>35.0</td>\n",
       "      <td>11199.0</td>\n",
       "      <td>42.0</td>\n",
       "      <td>11812.0</td>\n",
       "      <td>37.0</td>\n",
       "      <td>...</td>\n",
       "      <td>14830.0</td>\n",
       "      <td>58.0</td>\n",
       "      <td>11770.0</td>\n",
       "      <td>71.0</td>\n",
       "      <td>54.0</td>\n",
       "      <td>1648.0</td>\n",
       "      <td>48.0</td>\n",
       "      <td>101245.0</td>\n",
       "      <td>11249.0</td>\n",
       "      <td>48.0</td>\n",
       "    </tr>\n",
       "    <tr>\n",
       "      <th>Total</th>\n",
       "      <td>27533.0</td>\n",
       "      <td>100.0</td>\n",
       "      <td>29132.0</td>\n",
       "      <td>100.0</td>\n",
       "      <td>30578.0</td>\n",
       "      <td>100.0</td>\n",
       "      <td>24346.0</td>\n",
       "      <td>100.0</td>\n",
       "      <td>28871.0</td>\n",
       "      <td>100.0</td>\n",
       "      <td>...</td>\n",
       "      <td>23862.0</td>\n",
       "      <td>100.0</td>\n",
       "      <td>16477.0</td>\n",
       "      <td>100.0</td>\n",
       "      <td>100.0</td>\n",
       "      <td>3074.0</td>\n",
       "      <td>100.0</td>\n",
       "      <td>211199.0</td>\n",
       "      <td>23466.0</td>\n",
       "      <td>100.0</td>\n",
       "    </tr>\n",
       "    <tr>\n",
       "      <th rowspan=\"3\" valign=\"top\">MP Neta</th>\n",
       "      <th>MPN Propia</th>\n",
       "      <td>12723.0</td>\n",
       "      <td>54.0</td>\n",
       "      <td>14531.0</td>\n",
       "      <td>60.0</td>\n",
       "      <td>18829.0</td>\n",
       "      <td>65.0</td>\n",
       "      <td>13876.0</td>\n",
       "      <td>59.0</td>\n",
       "      <td>18182.0</td>\n",
       "      <td>64.0</td>\n",
       "      <td>...</td>\n",
       "      <td>10870.0</td>\n",
       "      <td>46.0</td>\n",
       "      <td>4052.0</td>\n",
       "      <td>29.0</td>\n",
       "      <td>46.0</td>\n",
       "      <td>1214.0</td>\n",
       "      <td>53.0</td>\n",
       "      <td>109049.0</td>\n",
       "      <td>12117.0</td>\n",
       "      <td>53.0</td>\n",
       "    </tr>\n",
       "    <tr>\n",
       "      <th>MPN Terceros</th>\n",
       "      <td>10977.0</td>\n",
       "      <td>46.0</td>\n",
       "      <td>9822.0</td>\n",
       "      <td>40.0</td>\n",
       "      <td>10188.0</td>\n",
       "      <td>35.0</td>\n",
       "      <td>9677.0</td>\n",
       "      <td>41.0</td>\n",
       "      <td>10223.0</td>\n",
       "      <td>36.0</td>\n",
       "      <td>...</td>\n",
       "      <td>12568.0</td>\n",
       "      <td>54.0</td>\n",
       "      <td>9815.0</td>\n",
       "      <td>71.0</td>\n",
       "      <td>54.0</td>\n",
       "      <td>1398.0</td>\n",
       "      <td>47.0</td>\n",
       "      <td>86229.0</td>\n",
       "      <td>9581.0</td>\n",
       "      <td>47.0</td>\n",
       "    </tr>\n",
       "    <tr>\n",
       "      <th>Total</th>\n",
       "      <td>23700.0</td>\n",
       "      <td>100.0</td>\n",
       "      <td>24353.0</td>\n",
       "      <td>100.0</td>\n",
       "      <td>29017.0</td>\n",
       "      <td>100.0</td>\n",
       "      <td>23554.0</td>\n",
       "      <td>100.0</td>\n",
       "      <td>28405.0</td>\n",
       "      <td>100.0</td>\n",
       "      <td>...</td>\n",
       "      <td>23438.0</td>\n",
       "      <td>100.0</td>\n",
       "      <td>13867.0</td>\n",
       "      <td>100.0</td>\n",
       "      <td>100.0</td>\n",
       "      <td>2612.0</td>\n",
       "      <td>100.0</td>\n",
       "      <td>195278.0</td>\n",
       "      <td>21698.0</td>\n",
       "      <td>100.0</td>\n",
       "    </tr>\n",
       "    <tr>\n",
       "      <th>General</th>\n",
       "      <th>Total</th>\n",
       "      <td>51234.0</td>\n",
       "      <td>200.0</td>\n",
       "      <td>53485.0</td>\n",
       "      <td>200.0</td>\n",
       "      <td>59596.0</td>\n",
       "      <td>200.0</td>\n",
       "      <td>47900.0</td>\n",
       "      <td>200.0</td>\n",
       "      <td>57276.0</td>\n",
       "      <td>200.0</td>\n",
       "      <td>...</td>\n",
       "      <td>47300.0</td>\n",
       "      <td>200.0</td>\n",
       "      <td>30344.0</td>\n",
       "      <td>200.0</td>\n",
       "      <td>200.0</td>\n",
       "      <td>5686.0</td>\n",
       "      <td>200.0</td>\n",
       "      <td>406477.0</td>\n",
       "      <td>45164.0</td>\n",
       "      <td>200.0</td>\n",
       "    </tr>\n",
       "  </tbody>\n",
       "</table>\n",
       "<p>7 rows × 22 columns</p>\n",
       "</div>"
      ],
      "text/plain": [
       "                         Enero         Febrero           Marzo         \\\n",
       "                           Ton      %      Ton      %      Ton      %   \n",
       "Tipo     Propiedad                                                      \n",
       "MP Bruta MPB Propia    14590.0   53.0  17519.0   60.0  18839.0   65.0   \n",
       "         MPB Terceros  12943.0   47.0  11613.0   40.0  11740.0   35.0   \n",
       "         Total         27533.0  100.0  29132.0  100.0  30578.0  100.0   \n",
       "MP Neta  MPN Propia    12723.0   54.0  14531.0   60.0  18829.0   65.0   \n",
       "         MPN Terceros  10977.0   46.0   9822.0   40.0  10188.0   35.0   \n",
       "         Total         23700.0  100.0  24353.0  100.0  29017.0  100.0   \n",
       "General  Total         51234.0  200.0  53485.0  200.0  59596.0  200.0   \n",
       "\n",
       "                         Abril            Mayo         ...    Julio         \\\n",
       "                           Ton      %      Ton      %  ...      Ton      %   \n",
       "Tipo     Propiedad                                     ...                   \n",
       "MP Bruta MPB Propia    13147.0   58.0  17059.0   63.0  ...   9032.0   42.0   \n",
       "         MPB Terceros  11199.0   42.0  11812.0   37.0  ...  14830.0   58.0   \n",
       "         Total         24346.0  100.0  28871.0  100.0  ...  23862.0  100.0   \n",
       "MP Neta  MPN Propia    13876.0   59.0  18182.0   64.0  ...  10870.0   46.0   \n",
       "         MPN Terceros   9677.0   41.0  10223.0   36.0  ...  12568.0   54.0   \n",
       "         Total         23554.0  100.0  28405.0  100.0  ...  23438.0  100.0   \n",
       "General  Total         47900.0  200.0  57276.0  200.0  ...  47300.0  200.0   \n",
       "\n",
       "                        Agosto        Septiembre          Total            \\\n",
       "                           Ton      %        Ton       %    Ton         %   \n",
       "Tipo     Propiedad                                                          \n",
       "MP Bruta MPB Propia     4707.0   29.0       46.0  1426.0   52.0  109954.0   \n",
       "         MPB Terceros  11770.0   71.0       54.0  1648.0   48.0  101245.0   \n",
       "         Total         16477.0  100.0      100.0  3074.0  100.0  211199.0   \n",
       "MP Neta  MPN Propia     4052.0   29.0       46.0  1214.0   53.0  109049.0   \n",
       "         MPN Terceros   9815.0   71.0       54.0  1398.0   47.0   86229.0   \n",
       "         Total         13867.0  100.0      100.0  2612.0  100.0  195278.0   \n",
       "General  Total         30344.0  200.0      200.0  5686.0  200.0  406477.0   \n",
       "\n",
       "                      Promedio         \n",
       "                           Ton      %  \n",
       "Tipo     Propiedad                     \n",
       "MP Bruta MPB Propia    12217.0   52.0  \n",
       "         MPB Terceros  11249.0   48.0  \n",
       "         Total         23466.0  100.0  \n",
       "MP Neta  MPN Propia    12117.0   53.0  \n",
       "         MPN Terceros   9581.0   47.0  \n",
       "         Total         21698.0  100.0  \n",
       "General  Total         45164.0  200.0  \n",
       "\n",
       "[7 rows x 22 columns]"
      ]
     },
     "execution_count": 28,
     "metadata": {},
     "output_type": "execute_result"
    }
   ],
   "source": [
    "pv = ingresos_mmpp.pivot_table(index=['Tipo','Propiedad'], columns='Mes', values='Valor', aggfunc=sum)\n",
    "pv = pv[pv.index.get_level_values('Tipo').isin(['MP Bruta', 'MP Neta'])]\n",
    "total = pv.sum(axis=1).round(0)\n",
    "average = pv.mean(axis=1).round(0)\n",
    "pv[13] = total.copy()\n",
    "pv[14] = average.copy()\n",
    "\n",
    "pv2 = ingresos_mmpp.pivot_table(index=['Tipo','Propiedad'], columns='Mes', values='Valor')\n",
    "pv2 = pv2.groupby(level=0).transform(lambda x: (x / x.sum()).round(2))*100\n",
    "pv2 = pv2[pv2.index.get_level_values('Tipo').isin(['MP Bruta', 'MP Neta'])]\n",
    "total2 = pv2.mean(axis=1).round(0)\n",
    "average2 = pv2.mean(axis=1).round(0)\n",
    "pv2[13] = total2\n",
    "pv2[14] = average2\n",
    "\n",
    "largo = len(pv2.columns)\n",
    "new_index = []\n",
    "for i in range(1, largo+1):\n",
    "    if i == largo - 1:\n",
    "        new_index.append(('Total','Ton'))\n",
    "        new_index.append(('Total','%'))\n",
    "    elif i == largo:\n",
    "        new_index.append(('Promedio','Ton'))\n",
    "        new_index.append(('Promedio','%'))\n",
    "    else: \n",
    "        new_index.append((dict_meses[i],'Ton'))\n",
    "        new_index.append((dict_meses[i],'%'))\n",
    "\n",
    "pv3 = pd.concat([pv, pv2], axis=1).sort_index(level=0,axis=1)\n",
    "pv3.columns = pd.MultiIndex.from_tuples(new_index)\n",
    "\n",
    "pv_todas = pd.concat([\n",
    "    d.append(d.sum().rename((k, 'Total')))\n",
    "    for k, d in pv3.groupby(level=0)\n",
    "]).append(pv3.sum().rename(('General', 'Total'))).round()\n",
    "\n",
    "pv_todas\n"
   ]
  },
  {
   "cell_type": "code",
   "execution_count": 29,
   "id": "849468c0",
   "metadata": {},
   "outputs": [
    {
     "data": {
      "text/html": [
       "<div>\n",
       "<style scoped>\n",
       "    .dataframe tbody tr th:only-of-type {\n",
       "        vertical-align: middle;\n",
       "    }\n",
       "\n",
       "    .dataframe tbody tr th {\n",
       "        vertical-align: top;\n",
       "    }\n",
       "\n",
       "    .dataframe thead tr th {\n",
       "        text-align: left;\n",
       "    }\n",
       "\n",
       "    .dataframe thead tr:last-of-type th {\n",
       "        text-align: right;\n",
       "    }\n",
       "</style>\n",
       "<table border=\"1\" class=\"dataframe\">\n",
       "  <thead>\n",
       "    <tr>\n",
       "      <th></th>\n",
       "      <th></th>\n",
       "      <th colspan=\"2\" halign=\"left\">Enero</th>\n",
       "      <th colspan=\"2\" halign=\"left\">Febrero</th>\n",
       "      <th colspan=\"2\" halign=\"left\">Marzo</th>\n",
       "      <th colspan=\"2\" halign=\"left\">Abril</th>\n",
       "      <th colspan=\"2\" halign=\"left\">Mayo</th>\n",
       "      <th>...</th>\n",
       "      <th colspan=\"2\" halign=\"left\">Julio</th>\n",
       "      <th colspan=\"2\" halign=\"left\">Agosto</th>\n",
       "      <th colspan=\"2\" halign=\"left\">Septiembre</th>\n",
       "      <th colspan=\"2\" halign=\"left\">Total</th>\n",
       "      <th colspan=\"2\" halign=\"left\">Promedio</th>\n",
       "    </tr>\n",
       "    <tr>\n",
       "      <th></th>\n",
       "      <th></th>\n",
       "      <th>Ton</th>\n",
       "      <th>%</th>\n",
       "      <th>Ton</th>\n",
       "      <th>%</th>\n",
       "      <th>Ton</th>\n",
       "      <th>%</th>\n",
       "      <th>Ton</th>\n",
       "      <th>%</th>\n",
       "      <th>Ton</th>\n",
       "      <th>%</th>\n",
       "      <th>...</th>\n",
       "      <th>Ton</th>\n",
       "      <th>%</th>\n",
       "      <th>Ton</th>\n",
       "      <th>%</th>\n",
       "      <th>Ton</th>\n",
       "      <th>%</th>\n",
       "      <th>Ton</th>\n",
       "      <th>%</th>\n",
       "      <th>Ton</th>\n",
       "      <th>%</th>\n",
       "    </tr>\n",
       "    <tr>\n",
       "      <th>Tipo</th>\n",
       "      <th>Propiedad</th>\n",
       "      <th></th>\n",
       "      <th></th>\n",
       "      <th></th>\n",
       "      <th></th>\n",
       "      <th></th>\n",
       "      <th></th>\n",
       "      <th></th>\n",
       "      <th></th>\n",
       "      <th></th>\n",
       "      <th></th>\n",
       "      <th></th>\n",
       "      <th></th>\n",
       "      <th></th>\n",
       "      <th></th>\n",
       "      <th></th>\n",
       "      <th></th>\n",
       "      <th></th>\n",
       "      <th></th>\n",
       "      <th></th>\n",
       "      <th></th>\n",
       "      <th></th>\n",
       "    </tr>\n",
       "  </thead>\n",
       "  <tbody>\n",
       "    <tr>\n",
       "      <th rowspan=\"3\" valign=\"top\">MP Bruta</th>\n",
       "      <th>MPB Propia</th>\n",
       "      <td>14590.0</td>\n",
       "      <td>53.0</td>\n",
       "      <td>17519.0</td>\n",
       "      <td>60.0</td>\n",
       "      <td>18839.0</td>\n",
       "      <td>65.0</td>\n",
       "      <td>13147.0</td>\n",
       "      <td>58.0</td>\n",
       "      <td>17059.0</td>\n",
       "      <td>63.0</td>\n",
       "      <td>...</td>\n",
       "      <td>9032.0</td>\n",
       "      <td>42.0</td>\n",
       "      <td>4707.0</td>\n",
       "      <td>29.0</td>\n",
       "      <td>1426.0</td>\n",
       "      <td>46.0</td>\n",
       "      <td>109954.0</td>\n",
       "      <td>52.0</td>\n",
       "      <td>12217.0</td>\n",
       "      <td>52.0</td>\n",
       "    </tr>\n",
       "    <tr>\n",
       "      <th>MPB Terceros</th>\n",
       "      <td>12943.0</td>\n",
       "      <td>47.0</td>\n",
       "      <td>11613.0</td>\n",
       "      <td>40.0</td>\n",
       "      <td>11740.0</td>\n",
       "      <td>35.0</td>\n",
       "      <td>11199.0</td>\n",
       "      <td>42.0</td>\n",
       "      <td>11812.0</td>\n",
       "      <td>37.0</td>\n",
       "      <td>...</td>\n",
       "      <td>14830.0</td>\n",
       "      <td>58.0</td>\n",
       "      <td>11770.0</td>\n",
       "      <td>71.0</td>\n",
       "      <td>1648.0</td>\n",
       "      <td>54.0</td>\n",
       "      <td>101245.0</td>\n",
       "      <td>48.0</td>\n",
       "      <td>11249.0</td>\n",
       "      <td>48.0</td>\n",
       "    </tr>\n",
       "    <tr>\n",
       "      <th>Total</th>\n",
       "      <td>27533.0</td>\n",
       "      <td>100.0</td>\n",
       "      <td>29132.0</td>\n",
       "      <td>100.0</td>\n",
       "      <td>30578.0</td>\n",
       "      <td>100.0</td>\n",
       "      <td>24346.0</td>\n",
       "      <td>100.0</td>\n",
       "      <td>28871.0</td>\n",
       "      <td>100.0</td>\n",
       "      <td>...</td>\n",
       "      <td>23862.0</td>\n",
       "      <td>100.0</td>\n",
       "      <td>16477.0</td>\n",
       "      <td>100.0</td>\n",
       "      <td>3074.0</td>\n",
       "      <td>100.0</td>\n",
       "      <td>211199.0</td>\n",
       "      <td>100.0</td>\n",
       "      <td>23466.0</td>\n",
       "      <td>100.0</td>\n",
       "    </tr>\n",
       "    <tr>\n",
       "      <th rowspan=\"3\" valign=\"top\">MP Neta</th>\n",
       "      <th>MPN Propia</th>\n",
       "      <td>12723.0</td>\n",
       "      <td>54.0</td>\n",
       "      <td>14531.0</td>\n",
       "      <td>60.0</td>\n",
       "      <td>18829.0</td>\n",
       "      <td>65.0</td>\n",
       "      <td>13876.0</td>\n",
       "      <td>59.0</td>\n",
       "      <td>18182.0</td>\n",
       "      <td>64.0</td>\n",
       "      <td>...</td>\n",
       "      <td>10870.0</td>\n",
       "      <td>46.0</td>\n",
       "      <td>4052.0</td>\n",
       "      <td>29.0</td>\n",
       "      <td>1214.0</td>\n",
       "      <td>46.0</td>\n",
       "      <td>109049.0</td>\n",
       "      <td>53.0</td>\n",
       "      <td>12117.0</td>\n",
       "      <td>53.0</td>\n",
       "    </tr>\n",
       "    <tr>\n",
       "      <th>MPN Terceros</th>\n",
       "      <td>10977.0</td>\n",
       "      <td>46.0</td>\n",
       "      <td>9822.0</td>\n",
       "      <td>40.0</td>\n",
       "      <td>10188.0</td>\n",
       "      <td>35.0</td>\n",
       "      <td>9677.0</td>\n",
       "      <td>41.0</td>\n",
       "      <td>10223.0</td>\n",
       "      <td>36.0</td>\n",
       "      <td>...</td>\n",
       "      <td>12568.0</td>\n",
       "      <td>54.0</td>\n",
       "      <td>9815.0</td>\n",
       "      <td>71.0</td>\n",
       "      <td>1398.0</td>\n",
       "      <td>54.0</td>\n",
       "      <td>86229.0</td>\n",
       "      <td>47.0</td>\n",
       "      <td>9581.0</td>\n",
       "      <td>47.0</td>\n",
       "    </tr>\n",
       "    <tr>\n",
       "      <th>Total</th>\n",
       "      <td>23700.0</td>\n",
       "      <td>100.0</td>\n",
       "      <td>24353.0</td>\n",
       "      <td>100.0</td>\n",
       "      <td>29017.0</td>\n",
       "      <td>100.0</td>\n",
       "      <td>23554.0</td>\n",
       "      <td>100.0</td>\n",
       "      <td>28405.0</td>\n",
       "      <td>100.0</td>\n",
       "      <td>...</td>\n",
       "      <td>23438.0</td>\n",
       "      <td>100.0</td>\n",
       "      <td>13867.0</td>\n",
       "      <td>100.0</td>\n",
       "      <td>2612.0</td>\n",
       "      <td>100.0</td>\n",
       "      <td>195278.0</td>\n",
       "      <td>100.0</td>\n",
       "      <td>21698.0</td>\n",
       "      <td>100.0</td>\n",
       "    </tr>\n",
       "    <tr>\n",
       "      <th>General</th>\n",
       "      <th>Total</th>\n",
       "      <td>51234.0</td>\n",
       "      <td>200.0</td>\n",
       "      <td>53485.0</td>\n",
       "      <td>200.0</td>\n",
       "      <td>59596.0</td>\n",
       "      <td>200.0</td>\n",
       "      <td>47900.0</td>\n",
       "      <td>200.0</td>\n",
       "      <td>57276.0</td>\n",
       "      <td>200.0</td>\n",
       "      <td>...</td>\n",
       "      <td>47300.0</td>\n",
       "      <td>200.0</td>\n",
       "      <td>30344.0</td>\n",
       "      <td>200.0</td>\n",
       "      <td>5686.0</td>\n",
       "      <td>200.0</td>\n",
       "      <td>406477.0</td>\n",
       "      <td>200.0</td>\n",
       "      <td>45164.0</td>\n",
       "      <td>200.0</td>\n",
       "    </tr>\n",
       "  </tbody>\n",
       "</table>\n",
       "<p>7 rows × 22 columns</p>\n",
       "</div>"
      ],
      "text/plain": [
       "                         Enero         Febrero           Marzo         \\\n",
       "                           Ton      %      Ton      %      Ton      %   \n",
       "Tipo     Propiedad                                                      \n",
       "MP Bruta MPB Propia    14590.0   53.0  17519.0   60.0  18839.0   65.0   \n",
       "         MPB Terceros  12943.0   47.0  11613.0   40.0  11740.0   35.0   \n",
       "         Total         27533.0  100.0  29132.0  100.0  30578.0  100.0   \n",
       "MP Neta  MPN Propia    12723.0   54.0  14531.0   60.0  18829.0   65.0   \n",
       "         MPN Terceros  10977.0   46.0   9822.0   40.0  10188.0   35.0   \n",
       "         Total         23700.0  100.0  24353.0  100.0  29017.0  100.0   \n",
       "General  Total         51234.0  200.0  53485.0  200.0  59596.0  200.0   \n",
       "\n",
       "                         Abril            Mayo         ...    Julio         \\\n",
       "                           Ton      %      Ton      %  ...      Ton      %   \n",
       "Tipo     Propiedad                                     ...                   \n",
       "MP Bruta MPB Propia    13147.0   58.0  17059.0   63.0  ...   9032.0   42.0   \n",
       "         MPB Terceros  11199.0   42.0  11812.0   37.0  ...  14830.0   58.0   \n",
       "         Total         24346.0  100.0  28871.0  100.0  ...  23862.0  100.0   \n",
       "MP Neta  MPN Propia    13876.0   59.0  18182.0   64.0  ...  10870.0   46.0   \n",
       "         MPN Terceros   9677.0   41.0  10223.0   36.0  ...  12568.0   54.0   \n",
       "         Total         23554.0  100.0  28405.0  100.0  ...  23438.0  100.0   \n",
       "General  Total         47900.0  200.0  57276.0  200.0  ...  47300.0  200.0   \n",
       "\n",
       "                        Agosto        Septiembre            Total         \\\n",
       "                           Ton      %        Ton      %       Ton      %   \n",
       "Tipo     Propiedad                                                         \n",
       "MP Bruta MPB Propia     4707.0   29.0     1426.0   46.0  109954.0   52.0   \n",
       "         MPB Terceros  11770.0   71.0     1648.0   54.0  101245.0   48.0   \n",
       "         Total         16477.0  100.0     3074.0  100.0  211199.0  100.0   \n",
       "MP Neta  MPN Propia     4052.0   29.0     1214.0   46.0  109049.0   53.0   \n",
       "         MPN Terceros   9815.0   71.0     1398.0   54.0   86229.0   47.0   \n",
       "         Total         13867.0  100.0     2612.0  100.0  195278.0  100.0   \n",
       "General  Total         30344.0  200.0     5686.0  200.0  406477.0  200.0   \n",
       "\n",
       "                      Promedio         \n",
       "                           Ton      %  \n",
       "Tipo     Propiedad                     \n",
       "MP Bruta MPB Propia    12217.0   52.0  \n",
       "         MPB Terceros  11249.0   48.0  \n",
       "         Total         23466.0  100.0  \n",
       "MP Neta  MPN Propia    12117.0   53.0  \n",
       "         MPN Terceros   9581.0   47.0  \n",
       "         Total         21698.0  100.0  \n",
       "General  Total         45164.0  200.0  \n",
       "\n",
       "[7 rows x 22 columns]"
      ]
     },
     "execution_count": 29,
     "metadata": {},
     "output_type": "execute_result"
    }
   ],
   "source": [
    "largo = len(pv_todas.columns)\n",
    "for i in range(1,largo+1,2):\n",
    "    if pv_todas.iloc[0,i]+pv_todas.iloc[1,i] != 100:\n",
    "        pv_todas.iloc[:,[i-1, i]] = pv_todas.iloc[:,[i,i-1]].copy() \n",
    "        \n",
    "pv_todas"
   ]
  },
  {
   "cell_type": "code",
   "execution_count": 30,
   "id": "4350333a",
   "metadata": {},
   "outputs": [
    {
     "data": {
      "text/html": [
       "<div>\n",
       "<style scoped>\n",
       "    .dataframe tbody tr th:only-of-type {\n",
       "        vertical-align: middle;\n",
       "    }\n",
       "\n",
       "    .dataframe tbody tr th {\n",
       "        vertical-align: top;\n",
       "    }\n",
       "\n",
       "    .dataframe thead tr th {\n",
       "        text-align: left;\n",
       "    }\n",
       "\n",
       "    .dataframe thead tr:last-of-type th {\n",
       "        text-align: right;\n",
       "    }\n",
       "</style>\n",
       "<table border=\"1\" class=\"dataframe\">\n",
       "  <thead>\n",
       "    <tr>\n",
       "      <th></th>\n",
       "      <th></th>\n",
       "      <th colspan=\"2\" halign=\"left\">Enero</th>\n",
       "      <th colspan=\"2\" halign=\"left\">Febrero</th>\n",
       "      <th colspan=\"2\" halign=\"left\">Marzo</th>\n",
       "      <th colspan=\"2\" halign=\"left\">Abril</th>\n",
       "      <th colspan=\"2\" halign=\"left\">Mayo</th>\n",
       "      <th>...</th>\n",
       "      <th colspan=\"2\" halign=\"left\">Julio</th>\n",
       "      <th colspan=\"2\" halign=\"left\">Agosto</th>\n",
       "      <th colspan=\"2\" halign=\"left\">Septiembre</th>\n",
       "      <th colspan=\"2\" halign=\"left\">Total</th>\n",
       "      <th colspan=\"2\" halign=\"left\">Promedio</th>\n",
       "    </tr>\n",
       "    <tr>\n",
       "      <th></th>\n",
       "      <th></th>\n",
       "      <th>Ton</th>\n",
       "      <th>%</th>\n",
       "      <th>Ton</th>\n",
       "      <th>%</th>\n",
       "      <th>Ton</th>\n",
       "      <th>%</th>\n",
       "      <th>Ton</th>\n",
       "      <th>%</th>\n",
       "      <th>Ton</th>\n",
       "      <th>%</th>\n",
       "      <th>...</th>\n",
       "      <th>Ton</th>\n",
       "      <th>%</th>\n",
       "      <th>Ton</th>\n",
       "      <th>%</th>\n",
       "      <th>Ton</th>\n",
       "      <th>%</th>\n",
       "      <th>Ton</th>\n",
       "      <th>%</th>\n",
       "      <th>Ton</th>\n",
       "      <th>%</th>\n",
       "    </tr>\n",
       "    <tr>\n",
       "      <th>Tipo</th>\n",
       "      <th>Propiedad</th>\n",
       "      <th></th>\n",
       "      <th></th>\n",
       "      <th></th>\n",
       "      <th></th>\n",
       "      <th></th>\n",
       "      <th></th>\n",
       "      <th></th>\n",
       "      <th></th>\n",
       "      <th></th>\n",
       "      <th></th>\n",
       "      <th></th>\n",
       "      <th></th>\n",
       "      <th></th>\n",
       "      <th></th>\n",
       "      <th></th>\n",
       "      <th></th>\n",
       "      <th></th>\n",
       "      <th></th>\n",
       "      <th></th>\n",
       "      <th></th>\n",
       "      <th></th>\n",
       "    </tr>\n",
       "  </thead>\n",
       "  <tbody>\n",
       "    <tr>\n",
       "      <th rowspan=\"3\" valign=\"top\">MP Bruta</th>\n",
       "      <th>MPB Propia</th>\n",
       "      <td>14590.0</td>\n",
       "      <td>53.0</td>\n",
       "      <td>17519.0</td>\n",
       "      <td>60.0</td>\n",
       "      <td>18839.0</td>\n",
       "      <td>65.0</td>\n",
       "      <td>13147.0</td>\n",
       "      <td>58.0</td>\n",
       "      <td>17059.0</td>\n",
       "      <td>63.0</td>\n",
       "      <td>...</td>\n",
       "      <td>9032.0</td>\n",
       "      <td>42.0</td>\n",
       "      <td>4707.0</td>\n",
       "      <td>29.0</td>\n",
       "      <td>1426.0</td>\n",
       "      <td>46.0</td>\n",
       "      <td>109954.0</td>\n",
       "      <td>52.0</td>\n",
       "      <td>12217.0</td>\n",
       "      <td>52.0</td>\n",
       "    </tr>\n",
       "    <tr>\n",
       "      <th>MPB Terceros</th>\n",
       "      <td>12943.0</td>\n",
       "      <td>47.0</td>\n",
       "      <td>11613.0</td>\n",
       "      <td>40.0</td>\n",
       "      <td>11740.0</td>\n",
       "      <td>35.0</td>\n",
       "      <td>11199.0</td>\n",
       "      <td>42.0</td>\n",
       "      <td>11812.0</td>\n",
       "      <td>37.0</td>\n",
       "      <td>...</td>\n",
       "      <td>14830.0</td>\n",
       "      <td>58.0</td>\n",
       "      <td>11770.0</td>\n",
       "      <td>71.0</td>\n",
       "      <td>1648.0</td>\n",
       "      <td>54.0</td>\n",
       "      <td>101245.0</td>\n",
       "      <td>48.0</td>\n",
       "      <td>11249.0</td>\n",
       "      <td>48.0</td>\n",
       "    </tr>\n",
       "    <tr>\n",
       "      <th>Total</th>\n",
       "      <td>27533.0</td>\n",
       "      <td>100.0</td>\n",
       "      <td>29132.0</td>\n",
       "      <td>100.0</td>\n",
       "      <td>30578.0</td>\n",
       "      <td>100.0</td>\n",
       "      <td>24346.0</td>\n",
       "      <td>100.0</td>\n",
       "      <td>28871.0</td>\n",
       "      <td>100.0</td>\n",
       "      <td>...</td>\n",
       "      <td>23862.0</td>\n",
       "      <td>100.0</td>\n",
       "      <td>16477.0</td>\n",
       "      <td>100.0</td>\n",
       "      <td>3074.0</td>\n",
       "      <td>100.0</td>\n",
       "      <td>211199.0</td>\n",
       "      <td>100.0</td>\n",
       "      <td>23466.0</td>\n",
       "      <td>100.0</td>\n",
       "    </tr>\n",
       "    <tr>\n",
       "      <th rowspan=\"3\" valign=\"top\">MP Neta</th>\n",
       "      <th>MPN Propia</th>\n",
       "      <td>12723.0</td>\n",
       "      <td>54.0</td>\n",
       "      <td>14531.0</td>\n",
       "      <td>60.0</td>\n",
       "      <td>18829.0</td>\n",
       "      <td>65.0</td>\n",
       "      <td>13876.0</td>\n",
       "      <td>59.0</td>\n",
       "      <td>18182.0</td>\n",
       "      <td>64.0</td>\n",
       "      <td>...</td>\n",
       "      <td>10870.0</td>\n",
       "      <td>46.0</td>\n",
       "      <td>4052.0</td>\n",
       "      <td>29.0</td>\n",
       "      <td>1214.0</td>\n",
       "      <td>46.0</td>\n",
       "      <td>109049.0</td>\n",
       "      <td>53.0</td>\n",
       "      <td>12117.0</td>\n",
       "      <td>53.0</td>\n",
       "    </tr>\n",
       "    <tr>\n",
       "      <th>MPN Terceros</th>\n",
       "      <td>10977.0</td>\n",
       "      <td>46.0</td>\n",
       "      <td>9822.0</td>\n",
       "      <td>40.0</td>\n",
       "      <td>10188.0</td>\n",
       "      <td>35.0</td>\n",
       "      <td>9677.0</td>\n",
       "      <td>41.0</td>\n",
       "      <td>10223.0</td>\n",
       "      <td>36.0</td>\n",
       "      <td>...</td>\n",
       "      <td>12568.0</td>\n",
       "      <td>54.0</td>\n",
       "      <td>9815.0</td>\n",
       "      <td>71.0</td>\n",
       "      <td>1398.0</td>\n",
       "      <td>54.0</td>\n",
       "      <td>86229.0</td>\n",
       "      <td>47.0</td>\n",
       "      <td>9581.0</td>\n",
       "      <td>47.0</td>\n",
       "    </tr>\n",
       "    <tr>\n",
       "      <th>Total</th>\n",
       "      <td>23700.0</td>\n",
       "      <td>100.0</td>\n",
       "      <td>24353.0</td>\n",
       "      <td>100.0</td>\n",
       "      <td>29017.0</td>\n",
       "      <td>100.0</td>\n",
       "      <td>23554.0</td>\n",
       "      <td>100.0</td>\n",
       "      <td>28405.0</td>\n",
       "      <td>100.0</td>\n",
       "      <td>...</td>\n",
       "      <td>23438.0</td>\n",
       "      <td>100.0</td>\n",
       "      <td>13867.0</td>\n",
       "      <td>100.0</td>\n",
       "      <td>2612.0</td>\n",
       "      <td>100.0</td>\n",
       "      <td>195278.0</td>\n",
       "      <td>100.0</td>\n",
       "      <td>21698.0</td>\n",
       "      <td>100.0</td>\n",
       "    </tr>\n",
       "    <tr>\n",
       "      <th>General</th>\n",
       "      <th>Total</th>\n",
       "      <td>51234.0</td>\n",
       "      <td>200.0</td>\n",
       "      <td>53485.0</td>\n",
       "      <td>200.0</td>\n",
       "      <td>59596.0</td>\n",
       "      <td>200.0</td>\n",
       "      <td>47900.0</td>\n",
       "      <td>200.0</td>\n",
       "      <td>57276.0</td>\n",
       "      <td>200.0</td>\n",
       "      <td>...</td>\n",
       "      <td>47300.0</td>\n",
       "      <td>200.0</td>\n",
       "      <td>30344.0</td>\n",
       "      <td>200.0</td>\n",
       "      <td>5686.0</td>\n",
       "      <td>200.0</td>\n",
       "      <td>406477.0</td>\n",
       "      <td>200.0</td>\n",
       "      <td>45164.0</td>\n",
       "      <td>200.0</td>\n",
       "    </tr>\n",
       "  </tbody>\n",
       "</table>\n",
       "<p>7 rows × 22 columns</p>\n",
       "</div>"
      ],
      "text/plain": [
       "                         Enero         Febrero           Marzo         \\\n",
       "                           Ton      %      Ton      %      Ton      %   \n",
       "Tipo     Propiedad                                                      \n",
       "MP Bruta MPB Propia    14590.0   53.0  17519.0   60.0  18839.0   65.0   \n",
       "         MPB Terceros  12943.0   47.0  11613.0   40.0  11740.0   35.0   \n",
       "         Total         27533.0  100.0  29132.0  100.0  30578.0  100.0   \n",
       "MP Neta  MPN Propia    12723.0   54.0  14531.0   60.0  18829.0   65.0   \n",
       "         MPN Terceros  10977.0   46.0   9822.0   40.0  10188.0   35.0   \n",
       "         Total         23700.0  100.0  24353.0  100.0  29017.0  100.0   \n",
       "General  Total         51234.0  200.0  53485.0  200.0  59596.0  200.0   \n",
       "\n",
       "                         Abril            Mayo         ...    Julio         \\\n",
       "                           Ton      %      Ton      %  ...      Ton      %   \n",
       "Tipo     Propiedad                                     ...                   \n",
       "MP Bruta MPB Propia    13147.0   58.0  17059.0   63.0  ...   9032.0   42.0   \n",
       "         MPB Terceros  11199.0   42.0  11812.0   37.0  ...  14830.0   58.0   \n",
       "         Total         24346.0  100.0  28871.0  100.0  ...  23862.0  100.0   \n",
       "MP Neta  MPN Propia    13876.0   59.0  18182.0   64.0  ...  10870.0   46.0   \n",
       "         MPN Terceros   9677.0   41.0  10223.0   36.0  ...  12568.0   54.0   \n",
       "         Total         23554.0  100.0  28405.0  100.0  ...  23438.0  100.0   \n",
       "General  Total         47900.0  200.0  57276.0  200.0  ...  47300.0  200.0   \n",
       "\n",
       "                        Agosto        Septiembre            Total         \\\n",
       "                           Ton      %        Ton      %       Ton      %   \n",
       "Tipo     Propiedad                                                         \n",
       "MP Bruta MPB Propia     4707.0   29.0     1426.0   46.0  109954.0   52.0   \n",
       "         MPB Terceros  11770.0   71.0     1648.0   54.0  101245.0   48.0   \n",
       "         Total         16477.0  100.0     3074.0  100.0  211199.0  100.0   \n",
       "MP Neta  MPN Propia     4052.0   29.0     1214.0   46.0  109049.0   53.0   \n",
       "         MPN Terceros   9815.0   71.0     1398.0   54.0   86229.0   47.0   \n",
       "         Total         13867.0  100.0     2612.0  100.0  195278.0  100.0   \n",
       "General  Total         30344.0  200.0     5686.0  200.0  406477.0  200.0   \n",
       "\n",
       "                      Promedio         \n",
       "                           Ton      %  \n",
       "Tipo     Propiedad                     \n",
       "MP Bruta MPB Propia    12217.0   52.0  \n",
       "         MPB Terceros  11249.0   48.0  \n",
       "         Total         23466.0  100.0  \n",
       "MP Neta  MPN Propia    12117.0   53.0  \n",
       "         MPN Terceros   9581.0   47.0  \n",
       "         Total         21698.0  100.0  \n",
       "General  Total         45164.0  200.0  \n",
       "\n",
       "[7 rows x 22 columns]"
      ]
     },
     "execution_count": 30,
     "metadata": {},
     "output_type": "execute_result"
    }
   ],
   "source": [
    "pv_todas"
   ]
  },
  {
   "cell_type": "markdown",
   "id": "9f63be64",
   "metadata": {},
   "source": [
    "#### Otras industrias"
   ]
  },
  {
   "cell_type": "code",
   "execution_count": 31,
   "id": "a115a281",
   "metadata": {},
   "outputs": [
    {
     "data": {
      "text/html": [
       "<div>\n",
       "<style scoped>\n",
       "    .dataframe tbody tr th:only-of-type {\n",
       "        vertical-align: middle;\n",
       "    }\n",
       "\n",
       "    .dataframe tbody tr th {\n",
       "        vertical-align: top;\n",
       "    }\n",
       "\n",
       "    .dataframe thead tr th {\n",
       "        text-align: left;\n",
       "    }\n",
       "\n",
       "    .dataframe thead tr:last-of-type th {\n",
       "        text-align: right;\n",
       "    }\n",
       "</style>\n",
       "<table border=\"1\" class=\"dataframe\">\n",
       "  <thead>\n",
       "    <tr>\n",
       "      <th></th>\n",
       "      <th></th>\n",
       "      <th colspan=\"2\" halign=\"left\">Enero</th>\n",
       "      <th colspan=\"2\" halign=\"left\">Febrero</th>\n",
       "      <th colspan=\"2\" halign=\"left\">Marzo</th>\n",
       "      <th colspan=\"2\" halign=\"left\">Abril</th>\n",
       "      <th colspan=\"2\" halign=\"left\">Mayo</th>\n",
       "      <th>...</th>\n",
       "      <th colspan=\"2\" halign=\"left\">Julio</th>\n",
       "      <th colspan=\"2\" halign=\"left\">Agosto</th>\n",
       "      <th colspan=\"2\" halign=\"left\">Septiembre</th>\n",
       "      <th colspan=\"2\" halign=\"left\">Total</th>\n",
       "      <th colspan=\"2\" halign=\"left\">Promedio</th>\n",
       "    </tr>\n",
       "    <tr>\n",
       "      <th></th>\n",
       "      <th></th>\n",
       "      <th>Ton</th>\n",
       "      <th>%</th>\n",
       "      <th>Ton</th>\n",
       "      <th>%</th>\n",
       "      <th>Ton</th>\n",
       "      <th>%</th>\n",
       "      <th>Ton</th>\n",
       "      <th>%</th>\n",
       "      <th>Ton</th>\n",
       "      <th>%</th>\n",
       "      <th>...</th>\n",
       "      <th>Ton</th>\n",
       "      <th>%</th>\n",
       "      <th>Ton</th>\n",
       "      <th>%</th>\n",
       "      <th>Ton</th>\n",
       "      <th>%</th>\n",
       "      <th>Ton</th>\n",
       "      <th>%</th>\n",
       "      <th>Ton</th>\n",
       "      <th>%</th>\n",
       "    </tr>\n",
       "    <tr>\n",
       "      <th>Tipo</th>\n",
       "      <th>Propiedad</th>\n",
       "      <th></th>\n",
       "      <th></th>\n",
       "      <th></th>\n",
       "      <th></th>\n",
       "      <th></th>\n",
       "      <th></th>\n",
       "      <th></th>\n",
       "      <th></th>\n",
       "      <th></th>\n",
       "      <th></th>\n",
       "      <th></th>\n",
       "      <th></th>\n",
       "      <th></th>\n",
       "      <th></th>\n",
       "      <th></th>\n",
       "      <th></th>\n",
       "      <th></th>\n",
       "      <th></th>\n",
       "      <th></th>\n",
       "      <th></th>\n",
       "      <th></th>\n",
       "    </tr>\n",
       "  </thead>\n",
       "  <tbody>\n",
       "    <tr>\n",
       "      <th rowspan=\"3\" valign=\"top\">MP Bruta</th>\n",
       "      <th>MPB Propia</th>\n",
       "      <td>12778.0</td>\n",
       "      <td>52.0</td>\n",
       "      <td>15436.0</td>\n",
       "      <td>59.0</td>\n",
       "      <td>15725.0</td>\n",
       "      <td>59.0</td>\n",
       "      <td>13147.0</td>\n",
       "      <td>54.0</td>\n",
       "      <td>15095.0</td>\n",
       "      <td>59.0</td>\n",
       "      <td>...</td>\n",
       "      <td>9032.0</td>\n",
       "      <td>38.0</td>\n",
       "      <td>3116.0</td>\n",
       "      <td>23.0</td>\n",
       "      <td>1046.0</td>\n",
       "      <td>40.0</td>\n",
       "      <td>96891.0</td>\n",
       "      <td>48.0</td>\n",
       "      <td>10766.0</td>\n",
       "      <td>48.0</td>\n",
       "    </tr>\n",
       "    <tr>\n",
       "      <th>MPB Terceros</th>\n",
       "      <td>11682.0</td>\n",
       "      <td>48.0</td>\n",
       "      <td>10616.0</td>\n",
       "      <td>41.0</td>\n",
       "      <td>11055.0</td>\n",
       "      <td>41.0</td>\n",
       "      <td>11199.0</td>\n",
       "      <td>46.0</td>\n",
       "      <td>10559.0</td>\n",
       "      <td>41.0</td>\n",
       "      <td>...</td>\n",
       "      <td>14830.0</td>\n",
       "      <td>62.0</td>\n",
       "      <td>10574.0</td>\n",
       "      <td>77.0</td>\n",
       "      <td>1545.0</td>\n",
       "      <td>60.0</td>\n",
       "      <td>94513.0</td>\n",
       "      <td>52.0</td>\n",
       "      <td>10501.0</td>\n",
       "      <td>52.0</td>\n",
       "    </tr>\n",
       "    <tr>\n",
       "      <th>Total</th>\n",
       "      <td>24460.0</td>\n",
       "      <td>100.0</td>\n",
       "      <td>26052.0</td>\n",
       "      <td>100.0</td>\n",
       "      <td>26780.0</td>\n",
       "      <td>100.0</td>\n",
       "      <td>24346.0</td>\n",
       "      <td>100.0</td>\n",
       "      <td>25654.0</td>\n",
       "      <td>100.0</td>\n",
       "      <td>...</td>\n",
       "      <td>23862.0</td>\n",
       "      <td>100.0</td>\n",
       "      <td>13690.0</td>\n",
       "      <td>100.0</td>\n",
       "      <td>2591.0</td>\n",
       "      <td>100.0</td>\n",
       "      <td>191404.0</td>\n",
       "      <td>100.0</td>\n",
       "      <td>21267.0</td>\n",
       "      <td>100.0</td>\n",
       "    </tr>\n",
       "    <tr>\n",
       "      <th rowspan=\"3\" valign=\"top\">MP Neta</th>\n",
       "      <th>MPN Propia</th>\n",
       "      <td>11103.0</td>\n",
       "      <td>53.0</td>\n",
       "      <td>12635.0</td>\n",
       "      <td>59.0</td>\n",
       "      <td>16049.0</td>\n",
       "      <td>63.0</td>\n",
       "      <td>13876.0</td>\n",
       "      <td>59.0</td>\n",
       "      <td>16455.0</td>\n",
       "      <td>64.0</td>\n",
       "      <td>...</td>\n",
       "      <td>10870.0</td>\n",
       "      <td>46.0</td>\n",
       "      <td>2704.0</td>\n",
       "      <td>24.0</td>\n",
       "      <td>881.0</td>\n",
       "      <td>40.0</td>\n",
       "      <td>97547.0</td>\n",
       "      <td>51.0</td>\n",
       "      <td>10839.0</td>\n",
       "      <td>51.0</td>\n",
       "    </tr>\n",
       "    <tr>\n",
       "      <th>MPN Terceros</th>\n",
       "      <td>9854.0</td>\n",
       "      <td>47.0</td>\n",
       "      <td>8936.0</td>\n",
       "      <td>41.0</td>\n",
       "      <td>9570.0</td>\n",
       "      <td>37.0</td>\n",
       "      <td>9677.0</td>\n",
       "      <td>41.0</td>\n",
       "      <td>9139.0</td>\n",
       "      <td>36.0</td>\n",
       "      <td>...</td>\n",
       "      <td>12568.0</td>\n",
       "      <td>54.0</td>\n",
       "      <td>8793.0</td>\n",
       "      <td>76.0</td>\n",
       "      <td>1310.0</td>\n",
       "      <td>60.0</td>\n",
       "      <td>80391.0</td>\n",
       "      <td>49.0</td>\n",
       "      <td>8932.0</td>\n",
       "      <td>49.0</td>\n",
       "    </tr>\n",
       "    <tr>\n",
       "      <th>Total</th>\n",
       "      <td>20957.0</td>\n",
       "      <td>100.0</td>\n",
       "      <td>21571.0</td>\n",
       "      <td>100.0</td>\n",
       "      <td>25619.0</td>\n",
       "      <td>100.0</td>\n",
       "      <td>23554.0</td>\n",
       "      <td>100.0</td>\n",
       "      <td>25594.0</td>\n",
       "      <td>100.0</td>\n",
       "      <td>...</td>\n",
       "      <td>23438.0</td>\n",
       "      <td>100.0</td>\n",
       "      <td>11497.0</td>\n",
       "      <td>100.0</td>\n",
       "      <td>2191.0</td>\n",
       "      <td>100.0</td>\n",
       "      <td>177938.0</td>\n",
       "      <td>100.0</td>\n",
       "      <td>19771.0</td>\n",
       "      <td>100.0</td>\n",
       "    </tr>\n",
       "    <tr>\n",
       "      <th>General</th>\n",
       "      <th>Total</th>\n",
       "      <td>45416.0</td>\n",
       "      <td>200.0</td>\n",
       "      <td>47623.0</td>\n",
       "      <td>200.0</td>\n",
       "      <td>52398.0</td>\n",
       "      <td>200.0</td>\n",
       "      <td>47900.0</td>\n",
       "      <td>200.0</td>\n",
       "      <td>51248.0</td>\n",
       "      <td>200.0</td>\n",
       "      <td>...</td>\n",
       "      <td>47300.0</td>\n",
       "      <td>200.0</td>\n",
       "      <td>25186.0</td>\n",
       "      <td>200.0</td>\n",
       "      <td>4783.0</td>\n",
       "      <td>200.0</td>\n",
       "      <td>369342.0</td>\n",
       "      <td>200.0</td>\n",
       "      <td>41038.0</td>\n",
       "      <td>200.0</td>\n",
       "    </tr>\n",
       "  </tbody>\n",
       "</table>\n",
       "<p>7 rows × 22 columns</p>\n",
       "</div>"
      ],
      "text/plain": [
       "                         Enero         Febrero           Marzo         \\\n",
       "                           Ton      %      Ton      %      Ton      %   \n",
       "Tipo     Propiedad                                                      \n",
       "MP Bruta MPB Propia    12778.0   52.0  15436.0   59.0  15725.0   59.0   \n",
       "         MPB Terceros  11682.0   48.0  10616.0   41.0  11055.0   41.0   \n",
       "         Total         24460.0  100.0  26052.0  100.0  26780.0  100.0   \n",
       "MP Neta  MPN Propia    11103.0   53.0  12635.0   59.0  16049.0   63.0   \n",
       "         MPN Terceros   9854.0   47.0   8936.0   41.0   9570.0   37.0   \n",
       "         Total         20957.0  100.0  21571.0  100.0  25619.0  100.0   \n",
       "General  Total         45416.0  200.0  47623.0  200.0  52398.0  200.0   \n",
       "\n",
       "                         Abril            Mayo         ...    Julio         \\\n",
       "                           Ton      %      Ton      %  ...      Ton      %   \n",
       "Tipo     Propiedad                                     ...                   \n",
       "MP Bruta MPB Propia    13147.0   54.0  15095.0   59.0  ...   9032.0   38.0   \n",
       "         MPB Terceros  11199.0   46.0  10559.0   41.0  ...  14830.0   62.0   \n",
       "         Total         24346.0  100.0  25654.0  100.0  ...  23862.0  100.0   \n",
       "MP Neta  MPN Propia    13876.0   59.0  16455.0   64.0  ...  10870.0   46.0   \n",
       "         MPN Terceros   9677.0   41.0   9139.0   36.0  ...  12568.0   54.0   \n",
       "         Total         23554.0  100.0  25594.0  100.0  ...  23438.0  100.0   \n",
       "General  Total         47900.0  200.0  51248.0  200.0  ...  47300.0  200.0   \n",
       "\n",
       "                        Agosto        Septiembre            Total         \\\n",
       "                           Ton      %        Ton      %       Ton      %   \n",
       "Tipo     Propiedad                                                         \n",
       "MP Bruta MPB Propia     3116.0   23.0     1046.0   40.0   96891.0   48.0   \n",
       "         MPB Terceros  10574.0   77.0     1545.0   60.0   94513.0   52.0   \n",
       "         Total         13690.0  100.0     2591.0  100.0  191404.0  100.0   \n",
       "MP Neta  MPN Propia     2704.0   24.0      881.0   40.0   97547.0   51.0   \n",
       "         MPN Terceros   8793.0   76.0     1310.0   60.0   80391.0   49.0   \n",
       "         Total         11497.0  100.0     2191.0  100.0  177938.0  100.0   \n",
       "General  Total         25186.0  200.0     4783.0  200.0  369342.0  200.0   \n",
       "\n",
       "                      Promedio         \n",
       "                           Ton      %  \n",
       "Tipo     Propiedad                     \n",
       "MP Bruta MPB Propia    10766.0   48.0  \n",
       "         MPB Terceros  10501.0   52.0  \n",
       "         Total         21267.0  100.0  \n",
       "MP Neta  MPN Propia    10839.0   51.0  \n",
       "         MPN Terceros   8932.0   49.0  \n",
       "         Total         19771.0  100.0  \n",
       "General  Total         41038.0  200.0  \n",
       "\n",
       "[7 rows x 22 columns]"
      ]
     },
     "execution_count": 31,
     "metadata": {},
     "output_type": "execute_result"
    }
   ],
   "source": [
    "pv = ingresos_mmpp[ingresos_mmpp.Empresa != empresa].pivot_table(index=['Tipo','Propiedad'], columns='Mes', values='Valor', aggfunc=sum)\n",
    "pv = pv[pv.index.get_level_values('Tipo').isin(['MP Bruta', 'MP Neta'])]\n",
    "total = pv.sum(axis=1).round(0)\n",
    "average = pv.mean(axis=1).round(0)\n",
    "pv[13] = total.copy()\n",
    "pv[14] = average.copy()\n",
    "\n",
    "pv2 = ingresos_mmpp[ingresos_mmpp.Empresa != empresa].pivot_table(index=['Tipo','Propiedad'], columns='Mes', values='Valor', aggfunc=sum)\n",
    "pv2 = pv2.groupby(level=0).transform(lambda x: (x / x.sum()).round(2))*100\n",
    "pv2 = pv2[pv2.index.get_level_values('Tipo').isin(['MP Bruta', 'MP Neta'])]\n",
    "total2 = pv2.mean(axis=1).round(0)\n",
    "average2 = pv2.mean(axis=1).round(0)\n",
    "pv2[13] = total2\n",
    "pv2[14] = average2\n",
    "\n",
    "largo = len(pv2.columns)\n",
    "new_index = []\n",
    "for i in range(1, largo+1):\n",
    "    if i == largo - 1:\n",
    "        new_index.append(('Total','Ton'))\n",
    "        new_index.append(('Total','%'))\n",
    "    elif i == largo:\n",
    "        new_index.append(('Promedio','Ton'))\n",
    "        new_index.append(('Promedio','%'))\n",
    "    else: \n",
    "        new_index.append((dict_meses[i],'Ton'))\n",
    "        new_index.append((dict_meses[i],'%'))\n",
    "\n",
    "pv3 = pd.concat([pv, pv2], axis=1).sort_index(level=0,axis=1)\n",
    "pv3.columns = pd.MultiIndex.from_tuples(new_index)\n",
    "pv3\n",
    "\n",
    "pv_otras = pd.concat([\n",
    "    d.append(d.sum().rename((k, 'Total')))\n",
    "    for k, d in pv3.groupby(level=0)\n",
    "]).append(pv3.sum().rename(('General', 'Total'))).round()\n",
    "\n",
    "largo = len(pv_otras.columns)\n",
    "for i in range(1,largo+1,2):\n",
    "    if pv_otras.iloc[0,i]+pv_otras.iloc[1,i] != 100:\n",
    "        pv_otras.iloc[:,[i-1, i]] = pv_otras.iloc[:,[i,i-1]].copy() \n",
    "        \n",
    "pv_otras"
   ]
  },
  {
   "cell_type": "code",
   "execution_count": 32,
   "id": "6998c34d",
   "metadata": {},
   "outputs": [
    {
     "data": {
      "text/html": [
       "<div>\n",
       "<style scoped>\n",
       "    .dataframe tbody tr th:only-of-type {\n",
       "        vertical-align: middle;\n",
       "    }\n",
       "\n",
       "    .dataframe tbody tr th {\n",
       "        vertical-align: top;\n",
       "    }\n",
       "\n",
       "    .dataframe thead tr th {\n",
       "        text-align: left;\n",
       "    }\n",
       "\n",
       "    .dataframe thead tr:last-of-type th {\n",
       "        text-align: right;\n",
       "    }\n",
       "</style>\n",
       "<table border=\"1\" class=\"dataframe\">\n",
       "  <thead>\n",
       "    <tr>\n",
       "      <th></th>\n",
       "      <th></th>\n",
       "      <th colspan=\"2\" halign=\"left\">Enero</th>\n",
       "      <th colspan=\"2\" halign=\"left\">Febrero</th>\n",
       "      <th colspan=\"2\" halign=\"left\">Marzo</th>\n",
       "      <th colspan=\"2\" halign=\"left\">Abril</th>\n",
       "      <th colspan=\"2\" halign=\"left\">Mayo</th>\n",
       "      <th>...</th>\n",
       "      <th colspan=\"2\" halign=\"left\">Julio</th>\n",
       "      <th colspan=\"2\" halign=\"left\">Agosto</th>\n",
       "      <th colspan=\"2\" halign=\"left\">Septiembre</th>\n",
       "      <th colspan=\"2\" halign=\"left\">Total</th>\n",
       "      <th colspan=\"2\" halign=\"left\">Promedio</th>\n",
       "    </tr>\n",
       "    <tr>\n",
       "      <th></th>\n",
       "      <th></th>\n",
       "      <th>Ton</th>\n",
       "      <th>%</th>\n",
       "      <th>Ton</th>\n",
       "      <th>%</th>\n",
       "      <th>Ton</th>\n",
       "      <th>%</th>\n",
       "      <th>Ton</th>\n",
       "      <th>%</th>\n",
       "      <th>Ton</th>\n",
       "      <th>%</th>\n",
       "      <th>...</th>\n",
       "      <th>Ton</th>\n",
       "      <th>%</th>\n",
       "      <th>Ton</th>\n",
       "      <th>%</th>\n",
       "      <th>Ton</th>\n",
       "      <th>%</th>\n",
       "      <th>Ton</th>\n",
       "      <th>%</th>\n",
       "      <th>Ton</th>\n",
       "      <th>%</th>\n",
       "    </tr>\n",
       "    <tr>\n",
       "      <th>Tipo</th>\n",
       "      <th>Propiedad</th>\n",
       "      <th></th>\n",
       "      <th></th>\n",
       "      <th></th>\n",
       "      <th></th>\n",
       "      <th></th>\n",
       "      <th></th>\n",
       "      <th></th>\n",
       "      <th></th>\n",
       "      <th></th>\n",
       "      <th></th>\n",
       "      <th></th>\n",
       "      <th></th>\n",
       "      <th></th>\n",
       "      <th></th>\n",
       "      <th></th>\n",
       "      <th></th>\n",
       "      <th></th>\n",
       "      <th></th>\n",
       "      <th></th>\n",
       "      <th></th>\n",
       "      <th></th>\n",
       "    </tr>\n",
       "  </thead>\n",
       "  <tbody>\n",
       "    <tr>\n",
       "      <th rowspan=\"3\" valign=\"top\">MP Bruta</th>\n",
       "      <th>MPB Propia</th>\n",
       "      <td>12778.0</td>\n",
       "      <td>52.0</td>\n",
       "      <td>15436.0</td>\n",
       "      <td>59.0</td>\n",
       "      <td>15725.0</td>\n",
       "      <td>59.0</td>\n",
       "      <td>13147.0</td>\n",
       "      <td>54.0</td>\n",
       "      <td>15095.0</td>\n",
       "      <td>59.0</td>\n",
       "      <td>...</td>\n",
       "      <td>9032.0</td>\n",
       "      <td>38.0</td>\n",
       "      <td>3116.0</td>\n",
       "      <td>23.0</td>\n",
       "      <td>1046.0</td>\n",
       "      <td>40.0</td>\n",
       "      <td>96891.0</td>\n",
       "      <td>48.0</td>\n",
       "      <td>10766.0</td>\n",
       "      <td>48.0</td>\n",
       "    </tr>\n",
       "    <tr>\n",
       "      <th>MPB Terceros</th>\n",
       "      <td>11682.0</td>\n",
       "      <td>48.0</td>\n",
       "      <td>10616.0</td>\n",
       "      <td>41.0</td>\n",
       "      <td>11055.0</td>\n",
       "      <td>41.0</td>\n",
       "      <td>11199.0</td>\n",
       "      <td>46.0</td>\n",
       "      <td>10559.0</td>\n",
       "      <td>41.0</td>\n",
       "      <td>...</td>\n",
       "      <td>14830.0</td>\n",
       "      <td>62.0</td>\n",
       "      <td>10574.0</td>\n",
       "      <td>77.0</td>\n",
       "      <td>1545.0</td>\n",
       "      <td>60.0</td>\n",
       "      <td>94513.0</td>\n",
       "      <td>52.0</td>\n",
       "      <td>10501.0</td>\n",
       "      <td>52.0</td>\n",
       "    </tr>\n",
       "    <tr>\n",
       "      <th>Total</th>\n",
       "      <td>24460.0</td>\n",
       "      <td>100.0</td>\n",
       "      <td>26052.0</td>\n",
       "      <td>100.0</td>\n",
       "      <td>26780.0</td>\n",
       "      <td>100.0</td>\n",
       "      <td>24346.0</td>\n",
       "      <td>100.0</td>\n",
       "      <td>25654.0</td>\n",
       "      <td>100.0</td>\n",
       "      <td>...</td>\n",
       "      <td>23862.0</td>\n",
       "      <td>100.0</td>\n",
       "      <td>13690.0</td>\n",
       "      <td>100.0</td>\n",
       "      <td>2591.0</td>\n",
       "      <td>100.0</td>\n",
       "      <td>191404.0</td>\n",
       "      <td>100.0</td>\n",
       "      <td>21267.0</td>\n",
       "      <td>100.0</td>\n",
       "    </tr>\n",
       "    <tr>\n",
       "      <th rowspan=\"3\" valign=\"top\">MP Neta</th>\n",
       "      <th>MPN Propia</th>\n",
       "      <td>11103.0</td>\n",
       "      <td>53.0</td>\n",
       "      <td>12635.0</td>\n",
       "      <td>59.0</td>\n",
       "      <td>16049.0</td>\n",
       "      <td>63.0</td>\n",
       "      <td>13876.0</td>\n",
       "      <td>59.0</td>\n",
       "      <td>16455.0</td>\n",
       "      <td>64.0</td>\n",
       "      <td>...</td>\n",
       "      <td>10870.0</td>\n",
       "      <td>46.0</td>\n",
       "      <td>2704.0</td>\n",
       "      <td>24.0</td>\n",
       "      <td>881.0</td>\n",
       "      <td>40.0</td>\n",
       "      <td>97547.0</td>\n",
       "      <td>51.0</td>\n",
       "      <td>10839.0</td>\n",
       "      <td>51.0</td>\n",
       "    </tr>\n",
       "    <tr>\n",
       "      <th>MPN Terceros</th>\n",
       "      <td>9854.0</td>\n",
       "      <td>47.0</td>\n",
       "      <td>8936.0</td>\n",
       "      <td>41.0</td>\n",
       "      <td>9570.0</td>\n",
       "      <td>37.0</td>\n",
       "      <td>9677.0</td>\n",
       "      <td>41.0</td>\n",
       "      <td>9139.0</td>\n",
       "      <td>36.0</td>\n",
       "      <td>...</td>\n",
       "      <td>12568.0</td>\n",
       "      <td>54.0</td>\n",
       "      <td>8793.0</td>\n",
       "      <td>76.0</td>\n",
       "      <td>1310.0</td>\n",
       "      <td>60.0</td>\n",
       "      <td>80391.0</td>\n",
       "      <td>49.0</td>\n",
       "      <td>8932.0</td>\n",
       "      <td>49.0</td>\n",
       "    </tr>\n",
       "    <tr>\n",
       "      <th>Total</th>\n",
       "      <td>20957.0</td>\n",
       "      <td>100.0</td>\n",
       "      <td>21571.0</td>\n",
       "      <td>100.0</td>\n",
       "      <td>25619.0</td>\n",
       "      <td>100.0</td>\n",
       "      <td>23554.0</td>\n",
       "      <td>100.0</td>\n",
       "      <td>25594.0</td>\n",
       "      <td>100.0</td>\n",
       "      <td>...</td>\n",
       "      <td>23438.0</td>\n",
       "      <td>100.0</td>\n",
       "      <td>11497.0</td>\n",
       "      <td>100.0</td>\n",
       "      <td>2191.0</td>\n",
       "      <td>100.0</td>\n",
       "      <td>177938.0</td>\n",
       "      <td>100.0</td>\n",
       "      <td>19771.0</td>\n",
       "      <td>100.0</td>\n",
       "    </tr>\n",
       "    <tr>\n",
       "      <th>General</th>\n",
       "      <th>Total</th>\n",
       "      <td>45416.0</td>\n",
       "      <td>200.0</td>\n",
       "      <td>47623.0</td>\n",
       "      <td>200.0</td>\n",
       "      <td>52398.0</td>\n",
       "      <td>200.0</td>\n",
       "      <td>47900.0</td>\n",
       "      <td>200.0</td>\n",
       "      <td>51248.0</td>\n",
       "      <td>200.0</td>\n",
       "      <td>...</td>\n",
       "      <td>47300.0</td>\n",
       "      <td>200.0</td>\n",
       "      <td>25186.0</td>\n",
       "      <td>200.0</td>\n",
       "      <td>4783.0</td>\n",
       "      <td>200.0</td>\n",
       "      <td>369342.0</td>\n",
       "      <td>200.0</td>\n",
       "      <td>41038.0</td>\n",
       "      <td>200.0</td>\n",
       "    </tr>\n",
       "  </tbody>\n",
       "</table>\n",
       "<p>7 rows × 22 columns</p>\n",
       "</div>"
      ],
      "text/plain": [
       "                         Enero         Febrero           Marzo         \\\n",
       "                           Ton      %      Ton      %      Ton      %   \n",
       "Tipo     Propiedad                                                      \n",
       "MP Bruta MPB Propia    12778.0   52.0  15436.0   59.0  15725.0   59.0   \n",
       "         MPB Terceros  11682.0   48.0  10616.0   41.0  11055.0   41.0   \n",
       "         Total         24460.0  100.0  26052.0  100.0  26780.0  100.0   \n",
       "MP Neta  MPN Propia    11103.0   53.0  12635.0   59.0  16049.0   63.0   \n",
       "         MPN Terceros   9854.0   47.0   8936.0   41.0   9570.0   37.0   \n",
       "         Total         20957.0  100.0  21571.0  100.0  25619.0  100.0   \n",
       "General  Total         45416.0  200.0  47623.0  200.0  52398.0  200.0   \n",
       "\n",
       "                         Abril            Mayo         ...    Julio         \\\n",
       "                           Ton      %      Ton      %  ...      Ton      %   \n",
       "Tipo     Propiedad                                     ...                   \n",
       "MP Bruta MPB Propia    13147.0   54.0  15095.0   59.0  ...   9032.0   38.0   \n",
       "         MPB Terceros  11199.0   46.0  10559.0   41.0  ...  14830.0   62.0   \n",
       "         Total         24346.0  100.0  25654.0  100.0  ...  23862.0  100.0   \n",
       "MP Neta  MPN Propia    13876.0   59.0  16455.0   64.0  ...  10870.0   46.0   \n",
       "         MPN Terceros   9677.0   41.0   9139.0   36.0  ...  12568.0   54.0   \n",
       "         Total         23554.0  100.0  25594.0  100.0  ...  23438.0  100.0   \n",
       "General  Total         47900.0  200.0  51248.0  200.0  ...  47300.0  200.0   \n",
       "\n",
       "                        Agosto        Septiembre            Total         \\\n",
       "                           Ton      %        Ton      %       Ton      %   \n",
       "Tipo     Propiedad                                                         \n",
       "MP Bruta MPB Propia     3116.0   23.0     1046.0   40.0   96891.0   48.0   \n",
       "         MPB Terceros  10574.0   77.0     1545.0   60.0   94513.0   52.0   \n",
       "         Total         13690.0  100.0     2591.0  100.0  191404.0  100.0   \n",
       "MP Neta  MPN Propia     2704.0   24.0      881.0   40.0   97547.0   51.0   \n",
       "         MPN Terceros   8793.0   76.0     1310.0   60.0   80391.0   49.0   \n",
       "         Total         11497.0  100.0     2191.0  100.0  177938.0  100.0   \n",
       "General  Total         25186.0  200.0     4783.0  200.0  369342.0  200.0   \n",
       "\n",
       "                      Promedio         \n",
       "                           Ton      %  \n",
       "Tipo     Propiedad                     \n",
       "MP Bruta MPB Propia    10766.0   48.0  \n",
       "         MPB Terceros  10501.0   52.0  \n",
       "         Total         21267.0  100.0  \n",
       "MP Neta  MPN Propia    10839.0   51.0  \n",
       "         MPN Terceros   8932.0   49.0  \n",
       "         Total         19771.0  100.0  \n",
       "General  Total         41038.0  200.0  \n",
       "\n",
       "[7 rows x 22 columns]"
      ]
     },
     "execution_count": 32,
     "metadata": {},
     "output_type": "execute_result"
    }
   ],
   "source": [
    "largo = len(pv_otras.columns)\n",
    "for i in range(1,largo+1,2):\n",
    "    if pv_otras.iloc[0,i]+pv_otras.iloc[1,i] != 100:\n",
    "        pv_otras.iloc[:,[i-1, i]] = pv_otras.iloc[:,[i,i-1]].copy() \n",
    "        \n",
    "pv_otras"
   ]
  },
  {
   "cell_type": "markdown",
   "id": "755466b3",
   "metadata": {},
   "source": [
    "## Ingreso Materia Prima Detalle\n",
    "#### Acumulado Año Industria"
   ]
  },
  {
   "cell_type": "code",
   "execution_count": 33,
   "id": "32d858df",
   "metadata": {},
   "outputs": [],
   "source": [
    "dict_propiedad = {\n",
    " 'Ingreso Materia Bruta Prima Propia':'Materia Prima Propia',\n",
    " 'Ingreso Materia Prima Neta o Pagada Propia':'Materia Prima Propia',\n",
    " 'Unidades por kilo mmpp propia*':'Materia Prima Propia',\n",
    " 'Ingreso Materia Prima Bruta Terceros':'Materia Prima Terceros',\n",
    " 'Ingreso Materia Prima Neta o Pagada Terceros':'Materia Prima Terceros',\n",
    " 'Unidades por kilo mmpp terceros*':'Materia Prima Terceros',\n",
    " 'Ingreso Materia Prima Propia':'Materia Prima Propia',\n",
    " 'Ingreso Materia Prima Neta Propia':'Materia Prima Propia',\n",
    " 'Ingreso Materia Prima Terceros':'Materia Prima Terceros',\n",
    " 'Ingreso Materia Prima Neta Terceros':'Materia Prima Terceros',\n",
    " 'Ingreso Materia Prima Bruta Propia':'Materia Prima Propia',\n",
    " '% Rechazo Materia Prima Propia':'Materia Prima Propia',\n",
    " '% Rechazo Materia Prima Terceros':'Materia Prima Terceros',\n",
    " '% Rechazo Materia Prima Total':'Total Materia Prima'\n",
    "}\n",
    "\n",
    "dict_indicadores_2 = {\n",
    " 'Ingreso Materia Bruta Prima Propia':'Ingreso Materia Prima Bruta',\n",
    " 'Ingreso Materia Prima Neta o Pagada Propia':'Ingreso Materia Prima Neta',\n",
    " 'Unidades por kilo mmpp propia*':'Unidades por kilo',\n",
    " 'Ingreso Materia Prima Bruta Terceros':'Ingreso Materia Prima Bruta',\n",
    " 'Ingreso Materia Prima Neta o Pagada Terceros':'Ingreso Materia Prima Neta',\n",
    " 'Unidades por kilo mmpp terceros*':'Unidades por kilo',\n",
    " 'Ingreso Materia Prima Propia':'Ingreso Materia Prima Bruta',\n",
    " 'Ingreso Materia Prima Neta Propia':'Ingreso Materia Prima Neta',\n",
    " 'Ingreso Materia Prima Terceros':'Ingreso Materia Prima Bruta',\n",
    " 'Ingreso Materia Prima Neta Terceros':'Ingreso Materia Prima Neta',\n",
    " 'Ingreso Materia Prima Bruta Propia':'Ingreso Materia Prima Bruta',\n",
    " '% Rechazo Materia Prima Propia':'% Rechazo MMPP',\n",
    " '% Rechazo Materia Prima Terceros':'% Rechazo MMPP',\n",
    " '% Rechazo Materia Prima Total':'% Rechazo MMPP'\n",
    "}"
   ]
  },
  {
   "cell_type": "code",
   "execution_count": 34,
   "id": "33d8f7b4",
   "metadata": {},
   "outputs": [],
   "source": [
    "df = ingresos_mmpp.copy()\n",
    "df['Indicadores'] = [dict_indicadores_2[df.Indicador.iloc[i]] for i in range(len(df.Indicador))]\n",
    "df['Propietario'] = [dict_propiedad[df.Indicador.iloc[i]] for i in range(len(df.Indicador))]"
   ]
  },
  {
   "cell_type": "code",
   "execution_count": 35,
   "id": "0c3aa11d",
   "metadata": {},
   "outputs": [],
   "source": [
    "new_df = pd.DataFrame(columns = df.columns)\n",
    "\n",
    "for e in df.Empresa.unique():\n",
    "    for m in df.Mes.unique():\n",
    "        new_row = {\n",
    "            'Indicador':'Ingreso Materia Prima Bruta', \n",
    "            'Valor': df[(df.Empresa == e) & (df.Mes == m) & (df.Tipo == 'MP Bruta')].Valor.sum(),\n",
    "            'Unidad de medida':'Ton', \n",
    "            'Definición':'', \n",
    "            'Mes':m, \n",
    "            'Año':2021,\n",
    "            'Empresa':e,\n",
    "            'Tipo':'MP Bruta', \n",
    "            'Propiedad':'', \n",
    "            'Indicadores':'Ingreso Materia Prima Bruta', \n",
    "            'Propietario':'Total Materia Prima'\n",
    "        }\n",
    "        new_df = new_df.append(new_row, ignore_index = True)\n",
    "        \n",
    "        new_row = {\n",
    "            'Indicador':'Ingreso Materia Prima Neta', \n",
    "            'Valor': df[(df.Empresa == e) & (df.Mes == m) & (df.Tipo == 'MP Neta')].Valor.sum(),\n",
    "            'Unidad de medida':'Ton', \n",
    "            'Definición':'', \n",
    "            'Mes':m, \n",
    "            'Año':2021,\n",
    "            'Empresa':e,\n",
    "            'Tipo':'MP Bruta', \n",
    "            'Propiedad':'', \n",
    "            'Indicadores':'Ingreso Materia Prima Neta', \n",
    "            'Propietario':'Total Materia Prima'\n",
    "        }\n",
    "        new_df = new_df.append(new_row, ignore_index = True)\n",
    "        "
   ]
  },
  {
   "cell_type": "code",
   "execution_count": 36,
   "id": "a8361a8b",
   "metadata": {},
   "outputs": [],
   "source": [
    "df = df.append(new_df, ignore_index=True)\n",
    "df = df.groupby(['Propietario','Indicadores']).Valor.agg(['sum', np.mean], axis='columns')\n",
    "df = df.round(2)\n",
    "df.columns = ['Total', 'Promedio']"
   ]
  },
  {
   "cell_type": "code",
   "execution_count": 37,
   "id": "ec950e9d",
   "metadata": {},
   "outputs": [
    {
     "data": {
      "text/html": [
       "<div>\n",
       "<style scoped>\n",
       "    .dataframe tbody tr th:only-of-type {\n",
       "        vertical-align: middle;\n",
       "    }\n",
       "\n",
       "    .dataframe tbody tr th {\n",
       "        vertical-align: top;\n",
       "    }\n",
       "\n",
       "    .dataframe thead th {\n",
       "        text-align: right;\n",
       "    }\n",
       "</style>\n",
       "<table border=\"1\" class=\"dataframe\">\n",
       "  <thead>\n",
       "    <tr style=\"text-align: right;\">\n",
       "      <th></th>\n",
       "      <th></th>\n",
       "      <th>Total</th>\n",
       "      <th>Promedio</th>\n",
       "    </tr>\n",
       "    <tr>\n",
       "      <th>Propietario</th>\n",
       "      <th>Indicadores</th>\n",
       "      <th></th>\n",
       "      <th></th>\n",
       "    </tr>\n",
       "  </thead>\n",
       "  <tbody>\n",
       "    <tr>\n",
       "      <th rowspan=\"3\" valign=\"top\">Materia Prima Propia</th>\n",
       "      <th>Ingreso Materia Prima Bruta</th>\n",
       "      <td>109953.55</td>\n",
       "      <td>2036.18</td>\n",
       "    </tr>\n",
       "    <tr>\n",
       "      <th>Ingreso Materia Prima Neta</th>\n",
       "      <td>109048.77</td>\n",
       "      <td>1848.28</td>\n",
       "    </tr>\n",
       "    <tr>\n",
       "      <th>Unidades por kilo</th>\n",
       "      <td>4093.80</td>\n",
       "      <td>63.97</td>\n",
       "    </tr>\n",
       "    <tr>\n",
       "      <th rowspan=\"2\" valign=\"top\">Materia Prima Terceros</th>\n",
       "      <th>Ingreso Materia Prima Bruta</th>\n",
       "      <td>101244.81</td>\n",
       "      <td>1716.01</td>\n",
       "    </tr>\n",
       "    <tr>\n",
       "      <th>Ingreso Materia Prima Neta</th>\n",
       "      <td>86228.55</td>\n",
       "      <td>1461.50</td>\n",
       "    </tr>\n",
       "  </tbody>\n",
       "</table>\n",
       "</div>"
      ],
      "text/plain": [
       "                                                        Total  Promedio\n",
       "Propietario            Indicadores                                     \n",
       "Materia Prima Propia   Ingreso Materia Prima Bruta  109953.55   2036.18\n",
       "                       Ingreso Materia Prima Neta   109048.77   1848.28\n",
       "                       Unidades por kilo              4093.80     63.97\n",
       "Materia Prima Terceros Ingreso Materia Prima Bruta  101244.81   1716.01\n",
       "                       Ingreso Materia Prima Neta    86228.55   1461.50"
      ]
     },
     "execution_count": 37,
     "metadata": {},
     "output_type": "execute_result"
    }
   ],
   "source": [
    "df.head(5)"
   ]
  },
  {
   "cell_type": "code",
   "execution_count": 38,
   "id": "e7afcd38",
   "metadata": {
    "scrolled": false
   },
   "outputs": [
    {
     "ename": "NameError",
     "evalue": "name 'idx' is not defined",
     "output_type": "error",
     "traceback": [
      "\u001b[1;31m---------------------------------------------------------------------------\u001b[0m",
      "\u001b[1;31mNameError\u001b[0m                                 Traceback (most recent call last)",
      "\u001b[1;32m~\\AppData\\Local\\Temp/ipykernel_15932/3446896845.py\u001b[0m in \u001b[0;36m<module>\u001b[1;34m\u001b[0m\n\u001b[0;32m      7\u001b[0m \u001b[0mdf3\u001b[0m \u001b[1;33m=\u001b[0m \u001b[0mdf2\u001b[0m\u001b[1;33m[\u001b[0m\u001b[0mfiltro\u001b[0m\u001b[1;33m]\u001b[0m\u001b[1;33m.\u001b[0m\u001b[0mgroupby\u001b[0m\u001b[1;33m(\u001b[0m\u001b[1;33m[\u001b[0m\u001b[1;34m'Empresa'\u001b[0m\u001b[1;33m,\u001b[0m\u001b[1;34m'Mes'\u001b[0m\u001b[1;33m,\u001b[0m\u001b[1;34m'Propietario'\u001b[0m\u001b[1;33m,\u001b[0m\u001b[1;34m'Indicadores'\u001b[0m\u001b[1;33m]\u001b[0m\u001b[1;33m)\u001b[0m\u001b[1;33m.\u001b[0m\u001b[0mValor\u001b[0m\u001b[1;33m.\u001b[0m\u001b[0msum\u001b[0m\u001b[1;33m(\u001b[0m\u001b[1;33m)\u001b[0m\u001b[1;33m.\u001b[0m\u001b[0munstack\u001b[0m\u001b[1;33m(\u001b[0m\u001b[0mlevel\u001b[0m\u001b[1;33m=\u001b[0m\u001b[1;33m-\u001b[0m\u001b[1;36m1\u001b[0m\u001b[1;33m)\u001b[0m\u001b[1;33m.\u001b[0m\u001b[0mfillna\u001b[0m\u001b[1;33m(\u001b[0m\u001b[1;36m0\u001b[0m\u001b[1;33m)\u001b[0m\u001b[1;33m\u001b[0m\u001b[1;33m\u001b[0m\u001b[0m\n\u001b[0;32m      8\u001b[0m \u001b[1;33m\u001b[0m\u001b[0m\n\u001b[1;32m----> 9\u001b[1;33m \u001b[0mdf3_propia\u001b[0m \u001b[1;33m=\u001b[0m \u001b[0mdf3\u001b[0m\u001b[1;33m.\u001b[0m\u001b[0mloc\u001b[0m\u001b[1;33m[\u001b[0m\u001b[0midx\u001b[0m\u001b[1;33m[\u001b[0m\u001b[1;33m:\u001b[0m\u001b[1;33m,\u001b[0m\u001b[1;33m:\u001b[0m\u001b[1;33m,\u001b[0m\u001b[1;34m'Materia Prima Propia'\u001b[0m\u001b[1;33m]\u001b[0m\u001b[1;33m,\u001b[0m\u001b[1;33m:\u001b[0m\u001b[1;33m]\u001b[0m\u001b[1;33m\u001b[0m\u001b[1;33m\u001b[0m\u001b[0m\n\u001b[0m\u001b[0;32m     10\u001b[0m \u001b[0muxk_propia\u001b[0m \u001b[1;33m=\u001b[0m \u001b[1;33m(\u001b[0m\u001b[0mdf3_propia\u001b[0m\u001b[1;33m[\u001b[0m\u001b[1;34m'Ingreso Materia Prima Neta'\u001b[0m\u001b[1;33m]\u001b[0m\u001b[1;33m*\u001b[0m\u001b[0mdf3_propia\u001b[0m\u001b[1;33m[\u001b[0m\u001b[1;34m'Unidades por kilo'\u001b[0m\u001b[1;33m]\u001b[0m\u001b[1;33m)\u001b[0m\u001b[1;33m.\u001b[0m\u001b[0msum\u001b[0m\u001b[1;33m(\u001b[0m\u001b[1;33m)\u001b[0m\u001b[1;33m/\u001b[0m\u001b[0mdf3_propia\u001b[0m\u001b[1;33m[\u001b[0m\u001b[1;34m'Ingreso Materia Prima Neta'\u001b[0m\u001b[1;33m]\u001b[0m\u001b[1;33m.\u001b[0m\u001b[0msum\u001b[0m\u001b[1;33m(\u001b[0m\u001b[1;33m)\u001b[0m\u001b[1;33m\u001b[0m\u001b[1;33m\u001b[0m\u001b[0m\n\u001b[0;32m     11\u001b[0m \u001b[1;33m\u001b[0m\u001b[0m\n",
      "\u001b[1;31mNameError\u001b[0m: name 'idx' is not defined"
     ]
    }
   ],
   "source": [
    "# Promedio ponderado unidades por kilo\n",
    "df2 = ingresos_mmpp.copy()\n",
    "df2['Indicadores'] = [dict_indicadores_2[df2.Indicador.iloc[i]] for i in range(len(df2.Indicador))]\n",
    "df2['Propietario'] = [dict_propiedad[df2.Indicador.iloc[i]] for i in range(len(df2.Indicador))]\n",
    "filtro = (df2.Indicadores == 'Ingreso Materia Prima Neta') | (df2.Indicadores=='Unidades por kilo')\n",
    "\n",
    "df3 = df2[filtro].groupby(['Empresa','Mes','Propietario','Indicadores']).Valor.sum().unstack(level=-1).fillna(0)\n",
    "\n",
    "df3_propia = df3.loc[idx[:,:,'Materia Prima Propia'],:]\n",
    "uxk_propia = (df3_propia['Ingreso Materia Prima Neta']*df3_propia['Unidades por kilo']).sum()/df3_propia['Ingreso Materia Prima Neta'].sum()\n",
    "\n",
    "\n",
    "df3_terceros = df3.loc[idx[:,:,'Materia Prima Terceros'],:]\n",
    "uxk_terceros = (df3_terceros['Ingreso Materia Prima Neta']*df3_terceros['Unidades por kilo']).sum()/df3_terceros['Ingreso Materia Prima Neta'].sum()\n",
    "\n",
    "print(uxk_propia, uxk_terceros)"
   ]
  },
  {
   "cell_type": "code",
   "execution_count": 39,
   "id": "0ccfdfab",
   "metadata": {},
   "outputs": [
    {
     "ename": "NameError",
     "evalue": "name 'idx' is not defined",
     "output_type": "error",
     "traceback": [
      "\u001b[1;31m---------------------------------------------------------------------------\u001b[0m",
      "\u001b[1;31mNameError\u001b[0m                                 Traceback (most recent call last)",
      "\u001b[1;32m~\\AppData\\Local\\Temp/ipykernel_15932/3089854734.py\u001b[0m in \u001b[0;36m<module>\u001b[1;34m\u001b[0m\n\u001b[0;32m     10\u001b[0m         \u001b[0mfiltro\u001b[0m \u001b[1;33m=\u001b[0m \u001b[1;33m(\u001b[0m\u001b[0mdf2\u001b[0m\u001b[1;33m.\u001b[0m\u001b[0mIndicadores\u001b[0m \u001b[1;33m==\u001b[0m \u001b[1;34m'Ingreso Materia Prima Neta'\u001b[0m\u001b[1;33m)\u001b[0m \u001b[1;33m|\u001b[0m \u001b[1;33m(\u001b[0m\u001b[0mdf2\u001b[0m\u001b[1;33m.\u001b[0m\u001b[0mIndicadores\u001b[0m\u001b[1;33m==\u001b[0m\u001b[1;34m'Unidades por kilo'\u001b[0m\u001b[1;33m)\u001b[0m\u001b[1;33m\u001b[0m\u001b[1;33m\u001b[0m\u001b[0m\n\u001b[0;32m     11\u001b[0m         \u001b[0mdf3\u001b[0m \u001b[1;33m=\u001b[0m \u001b[0mdf2\u001b[0m\u001b[1;33m[\u001b[0m\u001b[0mfiltro\u001b[0m\u001b[1;33m]\u001b[0m\u001b[1;33m.\u001b[0m\u001b[0mgroupby\u001b[0m\u001b[1;33m(\u001b[0m\u001b[1;33m[\u001b[0m\u001b[1;34m'Empresa'\u001b[0m\u001b[1;33m,\u001b[0m\u001b[1;34m'Mes'\u001b[0m\u001b[1;33m,\u001b[0m\u001b[1;34m'Propietario'\u001b[0m\u001b[1;33m,\u001b[0m\u001b[1;34m'Indicadores'\u001b[0m\u001b[1;33m]\u001b[0m\u001b[1;33m)\u001b[0m\u001b[1;33m.\u001b[0m\u001b[0mValor\u001b[0m\u001b[1;33m.\u001b[0m\u001b[0msum\u001b[0m\u001b[1;33m(\u001b[0m\u001b[1;33m)\u001b[0m\u001b[1;33m.\u001b[0m\u001b[0munstack\u001b[0m\u001b[1;33m(\u001b[0m\u001b[0mlevel\u001b[0m\u001b[1;33m=\u001b[0m\u001b[1;33m-\u001b[0m\u001b[1;36m1\u001b[0m\u001b[1;33m)\u001b[0m\u001b[1;33m.\u001b[0m\u001b[0mfillna\u001b[0m\u001b[1;33m(\u001b[0m\u001b[1;36m0\u001b[0m\u001b[1;33m)\u001b[0m\u001b[1;33m\u001b[0m\u001b[1;33m\u001b[0m\u001b[0m\n\u001b[1;32m---> 12\u001b[1;33m         \u001b[0mdf3_propia\u001b[0m \u001b[1;33m=\u001b[0m \u001b[0mdf3\u001b[0m\u001b[1;33m.\u001b[0m\u001b[0mloc\u001b[0m\u001b[1;33m[\u001b[0m\u001b[0midx\u001b[0m\u001b[1;33m[\u001b[0m\u001b[1;33m:\u001b[0m\u001b[1;33m,\u001b[0m\u001b[1;33m:\u001b[0m\u001b[1;33m,\u001b[0m\u001b[1;34m'Materia Prima Propia'\u001b[0m\u001b[1;33m]\u001b[0m\u001b[1;33m,\u001b[0m\u001b[1;33m:\u001b[0m\u001b[1;33m]\u001b[0m\u001b[1;33m\u001b[0m\u001b[1;33m\u001b[0m\u001b[0m\n\u001b[0m\u001b[0;32m     13\u001b[0m         \u001b[0muxk_propia\u001b[0m \u001b[1;33m=\u001b[0m \u001b[1;33m(\u001b[0m\u001b[0mdf3_propia\u001b[0m\u001b[1;33m[\u001b[0m\u001b[1;34m'Ingreso Materia Prima Neta'\u001b[0m\u001b[1;33m]\u001b[0m\u001b[1;33m*\u001b[0m\u001b[0mdf3_propia\u001b[0m\u001b[1;33m[\u001b[0m\u001b[1;34m'Unidades por kilo'\u001b[0m\u001b[1;33m]\u001b[0m\u001b[1;33m)\u001b[0m\u001b[1;33m.\u001b[0m\u001b[0msum\u001b[0m\u001b[1;33m(\u001b[0m\u001b[1;33m)\u001b[0m\u001b[1;33m/\u001b[0m\u001b[0mdf3_propia\u001b[0m\u001b[1;33m[\u001b[0m\u001b[1;34m'Ingreso Materia Prima Neta'\u001b[0m\u001b[1;33m]\u001b[0m\u001b[1;33m.\u001b[0m\u001b[0msum\u001b[0m\u001b[1;33m(\u001b[0m\u001b[1;33m)\u001b[0m\u001b[1;33m\u001b[0m\u001b[1;33m\u001b[0m\u001b[0m\n\u001b[0;32m     14\u001b[0m         \u001b[0mdf\u001b[0m\u001b[1;33m.\u001b[0m\u001b[0mloc\u001b[0m\u001b[1;33m[\u001b[0m\u001b[1;33m(\u001b[0m\u001b[0mi\u001b[0m\u001b[1;33m,\u001b[0m\u001b[0mj\u001b[0m\u001b[1;33m)\u001b[0m\u001b[1;33m,\u001b[0m\u001b[1;34m'Total'\u001b[0m\u001b[1;33m]\u001b[0m \u001b[1;33m=\u001b[0m \u001b[0muxk_propia\u001b[0m\u001b[1;33m\u001b[0m\u001b[1;33m\u001b[0m\u001b[0m\n",
      "\u001b[1;31mNameError\u001b[0m: name 'idx' is not defined"
     ]
    }
   ],
   "source": [
    "for i, j in df.index:\n",
    "    df.loc[(i,'% Rechazo mmpp'), 'Total'] = (df.loc[(i,'Ingreso Materia Prima Bruta'), 'Total']-df.loc[(i,'Ingreso Materia Prima Neta'), 'Total'])*100/df.loc[(i,'Ingreso Materia Prima Bruta'), 'Total']\n",
    "    if i != 'Total Materia Prima':\n",
    "        df.loc[(i,'% MP Bruta Propia sobre Total MP Bruta'),'Total'] = df.loc[(i,'Ingreso Materia Prima Bruta'), 'Total']/df.loc[('Total Materia Prima','Ingreso Materia Prima Bruta'),'Total']*100\n",
    "    if (i == 'Materia Prima Propia') & (j=='Unidades por kilo'):\n",
    "        # Promedio ponderado unidades por kilo\n",
    "        df2 = ingresos_mmpp.copy()\n",
    "        df2['Indicadores'] = [dict_indicadores_2[df2.Indicador.iloc[i]] for i in range(len(df2.Indicador))]\n",
    "        df2['Propietario'] = [dict_propiedad[df2.Indicador.iloc[i]] for i in range(len(df2.Indicador))]\n",
    "        filtro = (df2.Indicadores == 'Ingreso Materia Prima Neta') | (df2.Indicadores=='Unidades por kilo')\n",
    "        df3 = df2[filtro].groupby(['Empresa','Mes','Propietario','Indicadores']).Valor.sum().unstack(level=-1).fillna(0)\n",
    "        df3_propia = df3.loc[idx[:,:,'Materia Prima Propia'],:]\n",
    "        uxk_propia = (df3_propia['Ingreso Materia Prima Neta']*df3_propia['Unidades por kilo']).sum()/df3_propia['Ingreso Materia Prima Neta'].sum()\n",
    "        df.loc[(i,j),'Total'] = uxk_propia    \n",
    "        \n",
    "    if (i == 'Materia Prima Terceros') & (j=='Unidades por kilo'):\n",
    "        # Promedio ponderado unidades por kilo\n",
    "        df2 = ingresos_mmpp.copy()\n",
    "        df2['Indicadores'] = [dict_indicadores_2[df2.Indicador.iloc[i]] for i in range(len(df2.Indicador))]\n",
    "        df2['Propietario'] = [dict_propiedad[df2.Indicador.iloc[i]] for i in range(len(df2.Indicador))]\n",
    "        filtro = (df2.Indicadores == 'Ingreso Materia Prima Neta') | (df2.Indicadores=='Unidades por kilo')\n",
    "        df3 = df2[filtro].groupby(['Empresa','Mes','Propietario','Indicadores']).Valor.sum().unstack(level=-1).fillna(0)\n",
    "        df3_terceros = df3.loc[idx[:,:,'Materia Prima Terceros'],:]\n",
    "        uxk_terceros = (df3_terceros['Ingreso Materia Prima Neta']*df3_terceros['Unidades por kilo']).sum()/df3_terceros['Ingreso Materia Prima Neta'].sum()\n",
    "        df.loc[(i,j),'Total'] = uxk_terceros\n",
    "\n",
    "df.round(2).sort_index(ascending = [True, False])"
   ]
  },
  {
   "cell_type": "code",
   "execution_count": 40,
   "id": "19298398",
   "metadata": {},
   "outputs": [
    {
     "data": {
      "text/plain": [
       "[('Materia Prima Propia', 'Ingreso Materia Prima Bruta'),\n",
       " ('Materia Prima Propia', 'Ingreso Materia Prima Neta'),\n",
       " ('Materia Prima Propia', 'Unidades por kilo'),\n",
       " ('Materia Prima Terceros', 'Ingreso Materia Prima Bruta'),\n",
       " ('Materia Prima Terceros', 'Ingreso Materia Prima Neta'),\n",
       " ('Materia Prima Terceros', 'Unidades por kilo'),\n",
       " ('Total Materia Prima', 'Ingreso Materia Prima Bruta'),\n",
       " ('Total Materia Prima', 'Ingreso Materia Prima Neta'),\n",
       " ('Materia Prima Propia', '% Rechazo mmpp'),\n",
       " ('Materia Prima Propia', '% MP Bruta Propia sobre Total MP Bruta')]"
      ]
     },
     "execution_count": 40,
     "metadata": {},
     "output_type": "execute_result"
    }
   ],
   "source": [
    "list(df.index)"
   ]
  },
  {
   "cell_type": "code",
   "execution_count": 41,
   "id": "25d73d60",
   "metadata": {},
   "outputs": [
    {
     "ename": "KeyError",
     "evalue": "\"Passing list-likes to .loc or [] with any missing labels is no longer supported. The following labels were missing: MultiIndex([('Materia Prima Terceros', ...),\\n            ('Materia Prima Terceros', ...),\\n            (   'Total Materia Prima', ...)],\\n           names=['Propietario', 'Indicadores']). See https://pandas.pydata.org/pandas-docs/stable/user_guide/indexing.html#deprecate-loc-reindex-listlike\"",
     "output_type": "error",
     "traceback": [
      "\u001b[1;31m---------------------------------------------------------------------------\u001b[0m",
      "\u001b[1;31mKeyError\u001b[0m                                  Traceback (most recent call last)",
      "\u001b[1;32m~\\AppData\\Local\\Temp/ipykernel_15932/3784974058.py\u001b[0m in \u001b[0;36m<module>\u001b[1;34m\u001b[0m\n\u001b[1;32m----> 1\u001b[1;33m df = df.loc[[('Materia Prima Propia', 'Ingreso Materia Prima Bruta'),\n\u001b[0m\u001b[0;32m      2\u001b[0m  \u001b[1;33m(\u001b[0m\u001b[1;34m'Materia Prima Propia'\u001b[0m\u001b[1;33m,\u001b[0m \u001b[1;34m'Ingreso Materia Prima Neta'\u001b[0m\u001b[1;33m)\u001b[0m\u001b[1;33m,\u001b[0m\u001b[1;33m\u001b[0m\u001b[1;33m\u001b[0m\u001b[0m\n\u001b[0;32m      3\u001b[0m  \u001b[1;33m(\u001b[0m\u001b[1;34m'Materia Prima Propia'\u001b[0m\u001b[1;33m,\u001b[0m \u001b[1;34m'Unidades por kilo'\u001b[0m\u001b[1;33m)\u001b[0m\u001b[1;33m,\u001b[0m\u001b[1;33m\u001b[0m\u001b[1;33m\u001b[0m\u001b[0m\n\u001b[0;32m      4\u001b[0m  \u001b[1;33m(\u001b[0m\u001b[1;34m'Materia Prima Propia'\u001b[0m\u001b[1;33m,\u001b[0m \u001b[1;34m'% Rechazo mmpp'\u001b[0m\u001b[1;33m)\u001b[0m\u001b[1;33m,\u001b[0m\u001b[1;33m\u001b[0m\u001b[1;33m\u001b[0m\u001b[0m\n\u001b[0;32m      5\u001b[0m  \u001b[1;33m(\u001b[0m\u001b[1;34m'Materia Prima Propia'\u001b[0m\u001b[1;33m,\u001b[0m \u001b[1;34m'% MP Bruta Propia sobre Total MP Bruta'\u001b[0m\u001b[1;33m)\u001b[0m\u001b[1;33m,\u001b[0m\u001b[1;33m\u001b[0m\u001b[1;33m\u001b[0m\u001b[0m\n",
      "\u001b[1;32m~\\anaconda3\\lib\\site-packages\\pandas\\core\\indexing.py\u001b[0m in \u001b[0;36m__getitem__\u001b[1;34m(self, key)\u001b[0m\n\u001b[0;32m    887\u001b[0m                     \u001b[1;31m# AttributeError for IntervalTree get_value\u001b[0m\u001b[1;33m\u001b[0m\u001b[1;33m\u001b[0m\u001b[1;33m\u001b[0m\u001b[0m\n\u001b[0;32m    888\u001b[0m                     \u001b[1;32mreturn\u001b[0m \u001b[0mself\u001b[0m\u001b[1;33m.\u001b[0m\u001b[0mobj\u001b[0m\u001b[1;33m.\u001b[0m\u001b[0m_get_value\u001b[0m\u001b[1;33m(\u001b[0m\u001b[1;33m*\u001b[0m\u001b[0mkey\u001b[0m\u001b[1;33m,\u001b[0m \u001b[0mtakeable\u001b[0m\u001b[1;33m=\u001b[0m\u001b[0mself\u001b[0m\u001b[1;33m.\u001b[0m\u001b[0m_takeable\u001b[0m\u001b[1;33m)\u001b[0m\u001b[1;33m\u001b[0m\u001b[1;33m\u001b[0m\u001b[0m\n\u001b[1;32m--> 889\u001b[1;33m             \u001b[1;32mreturn\u001b[0m \u001b[0mself\u001b[0m\u001b[1;33m.\u001b[0m\u001b[0m_getitem_tuple\u001b[0m\u001b[1;33m(\u001b[0m\u001b[0mkey\u001b[0m\u001b[1;33m)\u001b[0m\u001b[1;33m\u001b[0m\u001b[1;33m\u001b[0m\u001b[0m\n\u001b[0m\u001b[0;32m    890\u001b[0m         \u001b[1;32melse\u001b[0m\u001b[1;33m:\u001b[0m\u001b[1;33m\u001b[0m\u001b[1;33m\u001b[0m\u001b[0m\n\u001b[0;32m    891\u001b[0m             \u001b[1;31m# we by definition only have the 0th axis\u001b[0m\u001b[1;33m\u001b[0m\u001b[1;33m\u001b[0m\u001b[1;33m\u001b[0m\u001b[0m\n",
      "\u001b[1;32m~\\anaconda3\\lib\\site-packages\\pandas\\core\\indexing.py\u001b[0m in \u001b[0;36m_getitem_tuple\u001b[1;34m(self, tup)\u001b[0m\n\u001b[0;32m   1058\u001b[0m     \u001b[1;32mdef\u001b[0m \u001b[0m_getitem_tuple\u001b[0m\u001b[1;33m(\u001b[0m\u001b[0mself\u001b[0m\u001b[1;33m,\u001b[0m \u001b[0mtup\u001b[0m\u001b[1;33m:\u001b[0m \u001b[0mTuple\u001b[0m\u001b[1;33m)\u001b[0m\u001b[1;33m:\u001b[0m\u001b[1;33m\u001b[0m\u001b[1;33m\u001b[0m\u001b[0m\n\u001b[0;32m   1059\u001b[0m         \u001b[1;32mwith\u001b[0m \u001b[0msuppress\u001b[0m\u001b[1;33m(\u001b[0m\u001b[0mIndexingError\u001b[0m\u001b[1;33m)\u001b[0m\u001b[1;33m:\u001b[0m\u001b[1;33m\u001b[0m\u001b[1;33m\u001b[0m\u001b[0m\n\u001b[1;32m-> 1060\u001b[1;33m             \u001b[1;32mreturn\u001b[0m \u001b[0mself\u001b[0m\u001b[1;33m.\u001b[0m\u001b[0m_getitem_lowerdim\u001b[0m\u001b[1;33m(\u001b[0m\u001b[0mtup\u001b[0m\u001b[1;33m)\u001b[0m\u001b[1;33m\u001b[0m\u001b[1;33m\u001b[0m\u001b[0m\n\u001b[0m\u001b[0;32m   1061\u001b[0m \u001b[1;33m\u001b[0m\u001b[0m\n\u001b[0;32m   1062\u001b[0m         \u001b[1;31m# no multi-index, so validate all of the indexers\u001b[0m\u001b[1;33m\u001b[0m\u001b[1;33m\u001b[0m\u001b[1;33m\u001b[0m\u001b[0m\n",
      "\u001b[1;32m~\\anaconda3\\lib\\site-packages\\pandas\\core\\indexing.py\u001b[0m in \u001b[0;36m_getitem_lowerdim\u001b[1;34m(self, tup)\u001b[0m\n\u001b[0;32m    789\u001b[0m         \u001b[1;31m# we may have a nested tuples indexer here\u001b[0m\u001b[1;33m\u001b[0m\u001b[1;33m\u001b[0m\u001b[1;33m\u001b[0m\u001b[0m\n\u001b[0;32m    790\u001b[0m         \u001b[1;32mif\u001b[0m \u001b[0mself\u001b[0m\u001b[1;33m.\u001b[0m\u001b[0m_is_nested_tuple_indexer\u001b[0m\u001b[1;33m(\u001b[0m\u001b[0mtup\u001b[0m\u001b[1;33m)\u001b[0m\u001b[1;33m:\u001b[0m\u001b[1;33m\u001b[0m\u001b[1;33m\u001b[0m\u001b[0m\n\u001b[1;32m--> 791\u001b[1;33m             \u001b[1;32mreturn\u001b[0m \u001b[0mself\u001b[0m\u001b[1;33m.\u001b[0m\u001b[0m_getitem_nested_tuple\u001b[0m\u001b[1;33m(\u001b[0m\u001b[0mtup\u001b[0m\u001b[1;33m)\u001b[0m\u001b[1;33m\u001b[0m\u001b[1;33m\u001b[0m\u001b[0m\n\u001b[0m\u001b[0;32m    792\u001b[0m \u001b[1;33m\u001b[0m\u001b[0m\n\u001b[0;32m    793\u001b[0m         \u001b[1;31m# we maybe be using a tuple to represent multiple dimensions here\u001b[0m\u001b[1;33m\u001b[0m\u001b[1;33m\u001b[0m\u001b[1;33m\u001b[0m\u001b[0m\n",
      "\u001b[1;32m~\\anaconda3\\lib\\site-packages\\pandas\\core\\indexing.py\u001b[0m in \u001b[0;36m_getitem_nested_tuple\u001b[1;34m(self, tup)\u001b[0m\n\u001b[0;32m    863\u001b[0m \u001b[1;33m\u001b[0m\u001b[0m\n\u001b[0;32m    864\u001b[0m             \u001b[0mcurrent_ndim\u001b[0m \u001b[1;33m=\u001b[0m \u001b[0mobj\u001b[0m\u001b[1;33m.\u001b[0m\u001b[0mndim\u001b[0m\u001b[1;33m\u001b[0m\u001b[1;33m\u001b[0m\u001b[0m\n\u001b[1;32m--> 865\u001b[1;33m             \u001b[0mobj\u001b[0m \u001b[1;33m=\u001b[0m \u001b[0mgetattr\u001b[0m\u001b[1;33m(\u001b[0m\u001b[0mobj\u001b[0m\u001b[1;33m,\u001b[0m \u001b[0mself\u001b[0m\u001b[1;33m.\u001b[0m\u001b[0mname\u001b[0m\u001b[1;33m)\u001b[0m\u001b[1;33m.\u001b[0m\u001b[0m_getitem_axis\u001b[0m\u001b[1;33m(\u001b[0m\u001b[0mkey\u001b[0m\u001b[1;33m,\u001b[0m \u001b[0maxis\u001b[0m\u001b[1;33m=\u001b[0m\u001b[0maxis\u001b[0m\u001b[1;33m)\u001b[0m\u001b[1;33m\u001b[0m\u001b[1;33m\u001b[0m\u001b[0m\n\u001b[0m\u001b[0;32m    866\u001b[0m             \u001b[0maxis\u001b[0m \u001b[1;33m+=\u001b[0m \u001b[1;36m1\u001b[0m\u001b[1;33m\u001b[0m\u001b[1;33m\u001b[0m\u001b[0m\n\u001b[0;32m    867\u001b[0m \u001b[1;33m\u001b[0m\u001b[0m\n",
      "\u001b[1;32m~\\anaconda3\\lib\\site-packages\\pandas\\core\\indexing.py\u001b[0m in \u001b[0;36m_getitem_axis\u001b[1;34m(self, key, axis)\u001b[0m\n\u001b[0;32m   1111\u001b[0m                     \u001b[1;32mraise\u001b[0m \u001b[0mValueError\u001b[0m\u001b[1;33m(\u001b[0m\u001b[1;34m\"Cannot index with multidimensional key\"\u001b[0m\u001b[1;33m)\u001b[0m\u001b[1;33m\u001b[0m\u001b[1;33m\u001b[0m\u001b[0m\n\u001b[0;32m   1112\u001b[0m \u001b[1;33m\u001b[0m\u001b[0m\n\u001b[1;32m-> 1113\u001b[1;33m                 \u001b[1;32mreturn\u001b[0m \u001b[0mself\u001b[0m\u001b[1;33m.\u001b[0m\u001b[0m_getitem_iterable\u001b[0m\u001b[1;33m(\u001b[0m\u001b[0mkey\u001b[0m\u001b[1;33m,\u001b[0m \u001b[0maxis\u001b[0m\u001b[1;33m=\u001b[0m\u001b[0maxis\u001b[0m\u001b[1;33m)\u001b[0m\u001b[1;33m\u001b[0m\u001b[1;33m\u001b[0m\u001b[0m\n\u001b[0m\u001b[0;32m   1114\u001b[0m \u001b[1;33m\u001b[0m\u001b[0m\n\u001b[0;32m   1115\u001b[0m             \u001b[1;31m# nested tuple slicing\u001b[0m\u001b[1;33m\u001b[0m\u001b[1;33m\u001b[0m\u001b[1;33m\u001b[0m\u001b[0m\n",
      "\u001b[1;32m~\\anaconda3\\lib\\site-packages\\pandas\\core\\indexing.py\u001b[0m in \u001b[0;36m_getitem_iterable\u001b[1;34m(self, key, axis)\u001b[0m\n\u001b[0;32m   1051\u001b[0m \u001b[1;33m\u001b[0m\u001b[0m\n\u001b[0;32m   1052\u001b[0m         \u001b[1;31m# A collection of keys\u001b[0m\u001b[1;33m\u001b[0m\u001b[1;33m\u001b[0m\u001b[1;33m\u001b[0m\u001b[0m\n\u001b[1;32m-> 1053\u001b[1;33m         \u001b[0mkeyarr\u001b[0m\u001b[1;33m,\u001b[0m \u001b[0mindexer\u001b[0m \u001b[1;33m=\u001b[0m \u001b[0mself\u001b[0m\u001b[1;33m.\u001b[0m\u001b[0m_get_listlike_indexer\u001b[0m\u001b[1;33m(\u001b[0m\u001b[0mkey\u001b[0m\u001b[1;33m,\u001b[0m \u001b[0maxis\u001b[0m\u001b[1;33m,\u001b[0m \u001b[0mraise_missing\u001b[0m\u001b[1;33m=\u001b[0m\u001b[1;32mFalse\u001b[0m\u001b[1;33m)\u001b[0m\u001b[1;33m\u001b[0m\u001b[1;33m\u001b[0m\u001b[0m\n\u001b[0m\u001b[0;32m   1054\u001b[0m         return self.obj._reindex_with_indexers(\n\u001b[0;32m   1055\u001b[0m             \u001b[1;33m{\u001b[0m\u001b[0maxis\u001b[0m\u001b[1;33m:\u001b[0m \u001b[1;33m[\u001b[0m\u001b[0mkeyarr\u001b[0m\u001b[1;33m,\u001b[0m \u001b[0mindexer\u001b[0m\u001b[1;33m]\u001b[0m\u001b[1;33m}\u001b[0m\u001b[1;33m,\u001b[0m \u001b[0mcopy\u001b[0m\u001b[1;33m=\u001b[0m\u001b[1;32mTrue\u001b[0m\u001b[1;33m,\u001b[0m \u001b[0mallow_dups\u001b[0m\u001b[1;33m=\u001b[0m\u001b[1;32mTrue\u001b[0m\u001b[1;33m\u001b[0m\u001b[1;33m\u001b[0m\u001b[0m\n",
      "\u001b[1;32m~\\anaconda3\\lib\\site-packages\\pandas\\core\\indexing.py\u001b[0m in \u001b[0;36m_get_listlike_indexer\u001b[1;34m(self, key, axis, raise_missing)\u001b[0m\n\u001b[0;32m   1264\u001b[0m             \u001b[0mkeyarr\u001b[0m\u001b[1;33m,\u001b[0m \u001b[0mindexer\u001b[0m\u001b[1;33m,\u001b[0m \u001b[0mnew_indexer\u001b[0m \u001b[1;33m=\u001b[0m \u001b[0max\u001b[0m\u001b[1;33m.\u001b[0m\u001b[0m_reindex_non_unique\u001b[0m\u001b[1;33m(\u001b[0m\u001b[0mkeyarr\u001b[0m\u001b[1;33m)\u001b[0m\u001b[1;33m\u001b[0m\u001b[1;33m\u001b[0m\u001b[0m\n\u001b[0;32m   1265\u001b[0m \u001b[1;33m\u001b[0m\u001b[0m\n\u001b[1;32m-> 1266\u001b[1;33m         \u001b[0mself\u001b[0m\u001b[1;33m.\u001b[0m\u001b[0m_validate_read_indexer\u001b[0m\u001b[1;33m(\u001b[0m\u001b[0mkeyarr\u001b[0m\u001b[1;33m,\u001b[0m \u001b[0mindexer\u001b[0m\u001b[1;33m,\u001b[0m \u001b[0maxis\u001b[0m\u001b[1;33m,\u001b[0m \u001b[0mraise_missing\u001b[0m\u001b[1;33m=\u001b[0m\u001b[0mraise_missing\u001b[0m\u001b[1;33m)\u001b[0m\u001b[1;33m\u001b[0m\u001b[1;33m\u001b[0m\u001b[0m\n\u001b[0m\u001b[0;32m   1267\u001b[0m         \u001b[1;32mreturn\u001b[0m \u001b[0mkeyarr\u001b[0m\u001b[1;33m,\u001b[0m \u001b[0mindexer\u001b[0m\u001b[1;33m\u001b[0m\u001b[1;33m\u001b[0m\u001b[0m\n\u001b[0;32m   1268\u001b[0m \u001b[1;33m\u001b[0m\u001b[0m\n",
      "\u001b[1;32m~\\anaconda3\\lib\\site-packages\\pandas\\core\\indexing.py\u001b[0m in \u001b[0;36m_validate_read_indexer\u001b[1;34m(self, key, indexer, axis, raise_missing)\u001b[0m\n\u001b[0;32m   1319\u001b[0m \u001b[1;33m\u001b[0m\u001b[0m\n\u001b[0;32m   1320\u001b[0m             \u001b[1;32mwith\u001b[0m \u001b[0moption_context\u001b[0m\u001b[1;33m(\u001b[0m\u001b[1;34m\"display.max_seq_items\"\u001b[0m\u001b[1;33m,\u001b[0m \u001b[1;36m10\u001b[0m\u001b[1;33m,\u001b[0m \u001b[1;34m\"display.width\"\u001b[0m\u001b[1;33m,\u001b[0m \u001b[1;36m80\u001b[0m\u001b[1;33m)\u001b[0m\u001b[1;33m:\u001b[0m\u001b[1;33m\u001b[0m\u001b[1;33m\u001b[0m\u001b[0m\n\u001b[1;32m-> 1321\u001b[1;33m                 raise KeyError(\n\u001b[0m\u001b[0;32m   1322\u001b[0m                     \u001b[1;34m\"Passing list-likes to .loc or [] with any missing labels \"\u001b[0m\u001b[1;33m\u001b[0m\u001b[1;33m\u001b[0m\u001b[0m\n\u001b[0;32m   1323\u001b[0m                     \u001b[1;34m\"is no longer supported. \"\u001b[0m\u001b[1;33m\u001b[0m\u001b[1;33m\u001b[0m\u001b[0m\n",
      "\u001b[1;31mKeyError\u001b[0m: \"Passing list-likes to .loc or [] with any missing labels is no longer supported. The following labels were missing: MultiIndex([('Materia Prima Terceros', ...),\\n            ('Materia Prima Terceros', ...),\\n            (   'Total Materia Prima', ...)],\\n           names=['Propietario', 'Indicadores']). See https://pandas.pydata.org/pandas-docs/stable/user_guide/indexing.html#deprecate-loc-reindex-listlike\""
     ]
    }
   ],
   "source": [
    "df = df.loc[[('Materia Prima Propia', 'Ingreso Materia Prima Bruta'),\n",
    " ('Materia Prima Propia', 'Ingreso Materia Prima Neta'),\n",
    " ('Materia Prima Propia', 'Unidades por kilo'),\n",
    " ('Materia Prima Propia', '% Rechazo mmpp'),\n",
    " ('Materia Prima Propia', '% MP Bruta Propia sobre Total MP Bruta'),\n",
    " ('Materia Prima Terceros', 'Ingreso Materia Prima Bruta'),\n",
    " ('Materia Prima Terceros', 'Ingreso Materia Prima Neta'),\n",
    " ('Materia Prima Terceros', 'Unidades por kilo'),\n",
    " ('Materia Prima Terceros', '% Rechazo mmpp'),\n",
    " ('Materia Prima Terceros', '% MP Bruta Propia sobre Total MP Bruta'),\n",
    " ('Total Materia Prima', 'Ingreso Materia Prima Bruta'),\n",
    " ('Total Materia Prima', 'Ingreso Materia Prima Neta'),\n",
    " ('Total Materia Prima', '% Rechazo mmpp'),\n",
    " ],:].fillna(\"\")"
   ]
  },
  {
   "cell_type": "code",
   "execution_count": 42,
   "id": "3f823d2e",
   "metadata": {},
   "outputs": [
    {
     "data": {
      "text/html": [
       "<div>\n",
       "<style scoped>\n",
       "    .dataframe tbody tr th:only-of-type {\n",
       "        vertical-align: middle;\n",
       "    }\n",
       "\n",
       "    .dataframe tbody tr th {\n",
       "        vertical-align: top;\n",
       "    }\n",
       "\n",
       "    .dataframe thead th {\n",
       "        text-align: right;\n",
       "    }\n",
       "</style>\n",
       "<table border=\"1\" class=\"dataframe\">\n",
       "  <thead>\n",
       "    <tr style=\"text-align: right;\">\n",
       "      <th></th>\n",
       "      <th></th>\n",
       "      <th>Total</th>\n",
       "      <th>Promedio</th>\n",
       "    </tr>\n",
       "    <tr>\n",
       "      <th>Propietario</th>\n",
       "      <th>Indicadores</th>\n",
       "      <th></th>\n",
       "      <th></th>\n",
       "    </tr>\n",
       "  </thead>\n",
       "  <tbody>\n",
       "    <tr>\n",
       "      <th rowspan=\"3\" valign=\"top\">Materia Prima Propia</th>\n",
       "      <th>Ingreso Materia Prima Bruta</th>\n",
       "      <td>109953.550000</td>\n",
       "      <td>2036.18</td>\n",
       "    </tr>\n",
       "    <tr>\n",
       "      <th>Ingreso Materia Prima Neta</th>\n",
       "      <td>109048.770000</td>\n",
       "      <td>1848.28</td>\n",
       "    </tr>\n",
       "    <tr>\n",
       "      <th>Unidades por kilo</th>\n",
       "      <td>4093.800000</td>\n",
       "      <td>63.97</td>\n",
       "    </tr>\n",
       "    <tr>\n",
       "      <th rowspan=\"3\" valign=\"top\">Materia Prima Terceros</th>\n",
       "      <th>Ingreso Materia Prima Bruta</th>\n",
       "      <td>101244.810000</td>\n",
       "      <td>1716.01</td>\n",
       "    </tr>\n",
       "    <tr>\n",
       "      <th>Ingreso Materia Prima Neta</th>\n",
       "      <td>86228.550000</td>\n",
       "      <td>1461.50</td>\n",
       "    </tr>\n",
       "    <tr>\n",
       "      <th>Unidades por kilo</th>\n",
       "      <td>3279.320000</td>\n",
       "      <td>59.62</td>\n",
       "    </tr>\n",
       "    <tr>\n",
       "      <th rowspan=\"2\" valign=\"top\">Total Materia Prima</th>\n",
       "      <th>Ingreso Materia Prima Bruta</th>\n",
       "      <td>211198.350000</td>\n",
       "      <td>3352.35</td>\n",
       "    </tr>\n",
       "    <tr>\n",
       "      <th>Ingreso Materia Prima Neta</th>\n",
       "      <td>195277.320000</td>\n",
       "      <td>3099.64</td>\n",
       "    </tr>\n",
       "    <tr>\n",
       "      <th rowspan=\"2\" valign=\"top\">Materia Prima Propia</th>\n",
       "      <th>% Rechazo mmpp</th>\n",
       "      <td>0.822875</td>\n",
       "      <td>NaN</td>\n",
       "    </tr>\n",
       "    <tr>\n",
       "      <th>% MP Bruta Propia sobre Total MP Bruta</th>\n",
       "      <td>52.061747</td>\n",
       "      <td>NaN</td>\n",
       "    </tr>\n",
       "  </tbody>\n",
       "</table>\n",
       "</div>"
      ],
      "text/plain": [
       "                                                                       Total  \\\n",
       "Propietario            Indicadores                                             \n",
       "Materia Prima Propia   Ingreso Materia Prima Bruta             109953.550000   \n",
       "                       Ingreso Materia Prima Neta              109048.770000   \n",
       "                       Unidades por kilo                         4093.800000   \n",
       "Materia Prima Terceros Ingreso Materia Prima Bruta             101244.810000   \n",
       "                       Ingreso Materia Prima Neta               86228.550000   \n",
       "                       Unidades por kilo                         3279.320000   \n",
       "Total Materia Prima    Ingreso Materia Prima Bruta             211198.350000   \n",
       "                       Ingreso Materia Prima Neta              195277.320000   \n",
       "Materia Prima Propia   % Rechazo mmpp                               0.822875   \n",
       "                       % MP Bruta Propia sobre Total MP Bruta      52.061747   \n",
       "\n",
       "                                                               Promedio  \n",
       "Propietario            Indicadores                                       \n",
       "Materia Prima Propia   Ingreso Materia Prima Bruta              2036.18  \n",
       "                       Ingreso Materia Prima Neta               1848.28  \n",
       "                       Unidades por kilo                          63.97  \n",
       "Materia Prima Terceros Ingreso Materia Prima Bruta              1716.01  \n",
       "                       Ingreso Materia Prima Neta               1461.50  \n",
       "                       Unidades por kilo                          59.62  \n",
       "Total Materia Prima    Ingreso Materia Prima Bruta              3352.35  \n",
       "                       Ingreso Materia Prima Neta               3099.64  \n",
       "Materia Prima Propia   % Rechazo mmpp                               NaN  \n",
       "                       % MP Bruta Propia sobre Total MP Bruta       NaN  "
      ]
     },
     "execution_count": 42,
     "metadata": {},
     "output_type": "execute_result"
    }
   ],
   "source": [
    "df"
   ]
  },
  {
   "cell_type": "markdown",
   "id": "a72f63e6",
   "metadata": {},
   "source": [
    "#### Acumulado Año Empresa particular"
   ]
  },
  {
   "cell_type": "code",
   "execution_count": 44,
   "id": "97aaddaf",
   "metadata": {},
   "outputs": [],
   "source": [
    "Empresa = 'Sudmaris'\n"
   ]
  },
  {
   "cell_type": "markdown",
   "id": "402efab7",
   "metadata": {},
   "source": [
    "#### Acumulado Año Otras Industrias"
   ]
  },
  {
   "cell_type": "code",
   "execution_count": 45,
   "id": "a5f54a41",
   "metadata": {},
   "outputs": [
    {
     "ename": "NameError",
     "evalue": "name 'idx' is not defined",
     "output_type": "error",
     "traceback": [
      "\u001b[1;31m---------------------------------------------------------------------------\u001b[0m",
      "\u001b[1;31mNameError\u001b[0m                                 Traceback (most recent call last)",
      "\u001b[1;32m~\\AppData\\Local\\Temp/ipykernel_15932/260075750.py\u001b[0m in \u001b[0;36m<module>\u001b[1;34m\u001b[0m\n\u001b[0;32m     54\u001b[0m \u001b[0mdf3\u001b[0m \u001b[1;33m=\u001b[0m \u001b[0mdf2\u001b[0m\u001b[1;33m[\u001b[0m\u001b[0mfiltro\u001b[0m\u001b[1;33m]\u001b[0m\u001b[1;33m.\u001b[0m\u001b[0mgroupby\u001b[0m\u001b[1;33m(\u001b[0m\u001b[1;33m[\u001b[0m\u001b[1;34m'Empresa'\u001b[0m\u001b[1;33m,\u001b[0m\u001b[1;34m'Mes'\u001b[0m\u001b[1;33m,\u001b[0m\u001b[1;34m'Propietario'\u001b[0m\u001b[1;33m,\u001b[0m\u001b[1;34m'Indicadores'\u001b[0m\u001b[1;33m]\u001b[0m\u001b[1;33m)\u001b[0m\u001b[1;33m.\u001b[0m\u001b[0mValor\u001b[0m\u001b[1;33m.\u001b[0m\u001b[0msum\u001b[0m\u001b[1;33m(\u001b[0m\u001b[1;33m)\u001b[0m\u001b[1;33m.\u001b[0m\u001b[0munstack\u001b[0m\u001b[1;33m(\u001b[0m\u001b[0mlevel\u001b[0m\u001b[1;33m=\u001b[0m\u001b[1;33m-\u001b[0m\u001b[1;36m1\u001b[0m\u001b[1;33m)\u001b[0m\u001b[1;33m.\u001b[0m\u001b[0mfillna\u001b[0m\u001b[1;33m(\u001b[0m\u001b[1;36m0\u001b[0m\u001b[1;33m)\u001b[0m\u001b[1;33m\u001b[0m\u001b[1;33m\u001b[0m\u001b[0m\n\u001b[0;32m     55\u001b[0m \u001b[1;33m\u001b[0m\u001b[0m\n\u001b[1;32m---> 56\u001b[1;33m \u001b[0mdf3_propia\u001b[0m \u001b[1;33m=\u001b[0m \u001b[0mdf3\u001b[0m\u001b[1;33m.\u001b[0m\u001b[0mloc\u001b[0m\u001b[1;33m[\u001b[0m\u001b[0midx\u001b[0m\u001b[1;33m[\u001b[0m\u001b[1;33m:\u001b[0m\u001b[1;33m,\u001b[0m\u001b[1;33m:\u001b[0m\u001b[1;33m,\u001b[0m\u001b[1;34m'Materia Prima Propia'\u001b[0m\u001b[1;33m]\u001b[0m\u001b[1;33m,\u001b[0m\u001b[1;33m:\u001b[0m\u001b[1;33m]\u001b[0m\u001b[1;33m\u001b[0m\u001b[1;33m\u001b[0m\u001b[0m\n\u001b[0m\u001b[0;32m     57\u001b[0m \u001b[0muxk_propia\u001b[0m \u001b[1;33m=\u001b[0m \u001b[1;33m(\u001b[0m\u001b[0mdf3_propia\u001b[0m\u001b[1;33m[\u001b[0m\u001b[1;34m'Ingreso Materia Prima Neta'\u001b[0m\u001b[1;33m]\u001b[0m\u001b[1;33m*\u001b[0m\u001b[0mdf3_propia\u001b[0m\u001b[1;33m[\u001b[0m\u001b[1;34m'Unidades por kilo'\u001b[0m\u001b[1;33m]\u001b[0m\u001b[1;33m)\u001b[0m\u001b[1;33m.\u001b[0m\u001b[0msum\u001b[0m\u001b[1;33m(\u001b[0m\u001b[1;33m)\u001b[0m\u001b[1;33m/\u001b[0m\u001b[0mdf3_propia\u001b[0m\u001b[1;33m[\u001b[0m\u001b[1;34m'Ingreso Materia Prima Neta'\u001b[0m\u001b[1;33m]\u001b[0m\u001b[1;33m.\u001b[0m\u001b[0msum\u001b[0m\u001b[1;33m(\u001b[0m\u001b[1;33m)\u001b[0m\u001b[1;33m\u001b[0m\u001b[1;33m\u001b[0m\u001b[0m\n\u001b[0;32m     58\u001b[0m \u001b[1;33m\u001b[0m\u001b[0m\n",
      "\u001b[1;31mNameError\u001b[0m: name 'idx' is not defined"
     ]
    }
   ],
   "source": [
    "Empresa = 'Sudmaris'\n",
    "\n",
    "# Nuevas columnas\n",
    "df = ingresos_mmpp[ingresos_mmpp.Empresa != empresa].copy()\n",
    "df['Indicadores'] = [dict_indicadores_2[df.Indicador.iloc[i]] for i in range(len(df.Indicador))]\n",
    "df['Propietario'] = [dict_propiedad[df.Indicador.iloc[i]] for i in range(len(df.Indicador))]\n",
    "\n",
    "# Añadir nuevas columnas para el total\n",
    "new_df = pd.DataFrame(columns = df.columns)\n",
    "\n",
    "for e in df.Empresa.unique():\n",
    "    for m in df.Mes.unique():\n",
    "        new_row = {\n",
    "            'Indicador':'Ingreso Materia Prima Bruta', \n",
    "            'Valor': df[(df.Empresa == e) & (df.Mes == m) & (df.Tipo == 'MP Bruta')].Valor.sum(),\n",
    "            'Unidad de medida':'Ton', \n",
    "            'Definición':'', \n",
    "            'Mes':m, \n",
    "            'Año':2021,\n",
    "            'Empresa':e,\n",
    "            'Tipo':'MP Bruta', \n",
    "            'Propiedad':'', \n",
    "            'Indicadores':'Ingreso Materia Prima Bruta', \n",
    "            'Propietario':'Total Materia Prima'\n",
    "        }\n",
    "        new_df = new_df.append(new_row, ignore_index = True)\n",
    "        \n",
    "        new_row = {\n",
    "            'Indicador':'Ingreso Materia Prima Neta', \n",
    "            'Valor': df[(df.Empresa == e) & (df.Mes == m) & (df.Tipo == 'MP Neta')].Valor.sum(),\n",
    "            'Unidad de medida':'Ton', \n",
    "            'Definición':'', \n",
    "            'Mes':m, \n",
    "            'Año':2021,\n",
    "            'Empresa':e,\n",
    "            'Tipo':'MP Bruta', \n",
    "            'Propiedad':'', \n",
    "            'Indicadores':'Ingreso Materia Prima Neta', \n",
    "            'Propietario':'Total Materia Prima'\n",
    "        }\n",
    "        new_df = new_df.append(new_row, ignore_index = True)\n",
    "        \n",
    "df = df.append(new_df, ignore_index=True)\n",
    "df = df.groupby(['Propietario','Indicadores']).Valor.agg(['sum', np.mean], axis='columns')\n",
    "df = df.round(2)\n",
    "df.columns = ['Total', 'Promedio']\n",
    "\n",
    "# Promedio ponderado unidades por kilo\n",
    "df2 = ingresos_mmpp[ingresos_mmpp.Empresa != empresa].copy()\n",
    "df2['Indicadores'] = [dict_indicadores_2[df2.Indicador.iloc[i]] for i in range(len(df2.Indicador))]\n",
    "df2['Propietario'] = [dict_propiedad[df2.Indicador.iloc[i]] for i in range(len(df2.Indicador))]\n",
    "filtro = (df2.Indicadores == 'Ingreso Materia Prima Neta') | (df2.Indicadores=='Unidades por kilo')\n",
    "\n",
    "df3 = df2[filtro].groupby(['Empresa','Mes','Propietario','Indicadores']).Valor.sum().unstack(level=-1).fillna(0)\n",
    "\n",
    "df3_propia = df3.loc[idx[:,:,'Materia Prima Propia'],:]\n",
    "uxk_propia = (df3_propia['Ingreso Materia Prima Neta']*df3_propia['Unidades por kilo']).sum()/df3_propia['Ingreso Materia Prima Neta'].sum()\n",
    "\n",
    "\n",
    "df3_terceros = df3.loc[idx[:,:,'Materia Prima Terceros'],:]\n",
    "uxk_terceros = (df3_terceros['Ingreso Materia Prima Neta']*df3_terceros['Unidades por kilo']).sum()/df3_terceros['Ingreso Materia Prima Neta'].sum()\n",
    "\n",
    "\n",
    "#Cambios en Unidades por Kilo y %MP Bruta\n",
    "\n",
    "for i, j in df.index:\n",
    "    df.loc[(i,'% Rechazo mmpp'), 'Total'] = (df.loc[(i,'Ingreso Materia Prima Bruta'), 'Total']-df.loc[(i,'Ingreso Materia Prima Neta'), 'Total'])*100/df.loc[(i,'Ingreso Materia Prima Bruta'), 'Total']\n",
    "    if i != 'Total Materia Prima':\n",
    "        df.loc[(i,'% MP Bruta Propia sobre Total MP Bruta'),'Total'] = df.loc[(i,'Ingreso Materia Prima Bruta'), 'Total']/df.loc[('Total Materia Prima','Ingreso Materia Prima Bruta'),'Total']*100\n",
    "    if (i == 'Materia Prima Propia') & (j=='Unidades por kilo'):\n",
    "        # Promedio ponderado unidades por kilo\n",
    "        df2 = ingresos_mmpp.copy()\n",
    "        df2['Indicadores'] = [dict_indicadores_2[df2.Indicador.iloc[i]] for i in range(len(df2.Indicador))]\n",
    "        df2['Propietario'] = [dict_propiedad[df2.Indicador.iloc[i]] for i in range(len(df2.Indicador))]\n",
    "        filtro = (df2.Indicadores == 'Ingreso Materia Prima Neta') | (df2.Indicadores=='Unidades por kilo')\n",
    "        df3 = df2[filtro].groupby(['Empresa','Mes','Propietario','Indicadores']).Valor.sum().unstack(level=-1).fillna(0)\n",
    "        df3_propia = df3.loc[idx[:,:,'Materia Prima Propia'],:]\n",
    "        uxk_propia = (df3_propia['Ingreso Materia Prima Neta']*df3_propia['Unidades por kilo']).sum()/df3_propia['Ingreso Materia Prima Neta'].sum()\n",
    "        df.loc[(i,j),'Total'] = uxk_propia    \n",
    "        \n",
    "    if (i == 'Materia Prima Terceros') & (j=='Unidades por kilo'):\n",
    "        # Promedio ponderado unidades por kilo\n",
    "        df2 = ingresos_mmpp.copy()\n",
    "        df2['Indicadores'] = [dict_indicadores_2[df2.Indicador.iloc[i]] for i in range(len(df2.Indicador))]\n",
    "        df2['Propietario'] = [dict_propiedad[df2.Indicador.iloc[i]] for i in range(len(df2.Indicador))]\n",
    "        filtro = (df2.Indicadores == 'Ingreso Materia Prima Neta') | (df2.Indicadores=='Unidades por kilo')\n",
    "        df3 = df2[filtro].groupby(['Empresa','Mes','Propietario','Indicadores']).Valor.sum().unstack(level=-1).fillna(0)\n",
    "        df3_terceros = df3.loc[idx[:,:,'Materia Prima Terceros'],:]\n",
    "        uxk_terceros = (df3_terceros['Ingreso Materia Prima Neta']*df3_terceros['Unidades por kilo']).sum()/df3_terceros['Ingreso Materia Prima Neta'].sum()\n",
    "        df.loc[(i,j),'Total'] = uxk_terceros\n",
    "\n",
    "df.round(2).sort_index(ascending = [True, False])\n",
    "\n",
    "\n",
    "df = df.loc[[('Materia Prima Propia', 'Ingreso Materia Prima Bruta'),\n",
    " ('Materia Prima Propia', 'Ingreso Materia Prima Neta'),\n",
    " ('Materia Prima Propia', 'Unidades por kilo'),\n",
    " ('Materia Prima Propia', '% Rechazo mmpp'),\n",
    " ('Materia Prima Propia', '% MP Bruta Propia sobre Total MP Bruta'),\n",
    " ('Materia Prima Terceros', 'Ingreso Materia Prima Bruta'),\n",
    " ('Materia Prima Terceros', 'Ingreso Materia Prima Neta'),\n",
    " ('Materia Prima Terceros', 'Unidades por kilo'),\n",
    " ('Materia Prima Terceros', '% Rechazo mmpp'),\n",
    " ('Materia Prima Terceros', '% MP Bruta Propia sobre Total MP Bruta'),\n",
    " ('Total Materia Prima', 'Ingreso Materia Prima Bruta'),\n",
    " ('Total Materia Prima', 'Ingreso Materia Prima Neta'),\n",
    " ('Total Materia Prima', '% Rechazo mmpp'),\n",
    " ],:].fillna(\"\")\n",
    "\n",
    "df.round(2)"
   ]
  },
  {
   "cell_type": "markdown",
   "id": "48c91a4a",
   "metadata": {},
   "source": [
    "#### Mes Empresas"
   ]
  },
  {
   "cell_type": "code",
   "execution_count": null,
   "id": "3f552b83",
   "metadata": {},
   "outputs": [],
   "source": [
    "mes = 9\n",
    "\n",
    "# Nuevas columnas\n",
    "df = ingresos_mmpp[ingresos_mmpp.Mes == mes].copy()\n",
    "df['Indicadores'] = [dict_indicadores_2[df.Indicador.iloc[i]] for i in range(len(df.Indicador))]\n",
    "df['Propietario'] = [dict_propiedad[df.Indicador.iloc[i]] for i in range(len(df.Indicador))]\n",
    "\n",
    "# Añadir nuevas columnas para el total\n",
    "new_df = pd.DataFrame(columns = df.columns)\n",
    "\n",
    "for e in df.Empresa.unique():\n",
    "    for m in df.Mes.unique():\n",
    "        new_row = {\n",
    "            'Indicador':'Ingreso Materia Prima Bruta', \n",
    "            'Valor': df[(df.Empresa == e) & (df.Mes == m) & (df.Tipo == 'MP Bruta')].Valor.sum(),\n",
    "            'Unidad de medida':'Ton', \n",
    "            'Definición':'', \n",
    "            'Mes':m, \n",
    "            'Año':2021,\n",
    "            'Empresa':e,\n",
    "            'Tipo':'MP Bruta', \n",
    "            'Propiedad':'', \n",
    "            'Indicadores':'Ingreso Materia Prima Bruta', \n",
    "            'Propietario':'Total Materia Prima'\n",
    "        }\n",
    "        new_df = new_df.append(new_row, ignore_index = True)\n",
    "        \n",
    "        new_row = {\n",
    "            'Indicador':'Ingreso Materia Prima Neta', \n",
    "            'Valor': df[(df.Empresa == e) & (df.Mes == m) & (df.Tipo == 'MP Neta')].Valor.sum(),\n",
    "            'Unidad de medida':'Ton', \n",
    "            'Definición':'', \n",
    "            'Mes':m, \n",
    "            'Año':2021,\n",
    "            'Empresa':e,\n",
    "            'Tipo':'MP Bruta', \n",
    "            'Propiedad':'', \n",
    "            'Indicadores':'Ingreso Materia Prima Neta', \n",
    "            'Propietario':'Total Materia Prima'\n",
    "        }\n",
    "        new_df = new_df.append(new_row, ignore_index = True)\n",
    "        \n",
    "df = df.append(new_df, ignore_index=True)\n",
    "df = df.groupby(['Propietario','Indicadores']).Valor.agg(['sum', np.mean], axis='columns')\n",
    "df = df.round(2)\n",
    "df.columns = ['Total', 'Promedio']\n",
    "\n",
    "# Promedio ponderado unidades por kilo\n",
    "df2 = ingresos_mmpp[ingresos_mmpp.Mes == mes].copy()\n",
    "df2['Indicadores'] = [dict_indicadores_2[df2.Indicador.iloc[i]] for i in range(len(df2.Indicador))]\n",
    "df2['Propietario'] = [dict_propiedad[df2.Indicador.iloc[i]] for i in range(len(df2.Indicador))]\n",
    "filtro = (df2.Indicadores == 'Ingreso Materia Prima Neta') | (df2.Indicadores=='Unidades por kilo')\n",
    "\n",
    "df3 = df2[filtro].groupby(['Empresa','Mes','Propietario','Indicadores']).Valor.sum().unstack(level=-1).fillna(0)\n",
    "\n",
    "df3_propia = df3.loc[idx[:,:,'Materia Prima Propia'],:]\n",
    "uxk_propia = (df3_propia['Ingreso Materia Prima Neta']*df3_propia['Unidades por kilo']).sum()/df3_propia['Ingreso Materia Prima Neta'].sum()\n",
    "\n",
    "\n",
    "df3_terceros = df3.loc[idx[:,:,'Materia Prima Terceros'],:]\n",
    "uxk_terceros = (df3_terceros['Ingreso Materia Prima Neta']*df3_terceros['Unidades por kilo']).sum()/df3_terceros['Ingreso Materia Prima Neta'].sum()\n",
    "\n",
    "\n",
    "#Cambios en Unidades por Kilo y %MP Bruta\n",
    "\n",
    "for i, j in df.index:\n",
    "    df.loc[(i,'% Rechazo mmpp'), 'Total'] = (df.loc[(i,'Ingreso Materia Prima Bruta'), 'Total']-df.loc[(i,'Ingreso Materia Prima Neta'), 'Total'])*100/df.loc[(i,'Ingreso Materia Prima Bruta'), 'Total']\n",
    "    if i != 'Total Materia Prima':\n",
    "        df.loc[(i,'% MP Bruta Propia sobre Total MP Bruta'),'Total'] = df.loc[(i,'Ingreso Materia Prima Bruta'), 'Total']/df.loc[('Total Materia Prima','Ingreso Materia Prima Bruta'),'Total']*100\n",
    "    if (i == 'Materia Prima Propia') & (j=='Unidades por kilo'):\n",
    "        # Promedio ponderado unidades por kilo\n",
    "        df2 = ingresos_mmpp.copy()\n",
    "        df2['Indicadores'] = [dict_indicadores_2[df2.Indicador.iloc[i]] for i in range(len(df2.Indicador))]\n",
    "        df2['Propietario'] = [dict_propiedad[df2.Indicador.iloc[i]] for i in range(len(df2.Indicador))]\n",
    "        filtro = (df2.Indicadores == 'Ingreso Materia Prima Neta') | (df2.Indicadores=='Unidades por kilo')\n",
    "        df3 = df2[filtro].groupby(['Empresa','Mes','Propietario','Indicadores']).Valor.sum().unstack(level=-1).fillna(0)\n",
    "        df3_propia = df3.loc[idx[:,:,'Materia Prima Propia'],:]\n",
    "        uxk_propia = (df3_propia['Ingreso Materia Prima Neta']*df3_propia['Unidades por kilo']).sum()/df3_propia['Ingreso Materia Prima Neta'].sum()\n",
    "        df.loc[(i,j),'Total'] = uxk_propia    \n",
    "        \n",
    "    if (i == 'Materia Prima Terceros') & (j=='Unidades por kilo'):\n",
    "        # Promedio ponderado unidades por kilo\n",
    "        df2 = ingresos_mmpp.copy()\n",
    "        df2['Indicadores'] = [dict_indicadores_2[df2.Indicador.iloc[i]] for i in range(len(df2.Indicador))]\n",
    "        df2['Propietario'] = [dict_propiedad[df2.Indicador.iloc[i]] for i in range(len(df2.Indicador))]\n",
    "        filtro = (df2.Indicadores == 'Ingreso Materia Prima Neta') | (df2.Indicadores=='Unidades por kilo')\n",
    "        df3 = df2[filtro].groupby(['Empresa','Mes','Propietario','Indicadores']).Valor.sum().unstack(level=-1).fillna(0)\n",
    "        df3_terceros = df3.loc[idx[:,:,'Materia Prima Terceros'],:]\n",
    "        uxk_terceros = (df3_terceros['Ingreso Materia Prima Neta']*df3_terceros['Unidades por kilo']).sum()/df3_terceros['Ingreso Materia Prima Neta'].sum()\n",
    "        df.loc[(i,j),'Total'] = uxk_terceros\n",
    "\n",
    "df.round(2).sort_index(ascending = [True, False])\n",
    "\n",
    "\n",
    "df = df.loc[[('Materia Prima Propia', 'Ingreso Materia Prima Bruta'),\n",
    " ('Materia Prima Propia', 'Ingreso Materia Prima Neta'),\n",
    " ('Materia Prima Propia', 'Unidades por kilo'),\n",
    " ('Materia Prima Propia', '% Rechazo mmpp'),\n",
    " ('Materia Prima Propia', '% MP Bruta Propia sobre Total MP Bruta'),\n",
    " ('Materia Prima Terceros', 'Ingreso Materia Prima Bruta'),\n",
    " ('Materia Prima Terceros', 'Ingreso Materia Prima Neta'),\n",
    " ('Materia Prima Terceros', 'Unidades por kilo'),\n",
    " ('Materia Prima Terceros', '% Rechazo mmpp'),\n",
    " ('Materia Prima Terceros', '% MP Bruta Propia sobre Total MP Bruta'),\n",
    " ('Total Materia Prima', 'Ingreso Materia Prima Bruta'),\n",
    " ('Total Materia Prima', 'Ingreso Materia Prima Neta'),\n",
    " ('Total Materia Prima', '% Rechazo mmpp'),\n",
    " ],:].fillna(\"\")\n",
    "\n",
    "df.round(2)"
   ]
  },
  {
   "cell_type": "markdown",
   "id": "fb12bdfc",
   "metadata": {},
   "source": [
    "#### Mes Empresa particular"
   ]
  },
  {
   "cell_type": "code",
   "execution_count": 46,
   "id": "7a7f731e",
   "metadata": {},
   "outputs": [
    {
     "ename": "NameError",
     "evalue": "name 'mes' is not defined",
     "output_type": "error",
     "traceback": [
      "\u001b[1;31m---------------------------------------------------------------------------\u001b[0m",
      "\u001b[1;31mNameError\u001b[0m                                 Traceback (most recent call last)",
      "\u001b[1;32m~\\AppData\\Local\\Temp/ipykernel_15932/2829773517.py\u001b[0m in \u001b[0;36m<module>\u001b[1;34m\u001b[0m\n\u001b[1;32m----> 1\u001b[1;33m \u001b[0mdf\u001b[0m \u001b[1;33m=\u001b[0m \u001b[0mingresos_mmpp\u001b[0m\u001b[1;33m[\u001b[0m\u001b[1;33m(\u001b[0m\u001b[0mingresos_mmpp\u001b[0m\u001b[1;33m.\u001b[0m\u001b[0mEmpresa\u001b[0m \u001b[1;33m==\u001b[0m \u001b[0mempresa\u001b[0m\u001b[1;33m)\u001b[0m \u001b[1;33m&\u001b[0m \u001b[1;33m(\u001b[0m\u001b[0mingresos_mmpp\u001b[0m\u001b[1;33m.\u001b[0m\u001b[0mMes\u001b[0m \u001b[1;33m==\u001b[0m \u001b[0mmes\u001b[0m\u001b[1;33m)\u001b[0m\u001b[1;33m]\u001b[0m\u001b[1;33m.\u001b[0m\u001b[0mcopy\u001b[0m\u001b[1;33m(\u001b[0m\u001b[1;33m)\u001b[0m\u001b[1;33m\u001b[0m\u001b[1;33m\u001b[0m\u001b[0m\n\u001b[0m\u001b[0;32m      2\u001b[0m \u001b[0mdf\u001b[0m\u001b[1;33m[\u001b[0m\u001b[1;34m'Indicadores'\u001b[0m\u001b[1;33m]\u001b[0m \u001b[1;33m=\u001b[0m \u001b[1;33m[\u001b[0m\u001b[0mdict_indicadores_2\u001b[0m\u001b[1;33m[\u001b[0m\u001b[0mdf\u001b[0m\u001b[1;33m.\u001b[0m\u001b[0mIndicador\u001b[0m\u001b[1;33m.\u001b[0m\u001b[0miloc\u001b[0m\u001b[1;33m[\u001b[0m\u001b[0mi\u001b[0m\u001b[1;33m]\u001b[0m\u001b[1;33m]\u001b[0m \u001b[1;32mfor\u001b[0m \u001b[0mi\u001b[0m \u001b[1;32min\u001b[0m \u001b[0mrange\u001b[0m\u001b[1;33m(\u001b[0m\u001b[0mlen\u001b[0m\u001b[1;33m(\u001b[0m\u001b[0mdf\u001b[0m\u001b[1;33m.\u001b[0m\u001b[0mIndicador\u001b[0m\u001b[1;33m)\u001b[0m\u001b[1;33m)\u001b[0m\u001b[1;33m]\u001b[0m\u001b[1;33m\u001b[0m\u001b[1;33m\u001b[0m\u001b[0m\n\u001b[0;32m      3\u001b[0m \u001b[0mdf\u001b[0m\u001b[1;33m[\u001b[0m\u001b[1;34m'Propietario'\u001b[0m\u001b[1;33m]\u001b[0m \u001b[1;33m=\u001b[0m \u001b[1;33m[\u001b[0m\u001b[0mdict_propiedad\u001b[0m\u001b[1;33m[\u001b[0m\u001b[0mdf\u001b[0m\u001b[1;33m.\u001b[0m\u001b[0mIndicador\u001b[0m\u001b[1;33m.\u001b[0m\u001b[0miloc\u001b[0m\u001b[1;33m[\u001b[0m\u001b[0mi\u001b[0m\u001b[1;33m]\u001b[0m\u001b[1;33m]\u001b[0m \u001b[1;32mfor\u001b[0m \u001b[0mi\u001b[0m \u001b[1;32min\u001b[0m \u001b[0mrange\u001b[0m\u001b[1;33m(\u001b[0m\u001b[0mlen\u001b[0m\u001b[1;33m(\u001b[0m\u001b[0mdf\u001b[0m\u001b[1;33m.\u001b[0m\u001b[0mIndicador\u001b[0m\u001b[1;33m)\u001b[0m\u001b[1;33m)\u001b[0m\u001b[1;33m]\u001b[0m\u001b[1;33m\u001b[0m\u001b[1;33m\u001b[0m\u001b[0m\n\u001b[0;32m      4\u001b[0m \u001b[0mdf\u001b[0m\u001b[1;33m\u001b[0m\u001b[1;33m\u001b[0m\u001b[0m\n",
      "\u001b[1;31mNameError\u001b[0m: name 'mes' is not defined"
     ]
    }
   ],
   "source": [
    "df = ingresos_mmpp[(ingresos_mmpp.Empresa == empresa) & (ingresos_mmpp.Mes == mes)].copy()\n",
    "df['Indicadores'] = [dict_indicadores_2[df.Indicador.iloc[i]] for i in range(len(df.Indicador))]\n",
    "df['Propietario'] = [dict_propiedad[df.Indicador.iloc[i]] for i in range(len(df.Indicador))]\n",
    "df"
   ]
  },
  {
   "cell_type": "code",
   "execution_count": 47,
   "id": "3312cf13",
   "metadata": {},
   "outputs": [
    {
     "ename": "NameError",
     "evalue": "name 'idx' is not defined",
     "output_type": "error",
     "traceback": [
      "\u001b[1;31m---------------------------------------------------------------------------\u001b[0m",
      "\u001b[1;31mNameError\u001b[0m                                 Traceback (most recent call last)",
      "\u001b[1;32m~\\AppData\\Local\\Temp/ipykernel_15932/574359410.py\u001b[0m in \u001b[0;36m<module>\u001b[1;34m\u001b[0m\n\u001b[0;32m     56\u001b[0m \u001b[0mdf3\u001b[0m \u001b[1;33m=\u001b[0m \u001b[0mdf2\u001b[0m\u001b[1;33m[\u001b[0m\u001b[0mfiltro\u001b[0m\u001b[1;33m]\u001b[0m\u001b[1;33m.\u001b[0m\u001b[0mgroupby\u001b[0m\u001b[1;33m(\u001b[0m\u001b[1;33m[\u001b[0m\u001b[1;34m'Empresa'\u001b[0m\u001b[1;33m,\u001b[0m\u001b[1;34m'Mes'\u001b[0m\u001b[1;33m,\u001b[0m\u001b[1;34m'Propietario'\u001b[0m\u001b[1;33m,\u001b[0m\u001b[1;34m'Indicadores'\u001b[0m\u001b[1;33m]\u001b[0m\u001b[1;33m)\u001b[0m\u001b[1;33m.\u001b[0m\u001b[0mValor\u001b[0m\u001b[1;33m.\u001b[0m\u001b[0msum\u001b[0m\u001b[1;33m(\u001b[0m\u001b[1;33m)\u001b[0m\u001b[1;33m.\u001b[0m\u001b[0munstack\u001b[0m\u001b[1;33m(\u001b[0m\u001b[0mlevel\u001b[0m\u001b[1;33m=\u001b[0m\u001b[1;33m-\u001b[0m\u001b[1;36m1\u001b[0m\u001b[1;33m)\u001b[0m\u001b[1;33m.\u001b[0m\u001b[0mfillna\u001b[0m\u001b[1;33m(\u001b[0m\u001b[1;36m0\u001b[0m\u001b[1;33m)\u001b[0m\u001b[1;33m\u001b[0m\u001b[1;33m\u001b[0m\u001b[0m\n\u001b[0;32m     57\u001b[0m \u001b[1;33m\u001b[0m\u001b[0m\n\u001b[1;32m---> 58\u001b[1;33m \u001b[0mdf3_propia\u001b[0m \u001b[1;33m=\u001b[0m \u001b[0mdf3\u001b[0m\u001b[1;33m.\u001b[0m\u001b[0mloc\u001b[0m\u001b[1;33m[\u001b[0m\u001b[0midx\u001b[0m\u001b[1;33m[\u001b[0m\u001b[1;33m:\u001b[0m\u001b[1;33m,\u001b[0m\u001b[1;33m:\u001b[0m\u001b[1;33m,\u001b[0m\u001b[1;34m'Materia Prima Propia'\u001b[0m\u001b[1;33m]\u001b[0m\u001b[1;33m,\u001b[0m\u001b[1;33m:\u001b[0m\u001b[1;33m]\u001b[0m\u001b[1;33m\u001b[0m\u001b[1;33m\u001b[0m\u001b[0m\n\u001b[0m\u001b[0;32m     59\u001b[0m \u001b[0muxk_propia\u001b[0m \u001b[1;33m=\u001b[0m \u001b[1;33m(\u001b[0m\u001b[0mdf3_propia\u001b[0m\u001b[1;33m[\u001b[0m\u001b[1;34m'Ingreso Materia Prima Neta'\u001b[0m\u001b[1;33m]\u001b[0m\u001b[1;33m*\u001b[0m\u001b[0mdf3_propia\u001b[0m\u001b[1;33m[\u001b[0m\u001b[1;34m'Unidades por kilo'\u001b[0m\u001b[1;33m]\u001b[0m\u001b[1;33m)\u001b[0m\u001b[1;33m.\u001b[0m\u001b[0msum\u001b[0m\u001b[1;33m(\u001b[0m\u001b[1;33m)\u001b[0m\u001b[1;33m/\u001b[0m\u001b[0mdf3_propia\u001b[0m\u001b[1;33m[\u001b[0m\u001b[1;34m'Ingreso Materia Prima Neta'\u001b[0m\u001b[1;33m]\u001b[0m\u001b[1;33m.\u001b[0m\u001b[0msum\u001b[0m\u001b[1;33m(\u001b[0m\u001b[1;33m)\u001b[0m\u001b[1;33m\u001b[0m\u001b[1;33m\u001b[0m\u001b[0m\n\u001b[0;32m     60\u001b[0m \u001b[1;33m\u001b[0m\u001b[0m\n",
      "\u001b[1;31mNameError\u001b[0m: name 'idx' is not defined"
     ]
    }
   ],
   "source": [
    "Empresa = 'Sudmaris'\n",
    "mes = 9\n",
    "\n",
    "# Nuevas columnas\n",
    "df = ingresos_mmpp[(ingresos_mmpp.Empresa == empresa) & (ingresos_mmpp.Mes == mes)].copy()\n",
    "df['Indicadores'] = [dict_indicadores_2[df.Indicador.iloc[i]] for i in range(len(df.Indicador))]\n",
    "df['Propietario'] = [dict_propiedad[df.Indicador.iloc[i]] for i in range(len(df.Indicador))]\n",
    "df.fillna(0)\n",
    "\n",
    "# Añadir nuevas columnas para el total\n",
    "new_df = pd.DataFrame(columns = df.columns)\n",
    "\n",
    "for e in df.Empresa.unique():\n",
    "    for m in df.Mes.unique():\n",
    "        new_row = {\n",
    "            'Indicador':'Ingreso Materia Prima Bruta', \n",
    "            'Valor': df[(df.Empresa == e) & (df.Mes == m) & (df.Tipo == 'MP Bruta')].Valor.sum(),\n",
    "            'Unidad de medida':'Ton', \n",
    "            'Definición':'', \n",
    "            'Mes':m, \n",
    "            'Año':2021,\n",
    "            'Empresa':e,\n",
    "            'Tipo':'MP Bruta', \n",
    "            'Propiedad':'', \n",
    "            'Indicadores':'Ingreso Materia Prima Bruta', \n",
    "            'Propietario':'Total Materia Prima'\n",
    "        }\n",
    "        new_df = new_df.append(new_row, ignore_index = True)\n",
    "        \n",
    "        new_row = {\n",
    "            'Indicador':'Ingreso Materia Prima Neta', \n",
    "            'Valor': df[(df.Empresa == e) & (df.Mes == m) & (df.Tipo == 'MP Neta')].Valor.sum(),\n",
    "            'Unidad de medida':'Ton', \n",
    "            'Definición':'', \n",
    "            'Mes':m, \n",
    "            'Año':2021,\n",
    "            'Empresa':e,\n",
    "            'Tipo':'MP Bruta', \n",
    "            'Propiedad':'', \n",
    "            'Indicadores':'Ingreso Materia Prima Neta', \n",
    "            'Propietario':'Total Materia Prima'\n",
    "        }\n",
    "        new_df = new_df.append(new_row, ignore_index = True)\n",
    "        \n",
    "df = df.append(new_df, ignore_index=True)\n",
    "df = df.groupby(['Propietario','Indicadores']).Valor.agg(['sum', np.mean], axis='columns')\n",
    "df = df.round(2)\n",
    "df.columns = ['Total', 'Promedio']\n",
    "\n",
    "# Promedio ponderado unidades por kilo\n",
    "df2 = ingresos_mmpp[(ingresos_mmpp.Empresa == empresa) & (ingresos_mmpp.Mes == mes)].copy()\n",
    "df2['Indicadores'] = [dict_indicadores_2[df2.Indicador.iloc[i]] for i in range(len(df2.Indicador))]\n",
    "df2['Propietario'] = [dict_propiedad[df2.Indicador.iloc[i]] for i in range(len(df2.Indicador))]\n",
    "filtro = (df2.Indicadores == 'Ingreso Materia Prima Neta') | (df2.Indicadores=='Unidades por kilo')\n",
    "\n",
    "df3 = df2[filtro].groupby(['Empresa','Mes','Propietario','Indicadores']).Valor.sum().unstack(level=-1).fillna(0)\n",
    "\n",
    "df3_propia = df3.loc[idx[:,:,'Materia Prima Propia'],:]\n",
    "uxk_propia = (df3_propia['Ingreso Materia Prima Neta']*df3_propia['Unidades por kilo']).sum()/df3_propia['Ingreso Materia Prima Neta'].sum()\n",
    "\n",
    "\n",
    "df3_terceros = df3.loc[idx[:,:,'Materia Prima Terceros'],:]\n",
    "uxk_terceros = (df3_terceros['Ingreso Materia Prima Neta']*df3_terceros['Unidades por kilo']).sum()/df3_terceros['Ingreso Materia Prima Neta'].sum()\n",
    "\n",
    "\n",
    "#Cambios en Unidades por Kilo y %MP Bruta\n",
    "\n",
    "for i, j in df.index:\n",
    "    df.loc[(i,'% Rechazo mmpp'), 'Total'] = (df.loc[(i,'Ingreso Materia Prima Bruta'), 'Total']-df.loc[(i,'Ingreso Materia Prima Neta'), 'Total'])*100/df.loc[(i,'Ingreso Materia Prima Bruta'), 'Total']\n",
    "    if i != 'Total Materia Prima':\n",
    "        df.loc[(i,'% MP Bruta Propia sobre Total MP Bruta'),'Total'] = df.loc[(i,'Ingreso Materia Prima Bruta'), 'Total']/df.loc[('Total Materia Prima','Ingreso Materia Prima Bruta'),'Total']*100\n",
    "    if (i == 'Materia Prima Propia') & (j=='Unidades por kilo'):\n",
    "        # Promedio ponderado unidades por kilo\n",
    "        df2 = ingresos_mmpp.copy()\n",
    "        df2['Indicadores'] = [dict_indicadores_2[df2.Indicador.iloc[i]] for i in range(len(df2.Indicador))]\n",
    "        df2['Propietario'] = [dict_propiedad[df2.Indicador.iloc[i]] for i in range(len(df2.Indicador))]\n",
    "        filtro = (df2.Indicadores == 'Ingreso Materia Prima Neta') | (df2.Indicadores=='Unidades por kilo')\n",
    "        df3 = df2[filtro].groupby(['Empresa','Mes','Propietario','Indicadores']).Valor.sum().unstack(level=-1).fillna(0)\n",
    "        df3_propia = df3.loc[idx[:,:,'Materia Prima Propia'],:]\n",
    "        uxk_propia = (df3_propia['Ingreso Materia Prima Neta']*df3_propia['Unidades por kilo']).sum()/df3_propia['Ingreso Materia Prima Neta'].sum()\n",
    "        df.loc[(i,j),'Total'] = uxk_propia    \n",
    "        \n",
    "    if (i == 'Materia Prima Terceros') & (j=='Unidades por kilo'):\n",
    "        # Promedio ponderado unidades por kilo\n",
    "        df2 = ingresos_mmpp.copy()\n",
    "        df2['Indicadores'] = [dict_indicadores_2[df2.Indicador.iloc[i]] for i in range(len(df2.Indicador))]\n",
    "        df2['Propietario'] = [dict_propiedad[df2.Indicador.iloc[i]] for i in range(len(df2.Indicador))]\n",
    "        filtro = (df2.Indicadores == 'Ingreso Materia Prima Neta') | (df2.Indicadores=='Unidades por kilo')\n",
    "        df3 = df2[filtro].groupby(['Empresa','Mes','Propietario','Indicadores']).Valor.sum().unstack(level=-1).fillna(0)\n",
    "        df3_terceros = df3.loc[idx[:,:,'Materia Prima Terceros'],:]\n",
    "        uxk_terceros = (df3_terceros['Ingreso Materia Prima Neta']*df3_terceros['Unidades por kilo']).sum()/df3_terceros['Ingreso Materia Prima Neta'].sum()\n",
    "        df.loc[(i,j),'Total'] = uxk_terceros\n",
    "\n",
    "df.round(2).sort_index(ascending = [True, False])\n",
    "\n",
    "try: \n",
    "    df = df.loc[[('Materia Prima Propia', 'Ingreso Materia Prima Bruta'),\n",
    "     ('Materia Prima Propia', 'Ingreso Materia Prima Neta'),\n",
    "     ('Materia Prima Propia', 'Unidades por kilo'),\n",
    "     ('Materia Prima Propia', '% Rechazo mmpp'),\n",
    "     ('Materia Prima Propia', '% MP Bruta Propia sobre Total MP Bruta'),\n",
    "     ('Materia Prima Terceros', 'Ingreso Materia Prima Bruta'),\n",
    "     ('Materia Prima Terceros', 'Ingreso Materia Prima Neta'),\n",
    "     ('Materia Prima Terceros', 'Unidades por kilo'),\n",
    "     ('Materia Prima Terceros', '% Rechazo mmpp'),\n",
    "     ('Materia Prima Terceros', '% MP Bruta Propia sobre Total MP Bruta'),\n",
    "     ('Total Materia Prima', 'Ingreso Materia Prima Bruta'),\n",
    "     ('Total Materia Prima', 'Ingreso Materia Prima Neta'),\n",
    "     ('Total Materia Prima', '% Rechazo mmpp'),\n",
    "     ],:].fillna(\"\")\n",
    "except:\n",
    "    print('')\n",
    "finally: \n",
    "    df = df.round(2).sort_index(ascending = [True, False])"
   ]
  },
  {
   "cell_type": "markdown",
   "id": "ee848821",
   "metadata": {},
   "source": [
    "#### Mes Otras Industrias"
   ]
  },
  {
   "cell_type": "code",
   "execution_count": 48,
   "id": "80099856",
   "metadata": {},
   "outputs": [
    {
     "ename": "NameError",
     "evalue": "name 'idx' is not defined",
     "output_type": "error",
     "traceback": [
      "\u001b[1;31m---------------------------------------------------------------------------\u001b[0m",
      "\u001b[1;31mNameError\u001b[0m                                 Traceback (most recent call last)",
      "\u001b[1;32m~\\AppData\\Local\\Temp/ipykernel_15932/2433758563.py\u001b[0m in \u001b[0;36m<module>\u001b[1;34m\u001b[0m\n\u001b[0;32m     55\u001b[0m \u001b[0mdf3\u001b[0m \u001b[1;33m=\u001b[0m \u001b[0mdf2\u001b[0m\u001b[1;33m[\u001b[0m\u001b[0mfiltro\u001b[0m\u001b[1;33m]\u001b[0m\u001b[1;33m.\u001b[0m\u001b[0mgroupby\u001b[0m\u001b[1;33m(\u001b[0m\u001b[1;33m[\u001b[0m\u001b[1;34m'Empresa'\u001b[0m\u001b[1;33m,\u001b[0m\u001b[1;34m'Mes'\u001b[0m\u001b[1;33m,\u001b[0m\u001b[1;34m'Propietario'\u001b[0m\u001b[1;33m,\u001b[0m\u001b[1;34m'Indicadores'\u001b[0m\u001b[1;33m]\u001b[0m\u001b[1;33m)\u001b[0m\u001b[1;33m.\u001b[0m\u001b[0mValor\u001b[0m\u001b[1;33m.\u001b[0m\u001b[0msum\u001b[0m\u001b[1;33m(\u001b[0m\u001b[1;33m)\u001b[0m\u001b[1;33m.\u001b[0m\u001b[0munstack\u001b[0m\u001b[1;33m(\u001b[0m\u001b[0mlevel\u001b[0m\u001b[1;33m=\u001b[0m\u001b[1;33m-\u001b[0m\u001b[1;36m1\u001b[0m\u001b[1;33m)\u001b[0m\u001b[1;33m.\u001b[0m\u001b[0mfillna\u001b[0m\u001b[1;33m(\u001b[0m\u001b[1;36m0\u001b[0m\u001b[1;33m)\u001b[0m\u001b[1;33m\u001b[0m\u001b[1;33m\u001b[0m\u001b[0m\n\u001b[0;32m     56\u001b[0m \u001b[1;33m\u001b[0m\u001b[0m\n\u001b[1;32m---> 57\u001b[1;33m \u001b[0mdf3_propia\u001b[0m \u001b[1;33m=\u001b[0m \u001b[0mdf3\u001b[0m\u001b[1;33m.\u001b[0m\u001b[0mloc\u001b[0m\u001b[1;33m[\u001b[0m\u001b[0midx\u001b[0m\u001b[1;33m[\u001b[0m\u001b[1;33m:\u001b[0m\u001b[1;33m,\u001b[0m\u001b[1;33m:\u001b[0m\u001b[1;33m,\u001b[0m\u001b[1;34m'Materia Prima Propia'\u001b[0m\u001b[1;33m]\u001b[0m\u001b[1;33m,\u001b[0m\u001b[1;33m:\u001b[0m\u001b[1;33m]\u001b[0m\u001b[1;33m\u001b[0m\u001b[1;33m\u001b[0m\u001b[0m\n\u001b[0m\u001b[0;32m     58\u001b[0m \u001b[0muxk_propia\u001b[0m \u001b[1;33m=\u001b[0m \u001b[1;33m(\u001b[0m\u001b[0mdf3_propia\u001b[0m\u001b[1;33m[\u001b[0m\u001b[1;34m'Ingreso Materia Prima Neta'\u001b[0m\u001b[1;33m]\u001b[0m\u001b[1;33m*\u001b[0m\u001b[0mdf3_propia\u001b[0m\u001b[1;33m[\u001b[0m\u001b[1;34m'Unidades por kilo'\u001b[0m\u001b[1;33m]\u001b[0m\u001b[1;33m)\u001b[0m\u001b[1;33m.\u001b[0m\u001b[0msum\u001b[0m\u001b[1;33m(\u001b[0m\u001b[1;33m)\u001b[0m\u001b[1;33m/\u001b[0m\u001b[0mdf3_propia\u001b[0m\u001b[1;33m[\u001b[0m\u001b[1;34m'Ingreso Materia Prima Neta'\u001b[0m\u001b[1;33m]\u001b[0m\u001b[1;33m.\u001b[0m\u001b[0msum\u001b[0m\u001b[1;33m(\u001b[0m\u001b[1;33m)\u001b[0m\u001b[1;33m\u001b[0m\u001b[1;33m\u001b[0m\u001b[0m\n\u001b[0;32m     59\u001b[0m \u001b[1;33m\u001b[0m\u001b[0m\n",
      "\u001b[1;31mNameError\u001b[0m: name 'idx' is not defined"
     ]
    }
   ],
   "source": [
    "Empresa = 'Sudmaris'\n",
    "mes = 9\n",
    "\n",
    "# Nuevas columnas\n",
    "df = ingresos_mmpp[(ingresos_mmpp.Empresa != empresa) & (ingresos_mmpp.Mes == mes)].copy()\n",
    "df['Indicadores'] = [dict_indicadores_2[df.Indicador.iloc[i]] for i in range(len(df.Indicador))]\n",
    "df['Propietario'] = [dict_propiedad[df.Indicador.iloc[i]] for i in range(len(df.Indicador))]\n",
    "\n",
    "# Añadir nuevas columnas para el total\n",
    "new_df = pd.DataFrame(columns = df.columns)\n",
    "\n",
    "for e in df.Empresa.unique():\n",
    "    for m in df.Mes.unique():\n",
    "        new_row = {\n",
    "            'Indicador':'Ingreso Materia Prima Bruta', \n",
    "            'Valor': df[(df.Empresa == e) & (df.Mes == m) & (df.Tipo == 'MP Bruta')].Valor.sum(),\n",
    "            'Unidad de medida':'Ton', \n",
    "            'Definición':'', \n",
    "            'Mes':m, \n",
    "            'Año':2021,\n",
    "            'Empresa':e,\n",
    "            'Tipo':'MP Bruta', \n",
    "            'Propiedad':'', \n",
    "            'Indicadores':'Ingreso Materia Prima Bruta', \n",
    "            'Propietario':'Total Materia Prima'\n",
    "        }\n",
    "        new_df = new_df.append(new_row, ignore_index = True)\n",
    "        \n",
    "        new_row = {\n",
    "            'Indicador':'Ingreso Materia Prima Neta', \n",
    "            'Valor': df[(df.Empresa == e) & (df.Mes == m) & (df.Tipo == 'MP Neta')].Valor.sum(),\n",
    "            'Unidad de medida':'Ton', \n",
    "            'Definición':'', \n",
    "            'Mes':m, \n",
    "            'Año':2021,\n",
    "            'Empresa':e,\n",
    "            'Tipo':'MP Bruta', \n",
    "            'Propiedad':'', \n",
    "            'Indicadores':'Ingreso Materia Prima Neta', \n",
    "            'Propietario':'Total Materia Prima'\n",
    "        }\n",
    "        new_df = new_df.append(new_row, ignore_index = True)\n",
    "        \n",
    "df = df.append(new_df, ignore_index=True)\n",
    "df = df.groupby(['Propietario','Indicadores']).Valor.agg(['sum', np.mean], axis='columns')\n",
    "df = df.round(2)\n",
    "df.columns = ['Total', 'Promedio']\n",
    "\n",
    "# Promedio ponderado unidades por kilo\n",
    "df2 = ingresos_mmpp[(ingresos_mmpp.Empresa != empresa) & (ingresos_mmpp.Mes == mes)].copy()\n",
    "df2['Indicadores'] = [dict_indicadores_2[df2.Indicador.iloc[i]] for i in range(len(df2.Indicador))]\n",
    "df2['Propietario'] = [dict_propiedad[df2.Indicador.iloc[i]] for i in range(len(df2.Indicador))]\n",
    "filtro = (df2.Indicadores == 'Ingreso Materia Prima Neta') | (df2.Indicadores=='Unidades por kilo')\n",
    "\n",
    "df3 = df2[filtro].groupby(['Empresa','Mes','Propietario','Indicadores']).Valor.sum().unstack(level=-1).fillna(0)\n",
    "\n",
    "df3_propia = df3.loc[idx[:,:,'Materia Prima Propia'],:]\n",
    "uxk_propia = (df3_propia['Ingreso Materia Prima Neta']*df3_propia['Unidades por kilo']).sum()/df3_propia['Ingreso Materia Prima Neta'].sum()\n",
    "\n",
    "\n",
    "df3_terceros = df3.loc[idx[:,:,'Materia Prima Terceros'],:]\n",
    "uxk_terceros = (df3_terceros['Ingreso Materia Prima Neta']*df3_terceros['Unidades por kilo']).sum()/df3_terceros['Ingreso Materia Prima Neta'].sum()\n",
    "\n",
    "\n",
    "#Cambios en Unidades por Kilo y %MP Bruta\n",
    "\n",
    "for i, j in df.index:\n",
    "    df.loc[(i,'% Rechazo mmpp'), 'Total'] = (df.loc[(i,'Ingreso Materia Prima Bruta'), 'Total']-df.loc[(i,'Ingreso Materia Prima Neta'), 'Total'])*100/df.loc[(i,'Ingreso Materia Prima Bruta'), 'Total']\n",
    "    if i != 'Total Materia Prima':\n",
    "        df.loc[(i,'% MP Bruta Propia sobre Total MP Bruta'),'Total'] = df.loc[(i,'Ingreso Materia Prima Bruta'), 'Total']/df.loc[('Total Materia Prima','Ingreso Materia Prima Bruta'),'Total']*100\n",
    "    if (i == 'Materia Prima Propia') & (j=='Unidades por kilo'):\n",
    "        # Promedio ponderado unidades por kilo\n",
    "        df2 = ingresos_mmpp.copy()\n",
    "        df2['Indicadores'] = [dict_indicadores_2[df2.Indicador.iloc[i]] for i in range(len(df2.Indicador))]\n",
    "        df2['Propietario'] = [dict_propiedad[df2.Indicador.iloc[i]] for i in range(len(df2.Indicador))]\n",
    "        filtro = (df2.Indicadores == 'Ingreso Materia Prima Neta') | (df2.Indicadores=='Unidades por kilo')\n",
    "        df3 = df2[filtro].groupby(['Empresa','Mes','Propietario','Indicadores']).Valor.sum().unstack(level=-1).fillna(0)\n",
    "        df3_propia = df3.loc[idx[:,:,'Materia Prima Propia'],:]\n",
    "        uxk_propia = (df3_propia['Ingreso Materia Prima Neta']*df3_propia['Unidades por kilo']).sum()/df3_propia['Ingreso Materia Prima Neta'].sum()\n",
    "        df.loc[(i,j),'Total'] = uxk_propia    \n",
    "        \n",
    "    if (i == 'Materia Prima Terceros') & (j=='Unidades por kilo'):\n",
    "        # Promedio ponderado unidades por kilo\n",
    "        df2 = ingresos_mmpp.copy()\n",
    "        df2['Indicadores'] = [dict_indicadores_2[df2.Indicador.iloc[i]] for i in range(len(df2.Indicador))]\n",
    "        df2['Propietario'] = [dict_propiedad[df2.Indicador.iloc[i]] for i in range(len(df2.Indicador))]\n",
    "        filtro = (df2.Indicadores == 'Ingreso Materia Prima Neta') | (df2.Indicadores=='Unidades por kilo')\n",
    "        df3 = df2[filtro].groupby(['Empresa','Mes','Propietario','Indicadores']).Valor.sum().unstack(level=-1).fillna(0)\n",
    "        df3_terceros = df3.loc[idx[:,:,'Materia Prima Terceros'],:]\n",
    "        uxk_terceros = (df3_terceros['Ingreso Materia Prima Neta']*df3_terceros['Unidades por kilo']).sum()/df3_terceros['Ingreso Materia Prima Neta'].sum()\n",
    "        df.loc[(i,j),'Total'] = uxk_terceros\n",
    "\n",
    "df.round(2).sort_index(ascending = [True, False])\n",
    "\n",
    "\n",
    "df = df.loc[[('Materia Prima Propia', 'Ingreso Materia Prima Bruta'),\n",
    " ('Materia Prima Propia', 'Ingreso Materia Prima Neta'),\n",
    " ('Materia Prima Propia', 'Unidades por kilo'),\n",
    " ('Materia Prima Propia', '% Rechazo mmpp'),\n",
    " ('Materia Prima Propia', '% MP Bruta Propia sobre Total MP Bruta'),\n",
    " ('Materia Prima Terceros', 'Ingreso Materia Prima Bruta'),\n",
    " ('Materia Prima Terceros', 'Ingreso Materia Prima Neta'),\n",
    " ('Materia Prima Terceros', 'Unidades por kilo'),\n",
    " ('Materia Prima Terceros', '% Rechazo mmpp'),\n",
    " ('Materia Prima Terceros', '% MP Bruta Propia sobre Total MP Bruta'),\n",
    " ('Total Materia Prima', 'Ingreso Materia Prima Bruta'),\n",
    " ('Total Materia Prima', 'Ingreso Materia Prima Neta'),\n",
    " ('Total Materia Prima', '% Rechazo mmpp'),\n",
    " ],:].fillna(\"\")\n",
    "\n",
    "df.round(2)"
   ]
  },
  {
   "cell_type": "markdown",
   "id": "38eddcd2",
   "metadata": {},
   "source": [
    "# Gráficos Total Materia Prima Bruta vs Neta"
   ]
  },
  {
   "cell_type": "code",
   "execution_count": 49,
   "id": "ce2dc37e",
   "metadata": {
    "scrolled": false
   },
   "outputs": [
    {
     "data": {
      "text/html": [
       "<div>\n",
       "<style scoped>\n",
       "    .dataframe tbody tr th:only-of-type {\n",
       "        vertical-align: middle;\n",
       "    }\n",
       "\n",
       "    .dataframe tbody tr th {\n",
       "        vertical-align: top;\n",
       "    }\n",
       "\n",
       "    .dataframe thead th {\n",
       "        text-align: right;\n",
       "    }\n",
       "</style>\n",
       "<table border=\"1\" class=\"dataframe\">\n",
       "  <thead>\n",
       "    <tr style=\"text-align: right;\">\n",
       "      <th></th>\n",
       "      <th>Empresa</th>\n",
       "      <th>Tipo</th>\n",
       "      <th>Mes</th>\n",
       "      <th>Valor</th>\n",
       "    </tr>\n",
       "  </thead>\n",
       "  <tbody>\n",
       "    <tr>\n",
       "      <th>0</th>\n",
       "      <td>SA Chonchi</td>\n",
       "      <td>MP Bruta</td>\n",
       "      <td>9</td>\n",
       "      <td>269.442</td>\n",
       "    </tr>\n",
       "    <tr>\n",
       "      <th>1</th>\n",
       "      <td>SA Chonchi</td>\n",
       "      <td>MP Neta</td>\n",
       "      <td>9</td>\n",
       "      <td>223.038</td>\n",
       "    </tr>\n",
       "    <tr>\n",
       "      <th>3</th>\n",
       "      <td>SA Chonchi</td>\n",
       "      <td>MP Bruta</td>\n",
       "      <td>9</td>\n",
       "      <td>362.001</td>\n",
       "    </tr>\n",
       "    <tr>\n",
       "      <th>4</th>\n",
       "      <td>SA Chonchi</td>\n",
       "      <td>MP Neta</td>\n",
       "      <td>9</td>\n",
       "      <td>302.073</td>\n",
       "    </tr>\n",
       "    <tr>\n",
       "      <th>6</th>\n",
       "      <td>SA Chonchi</td>\n",
       "      <td>MP Bruta</td>\n",
       "      <td>6</td>\n",
       "      <td>3099.771</td>\n",
       "    </tr>\n",
       "  </tbody>\n",
       "</table>\n",
       "</div>"
      ],
      "text/plain": [
       "      Empresa      Tipo  Mes     Valor\n",
       "0  SA Chonchi  MP Bruta    9   269.442\n",
       "1  SA Chonchi   MP Neta    9   223.038\n",
       "3  SA Chonchi  MP Bruta    9   362.001\n",
       "4  SA Chonchi   MP Neta    9   302.073\n",
       "6  SA Chonchi  MP Bruta    6  3099.771"
      ]
     },
     "execution_count": 49,
     "metadata": {},
     "output_type": "execute_result"
    }
   ],
   "source": [
    "import matplotlib.pyplot as plt\n",
    "import seaborn as sns\n",
    "import matplotlib.patches as mpatches\n",
    "\n",
    "datos = ingresos_mmpp[(ingresos_mmpp.Tipo== 'MP Bruta') | (ingresos_mmpp.Tipo== 'MP Neta')].copy()[['Empresa','Tipo','Mes','Valor']]\n",
    "datos.head()"
   ]
  },
  {
   "cell_type": "code",
   "execution_count": 50,
   "id": "a8d4333d",
   "metadata": {},
   "outputs": [
    {
     "data": {
      "application/vnd.plotly.v1+json": {
       "config": {
        "plotlyServerURL": "https://plot.ly"
       },
       "data": [
        {
         "alignmentgroup": "True",
         "hovertemplate": "Tipo=MP Bruta<br>Mes=%{x}<br>Ton=%{y}<extra></extra>",
         "legendgroup": "MP Bruta",
         "marker": {
          "color": "#00609C",
          "pattern": {
           "shape": ""
          }
         },
         "name": "MP Bruta",
         "offsetgroup": "MP Bruta",
         "orientation": "v",
         "showlegend": true,
         "textposition": "auto",
         "type": "bar",
         "x": [
          1,
          2,
          3,
          4,
          5,
          6,
          7,
          8,
          9
         ],
         "xaxis": "x",
         "y": [
          27533.374043478267,
          29132.173516793893,
          30578.4215,
          24346.268999999997,
          28871.138,
          27324.727500000005,
          23861.5385,
          16476.8052,
          3073.9045000000006
         ],
         "yaxis": "y"
        },
        {
         "alignmentgroup": "True",
         "hovertemplate": "Tipo=MP Neta<br>Mes=%{x}<br>Ton=%{y}<extra></extra>",
         "legendgroup": "MP Neta",
         "marker": {
          "color": "#F4D19F",
          "pattern": {
           "shape": ""
          }
         },
         "name": "MP Neta",
         "offsetgroup": "MP Neta",
         "orientation": "v",
         "showlegend": true,
         "textposition": "auto",
         "type": "bar",
         "x": [
          1,
          2,
          3,
          4,
          5,
          6,
          7,
          8,
          9
         ],
         "xaxis": "x",
         "y": [
          23700.14212775942,
          24352.82917282283,
          29017.413589791293,
          23553.91006065,
          28404.919876167107,
          26330.564699218266,
          23438.329889999997,
          13866.966804210526,
          2612.24146
         ],
         "yaxis": "y"
        }
       ],
       "layout": {
        "barmode": "relative",
        "height": 500,
        "legend": {
         "title": {
          "text": "Tipo"
         },
         "tracegroupgap": 0
        },
        "template": {
         "data": {
          "bar": [
           {
            "error_x": {
             "color": "rgb(36,36,36)"
            },
            "error_y": {
             "color": "rgb(36,36,36)"
            },
            "marker": {
             "line": {
              "color": "white",
              "width": 0.5
             },
             "pattern": {
              "fillmode": "overlay",
              "size": 10,
              "solidity": 0.2
             }
            },
            "type": "bar"
           }
          ],
          "barpolar": [
           {
            "marker": {
             "line": {
              "color": "white",
              "width": 0.5
             },
             "pattern": {
              "fillmode": "overlay",
              "size": 10,
              "solidity": 0.2
             }
            },
            "type": "barpolar"
           }
          ],
          "carpet": [
           {
            "aaxis": {
             "endlinecolor": "rgb(36,36,36)",
             "gridcolor": "white",
             "linecolor": "white",
             "minorgridcolor": "white",
             "startlinecolor": "rgb(36,36,36)"
            },
            "baxis": {
             "endlinecolor": "rgb(36,36,36)",
             "gridcolor": "white",
             "linecolor": "white",
             "minorgridcolor": "white",
             "startlinecolor": "rgb(36,36,36)"
            },
            "type": "carpet"
           }
          ],
          "choropleth": [
           {
            "colorbar": {
             "outlinewidth": 1,
             "tickcolor": "rgb(36,36,36)",
             "ticks": "outside"
            },
            "type": "choropleth"
           }
          ],
          "contour": [
           {
            "colorbar": {
             "outlinewidth": 1,
             "tickcolor": "rgb(36,36,36)",
             "ticks": "outside"
            },
            "colorscale": [
             [
              0,
              "#440154"
             ],
             [
              0.1111111111111111,
              "#482878"
             ],
             [
              0.2222222222222222,
              "#3e4989"
             ],
             [
              0.3333333333333333,
              "#31688e"
             ],
             [
              0.4444444444444444,
              "#26828e"
             ],
             [
              0.5555555555555556,
              "#1f9e89"
             ],
             [
              0.6666666666666666,
              "#35b779"
             ],
             [
              0.7777777777777778,
              "#6ece58"
             ],
             [
              0.8888888888888888,
              "#b5de2b"
             ],
             [
              1,
              "#fde725"
             ]
            ],
            "type": "contour"
           }
          ],
          "contourcarpet": [
           {
            "colorbar": {
             "outlinewidth": 1,
             "tickcolor": "rgb(36,36,36)",
             "ticks": "outside"
            },
            "type": "contourcarpet"
           }
          ],
          "heatmap": [
           {
            "colorbar": {
             "outlinewidth": 1,
             "tickcolor": "rgb(36,36,36)",
             "ticks": "outside"
            },
            "colorscale": [
             [
              0,
              "#440154"
             ],
             [
              0.1111111111111111,
              "#482878"
             ],
             [
              0.2222222222222222,
              "#3e4989"
             ],
             [
              0.3333333333333333,
              "#31688e"
             ],
             [
              0.4444444444444444,
              "#26828e"
             ],
             [
              0.5555555555555556,
              "#1f9e89"
             ],
             [
              0.6666666666666666,
              "#35b779"
             ],
             [
              0.7777777777777778,
              "#6ece58"
             ],
             [
              0.8888888888888888,
              "#b5de2b"
             ],
             [
              1,
              "#fde725"
             ]
            ],
            "type": "heatmap"
           }
          ],
          "heatmapgl": [
           {
            "colorbar": {
             "outlinewidth": 1,
             "tickcolor": "rgb(36,36,36)",
             "ticks": "outside"
            },
            "colorscale": [
             [
              0,
              "#440154"
             ],
             [
              0.1111111111111111,
              "#482878"
             ],
             [
              0.2222222222222222,
              "#3e4989"
             ],
             [
              0.3333333333333333,
              "#31688e"
             ],
             [
              0.4444444444444444,
              "#26828e"
             ],
             [
              0.5555555555555556,
              "#1f9e89"
             ],
             [
              0.6666666666666666,
              "#35b779"
             ],
             [
              0.7777777777777778,
              "#6ece58"
             ],
             [
              0.8888888888888888,
              "#b5de2b"
             ],
             [
              1,
              "#fde725"
             ]
            ],
            "type": "heatmapgl"
           }
          ],
          "histogram": [
           {
            "marker": {
             "line": {
              "color": "white",
              "width": 0.6
             }
            },
            "type": "histogram"
           }
          ],
          "histogram2d": [
           {
            "colorbar": {
             "outlinewidth": 1,
             "tickcolor": "rgb(36,36,36)",
             "ticks": "outside"
            },
            "colorscale": [
             [
              0,
              "#440154"
             ],
             [
              0.1111111111111111,
              "#482878"
             ],
             [
              0.2222222222222222,
              "#3e4989"
             ],
             [
              0.3333333333333333,
              "#31688e"
             ],
             [
              0.4444444444444444,
              "#26828e"
             ],
             [
              0.5555555555555556,
              "#1f9e89"
             ],
             [
              0.6666666666666666,
              "#35b779"
             ],
             [
              0.7777777777777778,
              "#6ece58"
             ],
             [
              0.8888888888888888,
              "#b5de2b"
             ],
             [
              1,
              "#fde725"
             ]
            ],
            "type": "histogram2d"
           }
          ],
          "histogram2dcontour": [
           {
            "colorbar": {
             "outlinewidth": 1,
             "tickcolor": "rgb(36,36,36)",
             "ticks": "outside"
            },
            "colorscale": [
             [
              0,
              "#440154"
             ],
             [
              0.1111111111111111,
              "#482878"
             ],
             [
              0.2222222222222222,
              "#3e4989"
             ],
             [
              0.3333333333333333,
              "#31688e"
             ],
             [
              0.4444444444444444,
              "#26828e"
             ],
             [
              0.5555555555555556,
              "#1f9e89"
             ],
             [
              0.6666666666666666,
              "#35b779"
             ],
             [
              0.7777777777777778,
              "#6ece58"
             ],
             [
              0.8888888888888888,
              "#b5de2b"
             ],
             [
              1,
              "#fde725"
             ]
            ],
            "type": "histogram2dcontour"
           }
          ],
          "mesh3d": [
           {
            "colorbar": {
             "outlinewidth": 1,
             "tickcolor": "rgb(36,36,36)",
             "ticks": "outside"
            },
            "type": "mesh3d"
           }
          ],
          "parcoords": [
           {
            "line": {
             "colorbar": {
              "outlinewidth": 1,
              "tickcolor": "rgb(36,36,36)",
              "ticks": "outside"
             }
            },
            "type": "parcoords"
           }
          ],
          "pie": [
           {
            "automargin": true,
            "type": "pie"
           }
          ],
          "scatter": [
           {
            "marker": {
             "colorbar": {
              "outlinewidth": 1,
              "tickcolor": "rgb(36,36,36)",
              "ticks": "outside"
             }
            },
            "type": "scatter"
           }
          ],
          "scatter3d": [
           {
            "line": {
             "colorbar": {
              "outlinewidth": 1,
              "tickcolor": "rgb(36,36,36)",
              "ticks": "outside"
             }
            },
            "marker": {
             "colorbar": {
              "outlinewidth": 1,
              "tickcolor": "rgb(36,36,36)",
              "ticks": "outside"
             }
            },
            "type": "scatter3d"
           }
          ],
          "scattercarpet": [
           {
            "marker": {
             "colorbar": {
              "outlinewidth": 1,
              "tickcolor": "rgb(36,36,36)",
              "ticks": "outside"
             }
            },
            "type": "scattercarpet"
           }
          ],
          "scattergeo": [
           {
            "marker": {
             "colorbar": {
              "outlinewidth": 1,
              "tickcolor": "rgb(36,36,36)",
              "ticks": "outside"
             }
            },
            "type": "scattergeo"
           }
          ],
          "scattergl": [
           {
            "marker": {
             "colorbar": {
              "outlinewidth": 1,
              "tickcolor": "rgb(36,36,36)",
              "ticks": "outside"
             }
            },
            "type": "scattergl"
           }
          ],
          "scattermapbox": [
           {
            "marker": {
             "colorbar": {
              "outlinewidth": 1,
              "tickcolor": "rgb(36,36,36)",
              "ticks": "outside"
             }
            },
            "type": "scattermapbox"
           }
          ],
          "scatterpolar": [
           {
            "marker": {
             "colorbar": {
              "outlinewidth": 1,
              "tickcolor": "rgb(36,36,36)",
              "ticks": "outside"
             }
            },
            "type": "scatterpolar"
           }
          ],
          "scatterpolargl": [
           {
            "marker": {
             "colorbar": {
              "outlinewidth": 1,
              "tickcolor": "rgb(36,36,36)",
              "ticks": "outside"
             }
            },
            "type": "scatterpolargl"
           }
          ],
          "scatterternary": [
           {
            "marker": {
             "colorbar": {
              "outlinewidth": 1,
              "tickcolor": "rgb(36,36,36)",
              "ticks": "outside"
             }
            },
            "type": "scatterternary"
           }
          ],
          "surface": [
           {
            "colorbar": {
             "outlinewidth": 1,
             "tickcolor": "rgb(36,36,36)",
             "ticks": "outside"
            },
            "colorscale": [
             [
              0,
              "#440154"
             ],
             [
              0.1111111111111111,
              "#482878"
             ],
             [
              0.2222222222222222,
              "#3e4989"
             ],
             [
              0.3333333333333333,
              "#31688e"
             ],
             [
              0.4444444444444444,
              "#26828e"
             ],
             [
              0.5555555555555556,
              "#1f9e89"
             ],
             [
              0.6666666666666666,
              "#35b779"
             ],
             [
              0.7777777777777778,
              "#6ece58"
             ],
             [
              0.8888888888888888,
              "#b5de2b"
             ],
             [
              1,
              "#fde725"
             ]
            ],
            "type": "surface"
           }
          ],
          "table": [
           {
            "cells": {
             "fill": {
              "color": "rgb(237,237,237)"
             },
             "line": {
              "color": "white"
             }
            },
            "header": {
             "fill": {
              "color": "rgb(217,217,217)"
             },
             "line": {
              "color": "white"
             }
            },
            "type": "table"
           }
          ]
         },
         "layout": {
          "annotationdefaults": {
           "arrowhead": 0,
           "arrowwidth": 1
          },
          "autotypenumbers": "strict",
          "coloraxis": {
           "colorbar": {
            "outlinewidth": 1,
            "tickcolor": "rgb(36,36,36)",
            "ticks": "outside"
           }
          },
          "colorscale": {
           "diverging": [
            [
             0,
             "rgb(103,0,31)"
            ],
            [
             0.1,
             "rgb(178,24,43)"
            ],
            [
             0.2,
             "rgb(214,96,77)"
            ],
            [
             0.3,
             "rgb(244,165,130)"
            ],
            [
             0.4,
             "rgb(253,219,199)"
            ],
            [
             0.5,
             "rgb(247,247,247)"
            ],
            [
             0.6,
             "rgb(209,229,240)"
            ],
            [
             0.7,
             "rgb(146,197,222)"
            ],
            [
             0.8,
             "rgb(67,147,195)"
            ],
            [
             0.9,
             "rgb(33,102,172)"
            ],
            [
             1,
             "rgb(5,48,97)"
            ]
           ],
           "sequential": [
            [
             0,
             "#440154"
            ],
            [
             0.1111111111111111,
             "#482878"
            ],
            [
             0.2222222222222222,
             "#3e4989"
            ],
            [
             0.3333333333333333,
             "#31688e"
            ],
            [
             0.4444444444444444,
             "#26828e"
            ],
            [
             0.5555555555555556,
             "#1f9e89"
            ],
            [
             0.6666666666666666,
             "#35b779"
            ],
            [
             0.7777777777777778,
             "#6ece58"
            ],
            [
             0.8888888888888888,
             "#b5de2b"
            ],
            [
             1,
             "#fde725"
            ]
           ],
           "sequentialminus": [
            [
             0,
             "#440154"
            ],
            [
             0.1111111111111111,
             "#482878"
            ],
            [
             0.2222222222222222,
             "#3e4989"
            ],
            [
             0.3333333333333333,
             "#31688e"
            ],
            [
             0.4444444444444444,
             "#26828e"
            ],
            [
             0.5555555555555556,
             "#1f9e89"
            ],
            [
             0.6666666666666666,
             "#35b779"
            ],
            [
             0.7777777777777778,
             "#6ece58"
            ],
            [
             0.8888888888888888,
             "#b5de2b"
            ],
            [
             1,
             "#fde725"
            ]
           ]
          },
          "colorway": [
           "#1F77B4",
           "#FF7F0E",
           "#2CA02C",
           "#D62728",
           "#9467BD",
           "#8C564B",
           "#E377C2",
           "#7F7F7F",
           "#BCBD22",
           "#17BECF"
          ],
          "font": {
           "color": "rgb(36,36,36)"
          },
          "geo": {
           "bgcolor": "white",
           "lakecolor": "white",
           "landcolor": "white",
           "showlakes": true,
           "showland": true,
           "subunitcolor": "white"
          },
          "hoverlabel": {
           "align": "left"
          },
          "hovermode": "closest",
          "mapbox": {
           "style": "light"
          },
          "paper_bgcolor": "white",
          "plot_bgcolor": "white",
          "polar": {
           "angularaxis": {
            "gridcolor": "rgb(232,232,232)",
            "linecolor": "rgb(36,36,36)",
            "showgrid": false,
            "showline": true,
            "ticks": "outside"
           },
           "bgcolor": "white",
           "radialaxis": {
            "gridcolor": "rgb(232,232,232)",
            "linecolor": "rgb(36,36,36)",
            "showgrid": false,
            "showline": true,
            "ticks": "outside"
           }
          },
          "scene": {
           "xaxis": {
            "backgroundcolor": "white",
            "gridcolor": "rgb(232,232,232)",
            "gridwidth": 2,
            "linecolor": "rgb(36,36,36)",
            "showbackground": true,
            "showgrid": false,
            "showline": true,
            "ticks": "outside",
            "zeroline": false,
            "zerolinecolor": "rgb(36,36,36)"
           },
           "yaxis": {
            "backgroundcolor": "white",
            "gridcolor": "rgb(232,232,232)",
            "gridwidth": 2,
            "linecolor": "rgb(36,36,36)",
            "showbackground": true,
            "showgrid": false,
            "showline": true,
            "ticks": "outside",
            "zeroline": false,
            "zerolinecolor": "rgb(36,36,36)"
           },
           "zaxis": {
            "backgroundcolor": "white",
            "gridcolor": "rgb(232,232,232)",
            "gridwidth": 2,
            "linecolor": "rgb(36,36,36)",
            "showbackground": true,
            "showgrid": false,
            "showline": true,
            "ticks": "outside",
            "zeroline": false,
            "zerolinecolor": "rgb(36,36,36)"
           }
          },
          "shapedefaults": {
           "fillcolor": "black",
           "line": {
            "width": 0
           },
           "opacity": 0.3
          },
          "ternary": {
           "aaxis": {
            "gridcolor": "rgb(232,232,232)",
            "linecolor": "rgb(36,36,36)",
            "showgrid": false,
            "showline": true,
            "ticks": "outside"
           },
           "baxis": {
            "gridcolor": "rgb(232,232,232)",
            "linecolor": "rgb(36,36,36)",
            "showgrid": false,
            "showline": true,
            "ticks": "outside"
           },
           "bgcolor": "white",
           "caxis": {
            "gridcolor": "rgb(232,232,232)",
            "linecolor": "rgb(36,36,36)",
            "showgrid": false,
            "showline": true,
            "ticks": "outside"
           }
          },
          "title": {
           "x": 0.05
          },
          "xaxis": {
           "automargin": true,
           "gridcolor": "rgb(232,232,232)",
           "linecolor": "rgb(36,36,36)",
           "showgrid": false,
           "showline": true,
           "ticks": "outside",
           "title": {
            "standoff": 15
           },
           "zeroline": false,
           "zerolinecolor": "rgb(36,36,36)"
          },
          "yaxis": {
           "automargin": true,
           "gridcolor": "rgb(232,232,232)",
           "linecolor": "rgb(36,36,36)",
           "showgrid": false,
           "showline": true,
           "ticks": "outside",
           "title": {
            "standoff": 15
           },
           "zeroline": false,
           "zerolinecolor": "rgb(36,36,36)"
          }
         }
        },
        "title": {
         "text": "Total Materia Prima Bruta vs Neta"
        },
        "width": 700,
        "xaxis": {
         "anchor": "y",
         "domain": [
          0,
          1
         ],
         "title": {
          "text": "Mes"
         }
        },
        "yaxis": {
         "anchor": "x",
         "domain": [
          0,
          1
         ],
         "range": [
          0,
          60000
         ],
         "title": {
          "text": "Ton"
         }
        }
       }
      },
      "text/html": [
       "<div>                            <div id=\"08b7b339-c501-4844-a3b7-42980beb319e\" class=\"plotly-graph-div\" style=\"height:500px; width:700px;\"></div>            <script type=\"text/javascript\">                require([\"plotly\"], function(Plotly) {                    window.PLOTLYENV=window.PLOTLYENV || {};                                    if (document.getElementById(\"08b7b339-c501-4844-a3b7-42980beb319e\")) {                    Plotly.newPlot(                        \"08b7b339-c501-4844-a3b7-42980beb319e\",                        [{\"alignmentgroup\":\"True\",\"hovertemplate\":\"Tipo=MP Bruta<br>Mes=%{x}<br>Ton=%{y}<extra></extra>\",\"legendgroup\":\"MP Bruta\",\"marker\":{\"color\":\"#00609C\",\"pattern\":{\"shape\":\"\"}},\"name\":\"MP Bruta\",\"offsetgroup\":\"MP Bruta\",\"orientation\":\"v\",\"showlegend\":true,\"textposition\":\"auto\",\"type\":\"bar\",\"x\":[1,2,3,4,5,6,7,8,9],\"xaxis\":\"x\",\"y\":[27533.374043478267,29132.173516793893,30578.4215,24346.268999999997,28871.138,27324.727500000005,23861.5385,16476.8052,3073.9045000000006],\"yaxis\":\"y\"},{\"alignmentgroup\":\"True\",\"hovertemplate\":\"Tipo=MP Neta<br>Mes=%{x}<br>Ton=%{y}<extra></extra>\",\"legendgroup\":\"MP Neta\",\"marker\":{\"color\":\"#F4D19F\",\"pattern\":{\"shape\":\"\"}},\"name\":\"MP Neta\",\"offsetgroup\":\"MP Neta\",\"orientation\":\"v\",\"showlegend\":true,\"textposition\":\"auto\",\"type\":\"bar\",\"x\":[1,2,3,4,5,6,7,8,9],\"xaxis\":\"x\",\"y\":[23700.14212775942,24352.82917282283,29017.413589791293,23553.91006065,28404.919876167107,26330.564699218266,23438.329889999997,13866.966804210526,2612.24146],\"yaxis\":\"y\"}],                        {\"barmode\":\"relative\",\"height\":500,\"legend\":{\"title\":{\"text\":\"Tipo\"},\"tracegroupgap\":0},\"template\":{\"data\":{\"bar\":[{\"error_x\":{\"color\":\"rgb(36,36,36)\"},\"error_y\":{\"color\":\"rgb(36,36,36)\"},\"marker\":{\"line\":{\"color\":\"white\",\"width\":0.5},\"pattern\":{\"fillmode\":\"overlay\",\"size\":10,\"solidity\":0.2}},\"type\":\"bar\"}],\"barpolar\":[{\"marker\":{\"line\":{\"color\":\"white\",\"width\":0.5},\"pattern\":{\"fillmode\":\"overlay\",\"size\":10,\"solidity\":0.2}},\"type\":\"barpolar\"}],\"carpet\":[{\"aaxis\":{\"endlinecolor\":\"rgb(36,36,36)\",\"gridcolor\":\"white\",\"linecolor\":\"white\",\"minorgridcolor\":\"white\",\"startlinecolor\":\"rgb(36,36,36)\"},\"baxis\":{\"endlinecolor\":\"rgb(36,36,36)\",\"gridcolor\":\"white\",\"linecolor\":\"white\",\"minorgridcolor\":\"white\",\"startlinecolor\":\"rgb(36,36,36)\"},\"type\":\"carpet\"}],\"choropleth\":[{\"colorbar\":{\"outlinewidth\":1,\"tickcolor\":\"rgb(36,36,36)\",\"ticks\":\"outside\"},\"type\":\"choropleth\"}],\"contour\":[{\"colorbar\":{\"outlinewidth\":1,\"tickcolor\":\"rgb(36,36,36)\",\"ticks\":\"outside\"},\"colorscale\":[[0.0,\"#440154\"],[0.1111111111111111,\"#482878\"],[0.2222222222222222,\"#3e4989\"],[0.3333333333333333,\"#31688e\"],[0.4444444444444444,\"#26828e\"],[0.5555555555555556,\"#1f9e89\"],[0.6666666666666666,\"#35b779\"],[0.7777777777777778,\"#6ece58\"],[0.8888888888888888,\"#b5de2b\"],[1.0,\"#fde725\"]],\"type\":\"contour\"}],\"contourcarpet\":[{\"colorbar\":{\"outlinewidth\":1,\"tickcolor\":\"rgb(36,36,36)\",\"ticks\":\"outside\"},\"type\":\"contourcarpet\"}],\"heatmap\":[{\"colorbar\":{\"outlinewidth\":1,\"tickcolor\":\"rgb(36,36,36)\",\"ticks\":\"outside\"},\"colorscale\":[[0.0,\"#440154\"],[0.1111111111111111,\"#482878\"],[0.2222222222222222,\"#3e4989\"],[0.3333333333333333,\"#31688e\"],[0.4444444444444444,\"#26828e\"],[0.5555555555555556,\"#1f9e89\"],[0.6666666666666666,\"#35b779\"],[0.7777777777777778,\"#6ece58\"],[0.8888888888888888,\"#b5de2b\"],[1.0,\"#fde725\"]],\"type\":\"heatmap\"}],\"heatmapgl\":[{\"colorbar\":{\"outlinewidth\":1,\"tickcolor\":\"rgb(36,36,36)\",\"ticks\":\"outside\"},\"colorscale\":[[0.0,\"#440154\"],[0.1111111111111111,\"#482878\"],[0.2222222222222222,\"#3e4989\"],[0.3333333333333333,\"#31688e\"],[0.4444444444444444,\"#26828e\"],[0.5555555555555556,\"#1f9e89\"],[0.6666666666666666,\"#35b779\"],[0.7777777777777778,\"#6ece58\"],[0.8888888888888888,\"#b5de2b\"],[1.0,\"#fde725\"]],\"type\":\"heatmapgl\"}],\"histogram\":[{\"marker\":{\"line\":{\"color\":\"white\",\"width\":0.6}},\"type\":\"histogram\"}],\"histogram2d\":[{\"colorbar\":{\"outlinewidth\":1,\"tickcolor\":\"rgb(36,36,36)\",\"ticks\":\"outside\"},\"colorscale\":[[0.0,\"#440154\"],[0.1111111111111111,\"#482878\"],[0.2222222222222222,\"#3e4989\"],[0.3333333333333333,\"#31688e\"],[0.4444444444444444,\"#26828e\"],[0.5555555555555556,\"#1f9e89\"],[0.6666666666666666,\"#35b779\"],[0.7777777777777778,\"#6ece58\"],[0.8888888888888888,\"#b5de2b\"],[1.0,\"#fde725\"]],\"type\":\"histogram2d\"}],\"histogram2dcontour\":[{\"colorbar\":{\"outlinewidth\":1,\"tickcolor\":\"rgb(36,36,36)\",\"ticks\":\"outside\"},\"colorscale\":[[0.0,\"#440154\"],[0.1111111111111111,\"#482878\"],[0.2222222222222222,\"#3e4989\"],[0.3333333333333333,\"#31688e\"],[0.4444444444444444,\"#26828e\"],[0.5555555555555556,\"#1f9e89\"],[0.6666666666666666,\"#35b779\"],[0.7777777777777778,\"#6ece58\"],[0.8888888888888888,\"#b5de2b\"],[1.0,\"#fde725\"]],\"type\":\"histogram2dcontour\"}],\"mesh3d\":[{\"colorbar\":{\"outlinewidth\":1,\"tickcolor\":\"rgb(36,36,36)\",\"ticks\":\"outside\"},\"type\":\"mesh3d\"}],\"parcoords\":[{\"line\":{\"colorbar\":{\"outlinewidth\":1,\"tickcolor\":\"rgb(36,36,36)\",\"ticks\":\"outside\"}},\"type\":\"parcoords\"}],\"pie\":[{\"automargin\":true,\"type\":\"pie\"}],\"scatter\":[{\"marker\":{\"colorbar\":{\"outlinewidth\":1,\"tickcolor\":\"rgb(36,36,36)\",\"ticks\":\"outside\"}},\"type\":\"scatter\"}],\"scatter3d\":[{\"line\":{\"colorbar\":{\"outlinewidth\":1,\"tickcolor\":\"rgb(36,36,36)\",\"ticks\":\"outside\"}},\"marker\":{\"colorbar\":{\"outlinewidth\":1,\"tickcolor\":\"rgb(36,36,36)\",\"ticks\":\"outside\"}},\"type\":\"scatter3d\"}],\"scattercarpet\":[{\"marker\":{\"colorbar\":{\"outlinewidth\":1,\"tickcolor\":\"rgb(36,36,36)\",\"ticks\":\"outside\"}},\"type\":\"scattercarpet\"}],\"scattergeo\":[{\"marker\":{\"colorbar\":{\"outlinewidth\":1,\"tickcolor\":\"rgb(36,36,36)\",\"ticks\":\"outside\"}},\"type\":\"scattergeo\"}],\"scattergl\":[{\"marker\":{\"colorbar\":{\"outlinewidth\":1,\"tickcolor\":\"rgb(36,36,36)\",\"ticks\":\"outside\"}},\"type\":\"scattergl\"}],\"scattermapbox\":[{\"marker\":{\"colorbar\":{\"outlinewidth\":1,\"tickcolor\":\"rgb(36,36,36)\",\"ticks\":\"outside\"}},\"type\":\"scattermapbox\"}],\"scatterpolar\":[{\"marker\":{\"colorbar\":{\"outlinewidth\":1,\"tickcolor\":\"rgb(36,36,36)\",\"ticks\":\"outside\"}},\"type\":\"scatterpolar\"}],\"scatterpolargl\":[{\"marker\":{\"colorbar\":{\"outlinewidth\":1,\"tickcolor\":\"rgb(36,36,36)\",\"ticks\":\"outside\"}},\"type\":\"scatterpolargl\"}],\"scatterternary\":[{\"marker\":{\"colorbar\":{\"outlinewidth\":1,\"tickcolor\":\"rgb(36,36,36)\",\"ticks\":\"outside\"}},\"type\":\"scatterternary\"}],\"surface\":[{\"colorbar\":{\"outlinewidth\":1,\"tickcolor\":\"rgb(36,36,36)\",\"ticks\":\"outside\"},\"colorscale\":[[0.0,\"#440154\"],[0.1111111111111111,\"#482878\"],[0.2222222222222222,\"#3e4989\"],[0.3333333333333333,\"#31688e\"],[0.4444444444444444,\"#26828e\"],[0.5555555555555556,\"#1f9e89\"],[0.6666666666666666,\"#35b779\"],[0.7777777777777778,\"#6ece58\"],[0.8888888888888888,\"#b5de2b\"],[1.0,\"#fde725\"]],\"type\":\"surface\"}],\"table\":[{\"cells\":{\"fill\":{\"color\":\"rgb(237,237,237)\"},\"line\":{\"color\":\"white\"}},\"header\":{\"fill\":{\"color\":\"rgb(217,217,217)\"},\"line\":{\"color\":\"white\"}},\"type\":\"table\"}]},\"layout\":{\"annotationdefaults\":{\"arrowhead\":0,\"arrowwidth\":1},\"autotypenumbers\":\"strict\",\"coloraxis\":{\"colorbar\":{\"outlinewidth\":1,\"tickcolor\":\"rgb(36,36,36)\",\"ticks\":\"outside\"}},\"colorscale\":{\"diverging\":[[0.0,\"rgb(103,0,31)\"],[0.1,\"rgb(178,24,43)\"],[0.2,\"rgb(214,96,77)\"],[0.3,\"rgb(244,165,130)\"],[0.4,\"rgb(253,219,199)\"],[0.5,\"rgb(247,247,247)\"],[0.6,\"rgb(209,229,240)\"],[0.7,\"rgb(146,197,222)\"],[0.8,\"rgb(67,147,195)\"],[0.9,\"rgb(33,102,172)\"],[1.0,\"rgb(5,48,97)\"]],\"sequential\":[[0.0,\"#440154\"],[0.1111111111111111,\"#482878\"],[0.2222222222222222,\"#3e4989\"],[0.3333333333333333,\"#31688e\"],[0.4444444444444444,\"#26828e\"],[0.5555555555555556,\"#1f9e89\"],[0.6666666666666666,\"#35b779\"],[0.7777777777777778,\"#6ece58\"],[0.8888888888888888,\"#b5de2b\"],[1.0,\"#fde725\"]],\"sequentialminus\":[[0.0,\"#440154\"],[0.1111111111111111,\"#482878\"],[0.2222222222222222,\"#3e4989\"],[0.3333333333333333,\"#31688e\"],[0.4444444444444444,\"#26828e\"],[0.5555555555555556,\"#1f9e89\"],[0.6666666666666666,\"#35b779\"],[0.7777777777777778,\"#6ece58\"],[0.8888888888888888,\"#b5de2b\"],[1.0,\"#fde725\"]]},\"colorway\":[\"#1F77B4\",\"#FF7F0E\",\"#2CA02C\",\"#D62728\",\"#9467BD\",\"#8C564B\",\"#E377C2\",\"#7F7F7F\",\"#BCBD22\",\"#17BECF\"],\"font\":{\"color\":\"rgb(36,36,36)\"},\"geo\":{\"bgcolor\":\"white\",\"lakecolor\":\"white\",\"landcolor\":\"white\",\"showlakes\":true,\"showland\":true,\"subunitcolor\":\"white\"},\"hoverlabel\":{\"align\":\"left\"},\"hovermode\":\"closest\",\"mapbox\":{\"style\":\"light\"},\"paper_bgcolor\":\"white\",\"plot_bgcolor\":\"white\",\"polar\":{\"angularaxis\":{\"gridcolor\":\"rgb(232,232,232)\",\"linecolor\":\"rgb(36,36,36)\",\"showgrid\":false,\"showline\":true,\"ticks\":\"outside\"},\"bgcolor\":\"white\",\"radialaxis\":{\"gridcolor\":\"rgb(232,232,232)\",\"linecolor\":\"rgb(36,36,36)\",\"showgrid\":false,\"showline\":true,\"ticks\":\"outside\"}},\"scene\":{\"xaxis\":{\"backgroundcolor\":\"white\",\"gridcolor\":\"rgb(232,232,232)\",\"gridwidth\":2,\"linecolor\":\"rgb(36,36,36)\",\"showbackground\":true,\"showgrid\":false,\"showline\":true,\"ticks\":\"outside\",\"zeroline\":false,\"zerolinecolor\":\"rgb(36,36,36)\"},\"yaxis\":{\"backgroundcolor\":\"white\",\"gridcolor\":\"rgb(232,232,232)\",\"gridwidth\":2,\"linecolor\":\"rgb(36,36,36)\",\"showbackground\":true,\"showgrid\":false,\"showline\":true,\"ticks\":\"outside\",\"zeroline\":false,\"zerolinecolor\":\"rgb(36,36,36)\"},\"zaxis\":{\"backgroundcolor\":\"white\",\"gridcolor\":\"rgb(232,232,232)\",\"gridwidth\":2,\"linecolor\":\"rgb(36,36,36)\",\"showbackground\":true,\"showgrid\":false,\"showline\":true,\"ticks\":\"outside\",\"zeroline\":false,\"zerolinecolor\":\"rgb(36,36,36)\"}},\"shapedefaults\":{\"fillcolor\":\"black\",\"line\":{\"width\":0},\"opacity\":0.3},\"ternary\":{\"aaxis\":{\"gridcolor\":\"rgb(232,232,232)\",\"linecolor\":\"rgb(36,36,36)\",\"showgrid\":false,\"showline\":true,\"ticks\":\"outside\"},\"baxis\":{\"gridcolor\":\"rgb(232,232,232)\",\"linecolor\":\"rgb(36,36,36)\",\"showgrid\":false,\"showline\":true,\"ticks\":\"outside\"},\"bgcolor\":\"white\",\"caxis\":{\"gridcolor\":\"rgb(232,232,232)\",\"linecolor\":\"rgb(36,36,36)\",\"showgrid\":false,\"showline\":true,\"ticks\":\"outside\"}},\"title\":{\"x\":0.05},\"xaxis\":{\"automargin\":true,\"gridcolor\":\"rgb(232,232,232)\",\"linecolor\":\"rgb(36,36,36)\",\"showgrid\":false,\"showline\":true,\"ticks\":\"outside\",\"title\":{\"standoff\":15},\"zeroline\":false,\"zerolinecolor\":\"rgb(36,36,36)\"},\"yaxis\":{\"automargin\":true,\"gridcolor\":\"rgb(232,232,232)\",\"linecolor\":\"rgb(36,36,36)\",\"showgrid\":false,\"showline\":true,\"ticks\":\"outside\",\"title\":{\"standoff\":15},\"zeroline\":false,\"zerolinecolor\":\"rgb(36,36,36)\"}}},\"title\":{\"text\":\"Total Materia Prima Bruta vs Neta\"},\"width\":700,\"xaxis\":{\"anchor\":\"y\",\"domain\":[0.0,1.0],\"title\":{\"text\":\"Mes\"}},\"yaxis\":{\"anchor\":\"x\",\"domain\":[0.0,1.0],\"range\":[0,60000],\"title\":{\"text\":\"Ton\"}}},                        {\"responsive\": true}                    ).then(function(){\n",
       "                            \n",
       "var gd = document.getElementById('08b7b339-c501-4844-a3b7-42980beb319e');\n",
       "var x = new MutationObserver(function (mutations, observer) {{\n",
       "        var display = window.getComputedStyle(gd).display;\n",
       "        if (!display || display === 'none') {{\n",
       "            console.log([gd, 'removed!']);\n",
       "            Plotly.purge(gd);\n",
       "            observer.disconnect();\n",
       "        }}\n",
       "}});\n",
       "\n",
       "// Listen for the removal of the full notebook cells\n",
       "var notebookContainer = gd.closest('#notebook-container');\n",
       "if (notebookContainer) {{\n",
       "    x.observe(notebookContainer, {childList: true});\n",
       "}}\n",
       "\n",
       "// Listen for the clearing of the current output cell\n",
       "var outputEl = gd.closest('.output');\n",
       "if (outputEl) {{\n",
       "    x.observe(outputEl, {childList: true});\n",
       "}}\n",
       "\n",
       "                        })                };                });            </script>        </div>"
      ]
     },
     "metadata": {},
     "output_type": "display_data"
    }
   ],
   "source": [
    "import plotly.express as px\n",
    "from plotly.subplots import make_subplots\n",
    "import plotly.graph_objects as go\n",
    "\n",
    "datos_w=pd.pivot_table(datos, index='Mes', columns='Tipo', values='Valor', aggfunc=np.sum)\n",
    "\n",
    "fig_industria = px.bar(datos_w, x=datos_w.index,\n",
    "            y=['MP Bruta','MP Neta'], title=\"Total Materia Prima Bruta vs Neta\",\n",
    "            labels={'Mes':'Mes','value':'Ton','variable':'Tipo'},\n",
    "            color_discrete_map={\"MP Bruta\": \"#00609C\", \"MP Neta\": \"#F4D19F\"},\n",
    "            template=\"simple_white\",\n",
    "            width=700, \n",
    "            height=500,\n",
    "            )\n",
    "\n",
    "fig_industria.update_layout(yaxis_range=[0,60000])\n",
    "\n",
    "fig_industria.show()"
   ]
  },
  {
   "cell_type": "code",
   "execution_count": 51,
   "id": "df4684f6",
   "metadata": {},
   "outputs": [
    {
     "data": {
      "application/vnd.plotly.v1+json": {
       "config": {
        "plotlyServerURL": "https://plot.ly"
       },
       "data": [
        {
         "alignmentgroup": "True",
         "hovertemplate": "Tipo=MP Bruta<br>Mes=%{x}<br>Ton=%{y}<extra></extra>",
         "legendgroup": "MP Bruta",
         "marker": {
          "color": "#C45130",
          "pattern": {
           "shape": ""
          }
         },
         "name": "MP Bruta",
         "offsetgroup": "MP Bruta",
         "orientation": "v",
         "showlegend": true,
         "textposition": "auto",
         "type": "bar",
         "x": [
          1,
          2,
          3,
          4,
          5,
          6,
          7,
          8,
          9
         ],
         "xaxis": "x",
         "y": [
          3373.4445,
          3948.82,
          4771.982,
          4383.9490000000005,
          4145.925,
          3971.777,
          4097.0535,
          4397.6435,
          532.1595
         ],
         "yaxis": "y"
        },
        {
         "alignmentgroup": "True",
         "hovertemplate": "Tipo=MP Neta<br>Mes=%{x}<br>Ton=%{y}<extra></extra>",
         "legendgroup": "MP Neta",
         "marker": {
          "color": "#FFAA61",
          "pattern": {
           "shape": ""
          }
         },
         "name": "MP Neta",
         "offsetgroup": "MP Neta",
         "orientation": "v",
         "showlegend": true,
         "textposition": "auto",
         "type": "bar",
         "x": [
          1,
          2,
          3,
          4,
          5,
          6,
          7,
          8,
          9
         ],
         "xaxis": "x",
         "y": [
          2738.819905000001,
          3068.1221230000006,
          3724.775,
          3603.587560649999,
          3313.39233,
          3245.954756,
          2922.5503900000003,
          3763.79048,
          463.9514600000001
         ],
         "yaxis": "y"
        }
       ],
       "layout": {
        "barmode": "relative",
        "height": 500,
        "legend": {
         "title": {
          "text": "Tipo"
         },
         "tracegroupgap": 0
        },
        "template": {
         "data": {
          "bar": [
           {
            "error_x": {
             "color": "rgb(36,36,36)"
            },
            "error_y": {
             "color": "rgb(36,36,36)"
            },
            "marker": {
             "line": {
              "color": "white",
              "width": 0.5
             },
             "pattern": {
              "fillmode": "overlay",
              "size": 10,
              "solidity": 0.2
             }
            },
            "type": "bar"
           }
          ],
          "barpolar": [
           {
            "marker": {
             "line": {
              "color": "white",
              "width": 0.5
             },
             "pattern": {
              "fillmode": "overlay",
              "size": 10,
              "solidity": 0.2
             }
            },
            "type": "barpolar"
           }
          ],
          "carpet": [
           {
            "aaxis": {
             "endlinecolor": "rgb(36,36,36)",
             "gridcolor": "white",
             "linecolor": "white",
             "minorgridcolor": "white",
             "startlinecolor": "rgb(36,36,36)"
            },
            "baxis": {
             "endlinecolor": "rgb(36,36,36)",
             "gridcolor": "white",
             "linecolor": "white",
             "minorgridcolor": "white",
             "startlinecolor": "rgb(36,36,36)"
            },
            "type": "carpet"
           }
          ],
          "choropleth": [
           {
            "colorbar": {
             "outlinewidth": 1,
             "tickcolor": "rgb(36,36,36)",
             "ticks": "outside"
            },
            "type": "choropleth"
           }
          ],
          "contour": [
           {
            "colorbar": {
             "outlinewidth": 1,
             "tickcolor": "rgb(36,36,36)",
             "ticks": "outside"
            },
            "colorscale": [
             [
              0,
              "#440154"
             ],
             [
              0.1111111111111111,
              "#482878"
             ],
             [
              0.2222222222222222,
              "#3e4989"
             ],
             [
              0.3333333333333333,
              "#31688e"
             ],
             [
              0.4444444444444444,
              "#26828e"
             ],
             [
              0.5555555555555556,
              "#1f9e89"
             ],
             [
              0.6666666666666666,
              "#35b779"
             ],
             [
              0.7777777777777778,
              "#6ece58"
             ],
             [
              0.8888888888888888,
              "#b5de2b"
             ],
             [
              1,
              "#fde725"
             ]
            ],
            "type": "contour"
           }
          ],
          "contourcarpet": [
           {
            "colorbar": {
             "outlinewidth": 1,
             "tickcolor": "rgb(36,36,36)",
             "ticks": "outside"
            },
            "type": "contourcarpet"
           }
          ],
          "heatmap": [
           {
            "colorbar": {
             "outlinewidth": 1,
             "tickcolor": "rgb(36,36,36)",
             "ticks": "outside"
            },
            "colorscale": [
             [
              0,
              "#440154"
             ],
             [
              0.1111111111111111,
              "#482878"
             ],
             [
              0.2222222222222222,
              "#3e4989"
             ],
             [
              0.3333333333333333,
              "#31688e"
             ],
             [
              0.4444444444444444,
              "#26828e"
             ],
             [
              0.5555555555555556,
              "#1f9e89"
             ],
             [
              0.6666666666666666,
              "#35b779"
             ],
             [
              0.7777777777777778,
              "#6ece58"
             ],
             [
              0.8888888888888888,
              "#b5de2b"
             ],
             [
              1,
              "#fde725"
             ]
            ],
            "type": "heatmap"
           }
          ],
          "heatmapgl": [
           {
            "colorbar": {
             "outlinewidth": 1,
             "tickcolor": "rgb(36,36,36)",
             "ticks": "outside"
            },
            "colorscale": [
             [
              0,
              "#440154"
             ],
             [
              0.1111111111111111,
              "#482878"
             ],
             [
              0.2222222222222222,
              "#3e4989"
             ],
             [
              0.3333333333333333,
              "#31688e"
             ],
             [
              0.4444444444444444,
              "#26828e"
             ],
             [
              0.5555555555555556,
              "#1f9e89"
             ],
             [
              0.6666666666666666,
              "#35b779"
             ],
             [
              0.7777777777777778,
              "#6ece58"
             ],
             [
              0.8888888888888888,
              "#b5de2b"
             ],
             [
              1,
              "#fde725"
             ]
            ],
            "type": "heatmapgl"
           }
          ],
          "histogram": [
           {
            "marker": {
             "line": {
              "color": "white",
              "width": 0.6
             }
            },
            "type": "histogram"
           }
          ],
          "histogram2d": [
           {
            "colorbar": {
             "outlinewidth": 1,
             "tickcolor": "rgb(36,36,36)",
             "ticks": "outside"
            },
            "colorscale": [
             [
              0,
              "#440154"
             ],
             [
              0.1111111111111111,
              "#482878"
             ],
             [
              0.2222222222222222,
              "#3e4989"
             ],
             [
              0.3333333333333333,
              "#31688e"
             ],
             [
              0.4444444444444444,
              "#26828e"
             ],
             [
              0.5555555555555556,
              "#1f9e89"
             ],
             [
              0.6666666666666666,
              "#35b779"
             ],
             [
              0.7777777777777778,
              "#6ece58"
             ],
             [
              0.8888888888888888,
              "#b5de2b"
             ],
             [
              1,
              "#fde725"
             ]
            ],
            "type": "histogram2d"
           }
          ],
          "histogram2dcontour": [
           {
            "colorbar": {
             "outlinewidth": 1,
             "tickcolor": "rgb(36,36,36)",
             "ticks": "outside"
            },
            "colorscale": [
             [
              0,
              "#440154"
             ],
             [
              0.1111111111111111,
              "#482878"
             ],
             [
              0.2222222222222222,
              "#3e4989"
             ],
             [
              0.3333333333333333,
              "#31688e"
             ],
             [
              0.4444444444444444,
              "#26828e"
             ],
             [
              0.5555555555555556,
              "#1f9e89"
             ],
             [
              0.6666666666666666,
              "#35b779"
             ],
             [
              0.7777777777777778,
              "#6ece58"
             ],
             [
              0.8888888888888888,
              "#b5de2b"
             ],
             [
              1,
              "#fde725"
             ]
            ],
            "type": "histogram2dcontour"
           }
          ],
          "mesh3d": [
           {
            "colorbar": {
             "outlinewidth": 1,
             "tickcolor": "rgb(36,36,36)",
             "ticks": "outside"
            },
            "type": "mesh3d"
           }
          ],
          "parcoords": [
           {
            "line": {
             "colorbar": {
              "outlinewidth": 1,
              "tickcolor": "rgb(36,36,36)",
              "ticks": "outside"
             }
            },
            "type": "parcoords"
           }
          ],
          "pie": [
           {
            "automargin": true,
            "type": "pie"
           }
          ],
          "scatter": [
           {
            "marker": {
             "colorbar": {
              "outlinewidth": 1,
              "tickcolor": "rgb(36,36,36)",
              "ticks": "outside"
             }
            },
            "type": "scatter"
           }
          ],
          "scatter3d": [
           {
            "line": {
             "colorbar": {
              "outlinewidth": 1,
              "tickcolor": "rgb(36,36,36)",
              "ticks": "outside"
             }
            },
            "marker": {
             "colorbar": {
              "outlinewidth": 1,
              "tickcolor": "rgb(36,36,36)",
              "ticks": "outside"
             }
            },
            "type": "scatter3d"
           }
          ],
          "scattercarpet": [
           {
            "marker": {
             "colorbar": {
              "outlinewidth": 1,
              "tickcolor": "rgb(36,36,36)",
              "ticks": "outside"
             }
            },
            "type": "scattercarpet"
           }
          ],
          "scattergeo": [
           {
            "marker": {
             "colorbar": {
              "outlinewidth": 1,
              "tickcolor": "rgb(36,36,36)",
              "ticks": "outside"
             }
            },
            "type": "scattergeo"
           }
          ],
          "scattergl": [
           {
            "marker": {
             "colorbar": {
              "outlinewidth": 1,
              "tickcolor": "rgb(36,36,36)",
              "ticks": "outside"
             }
            },
            "type": "scattergl"
           }
          ],
          "scattermapbox": [
           {
            "marker": {
             "colorbar": {
              "outlinewidth": 1,
              "tickcolor": "rgb(36,36,36)",
              "ticks": "outside"
             }
            },
            "type": "scattermapbox"
           }
          ],
          "scatterpolar": [
           {
            "marker": {
             "colorbar": {
              "outlinewidth": 1,
              "tickcolor": "rgb(36,36,36)",
              "ticks": "outside"
             }
            },
            "type": "scatterpolar"
           }
          ],
          "scatterpolargl": [
           {
            "marker": {
             "colorbar": {
              "outlinewidth": 1,
              "tickcolor": "rgb(36,36,36)",
              "ticks": "outside"
             }
            },
            "type": "scatterpolargl"
           }
          ],
          "scatterternary": [
           {
            "marker": {
             "colorbar": {
              "outlinewidth": 1,
              "tickcolor": "rgb(36,36,36)",
              "ticks": "outside"
             }
            },
            "type": "scatterternary"
           }
          ],
          "surface": [
           {
            "colorbar": {
             "outlinewidth": 1,
             "tickcolor": "rgb(36,36,36)",
             "ticks": "outside"
            },
            "colorscale": [
             [
              0,
              "#440154"
             ],
             [
              0.1111111111111111,
              "#482878"
             ],
             [
              0.2222222222222222,
              "#3e4989"
             ],
             [
              0.3333333333333333,
              "#31688e"
             ],
             [
              0.4444444444444444,
              "#26828e"
             ],
             [
              0.5555555555555556,
              "#1f9e89"
             ],
             [
              0.6666666666666666,
              "#35b779"
             ],
             [
              0.7777777777777778,
              "#6ece58"
             ],
             [
              0.8888888888888888,
              "#b5de2b"
             ],
             [
              1,
              "#fde725"
             ]
            ],
            "type": "surface"
           }
          ],
          "table": [
           {
            "cells": {
             "fill": {
              "color": "rgb(237,237,237)"
             },
             "line": {
              "color": "white"
             }
            },
            "header": {
             "fill": {
              "color": "rgb(217,217,217)"
             },
             "line": {
              "color": "white"
             }
            },
            "type": "table"
           }
          ]
         },
         "layout": {
          "annotationdefaults": {
           "arrowhead": 0,
           "arrowwidth": 1
          },
          "autotypenumbers": "strict",
          "coloraxis": {
           "colorbar": {
            "outlinewidth": 1,
            "tickcolor": "rgb(36,36,36)",
            "ticks": "outside"
           }
          },
          "colorscale": {
           "diverging": [
            [
             0,
             "rgb(103,0,31)"
            ],
            [
             0.1,
             "rgb(178,24,43)"
            ],
            [
             0.2,
             "rgb(214,96,77)"
            ],
            [
             0.3,
             "rgb(244,165,130)"
            ],
            [
             0.4,
             "rgb(253,219,199)"
            ],
            [
             0.5,
             "rgb(247,247,247)"
            ],
            [
             0.6,
             "rgb(209,229,240)"
            ],
            [
             0.7,
             "rgb(146,197,222)"
            ],
            [
             0.8,
             "rgb(67,147,195)"
            ],
            [
             0.9,
             "rgb(33,102,172)"
            ],
            [
             1,
             "rgb(5,48,97)"
            ]
           ],
           "sequential": [
            [
             0,
             "#440154"
            ],
            [
             0.1111111111111111,
             "#482878"
            ],
            [
             0.2222222222222222,
             "#3e4989"
            ],
            [
             0.3333333333333333,
             "#31688e"
            ],
            [
             0.4444444444444444,
             "#26828e"
            ],
            [
             0.5555555555555556,
             "#1f9e89"
            ],
            [
             0.6666666666666666,
             "#35b779"
            ],
            [
             0.7777777777777778,
             "#6ece58"
            ],
            [
             0.8888888888888888,
             "#b5de2b"
            ],
            [
             1,
             "#fde725"
            ]
           ],
           "sequentialminus": [
            [
             0,
             "#440154"
            ],
            [
             0.1111111111111111,
             "#482878"
            ],
            [
             0.2222222222222222,
             "#3e4989"
            ],
            [
             0.3333333333333333,
             "#31688e"
            ],
            [
             0.4444444444444444,
             "#26828e"
            ],
            [
             0.5555555555555556,
             "#1f9e89"
            ],
            [
             0.6666666666666666,
             "#35b779"
            ],
            [
             0.7777777777777778,
             "#6ece58"
            ],
            [
             0.8888888888888888,
             "#b5de2b"
            ],
            [
             1,
             "#fde725"
            ]
           ]
          },
          "colorway": [
           "#1F77B4",
           "#FF7F0E",
           "#2CA02C",
           "#D62728",
           "#9467BD",
           "#8C564B",
           "#E377C2",
           "#7F7F7F",
           "#BCBD22",
           "#17BECF"
          ],
          "font": {
           "color": "rgb(36,36,36)"
          },
          "geo": {
           "bgcolor": "white",
           "lakecolor": "white",
           "landcolor": "white",
           "showlakes": true,
           "showland": true,
           "subunitcolor": "white"
          },
          "hoverlabel": {
           "align": "left"
          },
          "hovermode": "closest",
          "mapbox": {
           "style": "light"
          },
          "paper_bgcolor": "white",
          "plot_bgcolor": "white",
          "polar": {
           "angularaxis": {
            "gridcolor": "rgb(232,232,232)",
            "linecolor": "rgb(36,36,36)",
            "showgrid": false,
            "showline": true,
            "ticks": "outside"
           },
           "bgcolor": "white",
           "radialaxis": {
            "gridcolor": "rgb(232,232,232)",
            "linecolor": "rgb(36,36,36)",
            "showgrid": false,
            "showline": true,
            "ticks": "outside"
           }
          },
          "scene": {
           "xaxis": {
            "backgroundcolor": "white",
            "gridcolor": "rgb(232,232,232)",
            "gridwidth": 2,
            "linecolor": "rgb(36,36,36)",
            "showbackground": true,
            "showgrid": false,
            "showline": true,
            "ticks": "outside",
            "zeroline": false,
            "zerolinecolor": "rgb(36,36,36)"
           },
           "yaxis": {
            "backgroundcolor": "white",
            "gridcolor": "rgb(232,232,232)",
            "gridwidth": 2,
            "linecolor": "rgb(36,36,36)",
            "showbackground": true,
            "showgrid": false,
            "showline": true,
            "ticks": "outside",
            "zeroline": false,
            "zerolinecolor": "rgb(36,36,36)"
           },
           "zaxis": {
            "backgroundcolor": "white",
            "gridcolor": "rgb(232,232,232)",
            "gridwidth": 2,
            "linecolor": "rgb(36,36,36)",
            "showbackground": true,
            "showgrid": false,
            "showline": true,
            "ticks": "outside",
            "zeroline": false,
            "zerolinecolor": "rgb(36,36,36)"
           }
          },
          "shapedefaults": {
           "fillcolor": "black",
           "line": {
            "width": 0
           },
           "opacity": 0.3
          },
          "ternary": {
           "aaxis": {
            "gridcolor": "rgb(232,232,232)",
            "linecolor": "rgb(36,36,36)",
            "showgrid": false,
            "showline": true,
            "ticks": "outside"
           },
           "baxis": {
            "gridcolor": "rgb(232,232,232)",
            "linecolor": "rgb(36,36,36)",
            "showgrid": false,
            "showline": true,
            "ticks": "outside"
           },
           "bgcolor": "white",
           "caxis": {
            "gridcolor": "rgb(232,232,232)",
            "linecolor": "rgb(36,36,36)",
            "showgrid": false,
            "showline": true,
            "ticks": "outside"
           }
          },
          "title": {
           "x": 0.05
          },
          "xaxis": {
           "automargin": true,
           "gridcolor": "rgb(232,232,232)",
           "linecolor": "rgb(36,36,36)",
           "showgrid": false,
           "showline": true,
           "ticks": "outside",
           "title": {
            "standoff": 15
           },
           "zeroline": false,
           "zerolinecolor": "rgb(36,36,36)"
          },
          "yaxis": {
           "automargin": true,
           "gridcolor": "rgb(232,232,232)",
           "linecolor": "rgb(36,36,36)",
           "showgrid": false,
           "showline": true,
           "ticks": "outside",
           "title": {
            "standoff": 15
           },
           "zeroline": false,
           "zerolinecolor": "rgb(36,36,36)"
          }
         }
        },
        "title": {
         "text": "Total Materia Prima Bruta vs Neta Sudmaris"
        },
        "width": 700,
        "xaxis": {
         "anchor": "y",
         "domain": [
          0,
          1
         ],
         "title": {
          "text": "Mes"
         }
        },
        "yaxis": {
         "anchor": "x",
         "domain": [
          0,
          1
         ],
         "title": {
          "text": "Ton"
         }
        }
       }
      },
      "text/html": [
       "<div>                            <div id=\"cbfe73de-f317-419a-a00f-859a77404ef0\" class=\"plotly-graph-div\" style=\"height:500px; width:700px;\"></div>            <script type=\"text/javascript\">                require([\"plotly\"], function(Plotly) {                    window.PLOTLYENV=window.PLOTLYENV || {};                                    if (document.getElementById(\"cbfe73de-f317-419a-a00f-859a77404ef0\")) {                    Plotly.newPlot(                        \"cbfe73de-f317-419a-a00f-859a77404ef0\",                        [{\"alignmentgroup\":\"True\",\"hovertemplate\":\"Tipo=MP Bruta<br>Mes=%{x}<br>Ton=%{y}<extra></extra>\",\"legendgroup\":\"MP Bruta\",\"marker\":{\"color\":\"#C45130\",\"pattern\":{\"shape\":\"\"}},\"name\":\"MP Bruta\",\"offsetgroup\":\"MP Bruta\",\"orientation\":\"v\",\"showlegend\":true,\"textposition\":\"auto\",\"type\":\"bar\",\"x\":[1,2,3,4,5,6,7,8,9],\"xaxis\":\"x\",\"y\":[3373.4445,3948.82,4771.982,4383.9490000000005,4145.925,3971.777,4097.0535,4397.6435,532.1595],\"yaxis\":\"y\"},{\"alignmentgroup\":\"True\",\"hovertemplate\":\"Tipo=MP Neta<br>Mes=%{x}<br>Ton=%{y}<extra></extra>\",\"legendgroup\":\"MP Neta\",\"marker\":{\"color\":\"#FFAA61\",\"pattern\":{\"shape\":\"\"}},\"name\":\"MP Neta\",\"offsetgroup\":\"MP Neta\",\"orientation\":\"v\",\"showlegend\":true,\"textposition\":\"auto\",\"type\":\"bar\",\"x\":[1,2,3,4,5,6,7,8,9],\"xaxis\":\"x\",\"y\":[2738.819905000001,3068.1221230000006,3724.775,3603.587560649999,3313.39233,3245.954756,2922.5503900000003,3763.79048,463.9514600000001],\"yaxis\":\"y\"}],                        {\"barmode\":\"relative\",\"height\":500,\"legend\":{\"title\":{\"text\":\"Tipo\"},\"tracegroupgap\":0},\"template\":{\"data\":{\"bar\":[{\"error_x\":{\"color\":\"rgb(36,36,36)\"},\"error_y\":{\"color\":\"rgb(36,36,36)\"},\"marker\":{\"line\":{\"color\":\"white\",\"width\":0.5},\"pattern\":{\"fillmode\":\"overlay\",\"size\":10,\"solidity\":0.2}},\"type\":\"bar\"}],\"barpolar\":[{\"marker\":{\"line\":{\"color\":\"white\",\"width\":0.5},\"pattern\":{\"fillmode\":\"overlay\",\"size\":10,\"solidity\":0.2}},\"type\":\"barpolar\"}],\"carpet\":[{\"aaxis\":{\"endlinecolor\":\"rgb(36,36,36)\",\"gridcolor\":\"white\",\"linecolor\":\"white\",\"minorgridcolor\":\"white\",\"startlinecolor\":\"rgb(36,36,36)\"},\"baxis\":{\"endlinecolor\":\"rgb(36,36,36)\",\"gridcolor\":\"white\",\"linecolor\":\"white\",\"minorgridcolor\":\"white\",\"startlinecolor\":\"rgb(36,36,36)\"},\"type\":\"carpet\"}],\"choropleth\":[{\"colorbar\":{\"outlinewidth\":1,\"tickcolor\":\"rgb(36,36,36)\",\"ticks\":\"outside\"},\"type\":\"choropleth\"}],\"contour\":[{\"colorbar\":{\"outlinewidth\":1,\"tickcolor\":\"rgb(36,36,36)\",\"ticks\":\"outside\"},\"colorscale\":[[0.0,\"#440154\"],[0.1111111111111111,\"#482878\"],[0.2222222222222222,\"#3e4989\"],[0.3333333333333333,\"#31688e\"],[0.4444444444444444,\"#26828e\"],[0.5555555555555556,\"#1f9e89\"],[0.6666666666666666,\"#35b779\"],[0.7777777777777778,\"#6ece58\"],[0.8888888888888888,\"#b5de2b\"],[1.0,\"#fde725\"]],\"type\":\"contour\"}],\"contourcarpet\":[{\"colorbar\":{\"outlinewidth\":1,\"tickcolor\":\"rgb(36,36,36)\",\"ticks\":\"outside\"},\"type\":\"contourcarpet\"}],\"heatmap\":[{\"colorbar\":{\"outlinewidth\":1,\"tickcolor\":\"rgb(36,36,36)\",\"ticks\":\"outside\"},\"colorscale\":[[0.0,\"#440154\"],[0.1111111111111111,\"#482878\"],[0.2222222222222222,\"#3e4989\"],[0.3333333333333333,\"#31688e\"],[0.4444444444444444,\"#26828e\"],[0.5555555555555556,\"#1f9e89\"],[0.6666666666666666,\"#35b779\"],[0.7777777777777778,\"#6ece58\"],[0.8888888888888888,\"#b5de2b\"],[1.0,\"#fde725\"]],\"type\":\"heatmap\"}],\"heatmapgl\":[{\"colorbar\":{\"outlinewidth\":1,\"tickcolor\":\"rgb(36,36,36)\",\"ticks\":\"outside\"},\"colorscale\":[[0.0,\"#440154\"],[0.1111111111111111,\"#482878\"],[0.2222222222222222,\"#3e4989\"],[0.3333333333333333,\"#31688e\"],[0.4444444444444444,\"#26828e\"],[0.5555555555555556,\"#1f9e89\"],[0.6666666666666666,\"#35b779\"],[0.7777777777777778,\"#6ece58\"],[0.8888888888888888,\"#b5de2b\"],[1.0,\"#fde725\"]],\"type\":\"heatmapgl\"}],\"histogram\":[{\"marker\":{\"line\":{\"color\":\"white\",\"width\":0.6}},\"type\":\"histogram\"}],\"histogram2d\":[{\"colorbar\":{\"outlinewidth\":1,\"tickcolor\":\"rgb(36,36,36)\",\"ticks\":\"outside\"},\"colorscale\":[[0.0,\"#440154\"],[0.1111111111111111,\"#482878\"],[0.2222222222222222,\"#3e4989\"],[0.3333333333333333,\"#31688e\"],[0.4444444444444444,\"#26828e\"],[0.5555555555555556,\"#1f9e89\"],[0.6666666666666666,\"#35b779\"],[0.7777777777777778,\"#6ece58\"],[0.8888888888888888,\"#b5de2b\"],[1.0,\"#fde725\"]],\"type\":\"histogram2d\"}],\"histogram2dcontour\":[{\"colorbar\":{\"outlinewidth\":1,\"tickcolor\":\"rgb(36,36,36)\",\"ticks\":\"outside\"},\"colorscale\":[[0.0,\"#440154\"],[0.1111111111111111,\"#482878\"],[0.2222222222222222,\"#3e4989\"],[0.3333333333333333,\"#31688e\"],[0.4444444444444444,\"#26828e\"],[0.5555555555555556,\"#1f9e89\"],[0.6666666666666666,\"#35b779\"],[0.7777777777777778,\"#6ece58\"],[0.8888888888888888,\"#b5de2b\"],[1.0,\"#fde725\"]],\"type\":\"histogram2dcontour\"}],\"mesh3d\":[{\"colorbar\":{\"outlinewidth\":1,\"tickcolor\":\"rgb(36,36,36)\",\"ticks\":\"outside\"},\"type\":\"mesh3d\"}],\"parcoords\":[{\"line\":{\"colorbar\":{\"outlinewidth\":1,\"tickcolor\":\"rgb(36,36,36)\",\"ticks\":\"outside\"}},\"type\":\"parcoords\"}],\"pie\":[{\"automargin\":true,\"type\":\"pie\"}],\"scatter\":[{\"marker\":{\"colorbar\":{\"outlinewidth\":1,\"tickcolor\":\"rgb(36,36,36)\",\"ticks\":\"outside\"}},\"type\":\"scatter\"}],\"scatter3d\":[{\"line\":{\"colorbar\":{\"outlinewidth\":1,\"tickcolor\":\"rgb(36,36,36)\",\"ticks\":\"outside\"}},\"marker\":{\"colorbar\":{\"outlinewidth\":1,\"tickcolor\":\"rgb(36,36,36)\",\"ticks\":\"outside\"}},\"type\":\"scatter3d\"}],\"scattercarpet\":[{\"marker\":{\"colorbar\":{\"outlinewidth\":1,\"tickcolor\":\"rgb(36,36,36)\",\"ticks\":\"outside\"}},\"type\":\"scattercarpet\"}],\"scattergeo\":[{\"marker\":{\"colorbar\":{\"outlinewidth\":1,\"tickcolor\":\"rgb(36,36,36)\",\"ticks\":\"outside\"}},\"type\":\"scattergeo\"}],\"scattergl\":[{\"marker\":{\"colorbar\":{\"outlinewidth\":1,\"tickcolor\":\"rgb(36,36,36)\",\"ticks\":\"outside\"}},\"type\":\"scattergl\"}],\"scattermapbox\":[{\"marker\":{\"colorbar\":{\"outlinewidth\":1,\"tickcolor\":\"rgb(36,36,36)\",\"ticks\":\"outside\"}},\"type\":\"scattermapbox\"}],\"scatterpolar\":[{\"marker\":{\"colorbar\":{\"outlinewidth\":1,\"tickcolor\":\"rgb(36,36,36)\",\"ticks\":\"outside\"}},\"type\":\"scatterpolar\"}],\"scatterpolargl\":[{\"marker\":{\"colorbar\":{\"outlinewidth\":1,\"tickcolor\":\"rgb(36,36,36)\",\"ticks\":\"outside\"}},\"type\":\"scatterpolargl\"}],\"scatterternary\":[{\"marker\":{\"colorbar\":{\"outlinewidth\":1,\"tickcolor\":\"rgb(36,36,36)\",\"ticks\":\"outside\"}},\"type\":\"scatterternary\"}],\"surface\":[{\"colorbar\":{\"outlinewidth\":1,\"tickcolor\":\"rgb(36,36,36)\",\"ticks\":\"outside\"},\"colorscale\":[[0.0,\"#440154\"],[0.1111111111111111,\"#482878\"],[0.2222222222222222,\"#3e4989\"],[0.3333333333333333,\"#31688e\"],[0.4444444444444444,\"#26828e\"],[0.5555555555555556,\"#1f9e89\"],[0.6666666666666666,\"#35b779\"],[0.7777777777777778,\"#6ece58\"],[0.8888888888888888,\"#b5de2b\"],[1.0,\"#fde725\"]],\"type\":\"surface\"}],\"table\":[{\"cells\":{\"fill\":{\"color\":\"rgb(237,237,237)\"},\"line\":{\"color\":\"white\"}},\"header\":{\"fill\":{\"color\":\"rgb(217,217,217)\"},\"line\":{\"color\":\"white\"}},\"type\":\"table\"}]},\"layout\":{\"annotationdefaults\":{\"arrowhead\":0,\"arrowwidth\":1},\"autotypenumbers\":\"strict\",\"coloraxis\":{\"colorbar\":{\"outlinewidth\":1,\"tickcolor\":\"rgb(36,36,36)\",\"ticks\":\"outside\"}},\"colorscale\":{\"diverging\":[[0.0,\"rgb(103,0,31)\"],[0.1,\"rgb(178,24,43)\"],[0.2,\"rgb(214,96,77)\"],[0.3,\"rgb(244,165,130)\"],[0.4,\"rgb(253,219,199)\"],[0.5,\"rgb(247,247,247)\"],[0.6,\"rgb(209,229,240)\"],[0.7,\"rgb(146,197,222)\"],[0.8,\"rgb(67,147,195)\"],[0.9,\"rgb(33,102,172)\"],[1.0,\"rgb(5,48,97)\"]],\"sequential\":[[0.0,\"#440154\"],[0.1111111111111111,\"#482878\"],[0.2222222222222222,\"#3e4989\"],[0.3333333333333333,\"#31688e\"],[0.4444444444444444,\"#26828e\"],[0.5555555555555556,\"#1f9e89\"],[0.6666666666666666,\"#35b779\"],[0.7777777777777778,\"#6ece58\"],[0.8888888888888888,\"#b5de2b\"],[1.0,\"#fde725\"]],\"sequentialminus\":[[0.0,\"#440154\"],[0.1111111111111111,\"#482878\"],[0.2222222222222222,\"#3e4989\"],[0.3333333333333333,\"#31688e\"],[0.4444444444444444,\"#26828e\"],[0.5555555555555556,\"#1f9e89\"],[0.6666666666666666,\"#35b779\"],[0.7777777777777778,\"#6ece58\"],[0.8888888888888888,\"#b5de2b\"],[1.0,\"#fde725\"]]},\"colorway\":[\"#1F77B4\",\"#FF7F0E\",\"#2CA02C\",\"#D62728\",\"#9467BD\",\"#8C564B\",\"#E377C2\",\"#7F7F7F\",\"#BCBD22\",\"#17BECF\"],\"font\":{\"color\":\"rgb(36,36,36)\"},\"geo\":{\"bgcolor\":\"white\",\"lakecolor\":\"white\",\"landcolor\":\"white\",\"showlakes\":true,\"showland\":true,\"subunitcolor\":\"white\"},\"hoverlabel\":{\"align\":\"left\"},\"hovermode\":\"closest\",\"mapbox\":{\"style\":\"light\"},\"paper_bgcolor\":\"white\",\"plot_bgcolor\":\"white\",\"polar\":{\"angularaxis\":{\"gridcolor\":\"rgb(232,232,232)\",\"linecolor\":\"rgb(36,36,36)\",\"showgrid\":false,\"showline\":true,\"ticks\":\"outside\"},\"bgcolor\":\"white\",\"radialaxis\":{\"gridcolor\":\"rgb(232,232,232)\",\"linecolor\":\"rgb(36,36,36)\",\"showgrid\":false,\"showline\":true,\"ticks\":\"outside\"}},\"scene\":{\"xaxis\":{\"backgroundcolor\":\"white\",\"gridcolor\":\"rgb(232,232,232)\",\"gridwidth\":2,\"linecolor\":\"rgb(36,36,36)\",\"showbackground\":true,\"showgrid\":false,\"showline\":true,\"ticks\":\"outside\",\"zeroline\":false,\"zerolinecolor\":\"rgb(36,36,36)\"},\"yaxis\":{\"backgroundcolor\":\"white\",\"gridcolor\":\"rgb(232,232,232)\",\"gridwidth\":2,\"linecolor\":\"rgb(36,36,36)\",\"showbackground\":true,\"showgrid\":false,\"showline\":true,\"ticks\":\"outside\",\"zeroline\":false,\"zerolinecolor\":\"rgb(36,36,36)\"},\"zaxis\":{\"backgroundcolor\":\"white\",\"gridcolor\":\"rgb(232,232,232)\",\"gridwidth\":2,\"linecolor\":\"rgb(36,36,36)\",\"showbackground\":true,\"showgrid\":false,\"showline\":true,\"ticks\":\"outside\",\"zeroline\":false,\"zerolinecolor\":\"rgb(36,36,36)\"}},\"shapedefaults\":{\"fillcolor\":\"black\",\"line\":{\"width\":0},\"opacity\":0.3},\"ternary\":{\"aaxis\":{\"gridcolor\":\"rgb(232,232,232)\",\"linecolor\":\"rgb(36,36,36)\",\"showgrid\":false,\"showline\":true,\"ticks\":\"outside\"},\"baxis\":{\"gridcolor\":\"rgb(232,232,232)\",\"linecolor\":\"rgb(36,36,36)\",\"showgrid\":false,\"showline\":true,\"ticks\":\"outside\"},\"bgcolor\":\"white\",\"caxis\":{\"gridcolor\":\"rgb(232,232,232)\",\"linecolor\":\"rgb(36,36,36)\",\"showgrid\":false,\"showline\":true,\"ticks\":\"outside\"}},\"title\":{\"x\":0.05},\"xaxis\":{\"automargin\":true,\"gridcolor\":\"rgb(232,232,232)\",\"linecolor\":\"rgb(36,36,36)\",\"showgrid\":false,\"showline\":true,\"ticks\":\"outside\",\"title\":{\"standoff\":15},\"zeroline\":false,\"zerolinecolor\":\"rgb(36,36,36)\"},\"yaxis\":{\"automargin\":true,\"gridcolor\":\"rgb(232,232,232)\",\"linecolor\":\"rgb(36,36,36)\",\"showgrid\":false,\"showline\":true,\"ticks\":\"outside\",\"title\":{\"standoff\":15},\"zeroline\":false,\"zerolinecolor\":\"rgb(36,36,36)\"}}},\"title\":{\"text\":\"Total Materia Prima Bruta vs Neta Sudmaris\"},\"width\":700,\"xaxis\":{\"anchor\":\"y\",\"domain\":[0.0,1.0],\"title\":{\"text\":\"Mes\"}},\"yaxis\":{\"anchor\":\"x\",\"domain\":[0.0,1.0],\"title\":{\"text\":\"Ton\"}}},                        {\"responsive\": true}                    ).then(function(){\n",
       "                            \n",
       "var gd = document.getElementById('cbfe73de-f317-419a-a00f-859a77404ef0');\n",
       "var x = new MutationObserver(function (mutations, observer) {{\n",
       "        var display = window.getComputedStyle(gd).display;\n",
       "        if (!display || display === 'none') {{\n",
       "            console.log([gd, 'removed!']);\n",
       "            Plotly.purge(gd);\n",
       "            observer.disconnect();\n",
       "        }}\n",
       "}});\n",
       "\n",
       "// Listen for the removal of the full notebook cells\n",
       "var notebookContainer = gd.closest('#notebook-container');\n",
       "if (notebookContainer) {{\n",
       "    x.observe(notebookContainer, {childList: true});\n",
       "}}\n",
       "\n",
       "// Listen for the clearing of the current output cell\n",
       "var outputEl = gd.closest('.output');\n",
       "if (outputEl) {{\n",
       "    x.observe(outputEl, {childList: true});\n",
       "}}\n",
       "\n",
       "                        })                };                });            </script>        </div>"
      ]
     },
     "metadata": {},
     "output_type": "display_data"
    }
   ],
   "source": [
    "import plotly.express as px\n",
    "\n",
    "empresa = 'Sudmaris'\n",
    "\n",
    "datos_w=pd.pivot_table(datos[datos.Empresa == empresa], index='Mes', columns='Tipo', values='Valor', aggfunc=np.sum)\n",
    "\n",
    "fig_empresa = px.bar(datos_w, x=datos_w.index,\n",
    "            y=['MP Bruta','MP Neta'], title=\"Total Materia Prima Bruta vs Neta \"+empresa,\n",
    "            labels={'Mes':'Mes','value':'Ton','variable':'Tipo'},\n",
    "            color_discrete_map={\"MP Bruta\": \"#C45130\", \"MP Neta\": \"#FFAA61\"},\n",
    "            template=\"simple_white\",\n",
    "            width=700, \n",
    "            height=500,\n",
    "            )\n",
    "\n",
    "fig_empresa.show()"
   ]
  },
  {
   "cell_type": "code",
   "execution_count": 52,
   "id": "fddfba28",
   "metadata": {},
   "outputs": [
    {
     "ename": "ModuleNotFoundError",
     "evalue": "No module named 'jupyter_dash'",
     "output_type": "error",
     "traceback": [
      "\u001b[1;31m---------------------------------------------------------------------------\u001b[0m",
      "\u001b[1;31mModuleNotFoundError\u001b[0m                       Traceback (most recent call last)",
      "\u001b[1;32m~\\AppData\\Local\\Temp/ipykernel_15932/3452672470.py\u001b[0m in \u001b[0;36m<module>\u001b[1;34m\u001b[0m\n\u001b[0;32m      1\u001b[0m \u001b[1;32mimport\u001b[0m \u001b[0mplotly\u001b[0m\u001b[1;33m.\u001b[0m\u001b[0msubplots\u001b[0m \u001b[1;32mas\u001b[0m \u001b[0msp\u001b[0m\u001b[1;33m\u001b[0m\u001b[1;33m\u001b[0m\u001b[0m\n\u001b[1;32m----> 2\u001b[1;33m \u001b[1;32mfrom\u001b[0m \u001b[0mjupyter_dash\u001b[0m \u001b[1;32mimport\u001b[0m \u001b[0mJupyterDash\u001b[0m\u001b[1;33m\u001b[0m\u001b[1;33m\u001b[0m\u001b[0m\n\u001b[0m\u001b[0;32m      3\u001b[0m \u001b[1;32mimport\u001b[0m \u001b[0mdash_core_components\u001b[0m \u001b[1;32mas\u001b[0m \u001b[0mdcc\u001b[0m\u001b[1;33m\u001b[0m\u001b[1;33m\u001b[0m\u001b[0m\n\u001b[0;32m      4\u001b[0m \u001b[1;32mimport\u001b[0m \u001b[0mdash_html_components\u001b[0m \u001b[1;32mas\u001b[0m \u001b[0mhtml\u001b[0m\u001b[1;33m\u001b[0m\u001b[1;33m\u001b[0m\u001b[0m\n\u001b[0;32m      5\u001b[0m \u001b[1;32mfrom\u001b[0m \u001b[0mdash\u001b[0m\u001b[1;33m.\u001b[0m\u001b[0mdependencies\u001b[0m \u001b[1;32mimport\u001b[0m \u001b[0mInput\u001b[0m\u001b[1;33m,\u001b[0m \u001b[0mOutput\u001b[0m\u001b[1;33m\u001b[0m\u001b[1;33m\u001b[0m\u001b[0m\n",
      "\u001b[1;31mModuleNotFoundError\u001b[0m: No module named 'jupyter_dash'"
     ]
    }
   ],
   "source": [
    "import plotly.subplots as sp\n",
    "from jupyter_dash import JupyterDash\n",
    "import dash_core_components as dcc\n",
    "import dash_html_components as html\n",
    "from dash.dependencies import Input, Output\n",
    "\n",
    "figure1_traces = []\n",
    "figure2_traces = []\n",
    "for trace in range(len(fig_industria[\"data\"])):\n",
    "    figure1_traces.append(fig_industria[\"data\"][trace])\n",
    "for trace in range(len(fig_empresa[\"data\"])):\n",
    "    figure2_traces.append(fig_empresa[\"data\"][trace])\n",
    "\n",
    "#Create a 1x2 subplot\n",
    "this_figure = sp.make_subplots(rows=1, cols=2) \n",
    "\n",
    "# Get the Express fig broken down as traces and add the traces to the proper plot within in the subplot\n",
    "for traces in figure1_traces:\n",
    "    this_figure.append_trace(traces, row=1, col=1)\n",
    "for traces in figure2_traces:\n",
    "    this_figure.append_trace(traces, row=1, col=2)\n",
    "\n",
    "#the subplot as shown in the above image\n",
    "final_graph = dcc.Graph(figure=this_figure)\n",
    "\n",
    "# Build App\n",
    "app = JupyterDash(__name__)\n",
    "app.layout = html.Div([\n",
    "    final_graph\n",
    "    ])\n",
    "# Define callback to update graph\n",
    "\n",
    "\n",
    "app.run_server(mode='inline')"
   ]
  },
  {
   "cell_type": "markdown",
   "id": "9f7851ac",
   "metadata": {},
   "source": [
    "# Indicador Materia Prima Bruta por origen"
   ]
  },
  {
   "cell_type": "code",
   "execution_count": 53,
   "id": "ab6f9e4a",
   "metadata": {},
   "outputs": [
    {
     "data": {
      "text/html": [
       "<div>\n",
       "<style scoped>\n",
       "    .dataframe tbody tr th:only-of-type {\n",
       "        vertical-align: middle;\n",
       "    }\n",
       "\n",
       "    .dataframe tbody tr th {\n",
       "        vertical-align: top;\n",
       "    }\n",
       "\n",
       "    .dataframe thead th {\n",
       "        text-align: right;\n",
       "    }\n",
       "</style>\n",
       "<table border=\"1\" class=\"dataframe\">\n",
       "  <thead>\n",
       "    <tr style=\"text-align: right;\">\n",
       "      <th></th>\n",
       "      <th>Empresa</th>\n",
       "      <th>Propiedad</th>\n",
       "      <th>Mes</th>\n",
       "      <th>Valor</th>\n",
       "    </tr>\n",
       "  </thead>\n",
       "  <tbody>\n",
       "    <tr>\n",
       "      <th>0</th>\n",
       "      <td>SA Chonchi</td>\n",
       "      <td>MPB Propia</td>\n",
       "      <td>9</td>\n",
       "      <td>269.442</td>\n",
       "    </tr>\n",
       "    <tr>\n",
       "      <th>3</th>\n",
       "      <td>SA Chonchi</td>\n",
       "      <td>MPB Terceros</td>\n",
       "      <td>9</td>\n",
       "      <td>362.001</td>\n",
       "    </tr>\n",
       "    <tr>\n",
       "      <th>6</th>\n",
       "      <td>SA Chonchi</td>\n",
       "      <td>MPB Propia</td>\n",
       "      <td>6</td>\n",
       "      <td>3099.771</td>\n",
       "    </tr>\n",
       "    <tr>\n",
       "      <th>9</th>\n",
       "      <td>SA Chonchi</td>\n",
       "      <td>MPB Terceros</td>\n",
       "      <td>6</td>\n",
       "      <td>1434.065</td>\n",
       "    </tr>\n",
       "    <tr>\n",
       "      <th>12</th>\n",
       "      <td>SA Chonchi</td>\n",
       "      <td>MPB Propia</td>\n",
       "      <td>5</td>\n",
       "      <td>5896.360</td>\n",
       "    </tr>\n",
       "  </tbody>\n",
       "</table>\n",
       "</div>"
      ],
      "text/plain": [
       "       Empresa     Propiedad  Mes     Valor\n",
       "0   SA Chonchi    MPB Propia    9   269.442\n",
       "3   SA Chonchi  MPB Terceros    9   362.001\n",
       "6   SA Chonchi    MPB Propia    6  3099.771\n",
       "9   SA Chonchi  MPB Terceros    6  1434.065\n",
       "12  SA Chonchi    MPB Propia    5  5896.360"
      ]
     },
     "execution_count": 53,
     "metadata": {},
     "output_type": "execute_result"
    }
   ],
   "source": [
    "\n",
    "datos = ingresos_mmpp[(ingresos_mmpp.Tipo== 'MP Bruta')].copy()[['Empresa','Propiedad','Mes','Valor']]\n",
    "datos.head()"
   ]
  },
  {
   "cell_type": "code",
   "execution_count": 54,
   "id": "17de65c5",
   "metadata": {},
   "outputs": [
    {
     "data": {
      "application/vnd.plotly.v1+json": {
       "config": {
        "plotlyServerURL": "https://plot.ly"
       },
       "data": [
        {
         "alignmentgroup": "True",
         "hovertemplate": "Origen=MPB Propia<br>Mes=%{x}<br>Ton=%{y}<extra></extra>",
         "legendgroup": "MPB Propia",
         "marker": {
          "color": "#00609C",
          "pattern": {
           "shape": ""
          }
         },
         "name": "MPB Propia",
         "offsetgroup": "MPB Propia",
         "orientation": "v",
         "showlegend": true,
         "textposition": "auto",
         "type": "bar",
         "x": [
          1,
          2,
          3,
          4,
          5,
          6,
          7,
          8,
          9
         ],
         "xaxis": "x",
         "y": [
          14590.3445,
          17519.3437,
          18838.604,
          13147.0635,
          17059.354,
          13634.228500000001,
          9031.530499999999,
          4706.8409,
          1426.2369999999999
         ],
         "yaxis": "y"
        },
        {
         "alignmentgroup": "True",
         "hovertemplate": "Origen=MPB Terceros<br>Mes=%{x}<br>Ton=%{y}<extra></extra>",
         "legendgroup": "MPB Terceros",
         "marker": {
          "color": "#F4D19F",
          "pattern": {
           "shape": ""
          }
         },
         "name": "MPB Terceros",
         "offsetgroup": "MPB Terceros",
         "orientation": "v",
         "showlegend": true,
         "textposition": "auto",
         "type": "bar",
         "x": [
          1,
          2,
          3,
          4,
          5,
          6,
          7,
          8,
          9
         ],
         "xaxis": "x",
         "y": [
          12943.02954347826,
          11612.829816793892,
          11739.817500000001,
          11199.2055,
          11811.784,
          13690.499000000002,
          14830.008000000002,
          11769.964300000001,
          1647.6674999999998
         ],
         "yaxis": "y"
        }
       ],
       "layout": {
        "barmode": "relative",
        "height": 500,
        "legend": {
         "title": {
          "text": "Origen"
         },
         "tracegroupgap": 0
        },
        "template": {
         "data": {
          "bar": [
           {
            "error_x": {
             "color": "rgb(36,36,36)"
            },
            "error_y": {
             "color": "rgb(36,36,36)"
            },
            "marker": {
             "line": {
              "color": "white",
              "width": 0.5
             },
             "pattern": {
              "fillmode": "overlay",
              "size": 10,
              "solidity": 0.2
             }
            },
            "type": "bar"
           }
          ],
          "barpolar": [
           {
            "marker": {
             "line": {
              "color": "white",
              "width": 0.5
             },
             "pattern": {
              "fillmode": "overlay",
              "size": 10,
              "solidity": 0.2
             }
            },
            "type": "barpolar"
           }
          ],
          "carpet": [
           {
            "aaxis": {
             "endlinecolor": "rgb(36,36,36)",
             "gridcolor": "white",
             "linecolor": "white",
             "minorgridcolor": "white",
             "startlinecolor": "rgb(36,36,36)"
            },
            "baxis": {
             "endlinecolor": "rgb(36,36,36)",
             "gridcolor": "white",
             "linecolor": "white",
             "minorgridcolor": "white",
             "startlinecolor": "rgb(36,36,36)"
            },
            "type": "carpet"
           }
          ],
          "choropleth": [
           {
            "colorbar": {
             "outlinewidth": 1,
             "tickcolor": "rgb(36,36,36)",
             "ticks": "outside"
            },
            "type": "choropleth"
           }
          ],
          "contour": [
           {
            "colorbar": {
             "outlinewidth": 1,
             "tickcolor": "rgb(36,36,36)",
             "ticks": "outside"
            },
            "colorscale": [
             [
              0,
              "#440154"
             ],
             [
              0.1111111111111111,
              "#482878"
             ],
             [
              0.2222222222222222,
              "#3e4989"
             ],
             [
              0.3333333333333333,
              "#31688e"
             ],
             [
              0.4444444444444444,
              "#26828e"
             ],
             [
              0.5555555555555556,
              "#1f9e89"
             ],
             [
              0.6666666666666666,
              "#35b779"
             ],
             [
              0.7777777777777778,
              "#6ece58"
             ],
             [
              0.8888888888888888,
              "#b5de2b"
             ],
             [
              1,
              "#fde725"
             ]
            ],
            "type": "contour"
           }
          ],
          "contourcarpet": [
           {
            "colorbar": {
             "outlinewidth": 1,
             "tickcolor": "rgb(36,36,36)",
             "ticks": "outside"
            },
            "type": "contourcarpet"
           }
          ],
          "heatmap": [
           {
            "colorbar": {
             "outlinewidth": 1,
             "tickcolor": "rgb(36,36,36)",
             "ticks": "outside"
            },
            "colorscale": [
             [
              0,
              "#440154"
             ],
             [
              0.1111111111111111,
              "#482878"
             ],
             [
              0.2222222222222222,
              "#3e4989"
             ],
             [
              0.3333333333333333,
              "#31688e"
             ],
             [
              0.4444444444444444,
              "#26828e"
             ],
             [
              0.5555555555555556,
              "#1f9e89"
             ],
             [
              0.6666666666666666,
              "#35b779"
             ],
             [
              0.7777777777777778,
              "#6ece58"
             ],
             [
              0.8888888888888888,
              "#b5de2b"
             ],
             [
              1,
              "#fde725"
             ]
            ],
            "type": "heatmap"
           }
          ],
          "heatmapgl": [
           {
            "colorbar": {
             "outlinewidth": 1,
             "tickcolor": "rgb(36,36,36)",
             "ticks": "outside"
            },
            "colorscale": [
             [
              0,
              "#440154"
             ],
             [
              0.1111111111111111,
              "#482878"
             ],
             [
              0.2222222222222222,
              "#3e4989"
             ],
             [
              0.3333333333333333,
              "#31688e"
             ],
             [
              0.4444444444444444,
              "#26828e"
             ],
             [
              0.5555555555555556,
              "#1f9e89"
             ],
             [
              0.6666666666666666,
              "#35b779"
             ],
             [
              0.7777777777777778,
              "#6ece58"
             ],
             [
              0.8888888888888888,
              "#b5de2b"
             ],
             [
              1,
              "#fde725"
             ]
            ],
            "type": "heatmapgl"
           }
          ],
          "histogram": [
           {
            "marker": {
             "line": {
              "color": "white",
              "width": 0.6
             }
            },
            "type": "histogram"
           }
          ],
          "histogram2d": [
           {
            "colorbar": {
             "outlinewidth": 1,
             "tickcolor": "rgb(36,36,36)",
             "ticks": "outside"
            },
            "colorscale": [
             [
              0,
              "#440154"
             ],
             [
              0.1111111111111111,
              "#482878"
             ],
             [
              0.2222222222222222,
              "#3e4989"
             ],
             [
              0.3333333333333333,
              "#31688e"
             ],
             [
              0.4444444444444444,
              "#26828e"
             ],
             [
              0.5555555555555556,
              "#1f9e89"
             ],
             [
              0.6666666666666666,
              "#35b779"
             ],
             [
              0.7777777777777778,
              "#6ece58"
             ],
             [
              0.8888888888888888,
              "#b5de2b"
             ],
             [
              1,
              "#fde725"
             ]
            ],
            "type": "histogram2d"
           }
          ],
          "histogram2dcontour": [
           {
            "colorbar": {
             "outlinewidth": 1,
             "tickcolor": "rgb(36,36,36)",
             "ticks": "outside"
            },
            "colorscale": [
             [
              0,
              "#440154"
             ],
             [
              0.1111111111111111,
              "#482878"
             ],
             [
              0.2222222222222222,
              "#3e4989"
             ],
             [
              0.3333333333333333,
              "#31688e"
             ],
             [
              0.4444444444444444,
              "#26828e"
             ],
             [
              0.5555555555555556,
              "#1f9e89"
             ],
             [
              0.6666666666666666,
              "#35b779"
             ],
             [
              0.7777777777777778,
              "#6ece58"
             ],
             [
              0.8888888888888888,
              "#b5de2b"
             ],
             [
              1,
              "#fde725"
             ]
            ],
            "type": "histogram2dcontour"
           }
          ],
          "mesh3d": [
           {
            "colorbar": {
             "outlinewidth": 1,
             "tickcolor": "rgb(36,36,36)",
             "ticks": "outside"
            },
            "type": "mesh3d"
           }
          ],
          "parcoords": [
           {
            "line": {
             "colorbar": {
              "outlinewidth": 1,
              "tickcolor": "rgb(36,36,36)",
              "ticks": "outside"
             }
            },
            "type": "parcoords"
           }
          ],
          "pie": [
           {
            "automargin": true,
            "type": "pie"
           }
          ],
          "scatter": [
           {
            "marker": {
             "colorbar": {
              "outlinewidth": 1,
              "tickcolor": "rgb(36,36,36)",
              "ticks": "outside"
             }
            },
            "type": "scatter"
           }
          ],
          "scatter3d": [
           {
            "line": {
             "colorbar": {
              "outlinewidth": 1,
              "tickcolor": "rgb(36,36,36)",
              "ticks": "outside"
             }
            },
            "marker": {
             "colorbar": {
              "outlinewidth": 1,
              "tickcolor": "rgb(36,36,36)",
              "ticks": "outside"
             }
            },
            "type": "scatter3d"
           }
          ],
          "scattercarpet": [
           {
            "marker": {
             "colorbar": {
              "outlinewidth": 1,
              "tickcolor": "rgb(36,36,36)",
              "ticks": "outside"
             }
            },
            "type": "scattercarpet"
           }
          ],
          "scattergeo": [
           {
            "marker": {
             "colorbar": {
              "outlinewidth": 1,
              "tickcolor": "rgb(36,36,36)",
              "ticks": "outside"
             }
            },
            "type": "scattergeo"
           }
          ],
          "scattergl": [
           {
            "marker": {
             "colorbar": {
              "outlinewidth": 1,
              "tickcolor": "rgb(36,36,36)",
              "ticks": "outside"
             }
            },
            "type": "scattergl"
           }
          ],
          "scattermapbox": [
           {
            "marker": {
             "colorbar": {
              "outlinewidth": 1,
              "tickcolor": "rgb(36,36,36)",
              "ticks": "outside"
             }
            },
            "type": "scattermapbox"
           }
          ],
          "scatterpolar": [
           {
            "marker": {
             "colorbar": {
              "outlinewidth": 1,
              "tickcolor": "rgb(36,36,36)",
              "ticks": "outside"
             }
            },
            "type": "scatterpolar"
           }
          ],
          "scatterpolargl": [
           {
            "marker": {
             "colorbar": {
              "outlinewidth": 1,
              "tickcolor": "rgb(36,36,36)",
              "ticks": "outside"
             }
            },
            "type": "scatterpolargl"
           }
          ],
          "scatterternary": [
           {
            "marker": {
             "colorbar": {
              "outlinewidth": 1,
              "tickcolor": "rgb(36,36,36)",
              "ticks": "outside"
             }
            },
            "type": "scatterternary"
           }
          ],
          "surface": [
           {
            "colorbar": {
             "outlinewidth": 1,
             "tickcolor": "rgb(36,36,36)",
             "ticks": "outside"
            },
            "colorscale": [
             [
              0,
              "#440154"
             ],
             [
              0.1111111111111111,
              "#482878"
             ],
             [
              0.2222222222222222,
              "#3e4989"
             ],
             [
              0.3333333333333333,
              "#31688e"
             ],
             [
              0.4444444444444444,
              "#26828e"
             ],
             [
              0.5555555555555556,
              "#1f9e89"
             ],
             [
              0.6666666666666666,
              "#35b779"
             ],
             [
              0.7777777777777778,
              "#6ece58"
             ],
             [
              0.8888888888888888,
              "#b5de2b"
             ],
             [
              1,
              "#fde725"
             ]
            ],
            "type": "surface"
           }
          ],
          "table": [
           {
            "cells": {
             "fill": {
              "color": "rgb(237,237,237)"
             },
             "line": {
              "color": "white"
             }
            },
            "header": {
             "fill": {
              "color": "rgb(217,217,217)"
             },
             "line": {
              "color": "white"
             }
            },
            "type": "table"
           }
          ]
         },
         "layout": {
          "annotationdefaults": {
           "arrowhead": 0,
           "arrowwidth": 1
          },
          "autotypenumbers": "strict",
          "coloraxis": {
           "colorbar": {
            "outlinewidth": 1,
            "tickcolor": "rgb(36,36,36)",
            "ticks": "outside"
           }
          },
          "colorscale": {
           "diverging": [
            [
             0,
             "rgb(103,0,31)"
            ],
            [
             0.1,
             "rgb(178,24,43)"
            ],
            [
             0.2,
             "rgb(214,96,77)"
            ],
            [
             0.3,
             "rgb(244,165,130)"
            ],
            [
             0.4,
             "rgb(253,219,199)"
            ],
            [
             0.5,
             "rgb(247,247,247)"
            ],
            [
             0.6,
             "rgb(209,229,240)"
            ],
            [
             0.7,
             "rgb(146,197,222)"
            ],
            [
             0.8,
             "rgb(67,147,195)"
            ],
            [
             0.9,
             "rgb(33,102,172)"
            ],
            [
             1,
             "rgb(5,48,97)"
            ]
           ],
           "sequential": [
            [
             0,
             "#440154"
            ],
            [
             0.1111111111111111,
             "#482878"
            ],
            [
             0.2222222222222222,
             "#3e4989"
            ],
            [
             0.3333333333333333,
             "#31688e"
            ],
            [
             0.4444444444444444,
             "#26828e"
            ],
            [
             0.5555555555555556,
             "#1f9e89"
            ],
            [
             0.6666666666666666,
             "#35b779"
            ],
            [
             0.7777777777777778,
             "#6ece58"
            ],
            [
             0.8888888888888888,
             "#b5de2b"
            ],
            [
             1,
             "#fde725"
            ]
           ],
           "sequentialminus": [
            [
             0,
             "#440154"
            ],
            [
             0.1111111111111111,
             "#482878"
            ],
            [
             0.2222222222222222,
             "#3e4989"
            ],
            [
             0.3333333333333333,
             "#31688e"
            ],
            [
             0.4444444444444444,
             "#26828e"
            ],
            [
             0.5555555555555556,
             "#1f9e89"
            ],
            [
             0.6666666666666666,
             "#35b779"
            ],
            [
             0.7777777777777778,
             "#6ece58"
            ],
            [
             0.8888888888888888,
             "#b5de2b"
            ],
            [
             1,
             "#fde725"
            ]
           ]
          },
          "colorway": [
           "#1F77B4",
           "#FF7F0E",
           "#2CA02C",
           "#D62728",
           "#9467BD",
           "#8C564B",
           "#E377C2",
           "#7F7F7F",
           "#BCBD22",
           "#17BECF"
          ],
          "font": {
           "color": "rgb(36,36,36)"
          },
          "geo": {
           "bgcolor": "white",
           "lakecolor": "white",
           "landcolor": "white",
           "showlakes": true,
           "showland": true,
           "subunitcolor": "white"
          },
          "hoverlabel": {
           "align": "left"
          },
          "hovermode": "closest",
          "mapbox": {
           "style": "light"
          },
          "paper_bgcolor": "white",
          "plot_bgcolor": "white",
          "polar": {
           "angularaxis": {
            "gridcolor": "rgb(232,232,232)",
            "linecolor": "rgb(36,36,36)",
            "showgrid": false,
            "showline": true,
            "ticks": "outside"
           },
           "bgcolor": "white",
           "radialaxis": {
            "gridcolor": "rgb(232,232,232)",
            "linecolor": "rgb(36,36,36)",
            "showgrid": false,
            "showline": true,
            "ticks": "outside"
           }
          },
          "scene": {
           "xaxis": {
            "backgroundcolor": "white",
            "gridcolor": "rgb(232,232,232)",
            "gridwidth": 2,
            "linecolor": "rgb(36,36,36)",
            "showbackground": true,
            "showgrid": false,
            "showline": true,
            "ticks": "outside",
            "zeroline": false,
            "zerolinecolor": "rgb(36,36,36)"
           },
           "yaxis": {
            "backgroundcolor": "white",
            "gridcolor": "rgb(232,232,232)",
            "gridwidth": 2,
            "linecolor": "rgb(36,36,36)",
            "showbackground": true,
            "showgrid": false,
            "showline": true,
            "ticks": "outside",
            "zeroline": false,
            "zerolinecolor": "rgb(36,36,36)"
           },
           "zaxis": {
            "backgroundcolor": "white",
            "gridcolor": "rgb(232,232,232)",
            "gridwidth": 2,
            "linecolor": "rgb(36,36,36)",
            "showbackground": true,
            "showgrid": false,
            "showline": true,
            "ticks": "outside",
            "zeroline": false,
            "zerolinecolor": "rgb(36,36,36)"
           }
          },
          "shapedefaults": {
           "fillcolor": "black",
           "line": {
            "width": 0
           },
           "opacity": 0.3
          },
          "ternary": {
           "aaxis": {
            "gridcolor": "rgb(232,232,232)",
            "linecolor": "rgb(36,36,36)",
            "showgrid": false,
            "showline": true,
            "ticks": "outside"
           },
           "baxis": {
            "gridcolor": "rgb(232,232,232)",
            "linecolor": "rgb(36,36,36)",
            "showgrid": false,
            "showline": true,
            "ticks": "outside"
           },
           "bgcolor": "white",
           "caxis": {
            "gridcolor": "rgb(232,232,232)",
            "linecolor": "rgb(36,36,36)",
            "showgrid": false,
            "showline": true,
            "ticks": "outside"
           }
          },
          "title": {
           "x": 0.05
          },
          "xaxis": {
           "automargin": true,
           "gridcolor": "rgb(232,232,232)",
           "linecolor": "rgb(36,36,36)",
           "showgrid": false,
           "showline": true,
           "ticks": "outside",
           "title": {
            "standoff": 15
           },
           "zeroline": false,
           "zerolinecolor": "rgb(36,36,36)"
          },
          "yaxis": {
           "automargin": true,
           "gridcolor": "rgb(232,232,232)",
           "linecolor": "rgb(36,36,36)",
           "showgrid": false,
           "showline": true,
           "ticks": "outside",
           "title": {
            "standoff": 15
           },
           "zeroline": false,
           "zerolinecolor": "rgb(36,36,36)"
          }
         }
        },
        "title": {
         "text": "Indicador Materia Prima Bruta por origen"
        },
        "width": 700,
        "xaxis": {
         "anchor": "y",
         "domain": [
          0,
          1
         ],
         "title": {
          "text": "Mes"
         }
        },
        "yaxis": {
         "anchor": "x",
         "domain": [
          0,
          1
         ],
         "title": {
          "text": "Ton"
         }
        }
       }
      },
      "text/html": [
       "<div>                            <div id=\"258fbe06-339e-4d1a-9787-07727f1e46f1\" class=\"plotly-graph-div\" style=\"height:500px; width:700px;\"></div>            <script type=\"text/javascript\">                require([\"plotly\"], function(Plotly) {                    window.PLOTLYENV=window.PLOTLYENV || {};                                    if (document.getElementById(\"258fbe06-339e-4d1a-9787-07727f1e46f1\")) {                    Plotly.newPlot(                        \"258fbe06-339e-4d1a-9787-07727f1e46f1\",                        [{\"alignmentgroup\":\"True\",\"hovertemplate\":\"Origen=MPB Propia<br>Mes=%{x}<br>Ton=%{y}<extra></extra>\",\"legendgroup\":\"MPB Propia\",\"marker\":{\"color\":\"#00609C\",\"pattern\":{\"shape\":\"\"}},\"name\":\"MPB Propia\",\"offsetgroup\":\"MPB Propia\",\"orientation\":\"v\",\"showlegend\":true,\"textposition\":\"auto\",\"type\":\"bar\",\"x\":[1,2,3,4,5,6,7,8,9],\"xaxis\":\"x\",\"y\":[14590.3445,17519.3437,18838.604,13147.0635,17059.354,13634.228500000001,9031.530499999999,4706.8409,1426.2369999999999],\"yaxis\":\"y\"},{\"alignmentgroup\":\"True\",\"hovertemplate\":\"Origen=MPB Terceros<br>Mes=%{x}<br>Ton=%{y}<extra></extra>\",\"legendgroup\":\"MPB Terceros\",\"marker\":{\"color\":\"#F4D19F\",\"pattern\":{\"shape\":\"\"}},\"name\":\"MPB Terceros\",\"offsetgroup\":\"MPB Terceros\",\"orientation\":\"v\",\"showlegend\":true,\"textposition\":\"auto\",\"type\":\"bar\",\"x\":[1,2,3,4,5,6,7,8,9],\"xaxis\":\"x\",\"y\":[12943.02954347826,11612.829816793892,11739.817500000001,11199.2055,11811.784,13690.499000000002,14830.008000000002,11769.964300000001,1647.6674999999998],\"yaxis\":\"y\"}],                        {\"barmode\":\"relative\",\"height\":500,\"legend\":{\"title\":{\"text\":\"Origen\"},\"tracegroupgap\":0},\"template\":{\"data\":{\"bar\":[{\"error_x\":{\"color\":\"rgb(36,36,36)\"},\"error_y\":{\"color\":\"rgb(36,36,36)\"},\"marker\":{\"line\":{\"color\":\"white\",\"width\":0.5},\"pattern\":{\"fillmode\":\"overlay\",\"size\":10,\"solidity\":0.2}},\"type\":\"bar\"}],\"barpolar\":[{\"marker\":{\"line\":{\"color\":\"white\",\"width\":0.5},\"pattern\":{\"fillmode\":\"overlay\",\"size\":10,\"solidity\":0.2}},\"type\":\"barpolar\"}],\"carpet\":[{\"aaxis\":{\"endlinecolor\":\"rgb(36,36,36)\",\"gridcolor\":\"white\",\"linecolor\":\"white\",\"minorgridcolor\":\"white\",\"startlinecolor\":\"rgb(36,36,36)\"},\"baxis\":{\"endlinecolor\":\"rgb(36,36,36)\",\"gridcolor\":\"white\",\"linecolor\":\"white\",\"minorgridcolor\":\"white\",\"startlinecolor\":\"rgb(36,36,36)\"},\"type\":\"carpet\"}],\"choropleth\":[{\"colorbar\":{\"outlinewidth\":1,\"tickcolor\":\"rgb(36,36,36)\",\"ticks\":\"outside\"},\"type\":\"choropleth\"}],\"contour\":[{\"colorbar\":{\"outlinewidth\":1,\"tickcolor\":\"rgb(36,36,36)\",\"ticks\":\"outside\"},\"colorscale\":[[0.0,\"#440154\"],[0.1111111111111111,\"#482878\"],[0.2222222222222222,\"#3e4989\"],[0.3333333333333333,\"#31688e\"],[0.4444444444444444,\"#26828e\"],[0.5555555555555556,\"#1f9e89\"],[0.6666666666666666,\"#35b779\"],[0.7777777777777778,\"#6ece58\"],[0.8888888888888888,\"#b5de2b\"],[1.0,\"#fde725\"]],\"type\":\"contour\"}],\"contourcarpet\":[{\"colorbar\":{\"outlinewidth\":1,\"tickcolor\":\"rgb(36,36,36)\",\"ticks\":\"outside\"},\"type\":\"contourcarpet\"}],\"heatmap\":[{\"colorbar\":{\"outlinewidth\":1,\"tickcolor\":\"rgb(36,36,36)\",\"ticks\":\"outside\"},\"colorscale\":[[0.0,\"#440154\"],[0.1111111111111111,\"#482878\"],[0.2222222222222222,\"#3e4989\"],[0.3333333333333333,\"#31688e\"],[0.4444444444444444,\"#26828e\"],[0.5555555555555556,\"#1f9e89\"],[0.6666666666666666,\"#35b779\"],[0.7777777777777778,\"#6ece58\"],[0.8888888888888888,\"#b5de2b\"],[1.0,\"#fde725\"]],\"type\":\"heatmap\"}],\"heatmapgl\":[{\"colorbar\":{\"outlinewidth\":1,\"tickcolor\":\"rgb(36,36,36)\",\"ticks\":\"outside\"},\"colorscale\":[[0.0,\"#440154\"],[0.1111111111111111,\"#482878\"],[0.2222222222222222,\"#3e4989\"],[0.3333333333333333,\"#31688e\"],[0.4444444444444444,\"#26828e\"],[0.5555555555555556,\"#1f9e89\"],[0.6666666666666666,\"#35b779\"],[0.7777777777777778,\"#6ece58\"],[0.8888888888888888,\"#b5de2b\"],[1.0,\"#fde725\"]],\"type\":\"heatmapgl\"}],\"histogram\":[{\"marker\":{\"line\":{\"color\":\"white\",\"width\":0.6}},\"type\":\"histogram\"}],\"histogram2d\":[{\"colorbar\":{\"outlinewidth\":1,\"tickcolor\":\"rgb(36,36,36)\",\"ticks\":\"outside\"},\"colorscale\":[[0.0,\"#440154\"],[0.1111111111111111,\"#482878\"],[0.2222222222222222,\"#3e4989\"],[0.3333333333333333,\"#31688e\"],[0.4444444444444444,\"#26828e\"],[0.5555555555555556,\"#1f9e89\"],[0.6666666666666666,\"#35b779\"],[0.7777777777777778,\"#6ece58\"],[0.8888888888888888,\"#b5de2b\"],[1.0,\"#fde725\"]],\"type\":\"histogram2d\"}],\"histogram2dcontour\":[{\"colorbar\":{\"outlinewidth\":1,\"tickcolor\":\"rgb(36,36,36)\",\"ticks\":\"outside\"},\"colorscale\":[[0.0,\"#440154\"],[0.1111111111111111,\"#482878\"],[0.2222222222222222,\"#3e4989\"],[0.3333333333333333,\"#31688e\"],[0.4444444444444444,\"#26828e\"],[0.5555555555555556,\"#1f9e89\"],[0.6666666666666666,\"#35b779\"],[0.7777777777777778,\"#6ece58\"],[0.8888888888888888,\"#b5de2b\"],[1.0,\"#fde725\"]],\"type\":\"histogram2dcontour\"}],\"mesh3d\":[{\"colorbar\":{\"outlinewidth\":1,\"tickcolor\":\"rgb(36,36,36)\",\"ticks\":\"outside\"},\"type\":\"mesh3d\"}],\"parcoords\":[{\"line\":{\"colorbar\":{\"outlinewidth\":1,\"tickcolor\":\"rgb(36,36,36)\",\"ticks\":\"outside\"}},\"type\":\"parcoords\"}],\"pie\":[{\"automargin\":true,\"type\":\"pie\"}],\"scatter\":[{\"marker\":{\"colorbar\":{\"outlinewidth\":1,\"tickcolor\":\"rgb(36,36,36)\",\"ticks\":\"outside\"}},\"type\":\"scatter\"}],\"scatter3d\":[{\"line\":{\"colorbar\":{\"outlinewidth\":1,\"tickcolor\":\"rgb(36,36,36)\",\"ticks\":\"outside\"}},\"marker\":{\"colorbar\":{\"outlinewidth\":1,\"tickcolor\":\"rgb(36,36,36)\",\"ticks\":\"outside\"}},\"type\":\"scatter3d\"}],\"scattercarpet\":[{\"marker\":{\"colorbar\":{\"outlinewidth\":1,\"tickcolor\":\"rgb(36,36,36)\",\"ticks\":\"outside\"}},\"type\":\"scattercarpet\"}],\"scattergeo\":[{\"marker\":{\"colorbar\":{\"outlinewidth\":1,\"tickcolor\":\"rgb(36,36,36)\",\"ticks\":\"outside\"}},\"type\":\"scattergeo\"}],\"scattergl\":[{\"marker\":{\"colorbar\":{\"outlinewidth\":1,\"tickcolor\":\"rgb(36,36,36)\",\"ticks\":\"outside\"}},\"type\":\"scattergl\"}],\"scattermapbox\":[{\"marker\":{\"colorbar\":{\"outlinewidth\":1,\"tickcolor\":\"rgb(36,36,36)\",\"ticks\":\"outside\"}},\"type\":\"scattermapbox\"}],\"scatterpolar\":[{\"marker\":{\"colorbar\":{\"outlinewidth\":1,\"tickcolor\":\"rgb(36,36,36)\",\"ticks\":\"outside\"}},\"type\":\"scatterpolar\"}],\"scatterpolargl\":[{\"marker\":{\"colorbar\":{\"outlinewidth\":1,\"tickcolor\":\"rgb(36,36,36)\",\"ticks\":\"outside\"}},\"type\":\"scatterpolargl\"}],\"scatterternary\":[{\"marker\":{\"colorbar\":{\"outlinewidth\":1,\"tickcolor\":\"rgb(36,36,36)\",\"ticks\":\"outside\"}},\"type\":\"scatterternary\"}],\"surface\":[{\"colorbar\":{\"outlinewidth\":1,\"tickcolor\":\"rgb(36,36,36)\",\"ticks\":\"outside\"},\"colorscale\":[[0.0,\"#440154\"],[0.1111111111111111,\"#482878\"],[0.2222222222222222,\"#3e4989\"],[0.3333333333333333,\"#31688e\"],[0.4444444444444444,\"#26828e\"],[0.5555555555555556,\"#1f9e89\"],[0.6666666666666666,\"#35b779\"],[0.7777777777777778,\"#6ece58\"],[0.8888888888888888,\"#b5de2b\"],[1.0,\"#fde725\"]],\"type\":\"surface\"}],\"table\":[{\"cells\":{\"fill\":{\"color\":\"rgb(237,237,237)\"},\"line\":{\"color\":\"white\"}},\"header\":{\"fill\":{\"color\":\"rgb(217,217,217)\"},\"line\":{\"color\":\"white\"}},\"type\":\"table\"}]},\"layout\":{\"annotationdefaults\":{\"arrowhead\":0,\"arrowwidth\":1},\"autotypenumbers\":\"strict\",\"coloraxis\":{\"colorbar\":{\"outlinewidth\":1,\"tickcolor\":\"rgb(36,36,36)\",\"ticks\":\"outside\"}},\"colorscale\":{\"diverging\":[[0.0,\"rgb(103,0,31)\"],[0.1,\"rgb(178,24,43)\"],[0.2,\"rgb(214,96,77)\"],[0.3,\"rgb(244,165,130)\"],[0.4,\"rgb(253,219,199)\"],[0.5,\"rgb(247,247,247)\"],[0.6,\"rgb(209,229,240)\"],[0.7,\"rgb(146,197,222)\"],[0.8,\"rgb(67,147,195)\"],[0.9,\"rgb(33,102,172)\"],[1.0,\"rgb(5,48,97)\"]],\"sequential\":[[0.0,\"#440154\"],[0.1111111111111111,\"#482878\"],[0.2222222222222222,\"#3e4989\"],[0.3333333333333333,\"#31688e\"],[0.4444444444444444,\"#26828e\"],[0.5555555555555556,\"#1f9e89\"],[0.6666666666666666,\"#35b779\"],[0.7777777777777778,\"#6ece58\"],[0.8888888888888888,\"#b5de2b\"],[1.0,\"#fde725\"]],\"sequentialminus\":[[0.0,\"#440154\"],[0.1111111111111111,\"#482878\"],[0.2222222222222222,\"#3e4989\"],[0.3333333333333333,\"#31688e\"],[0.4444444444444444,\"#26828e\"],[0.5555555555555556,\"#1f9e89\"],[0.6666666666666666,\"#35b779\"],[0.7777777777777778,\"#6ece58\"],[0.8888888888888888,\"#b5de2b\"],[1.0,\"#fde725\"]]},\"colorway\":[\"#1F77B4\",\"#FF7F0E\",\"#2CA02C\",\"#D62728\",\"#9467BD\",\"#8C564B\",\"#E377C2\",\"#7F7F7F\",\"#BCBD22\",\"#17BECF\"],\"font\":{\"color\":\"rgb(36,36,36)\"},\"geo\":{\"bgcolor\":\"white\",\"lakecolor\":\"white\",\"landcolor\":\"white\",\"showlakes\":true,\"showland\":true,\"subunitcolor\":\"white\"},\"hoverlabel\":{\"align\":\"left\"},\"hovermode\":\"closest\",\"mapbox\":{\"style\":\"light\"},\"paper_bgcolor\":\"white\",\"plot_bgcolor\":\"white\",\"polar\":{\"angularaxis\":{\"gridcolor\":\"rgb(232,232,232)\",\"linecolor\":\"rgb(36,36,36)\",\"showgrid\":false,\"showline\":true,\"ticks\":\"outside\"},\"bgcolor\":\"white\",\"radialaxis\":{\"gridcolor\":\"rgb(232,232,232)\",\"linecolor\":\"rgb(36,36,36)\",\"showgrid\":false,\"showline\":true,\"ticks\":\"outside\"}},\"scene\":{\"xaxis\":{\"backgroundcolor\":\"white\",\"gridcolor\":\"rgb(232,232,232)\",\"gridwidth\":2,\"linecolor\":\"rgb(36,36,36)\",\"showbackground\":true,\"showgrid\":false,\"showline\":true,\"ticks\":\"outside\",\"zeroline\":false,\"zerolinecolor\":\"rgb(36,36,36)\"},\"yaxis\":{\"backgroundcolor\":\"white\",\"gridcolor\":\"rgb(232,232,232)\",\"gridwidth\":2,\"linecolor\":\"rgb(36,36,36)\",\"showbackground\":true,\"showgrid\":false,\"showline\":true,\"ticks\":\"outside\",\"zeroline\":false,\"zerolinecolor\":\"rgb(36,36,36)\"},\"zaxis\":{\"backgroundcolor\":\"white\",\"gridcolor\":\"rgb(232,232,232)\",\"gridwidth\":2,\"linecolor\":\"rgb(36,36,36)\",\"showbackground\":true,\"showgrid\":false,\"showline\":true,\"ticks\":\"outside\",\"zeroline\":false,\"zerolinecolor\":\"rgb(36,36,36)\"}},\"shapedefaults\":{\"fillcolor\":\"black\",\"line\":{\"width\":0},\"opacity\":0.3},\"ternary\":{\"aaxis\":{\"gridcolor\":\"rgb(232,232,232)\",\"linecolor\":\"rgb(36,36,36)\",\"showgrid\":false,\"showline\":true,\"ticks\":\"outside\"},\"baxis\":{\"gridcolor\":\"rgb(232,232,232)\",\"linecolor\":\"rgb(36,36,36)\",\"showgrid\":false,\"showline\":true,\"ticks\":\"outside\"},\"bgcolor\":\"white\",\"caxis\":{\"gridcolor\":\"rgb(232,232,232)\",\"linecolor\":\"rgb(36,36,36)\",\"showgrid\":false,\"showline\":true,\"ticks\":\"outside\"}},\"title\":{\"x\":0.05},\"xaxis\":{\"automargin\":true,\"gridcolor\":\"rgb(232,232,232)\",\"linecolor\":\"rgb(36,36,36)\",\"showgrid\":false,\"showline\":true,\"ticks\":\"outside\",\"title\":{\"standoff\":15},\"zeroline\":false,\"zerolinecolor\":\"rgb(36,36,36)\"},\"yaxis\":{\"automargin\":true,\"gridcolor\":\"rgb(232,232,232)\",\"linecolor\":\"rgb(36,36,36)\",\"showgrid\":false,\"showline\":true,\"ticks\":\"outside\",\"title\":{\"standoff\":15},\"zeroline\":false,\"zerolinecolor\":\"rgb(36,36,36)\"}}},\"title\":{\"text\":\"Indicador Materia Prima Bruta por origen\"},\"width\":700,\"xaxis\":{\"anchor\":\"y\",\"domain\":[0.0,1.0],\"title\":{\"text\":\"Mes\"}},\"yaxis\":{\"anchor\":\"x\",\"domain\":[0.0,1.0],\"title\":{\"text\":\"Ton\"}}},                        {\"responsive\": true}                    ).then(function(){\n",
       "                            \n",
       "var gd = document.getElementById('258fbe06-339e-4d1a-9787-07727f1e46f1');\n",
       "var x = new MutationObserver(function (mutations, observer) {{\n",
       "        var display = window.getComputedStyle(gd).display;\n",
       "        if (!display || display === 'none') {{\n",
       "            console.log([gd, 'removed!']);\n",
       "            Plotly.purge(gd);\n",
       "            observer.disconnect();\n",
       "        }}\n",
       "}});\n",
       "\n",
       "// Listen for the removal of the full notebook cells\n",
       "var notebookContainer = gd.closest('#notebook-container');\n",
       "if (notebookContainer) {{\n",
       "    x.observe(notebookContainer, {childList: true});\n",
       "}}\n",
       "\n",
       "// Listen for the clearing of the current output cell\n",
       "var outputEl = gd.closest('.output');\n",
       "if (outputEl) {{\n",
       "    x.observe(outputEl, {childList: true});\n",
       "}}\n",
       "\n",
       "                        })                };                });            </script>        </div>"
      ]
     },
     "metadata": {},
     "output_type": "display_data"
    }
   ],
   "source": [
    "import plotly.express as px\n",
    "from plotly.subplots import make_subplots\n",
    "import plotly.graph_objects as go\n",
    "\n",
    "datos_w=pd.pivot_table(datos, index='Mes', columns='Propiedad', values='Valor', aggfunc=np.sum)\n",
    "\n",
    "fig_industria = px.bar(datos_w, x=datos_w.index,\n",
    "            y=['MPB Propia','MPB Terceros'], title=\"Indicador Materia Prima Bruta por origen\",\n",
    "            labels={'Mes':'Mes','value':'Ton','variable':'Origen'},\n",
    "            color_discrete_map={\"MPB Propia\": \"#00609C\", \"MPB Terceros\": \"#F4D19F\"},\n",
    "            template=\"simple_white\",\n",
    "            width=700, \n",
    "            height=500,\n",
    "            )\n",
    "\n",
    "fig_industria.show()"
   ]
  },
  {
   "cell_type": "code",
   "execution_count": 55,
   "id": "b3c4eeb7",
   "metadata": {},
   "outputs": [
    {
     "data": {
      "application/vnd.plotly.v1+json": {
       "config": {
        "plotlyServerURL": "https://plot.ly"
       },
       "data": [
        {
         "alignmentgroup": "True",
         "hovertemplate": "Origen=MPB Propia<br>Mes=%{x}<br>Ton=%{y}<extra></extra>",
         "legendgroup": "MPB Propia",
         "marker": {
          "color": "#C45130",
          "pattern": {
           "shape": ""
          }
         },
         "name": "MPB Propia",
         "offsetgroup": "MPB Propia",
         "orientation": "v",
         "showlegend": true,
         "textposition": "auto",
         "type": "bar",
         "x": [
          1,
          2,
          3,
          5,
          6,
          8,
          9
         ],
         "xaxis": "x",
         "y": [
          1812.461,
          2083.091,
          3113.981,
          1964.189,
          2116.897,
          1591.197,
          380.358
         ],
         "yaxis": "y"
        },
        {
         "alignmentgroup": "True",
         "hovertemplate": "Origen=MPB Terceros<br>Mes=%{x}<br>Ton=%{y}<extra></extra>",
         "legendgroup": "MPB Terceros",
         "marker": {
          "color": "#FFAA61",
          "pattern": {
           "shape": ""
          }
         },
         "name": "MPB Terceros",
         "offsetgroup": "MPB Terceros",
         "orientation": "v",
         "showlegend": true,
         "textposition": "auto",
         "type": "bar",
         "x": [
          1,
          2,
          3,
          5,
          6,
          8,
          9
         ],
         "xaxis": "x",
         "y": [
          1261.3445434782607,
          996.7108167938933,
          684.856,
          1252.86,
          1238.044,
          1196.01,
          102.404
         ],
         "yaxis": "y"
        }
       ],
       "layout": {
        "barmode": "relative",
        "height": 500,
        "legend": {
         "title": {
          "text": "Origen"
         },
         "tracegroupgap": 0
        },
        "template": {
         "data": {
          "bar": [
           {
            "error_x": {
             "color": "rgb(36,36,36)"
            },
            "error_y": {
             "color": "rgb(36,36,36)"
            },
            "marker": {
             "line": {
              "color": "white",
              "width": 0.5
             },
             "pattern": {
              "fillmode": "overlay",
              "size": 10,
              "solidity": 0.2
             }
            },
            "type": "bar"
           }
          ],
          "barpolar": [
           {
            "marker": {
             "line": {
              "color": "white",
              "width": 0.5
             },
             "pattern": {
              "fillmode": "overlay",
              "size": 10,
              "solidity": 0.2
             }
            },
            "type": "barpolar"
           }
          ],
          "carpet": [
           {
            "aaxis": {
             "endlinecolor": "rgb(36,36,36)",
             "gridcolor": "white",
             "linecolor": "white",
             "minorgridcolor": "white",
             "startlinecolor": "rgb(36,36,36)"
            },
            "baxis": {
             "endlinecolor": "rgb(36,36,36)",
             "gridcolor": "white",
             "linecolor": "white",
             "minorgridcolor": "white",
             "startlinecolor": "rgb(36,36,36)"
            },
            "type": "carpet"
           }
          ],
          "choropleth": [
           {
            "colorbar": {
             "outlinewidth": 1,
             "tickcolor": "rgb(36,36,36)",
             "ticks": "outside"
            },
            "type": "choropleth"
           }
          ],
          "contour": [
           {
            "colorbar": {
             "outlinewidth": 1,
             "tickcolor": "rgb(36,36,36)",
             "ticks": "outside"
            },
            "colorscale": [
             [
              0,
              "#440154"
             ],
             [
              0.1111111111111111,
              "#482878"
             ],
             [
              0.2222222222222222,
              "#3e4989"
             ],
             [
              0.3333333333333333,
              "#31688e"
             ],
             [
              0.4444444444444444,
              "#26828e"
             ],
             [
              0.5555555555555556,
              "#1f9e89"
             ],
             [
              0.6666666666666666,
              "#35b779"
             ],
             [
              0.7777777777777778,
              "#6ece58"
             ],
             [
              0.8888888888888888,
              "#b5de2b"
             ],
             [
              1,
              "#fde725"
             ]
            ],
            "type": "contour"
           }
          ],
          "contourcarpet": [
           {
            "colorbar": {
             "outlinewidth": 1,
             "tickcolor": "rgb(36,36,36)",
             "ticks": "outside"
            },
            "type": "contourcarpet"
           }
          ],
          "heatmap": [
           {
            "colorbar": {
             "outlinewidth": 1,
             "tickcolor": "rgb(36,36,36)",
             "ticks": "outside"
            },
            "colorscale": [
             [
              0,
              "#440154"
             ],
             [
              0.1111111111111111,
              "#482878"
             ],
             [
              0.2222222222222222,
              "#3e4989"
             ],
             [
              0.3333333333333333,
              "#31688e"
             ],
             [
              0.4444444444444444,
              "#26828e"
             ],
             [
              0.5555555555555556,
              "#1f9e89"
             ],
             [
              0.6666666666666666,
              "#35b779"
             ],
             [
              0.7777777777777778,
              "#6ece58"
             ],
             [
              0.8888888888888888,
              "#b5de2b"
             ],
             [
              1,
              "#fde725"
             ]
            ],
            "type": "heatmap"
           }
          ],
          "heatmapgl": [
           {
            "colorbar": {
             "outlinewidth": 1,
             "tickcolor": "rgb(36,36,36)",
             "ticks": "outside"
            },
            "colorscale": [
             [
              0,
              "#440154"
             ],
             [
              0.1111111111111111,
              "#482878"
             ],
             [
              0.2222222222222222,
              "#3e4989"
             ],
             [
              0.3333333333333333,
              "#31688e"
             ],
             [
              0.4444444444444444,
              "#26828e"
             ],
             [
              0.5555555555555556,
              "#1f9e89"
             ],
             [
              0.6666666666666666,
              "#35b779"
             ],
             [
              0.7777777777777778,
              "#6ece58"
             ],
             [
              0.8888888888888888,
              "#b5de2b"
             ],
             [
              1,
              "#fde725"
             ]
            ],
            "type": "heatmapgl"
           }
          ],
          "histogram": [
           {
            "marker": {
             "line": {
              "color": "white",
              "width": 0.6
             }
            },
            "type": "histogram"
           }
          ],
          "histogram2d": [
           {
            "colorbar": {
             "outlinewidth": 1,
             "tickcolor": "rgb(36,36,36)",
             "ticks": "outside"
            },
            "colorscale": [
             [
              0,
              "#440154"
             ],
             [
              0.1111111111111111,
              "#482878"
             ],
             [
              0.2222222222222222,
              "#3e4989"
             ],
             [
              0.3333333333333333,
              "#31688e"
             ],
             [
              0.4444444444444444,
              "#26828e"
             ],
             [
              0.5555555555555556,
              "#1f9e89"
             ],
             [
              0.6666666666666666,
              "#35b779"
             ],
             [
              0.7777777777777778,
              "#6ece58"
             ],
             [
              0.8888888888888888,
              "#b5de2b"
             ],
             [
              1,
              "#fde725"
             ]
            ],
            "type": "histogram2d"
           }
          ],
          "histogram2dcontour": [
           {
            "colorbar": {
             "outlinewidth": 1,
             "tickcolor": "rgb(36,36,36)",
             "ticks": "outside"
            },
            "colorscale": [
             [
              0,
              "#440154"
             ],
             [
              0.1111111111111111,
              "#482878"
             ],
             [
              0.2222222222222222,
              "#3e4989"
             ],
             [
              0.3333333333333333,
              "#31688e"
             ],
             [
              0.4444444444444444,
              "#26828e"
             ],
             [
              0.5555555555555556,
              "#1f9e89"
             ],
             [
              0.6666666666666666,
              "#35b779"
             ],
             [
              0.7777777777777778,
              "#6ece58"
             ],
             [
              0.8888888888888888,
              "#b5de2b"
             ],
             [
              1,
              "#fde725"
             ]
            ],
            "type": "histogram2dcontour"
           }
          ],
          "mesh3d": [
           {
            "colorbar": {
             "outlinewidth": 1,
             "tickcolor": "rgb(36,36,36)",
             "ticks": "outside"
            },
            "type": "mesh3d"
           }
          ],
          "parcoords": [
           {
            "line": {
             "colorbar": {
              "outlinewidth": 1,
              "tickcolor": "rgb(36,36,36)",
              "ticks": "outside"
             }
            },
            "type": "parcoords"
           }
          ],
          "pie": [
           {
            "automargin": true,
            "type": "pie"
           }
          ],
          "scatter": [
           {
            "marker": {
             "colorbar": {
              "outlinewidth": 1,
              "tickcolor": "rgb(36,36,36)",
              "ticks": "outside"
             }
            },
            "type": "scatter"
           }
          ],
          "scatter3d": [
           {
            "line": {
             "colorbar": {
              "outlinewidth": 1,
              "tickcolor": "rgb(36,36,36)",
              "ticks": "outside"
             }
            },
            "marker": {
             "colorbar": {
              "outlinewidth": 1,
              "tickcolor": "rgb(36,36,36)",
              "ticks": "outside"
             }
            },
            "type": "scatter3d"
           }
          ],
          "scattercarpet": [
           {
            "marker": {
             "colorbar": {
              "outlinewidth": 1,
              "tickcolor": "rgb(36,36,36)",
              "ticks": "outside"
             }
            },
            "type": "scattercarpet"
           }
          ],
          "scattergeo": [
           {
            "marker": {
             "colorbar": {
              "outlinewidth": 1,
              "tickcolor": "rgb(36,36,36)",
              "ticks": "outside"
             }
            },
            "type": "scattergeo"
           }
          ],
          "scattergl": [
           {
            "marker": {
             "colorbar": {
              "outlinewidth": 1,
              "tickcolor": "rgb(36,36,36)",
              "ticks": "outside"
             }
            },
            "type": "scattergl"
           }
          ],
          "scattermapbox": [
           {
            "marker": {
             "colorbar": {
              "outlinewidth": 1,
              "tickcolor": "rgb(36,36,36)",
              "ticks": "outside"
             }
            },
            "type": "scattermapbox"
           }
          ],
          "scatterpolar": [
           {
            "marker": {
             "colorbar": {
              "outlinewidth": 1,
              "tickcolor": "rgb(36,36,36)",
              "ticks": "outside"
             }
            },
            "type": "scatterpolar"
           }
          ],
          "scatterpolargl": [
           {
            "marker": {
             "colorbar": {
              "outlinewidth": 1,
              "tickcolor": "rgb(36,36,36)",
              "ticks": "outside"
             }
            },
            "type": "scatterpolargl"
           }
          ],
          "scatterternary": [
           {
            "marker": {
             "colorbar": {
              "outlinewidth": 1,
              "tickcolor": "rgb(36,36,36)",
              "ticks": "outside"
             }
            },
            "type": "scatterternary"
           }
          ],
          "surface": [
           {
            "colorbar": {
             "outlinewidth": 1,
             "tickcolor": "rgb(36,36,36)",
             "ticks": "outside"
            },
            "colorscale": [
             [
              0,
              "#440154"
             ],
             [
              0.1111111111111111,
              "#482878"
             ],
             [
              0.2222222222222222,
              "#3e4989"
             ],
             [
              0.3333333333333333,
              "#31688e"
             ],
             [
              0.4444444444444444,
              "#26828e"
             ],
             [
              0.5555555555555556,
              "#1f9e89"
             ],
             [
              0.6666666666666666,
              "#35b779"
             ],
             [
              0.7777777777777778,
              "#6ece58"
             ],
             [
              0.8888888888888888,
              "#b5de2b"
             ],
             [
              1,
              "#fde725"
             ]
            ],
            "type": "surface"
           }
          ],
          "table": [
           {
            "cells": {
             "fill": {
              "color": "rgb(237,237,237)"
             },
             "line": {
              "color": "white"
             }
            },
            "header": {
             "fill": {
              "color": "rgb(217,217,217)"
             },
             "line": {
              "color": "white"
             }
            },
            "type": "table"
           }
          ]
         },
         "layout": {
          "annotationdefaults": {
           "arrowhead": 0,
           "arrowwidth": 1
          },
          "autotypenumbers": "strict",
          "coloraxis": {
           "colorbar": {
            "outlinewidth": 1,
            "tickcolor": "rgb(36,36,36)",
            "ticks": "outside"
           }
          },
          "colorscale": {
           "diverging": [
            [
             0,
             "rgb(103,0,31)"
            ],
            [
             0.1,
             "rgb(178,24,43)"
            ],
            [
             0.2,
             "rgb(214,96,77)"
            ],
            [
             0.3,
             "rgb(244,165,130)"
            ],
            [
             0.4,
             "rgb(253,219,199)"
            ],
            [
             0.5,
             "rgb(247,247,247)"
            ],
            [
             0.6,
             "rgb(209,229,240)"
            ],
            [
             0.7,
             "rgb(146,197,222)"
            ],
            [
             0.8,
             "rgb(67,147,195)"
            ],
            [
             0.9,
             "rgb(33,102,172)"
            ],
            [
             1,
             "rgb(5,48,97)"
            ]
           ],
           "sequential": [
            [
             0,
             "#440154"
            ],
            [
             0.1111111111111111,
             "#482878"
            ],
            [
             0.2222222222222222,
             "#3e4989"
            ],
            [
             0.3333333333333333,
             "#31688e"
            ],
            [
             0.4444444444444444,
             "#26828e"
            ],
            [
             0.5555555555555556,
             "#1f9e89"
            ],
            [
             0.6666666666666666,
             "#35b779"
            ],
            [
             0.7777777777777778,
             "#6ece58"
            ],
            [
             0.8888888888888888,
             "#b5de2b"
            ],
            [
             1,
             "#fde725"
            ]
           ],
           "sequentialminus": [
            [
             0,
             "#440154"
            ],
            [
             0.1111111111111111,
             "#482878"
            ],
            [
             0.2222222222222222,
             "#3e4989"
            ],
            [
             0.3333333333333333,
             "#31688e"
            ],
            [
             0.4444444444444444,
             "#26828e"
            ],
            [
             0.5555555555555556,
             "#1f9e89"
            ],
            [
             0.6666666666666666,
             "#35b779"
            ],
            [
             0.7777777777777778,
             "#6ece58"
            ],
            [
             0.8888888888888888,
             "#b5de2b"
            ],
            [
             1,
             "#fde725"
            ]
           ]
          },
          "colorway": [
           "#1F77B4",
           "#FF7F0E",
           "#2CA02C",
           "#D62728",
           "#9467BD",
           "#8C564B",
           "#E377C2",
           "#7F7F7F",
           "#BCBD22",
           "#17BECF"
          ],
          "font": {
           "color": "rgb(36,36,36)"
          },
          "geo": {
           "bgcolor": "white",
           "lakecolor": "white",
           "landcolor": "white",
           "showlakes": true,
           "showland": true,
           "subunitcolor": "white"
          },
          "hoverlabel": {
           "align": "left"
          },
          "hovermode": "closest",
          "mapbox": {
           "style": "light"
          },
          "paper_bgcolor": "white",
          "plot_bgcolor": "white",
          "polar": {
           "angularaxis": {
            "gridcolor": "rgb(232,232,232)",
            "linecolor": "rgb(36,36,36)",
            "showgrid": false,
            "showline": true,
            "ticks": "outside"
           },
           "bgcolor": "white",
           "radialaxis": {
            "gridcolor": "rgb(232,232,232)",
            "linecolor": "rgb(36,36,36)",
            "showgrid": false,
            "showline": true,
            "ticks": "outside"
           }
          },
          "scene": {
           "xaxis": {
            "backgroundcolor": "white",
            "gridcolor": "rgb(232,232,232)",
            "gridwidth": 2,
            "linecolor": "rgb(36,36,36)",
            "showbackground": true,
            "showgrid": false,
            "showline": true,
            "ticks": "outside",
            "zeroline": false,
            "zerolinecolor": "rgb(36,36,36)"
           },
           "yaxis": {
            "backgroundcolor": "white",
            "gridcolor": "rgb(232,232,232)",
            "gridwidth": 2,
            "linecolor": "rgb(36,36,36)",
            "showbackground": true,
            "showgrid": false,
            "showline": true,
            "ticks": "outside",
            "zeroline": false,
            "zerolinecolor": "rgb(36,36,36)"
           },
           "zaxis": {
            "backgroundcolor": "white",
            "gridcolor": "rgb(232,232,232)",
            "gridwidth": 2,
            "linecolor": "rgb(36,36,36)",
            "showbackground": true,
            "showgrid": false,
            "showline": true,
            "ticks": "outside",
            "zeroline": false,
            "zerolinecolor": "rgb(36,36,36)"
           }
          },
          "shapedefaults": {
           "fillcolor": "black",
           "line": {
            "width": 0
           },
           "opacity": 0.3
          },
          "ternary": {
           "aaxis": {
            "gridcolor": "rgb(232,232,232)",
            "linecolor": "rgb(36,36,36)",
            "showgrid": false,
            "showline": true,
            "ticks": "outside"
           },
           "baxis": {
            "gridcolor": "rgb(232,232,232)",
            "linecolor": "rgb(36,36,36)",
            "showgrid": false,
            "showline": true,
            "ticks": "outside"
           },
           "bgcolor": "white",
           "caxis": {
            "gridcolor": "rgb(232,232,232)",
            "linecolor": "rgb(36,36,36)",
            "showgrid": false,
            "showline": true,
            "ticks": "outside"
           }
          },
          "title": {
           "x": 0.05
          },
          "xaxis": {
           "automargin": true,
           "gridcolor": "rgb(232,232,232)",
           "linecolor": "rgb(36,36,36)",
           "showgrid": false,
           "showline": true,
           "ticks": "outside",
           "title": {
            "standoff": 15
           },
           "zeroline": false,
           "zerolinecolor": "rgb(36,36,36)"
          },
          "yaxis": {
           "automargin": true,
           "gridcolor": "rgb(232,232,232)",
           "linecolor": "rgb(36,36,36)",
           "showgrid": false,
           "showline": true,
           "ticks": "outside",
           "title": {
            "standoff": 15
           },
           "zeroline": false,
           "zerolinecolor": "rgb(36,36,36)"
          }
         }
        },
        "title": {
         "text": "Indicador Materia Prima Bruta por origen Manuelita"
        },
        "width": 700,
        "xaxis": {
         "anchor": "y",
         "domain": [
          0,
          1
         ],
         "title": {
          "text": "Mes"
         }
        },
        "yaxis": {
         "anchor": "x",
         "domain": [
          0,
          1
         ],
         "title": {
          "text": "Ton"
         }
        }
       }
      },
      "text/html": [
       "<div>                            <div id=\"8417f6d6-458d-4ac6-bd92-67cb2baaa720\" class=\"plotly-graph-div\" style=\"height:500px; width:700px;\"></div>            <script type=\"text/javascript\">                require([\"plotly\"], function(Plotly) {                    window.PLOTLYENV=window.PLOTLYENV || {};                                    if (document.getElementById(\"8417f6d6-458d-4ac6-bd92-67cb2baaa720\")) {                    Plotly.newPlot(                        \"8417f6d6-458d-4ac6-bd92-67cb2baaa720\",                        [{\"alignmentgroup\":\"True\",\"hovertemplate\":\"Origen=MPB Propia<br>Mes=%{x}<br>Ton=%{y}<extra></extra>\",\"legendgroup\":\"MPB Propia\",\"marker\":{\"color\":\"#C45130\",\"pattern\":{\"shape\":\"\"}},\"name\":\"MPB Propia\",\"offsetgroup\":\"MPB Propia\",\"orientation\":\"v\",\"showlegend\":true,\"textposition\":\"auto\",\"type\":\"bar\",\"x\":[1,2,3,5,6,8,9],\"xaxis\":\"x\",\"y\":[1812.461,2083.091,3113.981,1964.189,2116.897,1591.197,380.358],\"yaxis\":\"y\"},{\"alignmentgroup\":\"True\",\"hovertemplate\":\"Origen=MPB Terceros<br>Mes=%{x}<br>Ton=%{y}<extra></extra>\",\"legendgroup\":\"MPB Terceros\",\"marker\":{\"color\":\"#FFAA61\",\"pattern\":{\"shape\":\"\"}},\"name\":\"MPB Terceros\",\"offsetgroup\":\"MPB Terceros\",\"orientation\":\"v\",\"showlegend\":true,\"textposition\":\"auto\",\"type\":\"bar\",\"x\":[1,2,3,5,6,8,9],\"xaxis\":\"x\",\"y\":[1261.3445434782607,996.7108167938933,684.856,1252.86,1238.044,1196.01,102.404],\"yaxis\":\"y\"}],                        {\"barmode\":\"relative\",\"height\":500,\"legend\":{\"title\":{\"text\":\"Origen\"},\"tracegroupgap\":0},\"template\":{\"data\":{\"bar\":[{\"error_x\":{\"color\":\"rgb(36,36,36)\"},\"error_y\":{\"color\":\"rgb(36,36,36)\"},\"marker\":{\"line\":{\"color\":\"white\",\"width\":0.5},\"pattern\":{\"fillmode\":\"overlay\",\"size\":10,\"solidity\":0.2}},\"type\":\"bar\"}],\"barpolar\":[{\"marker\":{\"line\":{\"color\":\"white\",\"width\":0.5},\"pattern\":{\"fillmode\":\"overlay\",\"size\":10,\"solidity\":0.2}},\"type\":\"barpolar\"}],\"carpet\":[{\"aaxis\":{\"endlinecolor\":\"rgb(36,36,36)\",\"gridcolor\":\"white\",\"linecolor\":\"white\",\"minorgridcolor\":\"white\",\"startlinecolor\":\"rgb(36,36,36)\"},\"baxis\":{\"endlinecolor\":\"rgb(36,36,36)\",\"gridcolor\":\"white\",\"linecolor\":\"white\",\"minorgridcolor\":\"white\",\"startlinecolor\":\"rgb(36,36,36)\"},\"type\":\"carpet\"}],\"choropleth\":[{\"colorbar\":{\"outlinewidth\":1,\"tickcolor\":\"rgb(36,36,36)\",\"ticks\":\"outside\"},\"type\":\"choropleth\"}],\"contour\":[{\"colorbar\":{\"outlinewidth\":1,\"tickcolor\":\"rgb(36,36,36)\",\"ticks\":\"outside\"},\"colorscale\":[[0.0,\"#440154\"],[0.1111111111111111,\"#482878\"],[0.2222222222222222,\"#3e4989\"],[0.3333333333333333,\"#31688e\"],[0.4444444444444444,\"#26828e\"],[0.5555555555555556,\"#1f9e89\"],[0.6666666666666666,\"#35b779\"],[0.7777777777777778,\"#6ece58\"],[0.8888888888888888,\"#b5de2b\"],[1.0,\"#fde725\"]],\"type\":\"contour\"}],\"contourcarpet\":[{\"colorbar\":{\"outlinewidth\":1,\"tickcolor\":\"rgb(36,36,36)\",\"ticks\":\"outside\"},\"type\":\"contourcarpet\"}],\"heatmap\":[{\"colorbar\":{\"outlinewidth\":1,\"tickcolor\":\"rgb(36,36,36)\",\"ticks\":\"outside\"},\"colorscale\":[[0.0,\"#440154\"],[0.1111111111111111,\"#482878\"],[0.2222222222222222,\"#3e4989\"],[0.3333333333333333,\"#31688e\"],[0.4444444444444444,\"#26828e\"],[0.5555555555555556,\"#1f9e89\"],[0.6666666666666666,\"#35b779\"],[0.7777777777777778,\"#6ece58\"],[0.8888888888888888,\"#b5de2b\"],[1.0,\"#fde725\"]],\"type\":\"heatmap\"}],\"heatmapgl\":[{\"colorbar\":{\"outlinewidth\":1,\"tickcolor\":\"rgb(36,36,36)\",\"ticks\":\"outside\"},\"colorscale\":[[0.0,\"#440154\"],[0.1111111111111111,\"#482878\"],[0.2222222222222222,\"#3e4989\"],[0.3333333333333333,\"#31688e\"],[0.4444444444444444,\"#26828e\"],[0.5555555555555556,\"#1f9e89\"],[0.6666666666666666,\"#35b779\"],[0.7777777777777778,\"#6ece58\"],[0.8888888888888888,\"#b5de2b\"],[1.0,\"#fde725\"]],\"type\":\"heatmapgl\"}],\"histogram\":[{\"marker\":{\"line\":{\"color\":\"white\",\"width\":0.6}},\"type\":\"histogram\"}],\"histogram2d\":[{\"colorbar\":{\"outlinewidth\":1,\"tickcolor\":\"rgb(36,36,36)\",\"ticks\":\"outside\"},\"colorscale\":[[0.0,\"#440154\"],[0.1111111111111111,\"#482878\"],[0.2222222222222222,\"#3e4989\"],[0.3333333333333333,\"#31688e\"],[0.4444444444444444,\"#26828e\"],[0.5555555555555556,\"#1f9e89\"],[0.6666666666666666,\"#35b779\"],[0.7777777777777778,\"#6ece58\"],[0.8888888888888888,\"#b5de2b\"],[1.0,\"#fde725\"]],\"type\":\"histogram2d\"}],\"histogram2dcontour\":[{\"colorbar\":{\"outlinewidth\":1,\"tickcolor\":\"rgb(36,36,36)\",\"ticks\":\"outside\"},\"colorscale\":[[0.0,\"#440154\"],[0.1111111111111111,\"#482878\"],[0.2222222222222222,\"#3e4989\"],[0.3333333333333333,\"#31688e\"],[0.4444444444444444,\"#26828e\"],[0.5555555555555556,\"#1f9e89\"],[0.6666666666666666,\"#35b779\"],[0.7777777777777778,\"#6ece58\"],[0.8888888888888888,\"#b5de2b\"],[1.0,\"#fde725\"]],\"type\":\"histogram2dcontour\"}],\"mesh3d\":[{\"colorbar\":{\"outlinewidth\":1,\"tickcolor\":\"rgb(36,36,36)\",\"ticks\":\"outside\"},\"type\":\"mesh3d\"}],\"parcoords\":[{\"line\":{\"colorbar\":{\"outlinewidth\":1,\"tickcolor\":\"rgb(36,36,36)\",\"ticks\":\"outside\"}},\"type\":\"parcoords\"}],\"pie\":[{\"automargin\":true,\"type\":\"pie\"}],\"scatter\":[{\"marker\":{\"colorbar\":{\"outlinewidth\":1,\"tickcolor\":\"rgb(36,36,36)\",\"ticks\":\"outside\"}},\"type\":\"scatter\"}],\"scatter3d\":[{\"line\":{\"colorbar\":{\"outlinewidth\":1,\"tickcolor\":\"rgb(36,36,36)\",\"ticks\":\"outside\"}},\"marker\":{\"colorbar\":{\"outlinewidth\":1,\"tickcolor\":\"rgb(36,36,36)\",\"ticks\":\"outside\"}},\"type\":\"scatter3d\"}],\"scattercarpet\":[{\"marker\":{\"colorbar\":{\"outlinewidth\":1,\"tickcolor\":\"rgb(36,36,36)\",\"ticks\":\"outside\"}},\"type\":\"scattercarpet\"}],\"scattergeo\":[{\"marker\":{\"colorbar\":{\"outlinewidth\":1,\"tickcolor\":\"rgb(36,36,36)\",\"ticks\":\"outside\"}},\"type\":\"scattergeo\"}],\"scattergl\":[{\"marker\":{\"colorbar\":{\"outlinewidth\":1,\"tickcolor\":\"rgb(36,36,36)\",\"ticks\":\"outside\"}},\"type\":\"scattergl\"}],\"scattermapbox\":[{\"marker\":{\"colorbar\":{\"outlinewidth\":1,\"tickcolor\":\"rgb(36,36,36)\",\"ticks\":\"outside\"}},\"type\":\"scattermapbox\"}],\"scatterpolar\":[{\"marker\":{\"colorbar\":{\"outlinewidth\":1,\"tickcolor\":\"rgb(36,36,36)\",\"ticks\":\"outside\"}},\"type\":\"scatterpolar\"}],\"scatterpolargl\":[{\"marker\":{\"colorbar\":{\"outlinewidth\":1,\"tickcolor\":\"rgb(36,36,36)\",\"ticks\":\"outside\"}},\"type\":\"scatterpolargl\"}],\"scatterternary\":[{\"marker\":{\"colorbar\":{\"outlinewidth\":1,\"tickcolor\":\"rgb(36,36,36)\",\"ticks\":\"outside\"}},\"type\":\"scatterternary\"}],\"surface\":[{\"colorbar\":{\"outlinewidth\":1,\"tickcolor\":\"rgb(36,36,36)\",\"ticks\":\"outside\"},\"colorscale\":[[0.0,\"#440154\"],[0.1111111111111111,\"#482878\"],[0.2222222222222222,\"#3e4989\"],[0.3333333333333333,\"#31688e\"],[0.4444444444444444,\"#26828e\"],[0.5555555555555556,\"#1f9e89\"],[0.6666666666666666,\"#35b779\"],[0.7777777777777778,\"#6ece58\"],[0.8888888888888888,\"#b5de2b\"],[1.0,\"#fde725\"]],\"type\":\"surface\"}],\"table\":[{\"cells\":{\"fill\":{\"color\":\"rgb(237,237,237)\"},\"line\":{\"color\":\"white\"}},\"header\":{\"fill\":{\"color\":\"rgb(217,217,217)\"},\"line\":{\"color\":\"white\"}},\"type\":\"table\"}]},\"layout\":{\"annotationdefaults\":{\"arrowhead\":0,\"arrowwidth\":1},\"autotypenumbers\":\"strict\",\"coloraxis\":{\"colorbar\":{\"outlinewidth\":1,\"tickcolor\":\"rgb(36,36,36)\",\"ticks\":\"outside\"}},\"colorscale\":{\"diverging\":[[0.0,\"rgb(103,0,31)\"],[0.1,\"rgb(178,24,43)\"],[0.2,\"rgb(214,96,77)\"],[0.3,\"rgb(244,165,130)\"],[0.4,\"rgb(253,219,199)\"],[0.5,\"rgb(247,247,247)\"],[0.6,\"rgb(209,229,240)\"],[0.7,\"rgb(146,197,222)\"],[0.8,\"rgb(67,147,195)\"],[0.9,\"rgb(33,102,172)\"],[1.0,\"rgb(5,48,97)\"]],\"sequential\":[[0.0,\"#440154\"],[0.1111111111111111,\"#482878\"],[0.2222222222222222,\"#3e4989\"],[0.3333333333333333,\"#31688e\"],[0.4444444444444444,\"#26828e\"],[0.5555555555555556,\"#1f9e89\"],[0.6666666666666666,\"#35b779\"],[0.7777777777777778,\"#6ece58\"],[0.8888888888888888,\"#b5de2b\"],[1.0,\"#fde725\"]],\"sequentialminus\":[[0.0,\"#440154\"],[0.1111111111111111,\"#482878\"],[0.2222222222222222,\"#3e4989\"],[0.3333333333333333,\"#31688e\"],[0.4444444444444444,\"#26828e\"],[0.5555555555555556,\"#1f9e89\"],[0.6666666666666666,\"#35b779\"],[0.7777777777777778,\"#6ece58\"],[0.8888888888888888,\"#b5de2b\"],[1.0,\"#fde725\"]]},\"colorway\":[\"#1F77B4\",\"#FF7F0E\",\"#2CA02C\",\"#D62728\",\"#9467BD\",\"#8C564B\",\"#E377C2\",\"#7F7F7F\",\"#BCBD22\",\"#17BECF\"],\"font\":{\"color\":\"rgb(36,36,36)\"},\"geo\":{\"bgcolor\":\"white\",\"lakecolor\":\"white\",\"landcolor\":\"white\",\"showlakes\":true,\"showland\":true,\"subunitcolor\":\"white\"},\"hoverlabel\":{\"align\":\"left\"},\"hovermode\":\"closest\",\"mapbox\":{\"style\":\"light\"},\"paper_bgcolor\":\"white\",\"plot_bgcolor\":\"white\",\"polar\":{\"angularaxis\":{\"gridcolor\":\"rgb(232,232,232)\",\"linecolor\":\"rgb(36,36,36)\",\"showgrid\":false,\"showline\":true,\"ticks\":\"outside\"},\"bgcolor\":\"white\",\"radialaxis\":{\"gridcolor\":\"rgb(232,232,232)\",\"linecolor\":\"rgb(36,36,36)\",\"showgrid\":false,\"showline\":true,\"ticks\":\"outside\"}},\"scene\":{\"xaxis\":{\"backgroundcolor\":\"white\",\"gridcolor\":\"rgb(232,232,232)\",\"gridwidth\":2,\"linecolor\":\"rgb(36,36,36)\",\"showbackground\":true,\"showgrid\":false,\"showline\":true,\"ticks\":\"outside\",\"zeroline\":false,\"zerolinecolor\":\"rgb(36,36,36)\"},\"yaxis\":{\"backgroundcolor\":\"white\",\"gridcolor\":\"rgb(232,232,232)\",\"gridwidth\":2,\"linecolor\":\"rgb(36,36,36)\",\"showbackground\":true,\"showgrid\":false,\"showline\":true,\"ticks\":\"outside\",\"zeroline\":false,\"zerolinecolor\":\"rgb(36,36,36)\"},\"zaxis\":{\"backgroundcolor\":\"white\",\"gridcolor\":\"rgb(232,232,232)\",\"gridwidth\":2,\"linecolor\":\"rgb(36,36,36)\",\"showbackground\":true,\"showgrid\":false,\"showline\":true,\"ticks\":\"outside\",\"zeroline\":false,\"zerolinecolor\":\"rgb(36,36,36)\"}},\"shapedefaults\":{\"fillcolor\":\"black\",\"line\":{\"width\":0},\"opacity\":0.3},\"ternary\":{\"aaxis\":{\"gridcolor\":\"rgb(232,232,232)\",\"linecolor\":\"rgb(36,36,36)\",\"showgrid\":false,\"showline\":true,\"ticks\":\"outside\"},\"baxis\":{\"gridcolor\":\"rgb(232,232,232)\",\"linecolor\":\"rgb(36,36,36)\",\"showgrid\":false,\"showline\":true,\"ticks\":\"outside\"},\"bgcolor\":\"white\",\"caxis\":{\"gridcolor\":\"rgb(232,232,232)\",\"linecolor\":\"rgb(36,36,36)\",\"showgrid\":false,\"showline\":true,\"ticks\":\"outside\"}},\"title\":{\"x\":0.05},\"xaxis\":{\"automargin\":true,\"gridcolor\":\"rgb(232,232,232)\",\"linecolor\":\"rgb(36,36,36)\",\"showgrid\":false,\"showline\":true,\"ticks\":\"outside\",\"title\":{\"standoff\":15},\"zeroline\":false,\"zerolinecolor\":\"rgb(36,36,36)\"},\"yaxis\":{\"automargin\":true,\"gridcolor\":\"rgb(232,232,232)\",\"linecolor\":\"rgb(36,36,36)\",\"showgrid\":false,\"showline\":true,\"ticks\":\"outside\",\"title\":{\"standoff\":15},\"zeroline\":false,\"zerolinecolor\":\"rgb(36,36,36)\"}}},\"title\":{\"text\":\"Indicador Materia Prima Bruta por origen Manuelita\"},\"width\":700,\"xaxis\":{\"anchor\":\"y\",\"domain\":[0.0,1.0],\"title\":{\"text\":\"Mes\"}},\"yaxis\":{\"anchor\":\"x\",\"domain\":[0.0,1.0],\"title\":{\"text\":\"Ton\"}}},                        {\"responsive\": true}                    ).then(function(){\n",
       "                            \n",
       "var gd = document.getElementById('8417f6d6-458d-4ac6-bd92-67cb2baaa720');\n",
       "var x = new MutationObserver(function (mutations, observer) {{\n",
       "        var display = window.getComputedStyle(gd).display;\n",
       "        if (!display || display === 'none') {{\n",
       "            console.log([gd, 'removed!']);\n",
       "            Plotly.purge(gd);\n",
       "            observer.disconnect();\n",
       "        }}\n",
       "}});\n",
       "\n",
       "// Listen for the removal of the full notebook cells\n",
       "var notebookContainer = gd.closest('#notebook-container');\n",
       "if (notebookContainer) {{\n",
       "    x.observe(notebookContainer, {childList: true});\n",
       "}}\n",
       "\n",
       "// Listen for the clearing of the current output cell\n",
       "var outputEl = gd.closest('.output');\n",
       "if (outputEl) {{\n",
       "    x.observe(outputEl, {childList: true});\n",
       "}}\n",
       "\n",
       "                        })                };                });            </script>        </div>"
      ]
     },
     "metadata": {},
     "output_type": "display_data"
    }
   ],
   "source": [
    "empresa = 'Manuelita'\n",
    "import plotly.express as px\n",
    "from plotly.subplots import make_subplots\n",
    "import plotly.graph_objects as go\n",
    "\n",
    "datos_w=pd.pivot_table(datos[datos.Empresa == empresa], index='Mes', columns='Propiedad', values='Valor', aggfunc=np.sum)\n",
    "\n",
    "fig_industria = px.bar(datos_w, x=datos_w.index,\n",
    "            y=['MPB Propia','MPB Terceros'], title=\"Indicador Materia Prima Bruta por origen \"+empresa,\n",
    "            labels={'Mes':'Mes','value':'Ton','variable':'Origen'},\n",
    "            color_discrete_map={\"MPB Propia\": \"#C45130\", \"MPB Terceros\": \"#FFAA61\"},\n",
    "            template=\"simple_white\",\n",
    "            width=700, \n",
    "            height=500)\n",
    "\n",
    "fig_industria.show()"
   ]
  },
  {
   "cell_type": "markdown",
   "id": "71658532",
   "metadata": {},
   "source": [
    "# Unidades por Kilo"
   ]
  },
  {
   "cell_type": "code",
   "execution_count": 56,
   "id": "44de0693",
   "metadata": {},
   "outputs": [],
   "source": [
    "datos = ingresos_mmpp.copy()\n",
    "datos['Indicadores'] = [dict_indicadores_2[datos.Indicador.iloc[i]] for i in range(len(datos.Indicador))]\n",
    "datos['Propietario'] = [dict_propiedad[datos.Indicador.iloc[i]] for i in range(len(datos.Indicador))]\n",
    "datos.drop_duplicates(inplace = True, subset=['Indicador','Valor','Mes','Año','Empresa'])"
   ]
  },
  {
   "cell_type": "code",
   "execution_count": 57,
   "id": "924cc80d",
   "metadata": {},
   "outputs": [],
   "source": [
    "datos.drop_duplicates(inplace = True, subset=['Indicador','Valor','Mes','Año','Empresa'])"
   ]
  },
  {
   "cell_type": "code",
   "execution_count": 58,
   "id": "50f24e74",
   "metadata": {},
   "outputs": [
    {
     "data": {
      "text/html": [
       "<div>\n",
       "<style scoped>\n",
       "    .dataframe tbody tr th:only-of-type {\n",
       "        vertical-align: middle;\n",
       "    }\n",
       "\n",
       "    .dataframe tbody tr th {\n",
       "        vertical-align: top;\n",
       "    }\n",
       "\n",
       "    .dataframe thead th {\n",
       "        text-align: right;\n",
       "    }\n",
       "</style>\n",
       "<table border=\"1\" class=\"dataframe\">\n",
       "  <thead>\n",
       "    <tr style=\"text-align: right;\">\n",
       "      <th></th>\n",
       "      <th>Indicador</th>\n",
       "      <th>Valor</th>\n",
       "      <th>Unidad de medida</th>\n",
       "      <th>Definición</th>\n",
       "      <th>Mes</th>\n",
       "      <th>Año</th>\n",
       "      <th>Empresa</th>\n",
       "      <th>Tipo</th>\n",
       "      <th>Propiedad</th>\n",
       "      <th>Indicadores</th>\n",
       "      <th>Propietario</th>\n",
       "    </tr>\n",
       "  </thead>\n",
       "  <tbody>\n",
       "    <tr>\n",
       "      <th>238</th>\n",
       "      <td>Ingreso Materia Prima Bruta Propia</td>\n",
       "      <td>1001.615500</td>\n",
       "      <td>Ton</td>\n",
       "      <td>Total Kilos mmpp de centros de la empresa ingr...</td>\n",
       "      <td>1</td>\n",
       "      <td>2021</td>\n",
       "      <td>Sudmaris</td>\n",
       "      <td>MP Bruta</td>\n",
       "      <td>MPB Propia</td>\n",
       "      <td>Ingreso Materia Prima Bruta</td>\n",
       "      <td>Materia Prima Propia</td>\n",
       "    </tr>\n",
       "    <tr>\n",
       "      <th>239</th>\n",
       "      <td>Ingreso Materia Prima Neta o Pagada Propia</td>\n",
       "      <td>742.000986</td>\n",
       "      <td>Ton</td>\n",
       "      <td>Total Kilos mmpp de centros de la empresa ingr...</td>\n",
       "      <td>1</td>\n",
       "      <td>2021</td>\n",
       "      <td>Sudmaris</td>\n",
       "      <td>MP Neta</td>\n",
       "      <td>MPN Propia</td>\n",
       "      <td>Ingreso Materia Prima Neta</td>\n",
       "      <td>Materia Prima Propia</td>\n",
       "    </tr>\n",
       "    <tr>\n",
       "      <th>240</th>\n",
       "      <td>Unidades por kilo mmpp propia*</td>\n",
       "      <td>65.000000</td>\n",
       "      <td>uni/kg</td>\n",
       "      <td>Promedio Ponderado del Número de Mejillones po...</td>\n",
       "      <td>1</td>\n",
       "      <td>2021</td>\n",
       "      <td>Sudmaris</td>\n",
       "      <td>No aplica</td>\n",
       "      <td>No aplica</td>\n",
       "      <td>Unidades por kilo</td>\n",
       "      <td>Materia Prima Propia</td>\n",
       "    </tr>\n",
       "    <tr>\n",
       "      <th>241</th>\n",
       "      <td>Ingreso Materia Prima Bruta Terceros</td>\n",
       "      <td>2371.829000</td>\n",
       "      <td>Ton</td>\n",
       "      <td>Total Kilos mmpp de centros de terceros ingres...</td>\n",
       "      <td>1</td>\n",
       "      <td>2021</td>\n",
       "      <td>Sudmaris</td>\n",
       "      <td>MP Bruta</td>\n",
       "      <td>MPB Terceros</td>\n",
       "      <td>Ingreso Materia Prima Bruta</td>\n",
       "      <td>Materia Prima Terceros</td>\n",
       "    </tr>\n",
       "    <tr>\n",
       "      <th>242</th>\n",
       "      <td>Ingreso Materia Prima Neta o Pagada Terceros</td>\n",
       "      <td>1996.818919</td>\n",
       "      <td>Ton</td>\n",
       "      <td>Total Kilos mmpp de centros de  terceros ingre...</td>\n",
       "      <td>1</td>\n",
       "      <td>2021</td>\n",
       "      <td>Sudmaris</td>\n",
       "      <td>MP Neta</td>\n",
       "      <td>MPN Terceros</td>\n",
       "      <td>Ingreso Materia Prima Neta</td>\n",
       "      <td>Materia Prima Terceros</td>\n",
       "    </tr>\n",
       "    <tr>\n",
       "      <th>243</th>\n",
       "      <td>Unidades por kilo mmpp terceros*</td>\n",
       "      <td>67.000000</td>\n",
       "      <td>uni/kg</td>\n",
       "      <td>Promedio Ponderado del Número de Mejillones po...</td>\n",
       "      <td>1</td>\n",
       "      <td>2021</td>\n",
       "      <td>Sudmaris</td>\n",
       "      <td>No aplica</td>\n",
       "      <td>No aplica</td>\n",
       "      <td>Unidades por kilo</td>\n",
       "      <td>Materia Prima Terceros</td>\n",
       "    </tr>\n",
       "    <tr>\n",
       "      <th>245</th>\n",
       "      <td>Ingreso Materia Prima Bruta Propia</td>\n",
       "      <td>1385.808000</td>\n",
       "      <td>Ton</td>\n",
       "      <td>Total Kilos mmpp de centros de la empresa ingr...</td>\n",
       "      <td>2</td>\n",
       "      <td>2021</td>\n",
       "      <td>Sudmaris</td>\n",
       "      <td>MP Bruta</td>\n",
       "      <td>MPB Propia</td>\n",
       "      <td>Ingreso Materia Prima Bruta</td>\n",
       "      <td>Materia Prima Propia</td>\n",
       "    </tr>\n",
       "    <tr>\n",
       "      <th>246</th>\n",
       "      <td>Ingreso Materia Prima Neta o Pagada Propia</td>\n",
       "      <td>935.469000</td>\n",
       "      <td>Ton</td>\n",
       "      <td>Total Kilos mmpp de centros de la empresa ingr...</td>\n",
       "      <td>2</td>\n",
       "      <td>2021</td>\n",
       "      <td>Sudmaris</td>\n",
       "      <td>MP Neta</td>\n",
       "      <td>MPN Propia</td>\n",
       "      <td>Ingreso Materia Prima Neta</td>\n",
       "      <td>Materia Prima Propia</td>\n",
       "    </tr>\n",
       "    <tr>\n",
       "      <th>247</th>\n",
       "      <td>Unidades por kilo mmpp propia*</td>\n",
       "      <td>61.000000</td>\n",
       "      <td>uni/kg</td>\n",
       "      <td>Promedio Ponderado del Número de Mejillones po...</td>\n",
       "      <td>2</td>\n",
       "      <td>2021</td>\n",
       "      <td>Sudmaris</td>\n",
       "      <td>No aplica</td>\n",
       "      <td>No aplica</td>\n",
       "      <td>Unidades por kilo</td>\n",
       "      <td>Materia Prima Propia</td>\n",
       "    </tr>\n",
       "    <tr>\n",
       "      <th>248</th>\n",
       "      <td>Ingreso Materia Prima Bruta Terceros</td>\n",
       "      <td>2563.012000</td>\n",
       "      <td>Ton</td>\n",
       "      <td>Total Kilos mmpp de centros de terceros ingres...</td>\n",
       "      <td>2</td>\n",
       "      <td>2021</td>\n",
       "      <td>Sudmaris</td>\n",
       "      <td>MP Bruta</td>\n",
       "      <td>MPB Terceros</td>\n",
       "      <td>Ingreso Materia Prima Bruta</td>\n",
       "      <td>Materia Prima Terceros</td>\n",
       "    </tr>\n",
       "    <tr>\n",
       "      <th>249</th>\n",
       "      <td>Ingreso Materia Prima Neta o Pagada Terceros</td>\n",
       "      <td>2132.653123</td>\n",
       "      <td>Ton</td>\n",
       "      <td>Total Kilos mmpp de centros de  terceros ingre...</td>\n",
       "      <td>2</td>\n",
       "      <td>2021</td>\n",
       "      <td>Sudmaris</td>\n",
       "      <td>MP Neta</td>\n",
       "      <td>MPN Terceros</td>\n",
       "      <td>Ingreso Materia Prima Neta</td>\n",
       "      <td>Materia Prima Terceros</td>\n",
       "    </tr>\n",
       "    <tr>\n",
       "      <th>250</th>\n",
       "      <td>Unidades por kilo mmpp terceros*</td>\n",
       "      <td>65.627615</td>\n",
       "      <td>uni/kg</td>\n",
       "      <td>Promedio Ponderado del Número de Mejillones po...</td>\n",
       "      <td>2</td>\n",
       "      <td>2021</td>\n",
       "      <td>Sudmaris</td>\n",
       "      <td>No aplica</td>\n",
       "      <td>No aplica</td>\n",
       "      <td>Unidades por kilo</td>\n",
       "      <td>Materia Prima Terceros</td>\n",
       "    </tr>\n",
       "    <tr>\n",
       "      <th>252</th>\n",
       "      <td>Ingreso Materia Prima Bruta Propia</td>\n",
       "      <td>3153.050000</td>\n",
       "      <td>Ton</td>\n",
       "      <td>Total Kilos mmpp de centros de la empresa ingr...</td>\n",
       "      <td>3</td>\n",
       "      <td>2021</td>\n",
       "      <td>Sudmaris</td>\n",
       "      <td>MP Bruta</td>\n",
       "      <td>MPB Propia</td>\n",
       "      <td>Ingreso Materia Prima Bruta</td>\n",
       "      <td>Materia Prima Propia</td>\n",
       "    </tr>\n",
       "    <tr>\n",
       "      <th>253</th>\n",
       "      <td>Ingreso Materia Prima Neta o Pagada Propia</td>\n",
       "      <td>2298.721000</td>\n",
       "      <td>Ton</td>\n",
       "      <td>Total Kilos mmpp de centros de la empresa ingr...</td>\n",
       "      <td>3</td>\n",
       "      <td>2021</td>\n",
       "      <td>Sudmaris</td>\n",
       "      <td>MP Neta</td>\n",
       "      <td>MPN Propia</td>\n",
       "      <td>Ingreso Materia Prima Neta</td>\n",
       "      <td>Materia Prima Propia</td>\n",
       "    </tr>\n",
       "    <tr>\n",
       "      <th>254</th>\n",
       "      <td>Unidades por kilo mmpp propia*</td>\n",
       "      <td>66.000000</td>\n",
       "      <td>uni/kg</td>\n",
       "      <td>Promedio Ponderado del Número de Mejillones po...</td>\n",
       "      <td>3</td>\n",
       "      <td>2021</td>\n",
       "      <td>Sudmaris</td>\n",
       "      <td>No aplica</td>\n",
       "      <td>No aplica</td>\n",
       "      <td>Unidades por kilo</td>\n",
       "      <td>Materia Prima Propia</td>\n",
       "    </tr>\n",
       "    <tr>\n",
       "      <th>255</th>\n",
       "      <td>Ingreso Materia Prima Bruta Terceros</td>\n",
       "      <td>1618.932000</td>\n",
       "      <td>Ton</td>\n",
       "      <td>Total Kilos mmpp de centros de terceros ingres...</td>\n",
       "      <td>3</td>\n",
       "      <td>2021</td>\n",
       "      <td>Sudmaris</td>\n",
       "      <td>MP Bruta</td>\n",
       "      <td>MPB Terceros</td>\n",
       "      <td>Ingreso Materia Prima Bruta</td>\n",
       "      <td>Materia Prima Terceros</td>\n",
       "    </tr>\n",
       "    <tr>\n",
       "      <th>256</th>\n",
       "      <td>Ingreso Materia Prima Neta o Pagada Terceros</td>\n",
       "      <td>1426.054000</td>\n",
       "      <td>Ton</td>\n",
       "      <td>Total Kilos mmpp de centros de  terceros ingre...</td>\n",
       "      <td>3</td>\n",
       "      <td>2021</td>\n",
       "      <td>Sudmaris</td>\n",
       "      <td>MP Neta</td>\n",
       "      <td>MPN Terceros</td>\n",
       "      <td>Ingreso Materia Prima Neta</td>\n",
       "      <td>Materia Prima Terceros</td>\n",
       "    </tr>\n",
       "    <tr>\n",
       "      <th>257</th>\n",
       "      <td>Unidades por kilo mmpp terceros*</td>\n",
       "      <td>59.000000</td>\n",
       "      <td>uni/kg</td>\n",
       "      <td>Promedio Ponderado del Número de Mejillones po...</td>\n",
       "      <td>3</td>\n",
       "      <td>2021</td>\n",
       "      <td>Sudmaris</td>\n",
       "      <td>No aplica</td>\n",
       "      <td>No aplica</td>\n",
       "      <td>Unidades por kilo</td>\n",
       "      <td>Materia Prima Terceros</td>\n",
       "    </tr>\n",
       "    <tr>\n",
       "      <th>259</th>\n",
       "      <td>Ingreso Materia Prima Bruta Propia</td>\n",
       "      <td>3294.250500</td>\n",
       "      <td>Ton</td>\n",
       "      <td>Total Kilos mmpp de centros de la empresa ingr...</td>\n",
       "      <td>4</td>\n",
       "      <td>2021</td>\n",
       "      <td>Sudmaris</td>\n",
       "      <td>MP Bruta</td>\n",
       "      <td>MPB Propia</td>\n",
       "      <td>Ingreso Materia Prima Bruta</td>\n",
       "      <td>Materia Prima Propia</td>\n",
       "    </tr>\n",
       "    <tr>\n",
       "      <th>260</th>\n",
       "      <td>Ingreso Materia Prima Neta o Pagada Propia</td>\n",
       "      <td>2634.603727</td>\n",
       "      <td>Ton</td>\n",
       "      <td>Total Kilos mmpp de centros de la empresa ingr...</td>\n",
       "      <td>4</td>\n",
       "      <td>2021</td>\n",
       "      <td>Sudmaris</td>\n",
       "      <td>MP Neta</td>\n",
       "      <td>MPN Propia</td>\n",
       "      <td>Ingreso Materia Prima Neta</td>\n",
       "      <td>Materia Prima Propia</td>\n",
       "    </tr>\n",
       "    <tr>\n",
       "      <th>261</th>\n",
       "      <td>Unidades por kilo mmpp propia*</td>\n",
       "      <td>87.000000</td>\n",
       "      <td>uni/kg</td>\n",
       "      <td>Promedio Ponderado del Número de Mejillones po...</td>\n",
       "      <td>4</td>\n",
       "      <td>2021</td>\n",
       "      <td>Sudmaris</td>\n",
       "      <td>No aplica</td>\n",
       "      <td>No aplica</td>\n",
       "      <td>Unidades por kilo</td>\n",
       "      <td>Materia Prima Propia</td>\n",
       "    </tr>\n",
       "    <tr>\n",
       "      <th>262</th>\n",
       "      <td>Ingreso Materia Prima Bruta Terceros</td>\n",
       "      <td>1089.698500</td>\n",
       "      <td>Ton</td>\n",
       "      <td>Total Kilos mmpp de centros de terceros ingres...</td>\n",
       "      <td>4</td>\n",
       "      <td>2021</td>\n",
       "      <td>Sudmaris</td>\n",
       "      <td>MP Bruta</td>\n",
       "      <td>MPB Terceros</td>\n",
       "      <td>Ingreso Materia Prima Bruta</td>\n",
       "      <td>Materia Prima Terceros</td>\n",
       "    </tr>\n",
       "    <tr>\n",
       "      <th>263</th>\n",
       "      <td>Ingreso Materia Prima Neta o Pagada Terceros</td>\n",
       "      <td>968.983834</td>\n",
       "      <td>Ton</td>\n",
       "      <td>Total Kilos mmpp de centros de  terceros ingre...</td>\n",
       "      <td>4</td>\n",
       "      <td>2021</td>\n",
       "      <td>Sudmaris</td>\n",
       "      <td>MP Neta</td>\n",
       "      <td>MPN Terceros</td>\n",
       "      <td>Ingreso Materia Prima Neta</td>\n",
       "      <td>Materia Prima Terceros</td>\n",
       "    </tr>\n",
       "    <tr>\n",
       "      <th>264</th>\n",
       "      <td>Unidades por kilo mmpp terceros*</td>\n",
       "      <td>49.129630</td>\n",
       "      <td>uni/kg</td>\n",
       "      <td>Promedio Ponderado del Número de Mejillones po...</td>\n",
       "      <td>4</td>\n",
       "      <td>2021</td>\n",
       "      <td>Sudmaris</td>\n",
       "      <td>No aplica</td>\n",
       "      <td>No aplica</td>\n",
       "      <td>Unidades por kilo</td>\n",
       "      <td>Materia Prima Terceros</td>\n",
       "    </tr>\n",
       "    <tr>\n",
       "      <th>266</th>\n",
       "      <td>Ingreso Materia Prima Bruta Propia</td>\n",
       "      <td>2937.250000</td>\n",
       "      <td>Ton</td>\n",
       "      <td>Total Kilos mmpp de centros de la empresa ingr...</td>\n",
       "      <td>5</td>\n",
       "      <td>2021</td>\n",
       "      <td>Sudmaris</td>\n",
       "      <td>MP Bruta</td>\n",
       "      <td>MPB Propia</td>\n",
       "      <td>Ingreso Materia Prima Bruta</td>\n",
       "      <td>Materia Prima Propia</td>\n",
       "    </tr>\n",
       "    <tr>\n",
       "      <th>267</th>\n",
       "      <td>Ingreso Materia Prima Neta o Pagada Propia</td>\n",
       "      <td>2258.486684</td>\n",
       "      <td>Ton</td>\n",
       "      <td>Total Kilos mmpp de centros de la empresa ingr...</td>\n",
       "      <td>5</td>\n",
       "      <td>2021</td>\n",
       "      <td>Sudmaris</td>\n",
       "      <td>MP Neta</td>\n",
       "      <td>MPN Propia</td>\n",
       "      <td>Ingreso Materia Prima Neta</td>\n",
       "      <td>Materia Prima Propia</td>\n",
       "    </tr>\n",
       "    <tr>\n",
       "      <th>268</th>\n",
       "      <td>Unidades por kilo mmpp propia*</td>\n",
       "      <td>82.619926</td>\n",
       "      <td>uni/kg</td>\n",
       "      <td>Promedio Ponderado del Número de Mejillones po...</td>\n",
       "      <td>5</td>\n",
       "      <td>2021</td>\n",
       "      <td>Sudmaris</td>\n",
       "      <td>No aplica</td>\n",
       "      <td>No aplica</td>\n",
       "      <td>Unidades por kilo</td>\n",
       "      <td>Materia Prima Propia</td>\n",
       "    </tr>\n",
       "    <tr>\n",
       "      <th>269</th>\n",
       "      <td>Ingreso Materia Prima Bruta Terceros</td>\n",
       "      <td>1208.675000</td>\n",
       "      <td>Ton</td>\n",
       "      <td>Total Kilos mmpp de centros de terceros ingres...</td>\n",
       "      <td>5</td>\n",
       "      <td>2021</td>\n",
       "      <td>Sudmaris</td>\n",
       "      <td>MP Bruta</td>\n",
       "      <td>MPB Terceros</td>\n",
       "      <td>Ingreso Materia Prima Bruta</td>\n",
       "      <td>Materia Prima Terceros</td>\n",
       "    </tr>\n",
       "    <tr>\n",
       "      <th>270</th>\n",
       "      <td>Ingreso Materia Prima Neta o Pagada Terceros</td>\n",
       "      <td>1054.905646</td>\n",
       "      <td>Ton</td>\n",
       "      <td>Total Kilos mmpp de centros de  terceros ingre...</td>\n",
       "      <td>5</td>\n",
       "      <td>2021</td>\n",
       "      <td>Sudmaris</td>\n",
       "      <td>MP Neta</td>\n",
       "      <td>MPN Terceros</td>\n",
       "      <td>Ingreso Materia Prima Neta</td>\n",
       "      <td>Materia Prima Terceros</td>\n",
       "    </tr>\n",
       "    <tr>\n",
       "      <th>271</th>\n",
       "      <td>Unidades por kilo mmpp terceros*</td>\n",
       "      <td>50.968000</td>\n",
       "      <td>uni/kg</td>\n",
       "      <td>Promedio Ponderado del Número de Mejillones po...</td>\n",
       "      <td>5</td>\n",
       "      <td>2021</td>\n",
       "      <td>Sudmaris</td>\n",
       "      <td>No aplica</td>\n",
       "      <td>No aplica</td>\n",
       "      <td>Unidades por kilo</td>\n",
       "      <td>Materia Prima Terceros</td>\n",
       "    </tr>\n",
       "    <tr>\n",
       "      <th>273</th>\n",
       "      <td>Ingreso Materia Prima Bruta Propia</td>\n",
       "      <td>2876.653500</td>\n",
       "      <td>Ton</td>\n",
       "      <td>Total Kilos mmpp de centros de la empresa ingr...</td>\n",
       "      <td>6</td>\n",
       "      <td>2021</td>\n",
       "      <td>Sudmaris</td>\n",
       "      <td>MP Bruta</td>\n",
       "      <td>MPB Propia</td>\n",
       "      <td>Ingreso Materia Prima Bruta</td>\n",
       "      <td>Materia Prima Propia</td>\n",
       "    </tr>\n",
       "    <tr>\n",
       "      <th>274</th>\n",
       "      <td>Ingreso Materia Prima Neta o Pagada Propia</td>\n",
       "      <td>2317.048070</td>\n",
       "      <td>Ton</td>\n",
       "      <td>Total Kilos mmpp de centros de la empresa ingr...</td>\n",
       "      <td>6</td>\n",
       "      <td>2021</td>\n",
       "      <td>Sudmaris</td>\n",
       "      <td>MP Neta</td>\n",
       "      <td>MPN Propia</td>\n",
       "      <td>Ingreso Materia Prima Neta</td>\n",
       "      <td>Materia Prima Propia</td>\n",
       "    </tr>\n",
       "    <tr>\n",
       "      <th>275</th>\n",
       "      <td>Unidades por kilo mmpp propia*</td>\n",
       "      <td>87.000000</td>\n",
       "      <td>uni/kg</td>\n",
       "      <td>Promedio Ponderado del Número de Mejillones po...</td>\n",
       "      <td>6</td>\n",
       "      <td>2021</td>\n",
       "      <td>Sudmaris</td>\n",
       "      <td>No aplica</td>\n",
       "      <td>No aplica</td>\n",
       "      <td>Unidades por kilo</td>\n",
       "      <td>Materia Prima Propia</td>\n",
       "    </tr>\n",
       "    <tr>\n",
       "      <th>276</th>\n",
       "      <td>Ingreso Materia Prima Bruta Terceros</td>\n",
       "      <td>1095.123500</td>\n",
       "      <td>Ton</td>\n",
       "      <td>Total Kilos mmpp de centros de terceros ingres...</td>\n",
       "      <td>6</td>\n",
       "      <td>2021</td>\n",
       "      <td>Sudmaris</td>\n",
       "      <td>MP Bruta</td>\n",
       "      <td>MPB Terceros</td>\n",
       "      <td>Ingreso Materia Prima Bruta</td>\n",
       "      <td>Materia Prima Terceros</td>\n",
       "    </tr>\n",
       "    <tr>\n",
       "      <th>277</th>\n",
       "      <td>Ingreso Materia Prima Neta o Pagada Terceros</td>\n",
       "      <td>928.906686</td>\n",
       "      <td>Ton</td>\n",
       "      <td>Total Kilos mmpp de centros de  terceros ingre...</td>\n",
       "      <td>6</td>\n",
       "      <td>2021</td>\n",
       "      <td>Sudmaris</td>\n",
       "      <td>MP Neta</td>\n",
       "      <td>MPN Terceros</td>\n",
       "      <td>Ingreso Materia Prima Neta</td>\n",
       "      <td>Materia Prima Terceros</td>\n",
       "    </tr>\n",
       "    <tr>\n",
       "      <th>278</th>\n",
       "      <td>Unidades por kilo mmpp terceros*</td>\n",
       "      <td>53.000000</td>\n",
       "      <td>uni/kg</td>\n",
       "      <td>Promedio Ponderado del Número de Mejillones po...</td>\n",
       "      <td>6</td>\n",
       "      <td>2021</td>\n",
       "      <td>Sudmaris</td>\n",
       "      <td>No aplica</td>\n",
       "      <td>No aplica</td>\n",
       "      <td>Unidades por kilo</td>\n",
       "      <td>Materia Prima Terceros</td>\n",
       "    </tr>\n",
       "    <tr>\n",
       "      <th>280</th>\n",
       "      <td>Ingreso Materia Prima Bruta Propia</td>\n",
       "      <td>2648.801500</td>\n",
       "      <td>Ton</td>\n",
       "      <td>Total Kilos mmpp de centros de la empresa ingr...</td>\n",
       "      <td>7</td>\n",
       "      <td>2021</td>\n",
       "      <td>Sudmaris</td>\n",
       "      <td>MP Bruta</td>\n",
       "      <td>MPB Propia</td>\n",
       "      <td>Ingreso Materia Prima Bruta</td>\n",
       "      <td>Materia Prima Propia</td>\n",
       "    </tr>\n",
       "    <tr>\n",
       "      <th>281</th>\n",
       "      <td>Ingreso Materia Prima Neta o Pagada Propia</td>\n",
       "      <td>1676.993850</td>\n",
       "      <td>Ton</td>\n",
       "      <td>Total Kilos mmpp de centros de la empresa ingr...</td>\n",
       "      <td>7</td>\n",
       "      <td>2021</td>\n",
       "      <td>Sudmaris</td>\n",
       "      <td>MP Neta</td>\n",
       "      <td>MPN Propia</td>\n",
       "      <td>Ingreso Materia Prima Neta</td>\n",
       "      <td>Materia Prima Propia</td>\n",
       "    </tr>\n",
       "    <tr>\n",
       "      <th>282</th>\n",
       "      <td>Unidades por kilo mmpp propia*</td>\n",
       "      <td>58.991770</td>\n",
       "      <td>uni/kg</td>\n",
       "      <td>Promedio Ponderado del Número de Mejillones po...</td>\n",
       "      <td>7</td>\n",
       "      <td>2021</td>\n",
       "      <td>Sudmaris</td>\n",
       "      <td>No aplica</td>\n",
       "      <td>No aplica</td>\n",
       "      <td>Unidades por kilo</td>\n",
       "      <td>Materia Prima Propia</td>\n",
       "    </tr>\n",
       "    <tr>\n",
       "      <th>283</th>\n",
       "      <td>Ingreso Materia Prima Bruta Terceros</td>\n",
       "      <td>1448.252000</td>\n",
       "      <td>Ton</td>\n",
       "      <td>Total Kilos mmpp de centros de terceros ingres...</td>\n",
       "      <td>7</td>\n",
       "      <td>2021</td>\n",
       "      <td>Sudmaris</td>\n",
       "      <td>MP Bruta</td>\n",
       "      <td>MPB Terceros</td>\n",
       "      <td>Ingreso Materia Prima Bruta</td>\n",
       "      <td>Materia Prima Terceros</td>\n",
       "    </tr>\n",
       "    <tr>\n",
       "      <th>284</th>\n",
       "      <td>Ingreso Materia Prima Neta o Pagada Terceros</td>\n",
       "      <td>1245.556540</td>\n",
       "      <td>Ton</td>\n",
       "      <td>Total Kilos mmpp de centros de  terceros ingre...</td>\n",
       "      <td>7</td>\n",
       "      <td>2021</td>\n",
       "      <td>Sudmaris</td>\n",
       "      <td>MP Neta</td>\n",
       "      <td>MPN Terceros</td>\n",
       "      <td>Ingreso Materia Prima Neta</td>\n",
       "      <td>Materia Prima Terceros</td>\n",
       "    </tr>\n",
       "    <tr>\n",
       "      <th>285</th>\n",
       "      <td>Unidades por kilo mmpp terceros*</td>\n",
       "      <td>55.748252</td>\n",
       "      <td>uni/kg</td>\n",
       "      <td>Promedio Ponderado del Número de Mejillones po...</td>\n",
       "      <td>7</td>\n",
       "      <td>2021</td>\n",
       "      <td>Sudmaris</td>\n",
       "      <td>No aplica</td>\n",
       "      <td>No aplica</td>\n",
       "      <td>Unidades por kilo</td>\n",
       "      <td>Materia Prima Terceros</td>\n",
       "    </tr>\n",
       "    <tr>\n",
       "      <th>287</th>\n",
       "      <td>Ingreso Materia Prima Bruta Propia</td>\n",
       "      <td>381.190000</td>\n",
       "      <td>Ton</td>\n",
       "      <td>Total Kilos mmpp de centros de la empresa ingr...</td>\n",
       "      <td>8</td>\n",
       "      <td>2021</td>\n",
       "      <td>Sudmaris</td>\n",
       "      <td>MP Bruta</td>\n",
       "      <td>MPB Propia</td>\n",
       "      <td>Ingreso Materia Prima Bruta</td>\n",
       "      <td>Materia Prima Propia</td>\n",
       "    </tr>\n",
       "    <tr>\n",
       "      <th>288</th>\n",
       "      <td>Ingreso Materia Prima Neta o Pagada Propia</td>\n",
       "      <td>318.517140</td>\n",
       "      <td>Ton</td>\n",
       "      <td>Total Kilos mmpp de centros de la empresa ingr...</td>\n",
       "      <td>8</td>\n",
       "      <td>2021</td>\n",
       "      <td>Sudmaris</td>\n",
       "      <td>MP Neta</td>\n",
       "      <td>MPN Propia</td>\n",
       "      <td>Ingreso Materia Prima Neta</td>\n",
       "      <td>Materia Prima Propia</td>\n",
       "    </tr>\n",
       "    <tr>\n",
       "      <th>289</th>\n",
       "      <td>Unidades por kilo mmpp propia*</td>\n",
       "      <td>53.515152</td>\n",
       "      <td>uni/kg</td>\n",
       "      <td>Promedio Ponderado del Número de Mejillones po...</td>\n",
       "      <td>8</td>\n",
       "      <td>2021</td>\n",
       "      <td>Sudmaris</td>\n",
       "      <td>No aplica</td>\n",
       "      <td>No aplica</td>\n",
       "      <td>Unidades por kilo</td>\n",
       "      <td>Materia Prima Propia</td>\n",
       "    </tr>\n",
       "    <tr>\n",
       "      <th>290</th>\n",
       "      <td>Ingreso Materia Prima Bruta Terceros</td>\n",
       "      <td>4016.453500</td>\n",
       "      <td>Ton</td>\n",
       "      <td>Total Kilos mmpp de centros de terceros ingres...</td>\n",
       "      <td>8</td>\n",
       "      <td>2021</td>\n",
       "      <td>Sudmaris</td>\n",
       "      <td>MP Bruta</td>\n",
       "      <td>MPB Terceros</td>\n",
       "      <td>Ingreso Materia Prima Bruta</td>\n",
       "      <td>Materia Prima Terceros</td>\n",
       "    </tr>\n",
       "    <tr>\n",
       "      <th>291</th>\n",
       "      <td>Ingreso Materia Prima Neta o Pagada Terceros</td>\n",
       "      <td>3445.273340</td>\n",
       "      <td>Ton</td>\n",
       "      <td>Total Kilos mmpp de centros de  terceros ingre...</td>\n",
       "      <td>8</td>\n",
       "      <td>2021</td>\n",
       "      <td>Sudmaris</td>\n",
       "      <td>MP Neta</td>\n",
       "      <td>MPN Terceros</td>\n",
       "      <td>Ingreso Materia Prima Neta</td>\n",
       "      <td>Materia Prima Terceros</td>\n",
       "    </tr>\n",
       "    <tr>\n",
       "      <th>292</th>\n",
       "      <td>Unidades por kilo mmpp terceros*</td>\n",
       "      <td>62.724138</td>\n",
       "      <td>uni/kg</td>\n",
       "      <td>Promedio Ponderado del Número de Mejillones po...</td>\n",
       "      <td>8</td>\n",
       "      <td>2021</td>\n",
       "      <td>Sudmaris</td>\n",
       "      <td>No aplica</td>\n",
       "      <td>No aplica</td>\n",
       "      <td>Unidades por kilo</td>\n",
       "      <td>Materia Prima Terceros</td>\n",
       "    </tr>\n",
       "    <tr>\n",
       "      <th>293</th>\n",
       "      <td>Ingreso Materia Prima Bruta Propia</td>\n",
       "      <td>0.000000</td>\n",
       "      <td>Ton</td>\n",
       "      <td>Total Kilos mmpp de centros de la empresa ingr...</td>\n",
       "      <td>9</td>\n",
       "      <td>2021</td>\n",
       "      <td>Sudmaris</td>\n",
       "      <td>MP Bruta</td>\n",
       "      <td>MPB Propia</td>\n",
       "      <td>Ingreso Materia Prima Bruta</td>\n",
       "      <td>Materia Prima Propia</td>\n",
       "    </tr>\n",
       "    <tr>\n",
       "      <th>294</th>\n",
       "      <td>Ingreso Materia Prima Neta o Pagada Propia</td>\n",
       "      <td>0.000000</td>\n",
       "      <td>Ton</td>\n",
       "      <td>Total Kilos mmpp de centros de la empresa ingr...</td>\n",
       "      <td>9</td>\n",
       "      <td>2021</td>\n",
       "      <td>Sudmaris</td>\n",
       "      <td>MP Neta</td>\n",
       "      <td>MPN Propia</td>\n",
       "      <td>Ingreso Materia Prima Neta</td>\n",
       "      <td>Materia Prima Propia</td>\n",
       "    </tr>\n",
       "    <tr>\n",
       "      <th>295</th>\n",
       "      <td>Ingreso Materia Prima Bruta Terceros</td>\n",
       "      <td>532.159500</td>\n",
       "      <td>Ton</td>\n",
       "      <td>Total Kilos mmpp de centros de terceros ingres...</td>\n",
       "      <td>9</td>\n",
       "      <td>2021</td>\n",
       "      <td>Sudmaris</td>\n",
       "      <td>MP Bruta</td>\n",
       "      <td>MPB Terceros</td>\n",
       "      <td>Ingreso Materia Prima Bruta</td>\n",
       "      <td>Materia Prima Terceros</td>\n",
       "    </tr>\n",
       "    <tr>\n",
       "      <th>296</th>\n",
       "      <td>Ingreso Materia Prima Neta o Pagada Terceros</td>\n",
       "      <td>463.951460</td>\n",
       "      <td>Ton</td>\n",
       "      <td>Total Kilos mmpp de centros de  terceros ingre...</td>\n",
       "      <td>9</td>\n",
       "      <td>2021</td>\n",
       "      <td>Sudmaris</td>\n",
       "      <td>MP Neta</td>\n",
       "      <td>MPN Terceros</td>\n",
       "      <td>Ingreso Materia Prima Neta</td>\n",
       "      <td>Materia Prima Terceros</td>\n",
       "    </tr>\n",
       "    <tr>\n",
       "      <th>297</th>\n",
       "      <td>Unidades por kilo mmpp terceros*</td>\n",
       "      <td>55.000000</td>\n",
       "      <td>uni/kg</td>\n",
       "      <td>Promedio Ponderado del Número de Mejillones po...</td>\n",
       "      <td>9</td>\n",
       "      <td>2021</td>\n",
       "      <td>Sudmaris</td>\n",
       "      <td>No aplica</td>\n",
       "      <td>No aplica</td>\n",
       "      <td>Unidades por kilo</td>\n",
       "      <td>Materia Prima Terceros</td>\n",
       "    </tr>\n",
       "  </tbody>\n",
       "</table>\n",
       "</div>"
      ],
      "text/plain": [
       "                                        Indicador        Valor  \\\n",
       "238            Ingreso Materia Prima Bruta Propia  1001.615500   \n",
       "239    Ingreso Materia Prima Neta o Pagada Propia   742.000986   \n",
       "240                Unidades por kilo mmpp propia*    65.000000   \n",
       "241          Ingreso Materia Prima Bruta Terceros  2371.829000   \n",
       "242  Ingreso Materia Prima Neta o Pagada Terceros  1996.818919   \n",
       "243              Unidades por kilo mmpp terceros*    67.000000   \n",
       "245            Ingreso Materia Prima Bruta Propia  1385.808000   \n",
       "246    Ingreso Materia Prima Neta o Pagada Propia   935.469000   \n",
       "247                Unidades por kilo mmpp propia*    61.000000   \n",
       "248          Ingreso Materia Prima Bruta Terceros  2563.012000   \n",
       "249  Ingreso Materia Prima Neta o Pagada Terceros  2132.653123   \n",
       "250              Unidades por kilo mmpp terceros*    65.627615   \n",
       "252            Ingreso Materia Prima Bruta Propia  3153.050000   \n",
       "253    Ingreso Materia Prima Neta o Pagada Propia  2298.721000   \n",
       "254                Unidades por kilo mmpp propia*    66.000000   \n",
       "255          Ingreso Materia Prima Bruta Terceros  1618.932000   \n",
       "256  Ingreso Materia Prima Neta o Pagada Terceros  1426.054000   \n",
       "257              Unidades por kilo mmpp terceros*    59.000000   \n",
       "259            Ingreso Materia Prima Bruta Propia  3294.250500   \n",
       "260    Ingreso Materia Prima Neta o Pagada Propia  2634.603727   \n",
       "261                Unidades por kilo mmpp propia*    87.000000   \n",
       "262          Ingreso Materia Prima Bruta Terceros  1089.698500   \n",
       "263  Ingreso Materia Prima Neta o Pagada Terceros   968.983834   \n",
       "264              Unidades por kilo mmpp terceros*    49.129630   \n",
       "266            Ingreso Materia Prima Bruta Propia  2937.250000   \n",
       "267    Ingreso Materia Prima Neta o Pagada Propia  2258.486684   \n",
       "268                Unidades por kilo mmpp propia*    82.619926   \n",
       "269          Ingreso Materia Prima Bruta Terceros  1208.675000   \n",
       "270  Ingreso Materia Prima Neta o Pagada Terceros  1054.905646   \n",
       "271              Unidades por kilo mmpp terceros*    50.968000   \n",
       "273            Ingreso Materia Prima Bruta Propia  2876.653500   \n",
       "274    Ingreso Materia Prima Neta o Pagada Propia  2317.048070   \n",
       "275                Unidades por kilo mmpp propia*    87.000000   \n",
       "276          Ingreso Materia Prima Bruta Terceros  1095.123500   \n",
       "277  Ingreso Materia Prima Neta o Pagada Terceros   928.906686   \n",
       "278              Unidades por kilo mmpp terceros*    53.000000   \n",
       "280            Ingreso Materia Prima Bruta Propia  2648.801500   \n",
       "281    Ingreso Materia Prima Neta o Pagada Propia  1676.993850   \n",
       "282                Unidades por kilo mmpp propia*    58.991770   \n",
       "283          Ingreso Materia Prima Bruta Terceros  1448.252000   \n",
       "284  Ingreso Materia Prima Neta o Pagada Terceros  1245.556540   \n",
       "285              Unidades por kilo mmpp terceros*    55.748252   \n",
       "287            Ingreso Materia Prima Bruta Propia   381.190000   \n",
       "288    Ingreso Materia Prima Neta o Pagada Propia   318.517140   \n",
       "289                Unidades por kilo mmpp propia*    53.515152   \n",
       "290          Ingreso Materia Prima Bruta Terceros  4016.453500   \n",
       "291  Ingreso Materia Prima Neta o Pagada Terceros  3445.273340   \n",
       "292              Unidades por kilo mmpp terceros*    62.724138   \n",
       "293            Ingreso Materia Prima Bruta Propia     0.000000   \n",
       "294    Ingreso Materia Prima Neta o Pagada Propia     0.000000   \n",
       "295          Ingreso Materia Prima Bruta Terceros   532.159500   \n",
       "296  Ingreso Materia Prima Neta o Pagada Terceros   463.951460   \n",
       "297              Unidades por kilo mmpp terceros*    55.000000   \n",
       "\n",
       "    Unidad de medida                                         Definición  Mes  \\\n",
       "238              Ton  Total Kilos mmpp de centros de la empresa ingr...    1   \n",
       "239              Ton  Total Kilos mmpp de centros de la empresa ingr...    1   \n",
       "240           uni/kg  Promedio Ponderado del Número de Mejillones po...    1   \n",
       "241              Ton  Total Kilos mmpp de centros de terceros ingres...    1   \n",
       "242              Ton  Total Kilos mmpp de centros de  terceros ingre...    1   \n",
       "243           uni/kg  Promedio Ponderado del Número de Mejillones po...    1   \n",
       "245              Ton  Total Kilos mmpp de centros de la empresa ingr...    2   \n",
       "246              Ton  Total Kilos mmpp de centros de la empresa ingr...    2   \n",
       "247           uni/kg  Promedio Ponderado del Número de Mejillones po...    2   \n",
       "248              Ton  Total Kilos mmpp de centros de terceros ingres...    2   \n",
       "249              Ton  Total Kilos mmpp de centros de  terceros ingre...    2   \n",
       "250           uni/kg  Promedio Ponderado del Número de Mejillones po...    2   \n",
       "252              Ton  Total Kilos mmpp de centros de la empresa ingr...    3   \n",
       "253              Ton  Total Kilos mmpp de centros de la empresa ingr...    3   \n",
       "254           uni/kg  Promedio Ponderado del Número de Mejillones po...    3   \n",
       "255              Ton  Total Kilos mmpp de centros de terceros ingres...    3   \n",
       "256              Ton  Total Kilos mmpp de centros de  terceros ingre...    3   \n",
       "257           uni/kg  Promedio Ponderado del Número de Mejillones po...    3   \n",
       "259              Ton  Total Kilos mmpp de centros de la empresa ingr...    4   \n",
       "260              Ton  Total Kilos mmpp de centros de la empresa ingr...    4   \n",
       "261           uni/kg  Promedio Ponderado del Número de Mejillones po...    4   \n",
       "262              Ton  Total Kilos mmpp de centros de terceros ingres...    4   \n",
       "263              Ton  Total Kilos mmpp de centros de  terceros ingre...    4   \n",
       "264           uni/kg  Promedio Ponderado del Número de Mejillones po...    4   \n",
       "266              Ton  Total Kilos mmpp de centros de la empresa ingr...    5   \n",
       "267              Ton  Total Kilos mmpp de centros de la empresa ingr...    5   \n",
       "268           uni/kg  Promedio Ponderado del Número de Mejillones po...    5   \n",
       "269              Ton  Total Kilos mmpp de centros de terceros ingres...    5   \n",
       "270              Ton  Total Kilos mmpp de centros de  terceros ingre...    5   \n",
       "271           uni/kg  Promedio Ponderado del Número de Mejillones po...    5   \n",
       "273              Ton  Total Kilos mmpp de centros de la empresa ingr...    6   \n",
       "274              Ton  Total Kilos mmpp de centros de la empresa ingr...    6   \n",
       "275           uni/kg  Promedio Ponderado del Número de Mejillones po...    6   \n",
       "276              Ton  Total Kilos mmpp de centros de terceros ingres...    6   \n",
       "277              Ton  Total Kilos mmpp de centros de  terceros ingre...    6   \n",
       "278           uni/kg  Promedio Ponderado del Número de Mejillones po...    6   \n",
       "280              Ton  Total Kilos mmpp de centros de la empresa ingr...    7   \n",
       "281              Ton  Total Kilos mmpp de centros de la empresa ingr...    7   \n",
       "282           uni/kg  Promedio Ponderado del Número de Mejillones po...    7   \n",
       "283              Ton  Total Kilos mmpp de centros de terceros ingres...    7   \n",
       "284              Ton  Total Kilos mmpp de centros de  terceros ingre...    7   \n",
       "285           uni/kg  Promedio Ponderado del Número de Mejillones po...    7   \n",
       "287              Ton  Total Kilos mmpp de centros de la empresa ingr...    8   \n",
       "288              Ton  Total Kilos mmpp de centros de la empresa ingr...    8   \n",
       "289           uni/kg  Promedio Ponderado del Número de Mejillones po...    8   \n",
       "290              Ton  Total Kilos mmpp de centros de terceros ingres...    8   \n",
       "291              Ton  Total Kilos mmpp de centros de  terceros ingre...    8   \n",
       "292           uni/kg  Promedio Ponderado del Número de Mejillones po...    8   \n",
       "293              Ton  Total Kilos mmpp de centros de la empresa ingr...    9   \n",
       "294              Ton  Total Kilos mmpp de centros de la empresa ingr...    9   \n",
       "295              Ton  Total Kilos mmpp de centros de terceros ingres...    9   \n",
       "296              Ton  Total Kilos mmpp de centros de  terceros ingre...    9   \n",
       "297           uni/kg  Promedio Ponderado del Número de Mejillones po...    9   \n",
       "\n",
       "      Año   Empresa       Tipo     Propiedad                  Indicadores  \\\n",
       "238  2021  Sudmaris   MP Bruta    MPB Propia  Ingreso Materia Prima Bruta   \n",
       "239  2021  Sudmaris    MP Neta    MPN Propia   Ingreso Materia Prima Neta   \n",
       "240  2021  Sudmaris  No aplica     No aplica            Unidades por kilo   \n",
       "241  2021  Sudmaris   MP Bruta  MPB Terceros  Ingreso Materia Prima Bruta   \n",
       "242  2021  Sudmaris    MP Neta  MPN Terceros   Ingreso Materia Prima Neta   \n",
       "243  2021  Sudmaris  No aplica     No aplica            Unidades por kilo   \n",
       "245  2021  Sudmaris   MP Bruta    MPB Propia  Ingreso Materia Prima Bruta   \n",
       "246  2021  Sudmaris    MP Neta    MPN Propia   Ingreso Materia Prima Neta   \n",
       "247  2021  Sudmaris  No aplica     No aplica            Unidades por kilo   \n",
       "248  2021  Sudmaris   MP Bruta  MPB Terceros  Ingreso Materia Prima Bruta   \n",
       "249  2021  Sudmaris    MP Neta  MPN Terceros   Ingreso Materia Prima Neta   \n",
       "250  2021  Sudmaris  No aplica     No aplica            Unidades por kilo   \n",
       "252  2021  Sudmaris   MP Bruta    MPB Propia  Ingreso Materia Prima Bruta   \n",
       "253  2021  Sudmaris    MP Neta    MPN Propia   Ingreso Materia Prima Neta   \n",
       "254  2021  Sudmaris  No aplica     No aplica            Unidades por kilo   \n",
       "255  2021  Sudmaris   MP Bruta  MPB Terceros  Ingreso Materia Prima Bruta   \n",
       "256  2021  Sudmaris    MP Neta  MPN Terceros   Ingreso Materia Prima Neta   \n",
       "257  2021  Sudmaris  No aplica     No aplica            Unidades por kilo   \n",
       "259  2021  Sudmaris   MP Bruta    MPB Propia  Ingreso Materia Prima Bruta   \n",
       "260  2021  Sudmaris    MP Neta    MPN Propia   Ingreso Materia Prima Neta   \n",
       "261  2021  Sudmaris  No aplica     No aplica            Unidades por kilo   \n",
       "262  2021  Sudmaris   MP Bruta  MPB Terceros  Ingreso Materia Prima Bruta   \n",
       "263  2021  Sudmaris    MP Neta  MPN Terceros   Ingreso Materia Prima Neta   \n",
       "264  2021  Sudmaris  No aplica     No aplica            Unidades por kilo   \n",
       "266  2021  Sudmaris   MP Bruta    MPB Propia  Ingreso Materia Prima Bruta   \n",
       "267  2021  Sudmaris    MP Neta    MPN Propia   Ingreso Materia Prima Neta   \n",
       "268  2021  Sudmaris  No aplica     No aplica            Unidades por kilo   \n",
       "269  2021  Sudmaris   MP Bruta  MPB Terceros  Ingreso Materia Prima Bruta   \n",
       "270  2021  Sudmaris    MP Neta  MPN Terceros   Ingreso Materia Prima Neta   \n",
       "271  2021  Sudmaris  No aplica     No aplica            Unidades por kilo   \n",
       "273  2021  Sudmaris   MP Bruta    MPB Propia  Ingreso Materia Prima Bruta   \n",
       "274  2021  Sudmaris    MP Neta    MPN Propia   Ingreso Materia Prima Neta   \n",
       "275  2021  Sudmaris  No aplica     No aplica            Unidades por kilo   \n",
       "276  2021  Sudmaris   MP Bruta  MPB Terceros  Ingreso Materia Prima Bruta   \n",
       "277  2021  Sudmaris    MP Neta  MPN Terceros   Ingreso Materia Prima Neta   \n",
       "278  2021  Sudmaris  No aplica     No aplica            Unidades por kilo   \n",
       "280  2021  Sudmaris   MP Bruta    MPB Propia  Ingreso Materia Prima Bruta   \n",
       "281  2021  Sudmaris    MP Neta    MPN Propia   Ingreso Materia Prima Neta   \n",
       "282  2021  Sudmaris  No aplica     No aplica            Unidades por kilo   \n",
       "283  2021  Sudmaris   MP Bruta  MPB Terceros  Ingreso Materia Prima Bruta   \n",
       "284  2021  Sudmaris    MP Neta  MPN Terceros   Ingreso Materia Prima Neta   \n",
       "285  2021  Sudmaris  No aplica     No aplica            Unidades por kilo   \n",
       "287  2021  Sudmaris   MP Bruta    MPB Propia  Ingreso Materia Prima Bruta   \n",
       "288  2021  Sudmaris    MP Neta    MPN Propia   Ingreso Materia Prima Neta   \n",
       "289  2021  Sudmaris  No aplica     No aplica            Unidades por kilo   \n",
       "290  2021  Sudmaris   MP Bruta  MPB Terceros  Ingreso Materia Prima Bruta   \n",
       "291  2021  Sudmaris    MP Neta  MPN Terceros   Ingreso Materia Prima Neta   \n",
       "292  2021  Sudmaris  No aplica     No aplica            Unidades por kilo   \n",
       "293  2021  Sudmaris   MP Bruta    MPB Propia  Ingreso Materia Prima Bruta   \n",
       "294  2021  Sudmaris    MP Neta    MPN Propia   Ingreso Materia Prima Neta   \n",
       "295  2021  Sudmaris   MP Bruta  MPB Terceros  Ingreso Materia Prima Bruta   \n",
       "296  2021  Sudmaris    MP Neta  MPN Terceros   Ingreso Materia Prima Neta   \n",
       "297  2021  Sudmaris  No aplica     No aplica            Unidades por kilo   \n",
       "\n",
       "                Propietario  \n",
       "238    Materia Prima Propia  \n",
       "239    Materia Prima Propia  \n",
       "240    Materia Prima Propia  \n",
       "241  Materia Prima Terceros  \n",
       "242  Materia Prima Terceros  \n",
       "243  Materia Prima Terceros  \n",
       "245    Materia Prima Propia  \n",
       "246    Materia Prima Propia  \n",
       "247    Materia Prima Propia  \n",
       "248  Materia Prima Terceros  \n",
       "249  Materia Prima Terceros  \n",
       "250  Materia Prima Terceros  \n",
       "252    Materia Prima Propia  \n",
       "253    Materia Prima Propia  \n",
       "254    Materia Prima Propia  \n",
       "255  Materia Prima Terceros  \n",
       "256  Materia Prima Terceros  \n",
       "257  Materia Prima Terceros  \n",
       "259    Materia Prima Propia  \n",
       "260    Materia Prima Propia  \n",
       "261    Materia Prima Propia  \n",
       "262  Materia Prima Terceros  \n",
       "263  Materia Prima Terceros  \n",
       "264  Materia Prima Terceros  \n",
       "266    Materia Prima Propia  \n",
       "267    Materia Prima Propia  \n",
       "268    Materia Prima Propia  \n",
       "269  Materia Prima Terceros  \n",
       "270  Materia Prima Terceros  \n",
       "271  Materia Prima Terceros  \n",
       "273    Materia Prima Propia  \n",
       "274    Materia Prima Propia  \n",
       "275    Materia Prima Propia  \n",
       "276  Materia Prima Terceros  \n",
       "277  Materia Prima Terceros  \n",
       "278  Materia Prima Terceros  \n",
       "280    Materia Prima Propia  \n",
       "281    Materia Prima Propia  \n",
       "282    Materia Prima Propia  \n",
       "283  Materia Prima Terceros  \n",
       "284  Materia Prima Terceros  \n",
       "285  Materia Prima Terceros  \n",
       "287    Materia Prima Propia  \n",
       "288    Materia Prima Propia  \n",
       "289    Materia Prima Propia  \n",
       "290  Materia Prima Terceros  \n",
       "291  Materia Prima Terceros  \n",
       "292  Materia Prima Terceros  \n",
       "293    Materia Prima Propia  \n",
       "294    Materia Prima Propia  \n",
       "295  Materia Prima Terceros  \n",
       "296  Materia Prima Terceros  \n",
       "297  Materia Prima Terceros  "
      ]
     },
     "execution_count": 58,
     "metadata": {},
     "output_type": "execute_result"
    }
   ],
   "source": [
    "datos.loc[datos.Empresa == 'Sudmaris']"
   ]
  },
  {
   "cell_type": "code",
   "execution_count": 59,
   "id": "91f16d46",
   "metadata": {},
   "outputs": [
    {
     "data": {
      "application/vnd.plotly.v1+json": {
       "config": {
        "plotlyServerURL": "https://plot.ly"
       },
       "data": [
        {
         "alignmentgroup": "True",
         "hovertemplate": "Origen=Materia Prima Propia<br>Mes=%{x}<br>Unidades por kilo=%{y}<extra></extra>",
         "legendgroup": "Materia Prima Propia",
         "marker": {
          "color": "#C45130",
          "pattern": {
           "shape": ""
          }
         },
         "name": "Materia Prima Propia",
         "offsetgroup": "Materia Prima Propia",
         "orientation": "v",
         "showlegend": true,
         "textposition": "auto",
         "type": "bar",
         "x": [
          1,
          2,
          3,
          4,
          5,
          6,
          7,
          8,
          9
         ],
         "xaxis": "x",
         "y": [
          65,
          61,
          66,
          87,
          82.619926199262,
          87,
          58.99176954732511,
          53.51515151515152,
          null
         ],
         "yaxis": "y"
        },
        {
         "alignmentgroup": "True",
         "hovertemplate": "Origen=Materia Prima Terceros<br>Mes=%{x}<br>Unidades por kilo=%{y}<extra></extra>",
         "legendgroup": "Materia Prima Terceros",
         "marker": {
          "color": "#FFAA61",
          "pattern": {
           "shape": ""
          }
         },
         "name": "Materia Prima Terceros",
         "offsetgroup": "Materia Prima Terceros",
         "orientation": "v",
         "showlegend": true,
         "textposition": "auto",
         "type": "bar",
         "x": [
          1,
          2,
          3,
          4,
          5,
          6,
          7,
          8,
          9
         ],
         "xaxis": "x",
         "y": [
          67,
          65.6276150627615,
          59,
          49.129629629629626,
          50.968,
          53,
          55.74825174825175,
          62.72413793103448,
          55
         ],
         "yaxis": "y"
        }
       ],
       "layout": {
        "barmode": "relative",
        "height": 500,
        "legend": {
         "title": {
          "text": "Origen"
         },
         "tracegroupgap": 0
        },
        "template": {
         "data": {
          "bar": [
           {
            "error_x": {
             "color": "rgb(36,36,36)"
            },
            "error_y": {
             "color": "rgb(36,36,36)"
            },
            "marker": {
             "line": {
              "color": "white",
              "width": 0.5
             },
             "pattern": {
              "fillmode": "overlay",
              "size": 10,
              "solidity": 0.2
             }
            },
            "type": "bar"
           }
          ],
          "barpolar": [
           {
            "marker": {
             "line": {
              "color": "white",
              "width": 0.5
             },
             "pattern": {
              "fillmode": "overlay",
              "size": 10,
              "solidity": 0.2
             }
            },
            "type": "barpolar"
           }
          ],
          "carpet": [
           {
            "aaxis": {
             "endlinecolor": "rgb(36,36,36)",
             "gridcolor": "white",
             "linecolor": "white",
             "minorgridcolor": "white",
             "startlinecolor": "rgb(36,36,36)"
            },
            "baxis": {
             "endlinecolor": "rgb(36,36,36)",
             "gridcolor": "white",
             "linecolor": "white",
             "minorgridcolor": "white",
             "startlinecolor": "rgb(36,36,36)"
            },
            "type": "carpet"
           }
          ],
          "choropleth": [
           {
            "colorbar": {
             "outlinewidth": 1,
             "tickcolor": "rgb(36,36,36)",
             "ticks": "outside"
            },
            "type": "choropleth"
           }
          ],
          "contour": [
           {
            "colorbar": {
             "outlinewidth": 1,
             "tickcolor": "rgb(36,36,36)",
             "ticks": "outside"
            },
            "colorscale": [
             [
              0,
              "#440154"
             ],
             [
              0.1111111111111111,
              "#482878"
             ],
             [
              0.2222222222222222,
              "#3e4989"
             ],
             [
              0.3333333333333333,
              "#31688e"
             ],
             [
              0.4444444444444444,
              "#26828e"
             ],
             [
              0.5555555555555556,
              "#1f9e89"
             ],
             [
              0.6666666666666666,
              "#35b779"
             ],
             [
              0.7777777777777778,
              "#6ece58"
             ],
             [
              0.8888888888888888,
              "#b5de2b"
             ],
             [
              1,
              "#fde725"
             ]
            ],
            "type": "contour"
           }
          ],
          "contourcarpet": [
           {
            "colorbar": {
             "outlinewidth": 1,
             "tickcolor": "rgb(36,36,36)",
             "ticks": "outside"
            },
            "type": "contourcarpet"
           }
          ],
          "heatmap": [
           {
            "colorbar": {
             "outlinewidth": 1,
             "tickcolor": "rgb(36,36,36)",
             "ticks": "outside"
            },
            "colorscale": [
             [
              0,
              "#440154"
             ],
             [
              0.1111111111111111,
              "#482878"
             ],
             [
              0.2222222222222222,
              "#3e4989"
             ],
             [
              0.3333333333333333,
              "#31688e"
             ],
             [
              0.4444444444444444,
              "#26828e"
             ],
             [
              0.5555555555555556,
              "#1f9e89"
             ],
             [
              0.6666666666666666,
              "#35b779"
             ],
             [
              0.7777777777777778,
              "#6ece58"
             ],
             [
              0.8888888888888888,
              "#b5de2b"
             ],
             [
              1,
              "#fde725"
             ]
            ],
            "type": "heatmap"
           }
          ],
          "heatmapgl": [
           {
            "colorbar": {
             "outlinewidth": 1,
             "tickcolor": "rgb(36,36,36)",
             "ticks": "outside"
            },
            "colorscale": [
             [
              0,
              "#440154"
             ],
             [
              0.1111111111111111,
              "#482878"
             ],
             [
              0.2222222222222222,
              "#3e4989"
             ],
             [
              0.3333333333333333,
              "#31688e"
             ],
             [
              0.4444444444444444,
              "#26828e"
             ],
             [
              0.5555555555555556,
              "#1f9e89"
             ],
             [
              0.6666666666666666,
              "#35b779"
             ],
             [
              0.7777777777777778,
              "#6ece58"
             ],
             [
              0.8888888888888888,
              "#b5de2b"
             ],
             [
              1,
              "#fde725"
             ]
            ],
            "type": "heatmapgl"
           }
          ],
          "histogram": [
           {
            "marker": {
             "line": {
              "color": "white",
              "width": 0.6
             }
            },
            "type": "histogram"
           }
          ],
          "histogram2d": [
           {
            "colorbar": {
             "outlinewidth": 1,
             "tickcolor": "rgb(36,36,36)",
             "ticks": "outside"
            },
            "colorscale": [
             [
              0,
              "#440154"
             ],
             [
              0.1111111111111111,
              "#482878"
             ],
             [
              0.2222222222222222,
              "#3e4989"
             ],
             [
              0.3333333333333333,
              "#31688e"
             ],
             [
              0.4444444444444444,
              "#26828e"
             ],
             [
              0.5555555555555556,
              "#1f9e89"
             ],
             [
              0.6666666666666666,
              "#35b779"
             ],
             [
              0.7777777777777778,
              "#6ece58"
             ],
             [
              0.8888888888888888,
              "#b5de2b"
             ],
             [
              1,
              "#fde725"
             ]
            ],
            "type": "histogram2d"
           }
          ],
          "histogram2dcontour": [
           {
            "colorbar": {
             "outlinewidth": 1,
             "tickcolor": "rgb(36,36,36)",
             "ticks": "outside"
            },
            "colorscale": [
             [
              0,
              "#440154"
             ],
             [
              0.1111111111111111,
              "#482878"
             ],
             [
              0.2222222222222222,
              "#3e4989"
             ],
             [
              0.3333333333333333,
              "#31688e"
             ],
             [
              0.4444444444444444,
              "#26828e"
             ],
             [
              0.5555555555555556,
              "#1f9e89"
             ],
             [
              0.6666666666666666,
              "#35b779"
             ],
             [
              0.7777777777777778,
              "#6ece58"
             ],
             [
              0.8888888888888888,
              "#b5de2b"
             ],
             [
              1,
              "#fde725"
             ]
            ],
            "type": "histogram2dcontour"
           }
          ],
          "mesh3d": [
           {
            "colorbar": {
             "outlinewidth": 1,
             "tickcolor": "rgb(36,36,36)",
             "ticks": "outside"
            },
            "type": "mesh3d"
           }
          ],
          "parcoords": [
           {
            "line": {
             "colorbar": {
              "outlinewidth": 1,
              "tickcolor": "rgb(36,36,36)",
              "ticks": "outside"
             }
            },
            "type": "parcoords"
           }
          ],
          "pie": [
           {
            "automargin": true,
            "type": "pie"
           }
          ],
          "scatter": [
           {
            "marker": {
             "colorbar": {
              "outlinewidth": 1,
              "tickcolor": "rgb(36,36,36)",
              "ticks": "outside"
             }
            },
            "type": "scatter"
           }
          ],
          "scatter3d": [
           {
            "line": {
             "colorbar": {
              "outlinewidth": 1,
              "tickcolor": "rgb(36,36,36)",
              "ticks": "outside"
             }
            },
            "marker": {
             "colorbar": {
              "outlinewidth": 1,
              "tickcolor": "rgb(36,36,36)",
              "ticks": "outside"
             }
            },
            "type": "scatter3d"
           }
          ],
          "scattercarpet": [
           {
            "marker": {
             "colorbar": {
              "outlinewidth": 1,
              "tickcolor": "rgb(36,36,36)",
              "ticks": "outside"
             }
            },
            "type": "scattercarpet"
           }
          ],
          "scattergeo": [
           {
            "marker": {
             "colorbar": {
              "outlinewidth": 1,
              "tickcolor": "rgb(36,36,36)",
              "ticks": "outside"
             }
            },
            "type": "scattergeo"
           }
          ],
          "scattergl": [
           {
            "marker": {
             "colorbar": {
              "outlinewidth": 1,
              "tickcolor": "rgb(36,36,36)",
              "ticks": "outside"
             }
            },
            "type": "scattergl"
           }
          ],
          "scattermapbox": [
           {
            "marker": {
             "colorbar": {
              "outlinewidth": 1,
              "tickcolor": "rgb(36,36,36)",
              "ticks": "outside"
             }
            },
            "type": "scattermapbox"
           }
          ],
          "scatterpolar": [
           {
            "marker": {
             "colorbar": {
              "outlinewidth": 1,
              "tickcolor": "rgb(36,36,36)",
              "ticks": "outside"
             }
            },
            "type": "scatterpolar"
           }
          ],
          "scatterpolargl": [
           {
            "marker": {
             "colorbar": {
              "outlinewidth": 1,
              "tickcolor": "rgb(36,36,36)",
              "ticks": "outside"
             }
            },
            "type": "scatterpolargl"
           }
          ],
          "scatterternary": [
           {
            "marker": {
             "colorbar": {
              "outlinewidth": 1,
              "tickcolor": "rgb(36,36,36)",
              "ticks": "outside"
             }
            },
            "type": "scatterternary"
           }
          ],
          "surface": [
           {
            "colorbar": {
             "outlinewidth": 1,
             "tickcolor": "rgb(36,36,36)",
             "ticks": "outside"
            },
            "colorscale": [
             [
              0,
              "#440154"
             ],
             [
              0.1111111111111111,
              "#482878"
             ],
             [
              0.2222222222222222,
              "#3e4989"
             ],
             [
              0.3333333333333333,
              "#31688e"
             ],
             [
              0.4444444444444444,
              "#26828e"
             ],
             [
              0.5555555555555556,
              "#1f9e89"
             ],
             [
              0.6666666666666666,
              "#35b779"
             ],
             [
              0.7777777777777778,
              "#6ece58"
             ],
             [
              0.8888888888888888,
              "#b5de2b"
             ],
             [
              1,
              "#fde725"
             ]
            ],
            "type": "surface"
           }
          ],
          "table": [
           {
            "cells": {
             "fill": {
              "color": "rgb(237,237,237)"
             },
             "line": {
              "color": "white"
             }
            },
            "header": {
             "fill": {
              "color": "rgb(217,217,217)"
             },
             "line": {
              "color": "white"
             }
            },
            "type": "table"
           }
          ]
         },
         "layout": {
          "annotationdefaults": {
           "arrowhead": 0,
           "arrowwidth": 1
          },
          "autotypenumbers": "strict",
          "coloraxis": {
           "colorbar": {
            "outlinewidth": 1,
            "tickcolor": "rgb(36,36,36)",
            "ticks": "outside"
           }
          },
          "colorscale": {
           "diverging": [
            [
             0,
             "rgb(103,0,31)"
            ],
            [
             0.1,
             "rgb(178,24,43)"
            ],
            [
             0.2,
             "rgb(214,96,77)"
            ],
            [
             0.3,
             "rgb(244,165,130)"
            ],
            [
             0.4,
             "rgb(253,219,199)"
            ],
            [
             0.5,
             "rgb(247,247,247)"
            ],
            [
             0.6,
             "rgb(209,229,240)"
            ],
            [
             0.7,
             "rgb(146,197,222)"
            ],
            [
             0.8,
             "rgb(67,147,195)"
            ],
            [
             0.9,
             "rgb(33,102,172)"
            ],
            [
             1,
             "rgb(5,48,97)"
            ]
           ],
           "sequential": [
            [
             0,
             "#440154"
            ],
            [
             0.1111111111111111,
             "#482878"
            ],
            [
             0.2222222222222222,
             "#3e4989"
            ],
            [
             0.3333333333333333,
             "#31688e"
            ],
            [
             0.4444444444444444,
             "#26828e"
            ],
            [
             0.5555555555555556,
             "#1f9e89"
            ],
            [
             0.6666666666666666,
             "#35b779"
            ],
            [
             0.7777777777777778,
             "#6ece58"
            ],
            [
             0.8888888888888888,
             "#b5de2b"
            ],
            [
             1,
             "#fde725"
            ]
           ],
           "sequentialminus": [
            [
             0,
             "#440154"
            ],
            [
             0.1111111111111111,
             "#482878"
            ],
            [
             0.2222222222222222,
             "#3e4989"
            ],
            [
             0.3333333333333333,
             "#31688e"
            ],
            [
             0.4444444444444444,
             "#26828e"
            ],
            [
             0.5555555555555556,
             "#1f9e89"
            ],
            [
             0.6666666666666666,
             "#35b779"
            ],
            [
             0.7777777777777778,
             "#6ece58"
            ],
            [
             0.8888888888888888,
             "#b5de2b"
            ],
            [
             1,
             "#fde725"
            ]
           ]
          },
          "colorway": [
           "#1F77B4",
           "#FF7F0E",
           "#2CA02C",
           "#D62728",
           "#9467BD",
           "#8C564B",
           "#E377C2",
           "#7F7F7F",
           "#BCBD22",
           "#17BECF"
          ],
          "font": {
           "color": "rgb(36,36,36)"
          },
          "geo": {
           "bgcolor": "white",
           "lakecolor": "white",
           "landcolor": "white",
           "showlakes": true,
           "showland": true,
           "subunitcolor": "white"
          },
          "hoverlabel": {
           "align": "left"
          },
          "hovermode": "closest",
          "mapbox": {
           "style": "light"
          },
          "paper_bgcolor": "white",
          "plot_bgcolor": "white",
          "polar": {
           "angularaxis": {
            "gridcolor": "rgb(232,232,232)",
            "linecolor": "rgb(36,36,36)",
            "showgrid": false,
            "showline": true,
            "ticks": "outside"
           },
           "bgcolor": "white",
           "radialaxis": {
            "gridcolor": "rgb(232,232,232)",
            "linecolor": "rgb(36,36,36)",
            "showgrid": false,
            "showline": true,
            "ticks": "outside"
           }
          },
          "scene": {
           "xaxis": {
            "backgroundcolor": "white",
            "gridcolor": "rgb(232,232,232)",
            "gridwidth": 2,
            "linecolor": "rgb(36,36,36)",
            "showbackground": true,
            "showgrid": false,
            "showline": true,
            "ticks": "outside",
            "zeroline": false,
            "zerolinecolor": "rgb(36,36,36)"
           },
           "yaxis": {
            "backgroundcolor": "white",
            "gridcolor": "rgb(232,232,232)",
            "gridwidth": 2,
            "linecolor": "rgb(36,36,36)",
            "showbackground": true,
            "showgrid": false,
            "showline": true,
            "ticks": "outside",
            "zeroline": false,
            "zerolinecolor": "rgb(36,36,36)"
           },
           "zaxis": {
            "backgroundcolor": "white",
            "gridcolor": "rgb(232,232,232)",
            "gridwidth": 2,
            "linecolor": "rgb(36,36,36)",
            "showbackground": true,
            "showgrid": false,
            "showline": true,
            "ticks": "outside",
            "zeroline": false,
            "zerolinecolor": "rgb(36,36,36)"
           }
          },
          "shapedefaults": {
           "fillcolor": "black",
           "line": {
            "width": 0
           },
           "opacity": 0.3
          },
          "ternary": {
           "aaxis": {
            "gridcolor": "rgb(232,232,232)",
            "linecolor": "rgb(36,36,36)",
            "showgrid": false,
            "showline": true,
            "ticks": "outside"
           },
           "baxis": {
            "gridcolor": "rgb(232,232,232)",
            "linecolor": "rgb(36,36,36)",
            "showgrid": false,
            "showline": true,
            "ticks": "outside"
           },
           "bgcolor": "white",
           "caxis": {
            "gridcolor": "rgb(232,232,232)",
            "linecolor": "rgb(36,36,36)",
            "showgrid": false,
            "showline": true,
            "ticks": "outside"
           }
          },
          "title": {
           "x": 0.05
          },
          "xaxis": {
           "automargin": true,
           "gridcolor": "rgb(232,232,232)",
           "linecolor": "rgb(36,36,36)",
           "showgrid": false,
           "showline": true,
           "ticks": "outside",
           "title": {
            "standoff": 15
           },
           "zeroline": false,
           "zerolinecolor": "rgb(36,36,36)"
          },
          "yaxis": {
           "automargin": true,
           "gridcolor": "rgb(232,232,232)",
           "linecolor": "rgb(36,36,36)",
           "showgrid": false,
           "showline": true,
           "ticks": "outside",
           "title": {
            "standoff": 15
           },
           "zeroline": false,
           "zerolinecolor": "rgb(36,36,36)"
          }
         }
        },
        "title": {
         "text": "Indicador Materia Prima Bruta por origen Sudmaris"
        },
        "width": 700,
        "xaxis": {
         "anchor": "y",
         "domain": [
          0,
          1
         ],
         "title": {
          "text": "Mes"
         }
        },
        "yaxis": {
         "anchor": "x",
         "domain": [
          0,
          1
         ],
         "title": {
          "text": "Unidades por kilo"
         }
        }
       }
      },
      "text/html": [
       "<div>                            <div id=\"69205593-d4ee-4a2c-984b-625c5136c7f1\" class=\"plotly-graph-div\" style=\"height:500px; width:700px;\"></div>            <script type=\"text/javascript\">                require([\"plotly\"], function(Plotly) {                    window.PLOTLYENV=window.PLOTLYENV || {};                                    if (document.getElementById(\"69205593-d4ee-4a2c-984b-625c5136c7f1\")) {                    Plotly.newPlot(                        \"69205593-d4ee-4a2c-984b-625c5136c7f1\",                        [{\"alignmentgroup\":\"True\",\"hovertemplate\":\"Origen=Materia Prima Propia<br>Mes=%{x}<br>Unidades por kilo=%{y}<extra></extra>\",\"legendgroup\":\"Materia Prima Propia\",\"marker\":{\"color\":\"#C45130\",\"pattern\":{\"shape\":\"\"}},\"name\":\"Materia Prima Propia\",\"offsetgroup\":\"Materia Prima Propia\",\"orientation\":\"v\",\"showlegend\":true,\"textposition\":\"auto\",\"type\":\"bar\",\"x\":[1,2,3,4,5,6,7,8,9],\"xaxis\":\"x\",\"y\":[65.0,61.0,66.0,87.0,82.619926199262,87.0,58.99176954732511,53.51515151515152,null],\"yaxis\":\"y\"},{\"alignmentgroup\":\"True\",\"hovertemplate\":\"Origen=Materia Prima Terceros<br>Mes=%{x}<br>Unidades por kilo=%{y}<extra></extra>\",\"legendgroup\":\"Materia Prima Terceros\",\"marker\":{\"color\":\"#FFAA61\",\"pattern\":{\"shape\":\"\"}},\"name\":\"Materia Prima Terceros\",\"offsetgroup\":\"Materia Prima Terceros\",\"orientation\":\"v\",\"showlegend\":true,\"textposition\":\"auto\",\"type\":\"bar\",\"x\":[1,2,3,4,5,6,7,8,9],\"xaxis\":\"x\",\"y\":[67.0,65.6276150627615,59.0,49.129629629629626,50.968,53.0,55.74825174825175,62.72413793103448,55.0],\"yaxis\":\"y\"}],                        {\"barmode\":\"relative\",\"height\":500,\"legend\":{\"title\":{\"text\":\"Origen\"},\"tracegroupgap\":0},\"template\":{\"data\":{\"bar\":[{\"error_x\":{\"color\":\"rgb(36,36,36)\"},\"error_y\":{\"color\":\"rgb(36,36,36)\"},\"marker\":{\"line\":{\"color\":\"white\",\"width\":0.5},\"pattern\":{\"fillmode\":\"overlay\",\"size\":10,\"solidity\":0.2}},\"type\":\"bar\"}],\"barpolar\":[{\"marker\":{\"line\":{\"color\":\"white\",\"width\":0.5},\"pattern\":{\"fillmode\":\"overlay\",\"size\":10,\"solidity\":0.2}},\"type\":\"barpolar\"}],\"carpet\":[{\"aaxis\":{\"endlinecolor\":\"rgb(36,36,36)\",\"gridcolor\":\"white\",\"linecolor\":\"white\",\"minorgridcolor\":\"white\",\"startlinecolor\":\"rgb(36,36,36)\"},\"baxis\":{\"endlinecolor\":\"rgb(36,36,36)\",\"gridcolor\":\"white\",\"linecolor\":\"white\",\"minorgridcolor\":\"white\",\"startlinecolor\":\"rgb(36,36,36)\"},\"type\":\"carpet\"}],\"choropleth\":[{\"colorbar\":{\"outlinewidth\":1,\"tickcolor\":\"rgb(36,36,36)\",\"ticks\":\"outside\"},\"type\":\"choropleth\"}],\"contour\":[{\"colorbar\":{\"outlinewidth\":1,\"tickcolor\":\"rgb(36,36,36)\",\"ticks\":\"outside\"},\"colorscale\":[[0.0,\"#440154\"],[0.1111111111111111,\"#482878\"],[0.2222222222222222,\"#3e4989\"],[0.3333333333333333,\"#31688e\"],[0.4444444444444444,\"#26828e\"],[0.5555555555555556,\"#1f9e89\"],[0.6666666666666666,\"#35b779\"],[0.7777777777777778,\"#6ece58\"],[0.8888888888888888,\"#b5de2b\"],[1.0,\"#fde725\"]],\"type\":\"contour\"}],\"contourcarpet\":[{\"colorbar\":{\"outlinewidth\":1,\"tickcolor\":\"rgb(36,36,36)\",\"ticks\":\"outside\"},\"type\":\"contourcarpet\"}],\"heatmap\":[{\"colorbar\":{\"outlinewidth\":1,\"tickcolor\":\"rgb(36,36,36)\",\"ticks\":\"outside\"},\"colorscale\":[[0.0,\"#440154\"],[0.1111111111111111,\"#482878\"],[0.2222222222222222,\"#3e4989\"],[0.3333333333333333,\"#31688e\"],[0.4444444444444444,\"#26828e\"],[0.5555555555555556,\"#1f9e89\"],[0.6666666666666666,\"#35b779\"],[0.7777777777777778,\"#6ece58\"],[0.8888888888888888,\"#b5de2b\"],[1.0,\"#fde725\"]],\"type\":\"heatmap\"}],\"heatmapgl\":[{\"colorbar\":{\"outlinewidth\":1,\"tickcolor\":\"rgb(36,36,36)\",\"ticks\":\"outside\"},\"colorscale\":[[0.0,\"#440154\"],[0.1111111111111111,\"#482878\"],[0.2222222222222222,\"#3e4989\"],[0.3333333333333333,\"#31688e\"],[0.4444444444444444,\"#26828e\"],[0.5555555555555556,\"#1f9e89\"],[0.6666666666666666,\"#35b779\"],[0.7777777777777778,\"#6ece58\"],[0.8888888888888888,\"#b5de2b\"],[1.0,\"#fde725\"]],\"type\":\"heatmapgl\"}],\"histogram\":[{\"marker\":{\"line\":{\"color\":\"white\",\"width\":0.6}},\"type\":\"histogram\"}],\"histogram2d\":[{\"colorbar\":{\"outlinewidth\":1,\"tickcolor\":\"rgb(36,36,36)\",\"ticks\":\"outside\"},\"colorscale\":[[0.0,\"#440154\"],[0.1111111111111111,\"#482878\"],[0.2222222222222222,\"#3e4989\"],[0.3333333333333333,\"#31688e\"],[0.4444444444444444,\"#26828e\"],[0.5555555555555556,\"#1f9e89\"],[0.6666666666666666,\"#35b779\"],[0.7777777777777778,\"#6ece58\"],[0.8888888888888888,\"#b5de2b\"],[1.0,\"#fde725\"]],\"type\":\"histogram2d\"}],\"histogram2dcontour\":[{\"colorbar\":{\"outlinewidth\":1,\"tickcolor\":\"rgb(36,36,36)\",\"ticks\":\"outside\"},\"colorscale\":[[0.0,\"#440154\"],[0.1111111111111111,\"#482878\"],[0.2222222222222222,\"#3e4989\"],[0.3333333333333333,\"#31688e\"],[0.4444444444444444,\"#26828e\"],[0.5555555555555556,\"#1f9e89\"],[0.6666666666666666,\"#35b779\"],[0.7777777777777778,\"#6ece58\"],[0.8888888888888888,\"#b5de2b\"],[1.0,\"#fde725\"]],\"type\":\"histogram2dcontour\"}],\"mesh3d\":[{\"colorbar\":{\"outlinewidth\":1,\"tickcolor\":\"rgb(36,36,36)\",\"ticks\":\"outside\"},\"type\":\"mesh3d\"}],\"parcoords\":[{\"line\":{\"colorbar\":{\"outlinewidth\":1,\"tickcolor\":\"rgb(36,36,36)\",\"ticks\":\"outside\"}},\"type\":\"parcoords\"}],\"pie\":[{\"automargin\":true,\"type\":\"pie\"}],\"scatter\":[{\"marker\":{\"colorbar\":{\"outlinewidth\":1,\"tickcolor\":\"rgb(36,36,36)\",\"ticks\":\"outside\"}},\"type\":\"scatter\"}],\"scatter3d\":[{\"line\":{\"colorbar\":{\"outlinewidth\":1,\"tickcolor\":\"rgb(36,36,36)\",\"ticks\":\"outside\"}},\"marker\":{\"colorbar\":{\"outlinewidth\":1,\"tickcolor\":\"rgb(36,36,36)\",\"ticks\":\"outside\"}},\"type\":\"scatter3d\"}],\"scattercarpet\":[{\"marker\":{\"colorbar\":{\"outlinewidth\":1,\"tickcolor\":\"rgb(36,36,36)\",\"ticks\":\"outside\"}},\"type\":\"scattercarpet\"}],\"scattergeo\":[{\"marker\":{\"colorbar\":{\"outlinewidth\":1,\"tickcolor\":\"rgb(36,36,36)\",\"ticks\":\"outside\"}},\"type\":\"scattergeo\"}],\"scattergl\":[{\"marker\":{\"colorbar\":{\"outlinewidth\":1,\"tickcolor\":\"rgb(36,36,36)\",\"ticks\":\"outside\"}},\"type\":\"scattergl\"}],\"scattermapbox\":[{\"marker\":{\"colorbar\":{\"outlinewidth\":1,\"tickcolor\":\"rgb(36,36,36)\",\"ticks\":\"outside\"}},\"type\":\"scattermapbox\"}],\"scatterpolar\":[{\"marker\":{\"colorbar\":{\"outlinewidth\":1,\"tickcolor\":\"rgb(36,36,36)\",\"ticks\":\"outside\"}},\"type\":\"scatterpolar\"}],\"scatterpolargl\":[{\"marker\":{\"colorbar\":{\"outlinewidth\":1,\"tickcolor\":\"rgb(36,36,36)\",\"ticks\":\"outside\"}},\"type\":\"scatterpolargl\"}],\"scatterternary\":[{\"marker\":{\"colorbar\":{\"outlinewidth\":1,\"tickcolor\":\"rgb(36,36,36)\",\"ticks\":\"outside\"}},\"type\":\"scatterternary\"}],\"surface\":[{\"colorbar\":{\"outlinewidth\":1,\"tickcolor\":\"rgb(36,36,36)\",\"ticks\":\"outside\"},\"colorscale\":[[0.0,\"#440154\"],[0.1111111111111111,\"#482878\"],[0.2222222222222222,\"#3e4989\"],[0.3333333333333333,\"#31688e\"],[0.4444444444444444,\"#26828e\"],[0.5555555555555556,\"#1f9e89\"],[0.6666666666666666,\"#35b779\"],[0.7777777777777778,\"#6ece58\"],[0.8888888888888888,\"#b5de2b\"],[1.0,\"#fde725\"]],\"type\":\"surface\"}],\"table\":[{\"cells\":{\"fill\":{\"color\":\"rgb(237,237,237)\"},\"line\":{\"color\":\"white\"}},\"header\":{\"fill\":{\"color\":\"rgb(217,217,217)\"},\"line\":{\"color\":\"white\"}},\"type\":\"table\"}]},\"layout\":{\"annotationdefaults\":{\"arrowhead\":0,\"arrowwidth\":1},\"autotypenumbers\":\"strict\",\"coloraxis\":{\"colorbar\":{\"outlinewidth\":1,\"tickcolor\":\"rgb(36,36,36)\",\"ticks\":\"outside\"}},\"colorscale\":{\"diverging\":[[0.0,\"rgb(103,0,31)\"],[0.1,\"rgb(178,24,43)\"],[0.2,\"rgb(214,96,77)\"],[0.3,\"rgb(244,165,130)\"],[0.4,\"rgb(253,219,199)\"],[0.5,\"rgb(247,247,247)\"],[0.6,\"rgb(209,229,240)\"],[0.7,\"rgb(146,197,222)\"],[0.8,\"rgb(67,147,195)\"],[0.9,\"rgb(33,102,172)\"],[1.0,\"rgb(5,48,97)\"]],\"sequential\":[[0.0,\"#440154\"],[0.1111111111111111,\"#482878\"],[0.2222222222222222,\"#3e4989\"],[0.3333333333333333,\"#31688e\"],[0.4444444444444444,\"#26828e\"],[0.5555555555555556,\"#1f9e89\"],[0.6666666666666666,\"#35b779\"],[0.7777777777777778,\"#6ece58\"],[0.8888888888888888,\"#b5de2b\"],[1.0,\"#fde725\"]],\"sequentialminus\":[[0.0,\"#440154\"],[0.1111111111111111,\"#482878\"],[0.2222222222222222,\"#3e4989\"],[0.3333333333333333,\"#31688e\"],[0.4444444444444444,\"#26828e\"],[0.5555555555555556,\"#1f9e89\"],[0.6666666666666666,\"#35b779\"],[0.7777777777777778,\"#6ece58\"],[0.8888888888888888,\"#b5de2b\"],[1.0,\"#fde725\"]]},\"colorway\":[\"#1F77B4\",\"#FF7F0E\",\"#2CA02C\",\"#D62728\",\"#9467BD\",\"#8C564B\",\"#E377C2\",\"#7F7F7F\",\"#BCBD22\",\"#17BECF\"],\"font\":{\"color\":\"rgb(36,36,36)\"},\"geo\":{\"bgcolor\":\"white\",\"lakecolor\":\"white\",\"landcolor\":\"white\",\"showlakes\":true,\"showland\":true,\"subunitcolor\":\"white\"},\"hoverlabel\":{\"align\":\"left\"},\"hovermode\":\"closest\",\"mapbox\":{\"style\":\"light\"},\"paper_bgcolor\":\"white\",\"plot_bgcolor\":\"white\",\"polar\":{\"angularaxis\":{\"gridcolor\":\"rgb(232,232,232)\",\"linecolor\":\"rgb(36,36,36)\",\"showgrid\":false,\"showline\":true,\"ticks\":\"outside\"},\"bgcolor\":\"white\",\"radialaxis\":{\"gridcolor\":\"rgb(232,232,232)\",\"linecolor\":\"rgb(36,36,36)\",\"showgrid\":false,\"showline\":true,\"ticks\":\"outside\"}},\"scene\":{\"xaxis\":{\"backgroundcolor\":\"white\",\"gridcolor\":\"rgb(232,232,232)\",\"gridwidth\":2,\"linecolor\":\"rgb(36,36,36)\",\"showbackground\":true,\"showgrid\":false,\"showline\":true,\"ticks\":\"outside\",\"zeroline\":false,\"zerolinecolor\":\"rgb(36,36,36)\"},\"yaxis\":{\"backgroundcolor\":\"white\",\"gridcolor\":\"rgb(232,232,232)\",\"gridwidth\":2,\"linecolor\":\"rgb(36,36,36)\",\"showbackground\":true,\"showgrid\":false,\"showline\":true,\"ticks\":\"outside\",\"zeroline\":false,\"zerolinecolor\":\"rgb(36,36,36)\"},\"zaxis\":{\"backgroundcolor\":\"white\",\"gridcolor\":\"rgb(232,232,232)\",\"gridwidth\":2,\"linecolor\":\"rgb(36,36,36)\",\"showbackground\":true,\"showgrid\":false,\"showline\":true,\"ticks\":\"outside\",\"zeroline\":false,\"zerolinecolor\":\"rgb(36,36,36)\"}},\"shapedefaults\":{\"fillcolor\":\"black\",\"line\":{\"width\":0},\"opacity\":0.3},\"ternary\":{\"aaxis\":{\"gridcolor\":\"rgb(232,232,232)\",\"linecolor\":\"rgb(36,36,36)\",\"showgrid\":false,\"showline\":true,\"ticks\":\"outside\"},\"baxis\":{\"gridcolor\":\"rgb(232,232,232)\",\"linecolor\":\"rgb(36,36,36)\",\"showgrid\":false,\"showline\":true,\"ticks\":\"outside\"},\"bgcolor\":\"white\",\"caxis\":{\"gridcolor\":\"rgb(232,232,232)\",\"linecolor\":\"rgb(36,36,36)\",\"showgrid\":false,\"showline\":true,\"ticks\":\"outside\"}},\"title\":{\"x\":0.05},\"xaxis\":{\"automargin\":true,\"gridcolor\":\"rgb(232,232,232)\",\"linecolor\":\"rgb(36,36,36)\",\"showgrid\":false,\"showline\":true,\"ticks\":\"outside\",\"title\":{\"standoff\":15},\"zeroline\":false,\"zerolinecolor\":\"rgb(36,36,36)\"},\"yaxis\":{\"automargin\":true,\"gridcolor\":\"rgb(232,232,232)\",\"linecolor\":\"rgb(36,36,36)\",\"showgrid\":false,\"showline\":true,\"ticks\":\"outside\",\"title\":{\"standoff\":15},\"zeroline\":false,\"zerolinecolor\":\"rgb(36,36,36)\"}}},\"title\":{\"text\":\"Indicador Materia Prima Bruta por origen Sudmaris\"},\"width\":700,\"xaxis\":{\"anchor\":\"y\",\"domain\":[0.0,1.0],\"title\":{\"text\":\"Mes\"}},\"yaxis\":{\"anchor\":\"x\",\"domain\":[0.0,1.0],\"title\":{\"text\":\"Unidades por kilo\"}}},                        {\"responsive\": true}                    ).then(function(){\n",
       "                            \n",
       "var gd = document.getElementById('69205593-d4ee-4a2c-984b-625c5136c7f1');\n",
       "var x = new MutationObserver(function (mutations, observer) {{\n",
       "        var display = window.getComputedStyle(gd).display;\n",
       "        if (!display || display === 'none') {{\n",
       "            console.log([gd, 'removed!']);\n",
       "            Plotly.purge(gd);\n",
       "            observer.disconnect();\n",
       "        }}\n",
       "}});\n",
       "\n",
       "// Listen for the removal of the full notebook cells\n",
       "var notebookContainer = gd.closest('#notebook-container');\n",
       "if (notebookContainer) {{\n",
       "    x.observe(notebookContainer, {childList: true});\n",
       "}}\n",
       "\n",
       "// Listen for the clearing of the current output cell\n",
       "var outputEl = gd.closest('.output');\n",
       "if (outputEl) {{\n",
       "    x.observe(outputEl, {childList: true});\n",
       "}}\n",
       "\n",
       "                        })                };                });            </script>        </div>"
      ]
     },
     "metadata": {},
     "output_type": "display_data"
    }
   ],
   "source": [
    "import plotly.express as px\n",
    "from plotly.subplots import make_subplots\n",
    "import plotly.graph_objects as go\n",
    "\n",
    "empresa = 'Sudmaris'\n",
    "\n",
    "datos_w = datos[(datos.Empresa == empresa) & (datos.Indicadores == 'Unidades por kilo')].groupby(['Mes','Propietario']).Valor.sum().unstack()\n",
    "datos_w.drop_duplicates(inplace = True)\n",
    "\n",
    "fig_industria = px.bar(datos_w, x=datos_w.index,\n",
    "            y=['Materia Prima Propia','Materia Prima Terceros'], title=\"Indicador Materia Prima Bruta por origen \"+empresa,\n",
    "            labels={'Mes':'Mes','value':'Unidades por kilo','variable':'Origen'},\n",
    "            color_discrete_map={\"Materia Prima Propia\": \"#C45130\", \"Materia Prima Terceros\": \"#FFAA61\"},\n",
    "            template=\"simple_white\",\n",
    "            width=700, \n",
    "            height=500)\n",
    "\n",
    "fig_industria.show()"
   ]
  },
  {
   "cell_type": "code",
   "execution_count": 63,
   "id": "8a80a8bf",
   "metadata": {},
   "outputs": [],
   "source": [
    "datos2 = datos[datos.Indicadores != 'Ingreso Materia Prima Bruta']\n",
    "datos2 = pd.pivot_table(datos2, index=['Mes','Empresa'], columns=['Propietario','Indicadores'], values='Valor').fillna(0)\n",
    "idx = pd.IndexSlice"
   ]
  },
  {
   "cell_type": "code",
   "execution_count": 64,
   "id": "fa8de97c",
   "metadata": {},
   "outputs": [
    {
     "data": {
      "text/plain": [
       "Mes  Empresa   \n",
       "1    Blue Shell    112731.355000\n",
       "     Camanchaca    134898.093000\n",
       "     Landes         24603.179800\n",
       "     Manuelita     132838.322469\n",
       "     SA Chonchi    185443.664000\n",
       "     SA Quemchi    135977.238000\n",
       "     Sudmaris       48230.064090\n",
       "dtype: float64"
      ]
     },
     "execution_count": 64,
     "metadata": {},
     "output_type": "execute_result"
    }
   ],
   "source": [
    "datos2.loc[idx[1,:],:]['Materia Prima Propia']['Ingreso Materia Prima Neta'] * datos2.loc[idx[1,:],:]['Materia Prima Propia']['Unidades por kilo']"
   ]
  },
  {
   "cell_type": "code",
   "execution_count": 65,
   "id": "8c969852",
   "metadata": {},
   "outputs": [],
   "source": [
    "df_unidades = pd.DataFrame(columns = ['Mes','Unidades por kilo Propia', 'Unidades por kilo Terceros'])\n",
    "\n",
    "for i,j in datos2.index:\n",
    "    df_aux = datos2.loc[idx[i,:],:]['Materia Prima Propia']\n",
    "    df_auxa = datos2.loc[idx[i,:],:]['Materia Prima Terceros']\n",
    "    new_row = {\n",
    "        'Mes':i,\n",
    "        'Unidades por kilo Propia': (df_aux['Ingreso Materia Prima Neta']*df_aux['Unidades por kilo']).sum()/df_aux['Ingreso Materia Prima Neta'].sum(),\n",
    "        'Unidades por kilo Terceros': (df_auxa['Ingreso Materia Prima Neta']*df_auxa['Unidades por kilo']).sum()/df_auxa['Ingreso Materia Prima Neta'].sum()\n",
    "    }\n",
    "    df_unidades = df_unidades.append(new_row, ignore_index = True)"
   ]
  },
  {
   "cell_type": "code",
   "execution_count": 66,
   "id": "fb96ecd3",
   "metadata": {},
   "outputs": [
    {
     "data": {
      "application/vnd.plotly.v1+json": {
       "config": {
        "plotlyServerURL": "https://plot.ly"
       },
       "data": [
        {
         "alignmentgroup": "True",
         "hovertemplate": "Origen=Unidades por kilo Propia<br>Mes=%{x}<br>Unidades por kilo=%{y}<extra></extra>",
         "legendgroup": "Unidades por kilo Propia",
         "marker": {
          "color": "#00609C",
          "pattern": {
           "shape": ""
          }
         },
         "name": "Unidades por kilo Propia",
         "offsetgroup": "Unidades por kilo Propia",
         "orientation": "v",
         "showlegend": true,
         "textposition": "auto",
         "type": "bar",
         "x": [
          1,
          2,
          3,
          4,
          5,
          6,
          7,
          8,
          9
         ],
         "xaxis": "x",
         "y": [
          60.891823013248164,
          60.13170898970614,
          62.23052186594666,
          65.88061623790027,
          67.45804844035784,
          66.43374812819854,
          61.2056424377757,
          64.54606603173306,
          62.745444823454655
         ],
         "yaxis": "y"
        },
        {
         "alignmentgroup": "True",
         "hovertemplate": "Origen=Unidades por kilo Terceros<br>Mes=%{x}<br>Unidades por kilo=%{y}<extra></extra>",
         "legendgroup": "Unidades por kilo Terceros",
         "marker": {
          "color": "#F4D19F",
          "pattern": {
           "shape": ""
          }
         },
         "name": "Unidades por kilo Terceros",
         "offsetgroup": "Unidades por kilo Terceros",
         "orientation": "v",
         "showlegend": true,
         "textposition": "auto",
         "type": "bar",
         "x": [
          1,
          2,
          3,
          4,
          5,
          6,
          7,
          8,
          9
         ],
         "xaxis": "x",
         "y": [
          53.609747776823866,
          59.53761587688648,
          63.27053614009831,
          63.702106954173026,
          62.76309336870081,
          61.78154210902701,
          63.264562307842574,
          62.29647217633613,
          54.748595702194216
         ],
         "yaxis": "y"
        }
       ],
       "layout": {
        "barmode": "relative",
        "height": 500,
        "legend": {
         "title": {
          "text": "Origen"
         },
         "tracegroupgap": 0
        },
        "template": {
         "data": {
          "bar": [
           {
            "error_x": {
             "color": "rgb(36,36,36)"
            },
            "error_y": {
             "color": "rgb(36,36,36)"
            },
            "marker": {
             "line": {
              "color": "white",
              "width": 0.5
             },
             "pattern": {
              "fillmode": "overlay",
              "size": 10,
              "solidity": 0.2
             }
            },
            "type": "bar"
           }
          ],
          "barpolar": [
           {
            "marker": {
             "line": {
              "color": "white",
              "width": 0.5
             },
             "pattern": {
              "fillmode": "overlay",
              "size": 10,
              "solidity": 0.2
             }
            },
            "type": "barpolar"
           }
          ],
          "carpet": [
           {
            "aaxis": {
             "endlinecolor": "rgb(36,36,36)",
             "gridcolor": "white",
             "linecolor": "white",
             "minorgridcolor": "white",
             "startlinecolor": "rgb(36,36,36)"
            },
            "baxis": {
             "endlinecolor": "rgb(36,36,36)",
             "gridcolor": "white",
             "linecolor": "white",
             "minorgridcolor": "white",
             "startlinecolor": "rgb(36,36,36)"
            },
            "type": "carpet"
           }
          ],
          "choropleth": [
           {
            "colorbar": {
             "outlinewidth": 1,
             "tickcolor": "rgb(36,36,36)",
             "ticks": "outside"
            },
            "type": "choropleth"
           }
          ],
          "contour": [
           {
            "colorbar": {
             "outlinewidth": 1,
             "tickcolor": "rgb(36,36,36)",
             "ticks": "outside"
            },
            "colorscale": [
             [
              0,
              "#440154"
             ],
             [
              0.1111111111111111,
              "#482878"
             ],
             [
              0.2222222222222222,
              "#3e4989"
             ],
             [
              0.3333333333333333,
              "#31688e"
             ],
             [
              0.4444444444444444,
              "#26828e"
             ],
             [
              0.5555555555555556,
              "#1f9e89"
             ],
             [
              0.6666666666666666,
              "#35b779"
             ],
             [
              0.7777777777777778,
              "#6ece58"
             ],
             [
              0.8888888888888888,
              "#b5de2b"
             ],
             [
              1,
              "#fde725"
             ]
            ],
            "type": "contour"
           }
          ],
          "contourcarpet": [
           {
            "colorbar": {
             "outlinewidth": 1,
             "tickcolor": "rgb(36,36,36)",
             "ticks": "outside"
            },
            "type": "contourcarpet"
           }
          ],
          "heatmap": [
           {
            "colorbar": {
             "outlinewidth": 1,
             "tickcolor": "rgb(36,36,36)",
             "ticks": "outside"
            },
            "colorscale": [
             [
              0,
              "#440154"
             ],
             [
              0.1111111111111111,
              "#482878"
             ],
             [
              0.2222222222222222,
              "#3e4989"
             ],
             [
              0.3333333333333333,
              "#31688e"
             ],
             [
              0.4444444444444444,
              "#26828e"
             ],
             [
              0.5555555555555556,
              "#1f9e89"
             ],
             [
              0.6666666666666666,
              "#35b779"
             ],
             [
              0.7777777777777778,
              "#6ece58"
             ],
             [
              0.8888888888888888,
              "#b5de2b"
             ],
             [
              1,
              "#fde725"
             ]
            ],
            "type": "heatmap"
           }
          ],
          "heatmapgl": [
           {
            "colorbar": {
             "outlinewidth": 1,
             "tickcolor": "rgb(36,36,36)",
             "ticks": "outside"
            },
            "colorscale": [
             [
              0,
              "#440154"
             ],
             [
              0.1111111111111111,
              "#482878"
             ],
             [
              0.2222222222222222,
              "#3e4989"
             ],
             [
              0.3333333333333333,
              "#31688e"
             ],
             [
              0.4444444444444444,
              "#26828e"
             ],
             [
              0.5555555555555556,
              "#1f9e89"
             ],
             [
              0.6666666666666666,
              "#35b779"
             ],
             [
              0.7777777777777778,
              "#6ece58"
             ],
             [
              0.8888888888888888,
              "#b5de2b"
             ],
             [
              1,
              "#fde725"
             ]
            ],
            "type": "heatmapgl"
           }
          ],
          "histogram": [
           {
            "marker": {
             "line": {
              "color": "white",
              "width": 0.6
             }
            },
            "type": "histogram"
           }
          ],
          "histogram2d": [
           {
            "colorbar": {
             "outlinewidth": 1,
             "tickcolor": "rgb(36,36,36)",
             "ticks": "outside"
            },
            "colorscale": [
             [
              0,
              "#440154"
             ],
             [
              0.1111111111111111,
              "#482878"
             ],
             [
              0.2222222222222222,
              "#3e4989"
             ],
             [
              0.3333333333333333,
              "#31688e"
             ],
             [
              0.4444444444444444,
              "#26828e"
             ],
             [
              0.5555555555555556,
              "#1f9e89"
             ],
             [
              0.6666666666666666,
              "#35b779"
             ],
             [
              0.7777777777777778,
              "#6ece58"
             ],
             [
              0.8888888888888888,
              "#b5de2b"
             ],
             [
              1,
              "#fde725"
             ]
            ],
            "type": "histogram2d"
           }
          ],
          "histogram2dcontour": [
           {
            "colorbar": {
             "outlinewidth": 1,
             "tickcolor": "rgb(36,36,36)",
             "ticks": "outside"
            },
            "colorscale": [
             [
              0,
              "#440154"
             ],
             [
              0.1111111111111111,
              "#482878"
             ],
             [
              0.2222222222222222,
              "#3e4989"
             ],
             [
              0.3333333333333333,
              "#31688e"
             ],
             [
              0.4444444444444444,
              "#26828e"
             ],
             [
              0.5555555555555556,
              "#1f9e89"
             ],
             [
              0.6666666666666666,
              "#35b779"
             ],
             [
              0.7777777777777778,
              "#6ece58"
             ],
             [
              0.8888888888888888,
              "#b5de2b"
             ],
             [
              1,
              "#fde725"
             ]
            ],
            "type": "histogram2dcontour"
           }
          ],
          "mesh3d": [
           {
            "colorbar": {
             "outlinewidth": 1,
             "tickcolor": "rgb(36,36,36)",
             "ticks": "outside"
            },
            "type": "mesh3d"
           }
          ],
          "parcoords": [
           {
            "line": {
             "colorbar": {
              "outlinewidth": 1,
              "tickcolor": "rgb(36,36,36)",
              "ticks": "outside"
             }
            },
            "type": "parcoords"
           }
          ],
          "pie": [
           {
            "automargin": true,
            "type": "pie"
           }
          ],
          "scatter": [
           {
            "marker": {
             "colorbar": {
              "outlinewidth": 1,
              "tickcolor": "rgb(36,36,36)",
              "ticks": "outside"
             }
            },
            "type": "scatter"
           }
          ],
          "scatter3d": [
           {
            "line": {
             "colorbar": {
              "outlinewidth": 1,
              "tickcolor": "rgb(36,36,36)",
              "ticks": "outside"
             }
            },
            "marker": {
             "colorbar": {
              "outlinewidth": 1,
              "tickcolor": "rgb(36,36,36)",
              "ticks": "outside"
             }
            },
            "type": "scatter3d"
           }
          ],
          "scattercarpet": [
           {
            "marker": {
             "colorbar": {
              "outlinewidth": 1,
              "tickcolor": "rgb(36,36,36)",
              "ticks": "outside"
             }
            },
            "type": "scattercarpet"
           }
          ],
          "scattergeo": [
           {
            "marker": {
             "colorbar": {
              "outlinewidth": 1,
              "tickcolor": "rgb(36,36,36)",
              "ticks": "outside"
             }
            },
            "type": "scattergeo"
           }
          ],
          "scattergl": [
           {
            "marker": {
             "colorbar": {
              "outlinewidth": 1,
              "tickcolor": "rgb(36,36,36)",
              "ticks": "outside"
             }
            },
            "type": "scattergl"
           }
          ],
          "scattermapbox": [
           {
            "marker": {
             "colorbar": {
              "outlinewidth": 1,
              "tickcolor": "rgb(36,36,36)",
              "ticks": "outside"
             }
            },
            "type": "scattermapbox"
           }
          ],
          "scatterpolar": [
           {
            "marker": {
             "colorbar": {
              "outlinewidth": 1,
              "tickcolor": "rgb(36,36,36)",
              "ticks": "outside"
             }
            },
            "type": "scatterpolar"
           }
          ],
          "scatterpolargl": [
           {
            "marker": {
             "colorbar": {
              "outlinewidth": 1,
              "tickcolor": "rgb(36,36,36)",
              "ticks": "outside"
             }
            },
            "type": "scatterpolargl"
           }
          ],
          "scatterternary": [
           {
            "marker": {
             "colorbar": {
              "outlinewidth": 1,
              "tickcolor": "rgb(36,36,36)",
              "ticks": "outside"
             }
            },
            "type": "scatterternary"
           }
          ],
          "surface": [
           {
            "colorbar": {
             "outlinewidth": 1,
             "tickcolor": "rgb(36,36,36)",
             "ticks": "outside"
            },
            "colorscale": [
             [
              0,
              "#440154"
             ],
             [
              0.1111111111111111,
              "#482878"
             ],
             [
              0.2222222222222222,
              "#3e4989"
             ],
             [
              0.3333333333333333,
              "#31688e"
             ],
             [
              0.4444444444444444,
              "#26828e"
             ],
             [
              0.5555555555555556,
              "#1f9e89"
             ],
             [
              0.6666666666666666,
              "#35b779"
             ],
             [
              0.7777777777777778,
              "#6ece58"
             ],
             [
              0.8888888888888888,
              "#b5de2b"
             ],
             [
              1,
              "#fde725"
             ]
            ],
            "type": "surface"
           }
          ],
          "table": [
           {
            "cells": {
             "fill": {
              "color": "rgb(237,237,237)"
             },
             "line": {
              "color": "white"
             }
            },
            "header": {
             "fill": {
              "color": "rgb(217,217,217)"
             },
             "line": {
              "color": "white"
             }
            },
            "type": "table"
           }
          ]
         },
         "layout": {
          "annotationdefaults": {
           "arrowhead": 0,
           "arrowwidth": 1
          },
          "autotypenumbers": "strict",
          "coloraxis": {
           "colorbar": {
            "outlinewidth": 1,
            "tickcolor": "rgb(36,36,36)",
            "ticks": "outside"
           }
          },
          "colorscale": {
           "diverging": [
            [
             0,
             "rgb(103,0,31)"
            ],
            [
             0.1,
             "rgb(178,24,43)"
            ],
            [
             0.2,
             "rgb(214,96,77)"
            ],
            [
             0.3,
             "rgb(244,165,130)"
            ],
            [
             0.4,
             "rgb(253,219,199)"
            ],
            [
             0.5,
             "rgb(247,247,247)"
            ],
            [
             0.6,
             "rgb(209,229,240)"
            ],
            [
             0.7,
             "rgb(146,197,222)"
            ],
            [
             0.8,
             "rgb(67,147,195)"
            ],
            [
             0.9,
             "rgb(33,102,172)"
            ],
            [
             1,
             "rgb(5,48,97)"
            ]
           ],
           "sequential": [
            [
             0,
             "#440154"
            ],
            [
             0.1111111111111111,
             "#482878"
            ],
            [
             0.2222222222222222,
             "#3e4989"
            ],
            [
             0.3333333333333333,
             "#31688e"
            ],
            [
             0.4444444444444444,
             "#26828e"
            ],
            [
             0.5555555555555556,
             "#1f9e89"
            ],
            [
             0.6666666666666666,
             "#35b779"
            ],
            [
             0.7777777777777778,
             "#6ece58"
            ],
            [
             0.8888888888888888,
             "#b5de2b"
            ],
            [
             1,
             "#fde725"
            ]
           ],
           "sequentialminus": [
            [
             0,
             "#440154"
            ],
            [
             0.1111111111111111,
             "#482878"
            ],
            [
             0.2222222222222222,
             "#3e4989"
            ],
            [
             0.3333333333333333,
             "#31688e"
            ],
            [
             0.4444444444444444,
             "#26828e"
            ],
            [
             0.5555555555555556,
             "#1f9e89"
            ],
            [
             0.6666666666666666,
             "#35b779"
            ],
            [
             0.7777777777777778,
             "#6ece58"
            ],
            [
             0.8888888888888888,
             "#b5de2b"
            ],
            [
             1,
             "#fde725"
            ]
           ]
          },
          "colorway": [
           "#1F77B4",
           "#FF7F0E",
           "#2CA02C",
           "#D62728",
           "#9467BD",
           "#8C564B",
           "#E377C2",
           "#7F7F7F",
           "#BCBD22",
           "#17BECF"
          ],
          "font": {
           "color": "rgb(36,36,36)"
          },
          "geo": {
           "bgcolor": "white",
           "lakecolor": "white",
           "landcolor": "white",
           "showlakes": true,
           "showland": true,
           "subunitcolor": "white"
          },
          "hoverlabel": {
           "align": "left"
          },
          "hovermode": "closest",
          "mapbox": {
           "style": "light"
          },
          "paper_bgcolor": "white",
          "plot_bgcolor": "white",
          "polar": {
           "angularaxis": {
            "gridcolor": "rgb(232,232,232)",
            "linecolor": "rgb(36,36,36)",
            "showgrid": false,
            "showline": true,
            "ticks": "outside"
           },
           "bgcolor": "white",
           "radialaxis": {
            "gridcolor": "rgb(232,232,232)",
            "linecolor": "rgb(36,36,36)",
            "showgrid": false,
            "showline": true,
            "ticks": "outside"
           }
          },
          "scene": {
           "xaxis": {
            "backgroundcolor": "white",
            "gridcolor": "rgb(232,232,232)",
            "gridwidth": 2,
            "linecolor": "rgb(36,36,36)",
            "showbackground": true,
            "showgrid": false,
            "showline": true,
            "ticks": "outside",
            "zeroline": false,
            "zerolinecolor": "rgb(36,36,36)"
           },
           "yaxis": {
            "backgroundcolor": "white",
            "gridcolor": "rgb(232,232,232)",
            "gridwidth": 2,
            "linecolor": "rgb(36,36,36)",
            "showbackground": true,
            "showgrid": false,
            "showline": true,
            "ticks": "outside",
            "zeroline": false,
            "zerolinecolor": "rgb(36,36,36)"
           },
           "zaxis": {
            "backgroundcolor": "white",
            "gridcolor": "rgb(232,232,232)",
            "gridwidth": 2,
            "linecolor": "rgb(36,36,36)",
            "showbackground": true,
            "showgrid": false,
            "showline": true,
            "ticks": "outside",
            "zeroline": false,
            "zerolinecolor": "rgb(36,36,36)"
           }
          },
          "shapedefaults": {
           "fillcolor": "black",
           "line": {
            "width": 0
           },
           "opacity": 0.3
          },
          "ternary": {
           "aaxis": {
            "gridcolor": "rgb(232,232,232)",
            "linecolor": "rgb(36,36,36)",
            "showgrid": false,
            "showline": true,
            "ticks": "outside"
           },
           "baxis": {
            "gridcolor": "rgb(232,232,232)",
            "linecolor": "rgb(36,36,36)",
            "showgrid": false,
            "showline": true,
            "ticks": "outside"
           },
           "bgcolor": "white",
           "caxis": {
            "gridcolor": "rgb(232,232,232)",
            "linecolor": "rgb(36,36,36)",
            "showgrid": false,
            "showline": true,
            "ticks": "outside"
           }
          },
          "title": {
           "x": 0.05
          },
          "xaxis": {
           "automargin": true,
           "gridcolor": "rgb(232,232,232)",
           "linecolor": "rgb(36,36,36)",
           "showgrid": false,
           "showline": true,
           "ticks": "outside",
           "title": {
            "standoff": 15
           },
           "zeroline": false,
           "zerolinecolor": "rgb(36,36,36)"
          },
          "yaxis": {
           "automargin": true,
           "gridcolor": "rgb(232,232,232)",
           "linecolor": "rgb(36,36,36)",
           "showgrid": false,
           "showline": true,
           "ticks": "outside",
           "title": {
            "standoff": 15
           },
           "zeroline": false,
           "zerolinecolor": "rgb(36,36,36)"
          }
         }
        },
        "title": {
         "text": "Unidades por kilo "
        },
        "width": 700,
        "xaxis": {
         "anchor": "y",
         "domain": [
          0,
          1
         ],
         "title": {
          "text": "Mes"
         }
        },
        "yaxis": {
         "anchor": "x",
         "domain": [
          0,
          1
         ],
         "title": {
          "text": "Unidades por kilo"
         }
        }
       }
      },
      "text/html": [
       "<div>                            <div id=\"28f582b1-1bad-4a68-9109-b3c3561c3a47\" class=\"plotly-graph-div\" style=\"height:500px; width:700px;\"></div>            <script type=\"text/javascript\">                require([\"plotly\"], function(Plotly) {                    window.PLOTLYENV=window.PLOTLYENV || {};                                    if (document.getElementById(\"28f582b1-1bad-4a68-9109-b3c3561c3a47\")) {                    Plotly.newPlot(                        \"28f582b1-1bad-4a68-9109-b3c3561c3a47\",                        [{\"alignmentgroup\":\"True\",\"hovertemplate\":\"Origen=Unidades por kilo Propia<br>Mes=%{x}<br>Unidades por kilo=%{y}<extra></extra>\",\"legendgroup\":\"Unidades por kilo Propia\",\"marker\":{\"color\":\"#00609C\",\"pattern\":{\"shape\":\"\"}},\"name\":\"Unidades por kilo Propia\",\"offsetgroup\":\"Unidades por kilo Propia\",\"orientation\":\"v\",\"showlegend\":true,\"textposition\":\"auto\",\"type\":\"bar\",\"x\":[1.0,2.0,3.0,4.0,5.0,6.0,7.0,8.0,9.0],\"xaxis\":\"x\",\"y\":[60.891823013248164,60.13170898970614,62.23052186594666,65.88061623790027,67.45804844035784,66.43374812819854,61.2056424377757,64.54606603173306,62.745444823454655],\"yaxis\":\"y\"},{\"alignmentgroup\":\"True\",\"hovertemplate\":\"Origen=Unidades por kilo Terceros<br>Mes=%{x}<br>Unidades por kilo=%{y}<extra></extra>\",\"legendgroup\":\"Unidades por kilo Terceros\",\"marker\":{\"color\":\"#F4D19F\",\"pattern\":{\"shape\":\"\"}},\"name\":\"Unidades por kilo Terceros\",\"offsetgroup\":\"Unidades por kilo Terceros\",\"orientation\":\"v\",\"showlegend\":true,\"textposition\":\"auto\",\"type\":\"bar\",\"x\":[1.0,2.0,3.0,4.0,5.0,6.0,7.0,8.0,9.0],\"xaxis\":\"x\",\"y\":[53.609747776823866,59.53761587688648,63.27053614009831,63.702106954173026,62.76309336870081,61.78154210902701,63.264562307842574,62.29647217633613,54.748595702194216],\"yaxis\":\"y\"}],                        {\"barmode\":\"relative\",\"height\":500,\"legend\":{\"title\":{\"text\":\"Origen\"},\"tracegroupgap\":0},\"template\":{\"data\":{\"bar\":[{\"error_x\":{\"color\":\"rgb(36,36,36)\"},\"error_y\":{\"color\":\"rgb(36,36,36)\"},\"marker\":{\"line\":{\"color\":\"white\",\"width\":0.5},\"pattern\":{\"fillmode\":\"overlay\",\"size\":10,\"solidity\":0.2}},\"type\":\"bar\"}],\"barpolar\":[{\"marker\":{\"line\":{\"color\":\"white\",\"width\":0.5},\"pattern\":{\"fillmode\":\"overlay\",\"size\":10,\"solidity\":0.2}},\"type\":\"barpolar\"}],\"carpet\":[{\"aaxis\":{\"endlinecolor\":\"rgb(36,36,36)\",\"gridcolor\":\"white\",\"linecolor\":\"white\",\"minorgridcolor\":\"white\",\"startlinecolor\":\"rgb(36,36,36)\"},\"baxis\":{\"endlinecolor\":\"rgb(36,36,36)\",\"gridcolor\":\"white\",\"linecolor\":\"white\",\"minorgridcolor\":\"white\",\"startlinecolor\":\"rgb(36,36,36)\"},\"type\":\"carpet\"}],\"choropleth\":[{\"colorbar\":{\"outlinewidth\":1,\"tickcolor\":\"rgb(36,36,36)\",\"ticks\":\"outside\"},\"type\":\"choropleth\"}],\"contour\":[{\"colorbar\":{\"outlinewidth\":1,\"tickcolor\":\"rgb(36,36,36)\",\"ticks\":\"outside\"},\"colorscale\":[[0.0,\"#440154\"],[0.1111111111111111,\"#482878\"],[0.2222222222222222,\"#3e4989\"],[0.3333333333333333,\"#31688e\"],[0.4444444444444444,\"#26828e\"],[0.5555555555555556,\"#1f9e89\"],[0.6666666666666666,\"#35b779\"],[0.7777777777777778,\"#6ece58\"],[0.8888888888888888,\"#b5de2b\"],[1.0,\"#fde725\"]],\"type\":\"contour\"}],\"contourcarpet\":[{\"colorbar\":{\"outlinewidth\":1,\"tickcolor\":\"rgb(36,36,36)\",\"ticks\":\"outside\"},\"type\":\"contourcarpet\"}],\"heatmap\":[{\"colorbar\":{\"outlinewidth\":1,\"tickcolor\":\"rgb(36,36,36)\",\"ticks\":\"outside\"},\"colorscale\":[[0.0,\"#440154\"],[0.1111111111111111,\"#482878\"],[0.2222222222222222,\"#3e4989\"],[0.3333333333333333,\"#31688e\"],[0.4444444444444444,\"#26828e\"],[0.5555555555555556,\"#1f9e89\"],[0.6666666666666666,\"#35b779\"],[0.7777777777777778,\"#6ece58\"],[0.8888888888888888,\"#b5de2b\"],[1.0,\"#fde725\"]],\"type\":\"heatmap\"}],\"heatmapgl\":[{\"colorbar\":{\"outlinewidth\":1,\"tickcolor\":\"rgb(36,36,36)\",\"ticks\":\"outside\"},\"colorscale\":[[0.0,\"#440154\"],[0.1111111111111111,\"#482878\"],[0.2222222222222222,\"#3e4989\"],[0.3333333333333333,\"#31688e\"],[0.4444444444444444,\"#26828e\"],[0.5555555555555556,\"#1f9e89\"],[0.6666666666666666,\"#35b779\"],[0.7777777777777778,\"#6ece58\"],[0.8888888888888888,\"#b5de2b\"],[1.0,\"#fde725\"]],\"type\":\"heatmapgl\"}],\"histogram\":[{\"marker\":{\"line\":{\"color\":\"white\",\"width\":0.6}},\"type\":\"histogram\"}],\"histogram2d\":[{\"colorbar\":{\"outlinewidth\":1,\"tickcolor\":\"rgb(36,36,36)\",\"ticks\":\"outside\"},\"colorscale\":[[0.0,\"#440154\"],[0.1111111111111111,\"#482878\"],[0.2222222222222222,\"#3e4989\"],[0.3333333333333333,\"#31688e\"],[0.4444444444444444,\"#26828e\"],[0.5555555555555556,\"#1f9e89\"],[0.6666666666666666,\"#35b779\"],[0.7777777777777778,\"#6ece58\"],[0.8888888888888888,\"#b5de2b\"],[1.0,\"#fde725\"]],\"type\":\"histogram2d\"}],\"histogram2dcontour\":[{\"colorbar\":{\"outlinewidth\":1,\"tickcolor\":\"rgb(36,36,36)\",\"ticks\":\"outside\"},\"colorscale\":[[0.0,\"#440154\"],[0.1111111111111111,\"#482878\"],[0.2222222222222222,\"#3e4989\"],[0.3333333333333333,\"#31688e\"],[0.4444444444444444,\"#26828e\"],[0.5555555555555556,\"#1f9e89\"],[0.6666666666666666,\"#35b779\"],[0.7777777777777778,\"#6ece58\"],[0.8888888888888888,\"#b5de2b\"],[1.0,\"#fde725\"]],\"type\":\"histogram2dcontour\"}],\"mesh3d\":[{\"colorbar\":{\"outlinewidth\":1,\"tickcolor\":\"rgb(36,36,36)\",\"ticks\":\"outside\"},\"type\":\"mesh3d\"}],\"parcoords\":[{\"line\":{\"colorbar\":{\"outlinewidth\":1,\"tickcolor\":\"rgb(36,36,36)\",\"ticks\":\"outside\"}},\"type\":\"parcoords\"}],\"pie\":[{\"automargin\":true,\"type\":\"pie\"}],\"scatter\":[{\"marker\":{\"colorbar\":{\"outlinewidth\":1,\"tickcolor\":\"rgb(36,36,36)\",\"ticks\":\"outside\"}},\"type\":\"scatter\"}],\"scatter3d\":[{\"line\":{\"colorbar\":{\"outlinewidth\":1,\"tickcolor\":\"rgb(36,36,36)\",\"ticks\":\"outside\"}},\"marker\":{\"colorbar\":{\"outlinewidth\":1,\"tickcolor\":\"rgb(36,36,36)\",\"ticks\":\"outside\"}},\"type\":\"scatter3d\"}],\"scattercarpet\":[{\"marker\":{\"colorbar\":{\"outlinewidth\":1,\"tickcolor\":\"rgb(36,36,36)\",\"ticks\":\"outside\"}},\"type\":\"scattercarpet\"}],\"scattergeo\":[{\"marker\":{\"colorbar\":{\"outlinewidth\":1,\"tickcolor\":\"rgb(36,36,36)\",\"ticks\":\"outside\"}},\"type\":\"scattergeo\"}],\"scattergl\":[{\"marker\":{\"colorbar\":{\"outlinewidth\":1,\"tickcolor\":\"rgb(36,36,36)\",\"ticks\":\"outside\"}},\"type\":\"scattergl\"}],\"scattermapbox\":[{\"marker\":{\"colorbar\":{\"outlinewidth\":1,\"tickcolor\":\"rgb(36,36,36)\",\"ticks\":\"outside\"}},\"type\":\"scattermapbox\"}],\"scatterpolar\":[{\"marker\":{\"colorbar\":{\"outlinewidth\":1,\"tickcolor\":\"rgb(36,36,36)\",\"ticks\":\"outside\"}},\"type\":\"scatterpolar\"}],\"scatterpolargl\":[{\"marker\":{\"colorbar\":{\"outlinewidth\":1,\"tickcolor\":\"rgb(36,36,36)\",\"ticks\":\"outside\"}},\"type\":\"scatterpolargl\"}],\"scatterternary\":[{\"marker\":{\"colorbar\":{\"outlinewidth\":1,\"tickcolor\":\"rgb(36,36,36)\",\"ticks\":\"outside\"}},\"type\":\"scatterternary\"}],\"surface\":[{\"colorbar\":{\"outlinewidth\":1,\"tickcolor\":\"rgb(36,36,36)\",\"ticks\":\"outside\"},\"colorscale\":[[0.0,\"#440154\"],[0.1111111111111111,\"#482878\"],[0.2222222222222222,\"#3e4989\"],[0.3333333333333333,\"#31688e\"],[0.4444444444444444,\"#26828e\"],[0.5555555555555556,\"#1f9e89\"],[0.6666666666666666,\"#35b779\"],[0.7777777777777778,\"#6ece58\"],[0.8888888888888888,\"#b5de2b\"],[1.0,\"#fde725\"]],\"type\":\"surface\"}],\"table\":[{\"cells\":{\"fill\":{\"color\":\"rgb(237,237,237)\"},\"line\":{\"color\":\"white\"}},\"header\":{\"fill\":{\"color\":\"rgb(217,217,217)\"},\"line\":{\"color\":\"white\"}},\"type\":\"table\"}]},\"layout\":{\"annotationdefaults\":{\"arrowhead\":0,\"arrowwidth\":1},\"autotypenumbers\":\"strict\",\"coloraxis\":{\"colorbar\":{\"outlinewidth\":1,\"tickcolor\":\"rgb(36,36,36)\",\"ticks\":\"outside\"}},\"colorscale\":{\"diverging\":[[0.0,\"rgb(103,0,31)\"],[0.1,\"rgb(178,24,43)\"],[0.2,\"rgb(214,96,77)\"],[0.3,\"rgb(244,165,130)\"],[0.4,\"rgb(253,219,199)\"],[0.5,\"rgb(247,247,247)\"],[0.6,\"rgb(209,229,240)\"],[0.7,\"rgb(146,197,222)\"],[0.8,\"rgb(67,147,195)\"],[0.9,\"rgb(33,102,172)\"],[1.0,\"rgb(5,48,97)\"]],\"sequential\":[[0.0,\"#440154\"],[0.1111111111111111,\"#482878\"],[0.2222222222222222,\"#3e4989\"],[0.3333333333333333,\"#31688e\"],[0.4444444444444444,\"#26828e\"],[0.5555555555555556,\"#1f9e89\"],[0.6666666666666666,\"#35b779\"],[0.7777777777777778,\"#6ece58\"],[0.8888888888888888,\"#b5de2b\"],[1.0,\"#fde725\"]],\"sequentialminus\":[[0.0,\"#440154\"],[0.1111111111111111,\"#482878\"],[0.2222222222222222,\"#3e4989\"],[0.3333333333333333,\"#31688e\"],[0.4444444444444444,\"#26828e\"],[0.5555555555555556,\"#1f9e89\"],[0.6666666666666666,\"#35b779\"],[0.7777777777777778,\"#6ece58\"],[0.8888888888888888,\"#b5de2b\"],[1.0,\"#fde725\"]]},\"colorway\":[\"#1F77B4\",\"#FF7F0E\",\"#2CA02C\",\"#D62728\",\"#9467BD\",\"#8C564B\",\"#E377C2\",\"#7F7F7F\",\"#BCBD22\",\"#17BECF\"],\"font\":{\"color\":\"rgb(36,36,36)\"},\"geo\":{\"bgcolor\":\"white\",\"lakecolor\":\"white\",\"landcolor\":\"white\",\"showlakes\":true,\"showland\":true,\"subunitcolor\":\"white\"},\"hoverlabel\":{\"align\":\"left\"},\"hovermode\":\"closest\",\"mapbox\":{\"style\":\"light\"},\"paper_bgcolor\":\"white\",\"plot_bgcolor\":\"white\",\"polar\":{\"angularaxis\":{\"gridcolor\":\"rgb(232,232,232)\",\"linecolor\":\"rgb(36,36,36)\",\"showgrid\":false,\"showline\":true,\"ticks\":\"outside\"},\"bgcolor\":\"white\",\"radialaxis\":{\"gridcolor\":\"rgb(232,232,232)\",\"linecolor\":\"rgb(36,36,36)\",\"showgrid\":false,\"showline\":true,\"ticks\":\"outside\"}},\"scene\":{\"xaxis\":{\"backgroundcolor\":\"white\",\"gridcolor\":\"rgb(232,232,232)\",\"gridwidth\":2,\"linecolor\":\"rgb(36,36,36)\",\"showbackground\":true,\"showgrid\":false,\"showline\":true,\"ticks\":\"outside\",\"zeroline\":false,\"zerolinecolor\":\"rgb(36,36,36)\"},\"yaxis\":{\"backgroundcolor\":\"white\",\"gridcolor\":\"rgb(232,232,232)\",\"gridwidth\":2,\"linecolor\":\"rgb(36,36,36)\",\"showbackground\":true,\"showgrid\":false,\"showline\":true,\"ticks\":\"outside\",\"zeroline\":false,\"zerolinecolor\":\"rgb(36,36,36)\"},\"zaxis\":{\"backgroundcolor\":\"white\",\"gridcolor\":\"rgb(232,232,232)\",\"gridwidth\":2,\"linecolor\":\"rgb(36,36,36)\",\"showbackground\":true,\"showgrid\":false,\"showline\":true,\"ticks\":\"outside\",\"zeroline\":false,\"zerolinecolor\":\"rgb(36,36,36)\"}},\"shapedefaults\":{\"fillcolor\":\"black\",\"line\":{\"width\":0},\"opacity\":0.3},\"ternary\":{\"aaxis\":{\"gridcolor\":\"rgb(232,232,232)\",\"linecolor\":\"rgb(36,36,36)\",\"showgrid\":false,\"showline\":true,\"ticks\":\"outside\"},\"baxis\":{\"gridcolor\":\"rgb(232,232,232)\",\"linecolor\":\"rgb(36,36,36)\",\"showgrid\":false,\"showline\":true,\"ticks\":\"outside\"},\"bgcolor\":\"white\",\"caxis\":{\"gridcolor\":\"rgb(232,232,232)\",\"linecolor\":\"rgb(36,36,36)\",\"showgrid\":false,\"showline\":true,\"ticks\":\"outside\"}},\"title\":{\"x\":0.05},\"xaxis\":{\"automargin\":true,\"gridcolor\":\"rgb(232,232,232)\",\"linecolor\":\"rgb(36,36,36)\",\"showgrid\":false,\"showline\":true,\"ticks\":\"outside\",\"title\":{\"standoff\":15},\"zeroline\":false,\"zerolinecolor\":\"rgb(36,36,36)\"},\"yaxis\":{\"automargin\":true,\"gridcolor\":\"rgb(232,232,232)\",\"linecolor\":\"rgb(36,36,36)\",\"showgrid\":false,\"showline\":true,\"ticks\":\"outside\",\"title\":{\"standoff\":15},\"zeroline\":false,\"zerolinecolor\":\"rgb(36,36,36)\"}}},\"title\":{\"text\":\"Unidades por kilo \"},\"width\":700,\"xaxis\":{\"anchor\":\"y\",\"domain\":[0.0,1.0],\"title\":{\"text\":\"Mes\"}},\"yaxis\":{\"anchor\":\"x\",\"domain\":[0.0,1.0],\"title\":{\"text\":\"Unidades por kilo\"}}},                        {\"responsive\": true}                    ).then(function(){\n",
       "                            \n",
       "var gd = document.getElementById('28f582b1-1bad-4a68-9109-b3c3561c3a47');\n",
       "var x = new MutationObserver(function (mutations, observer) {{\n",
       "        var display = window.getComputedStyle(gd).display;\n",
       "        if (!display || display === 'none') {{\n",
       "            console.log([gd, 'removed!']);\n",
       "            Plotly.purge(gd);\n",
       "            observer.disconnect();\n",
       "        }}\n",
       "}});\n",
       "\n",
       "// Listen for the removal of the full notebook cells\n",
       "var notebookContainer = gd.closest('#notebook-container');\n",
       "if (notebookContainer) {{\n",
       "    x.observe(notebookContainer, {childList: true});\n",
       "}}\n",
       "\n",
       "// Listen for the clearing of the current output cell\n",
       "var outputEl = gd.closest('.output');\n",
       "if (outputEl) {{\n",
       "    x.observe(outputEl, {childList: true});\n",
       "}}\n",
       "\n",
       "                        })                };                });            </script>        </div>"
      ]
     },
     "metadata": {},
     "output_type": "display_data"
    }
   ],
   "source": [
    "df_unidades.drop_duplicates(inplace = True)\n",
    "fig_industria = px.bar(df_unidades, x='Mes',\n",
    "            y=['Unidades por kilo Propia','Unidades por kilo Terceros'], title=\"Unidades por kilo \",\n",
    "            labels={'Mes':'Mes','value':'Unidades por kilo','variable':'Origen'},\n",
    "            color_discrete_map={\"Unidades por kilo Propia\": \"#00609C\", \"Unidades por kilo Terceros\": \"#F4D19F\"},\n",
    "            template=\"simple_white\",\n",
    "            width=700, \n",
    "            height=500)\n",
    "fig_industria.show()"
   ]
  },
  {
   "cell_type": "markdown",
   "id": "a881ef77",
   "metadata": {},
   "source": [
    "# Rechazo por origen"
   ]
  },
  {
   "cell_type": "code",
   "execution_count": 67,
   "id": "d768a6d2",
   "metadata": {},
   "outputs": [],
   "source": [
    "datos = ingresos_mmpp.copy()\n",
    "datos['Indicadores'] = [dict_indicadores_2[datos.Indicador.iloc[i]] for i in range(len(datos.Indicador))]\n",
    "datos['Propietario'] = [dict_propiedad[datos.Indicador.iloc[i]] for i in range(len(datos.Indicador))]\n",
    "datos.drop_duplicates(inplace = True, subset=['Indicador','Valor','Mes','Año','Empresa'])"
   ]
  },
  {
   "cell_type": "code",
   "execution_count": 68,
   "id": "700fc8e9",
   "metadata": {
    "scrolled": true
   },
   "outputs": [],
   "source": [
    "datos = pd.pivot_table(datos[datos.Indicadores != 'Unidades por kilo'], index=['Mes'], columns=['Propietario','Indicadores'], values='Valor')\n",
    "for i in datos.index:\n",
    "    datos.loc[i,('Materia Prima Propia','% Rechazo mmpp')] = (datos.loc[i,('Materia Prima Propia','Ingreso Materia Prima Bruta')] - datos.loc[i,('Materia Prima Propia','Ingreso Materia Prima Neta')]) /datos.loc[i,('Materia Prima Propia','Ingreso Materia Prima Bruta')]*100\n",
    "    datos.loc[i,('Materia Prima Terceros','% Rechazo mmpp')] = (datos.loc[i,('Materia Prima Terceros','Ingreso Materia Prima Bruta')] - datos.loc[i,('Materia Prima Terceros','Ingreso Materia Prima Neta')]) /datos.loc[i,('Materia Prima Propia','Ingreso Materia Prima Bruta')]*100\n",
    "\n",
    "datos = datos.loc[idx[:],idx[:,'% Rechazo mmpp']]\n",
    "datos.columns = ['% Rechazo mmpp Propia','% Rechazo mmpp Terceros']"
   ]
  },
  {
   "cell_type": "code",
   "execution_count": 69,
   "id": "a779c3a3",
   "metadata": {},
   "outputs": [
    {
     "data": {
      "application/vnd.plotly.v1+json": {
       "config": {
        "plotlyServerURL": "https://plot.ly"
       },
       "data": [
        {
         "hovertemplate": "Origen=% Rechazo mmpp Propia<br>Mes=%{x}<br>% Rechazo MMPP=%{y}<extra></extra>",
         "legendgroup": "% Rechazo mmpp Propia",
         "line": {
          "color": "#00609C",
          "dash": "solid"
         },
         "marker": {
          "symbol": "circle"
         },
         "mode": "markers+lines",
         "name": "% Rechazo mmpp Propia",
         "orientation": "v",
         "showlegend": true,
         "type": "scatter",
         "x": [
          1,
          2,
          3,
          4,
          5,
          6,
          7,
          8,
          9
         ],
         "xaxis": "x",
         "y": [
          12.799029328608372,
          17.05615648718624,
          14.327277532878746,
          12.043490886450293,
          8.644541264910387,
          7.145300419074167,
          -0.30087877501311944,
          13.913818926830515,
          14.865341454470741
         ],
         "yaxis": "y"
        },
        {
         "hovertemplate": "Origen=% Rechazo mmpp Terceros<br>Mes=%{x}<br>% Rechazo MMPP=%{y}<extra></extra>",
         "legendgroup": "% Rechazo mmpp Terceros",
         "line": {
          "color": "#F4D19F",
          "dash": "solid"
         },
         "marker": {
          "symbol": "circle"
         },
         "mode": "markers+lines",
         "name": "% Rechazo mmpp Terceros",
         "orientation": "v",
         "showlegend": true,
         "type": "scatter",
         "x": [
          1,
          2,
          3,
          4,
          5,
          6,
          7,
          8,
          9
         ],
         "xaxis": "x",
         "y": [
          13.473358658658372,
          10.224228131166011,
          7.060909845740373,
          9.645583378118372,
          7.98367400128597,
          13.390415790307491,
          20.872463236805036,
          41.533952757771665,
          17.50396603089107
         ],
         "yaxis": "y"
        }
       ],
       "layout": {
        "height": 500,
        "legend": {
         "title": {
          "text": "Origen"
         },
         "tracegroupgap": 0
        },
        "template": {
         "data": {
          "bar": [
           {
            "error_x": {
             "color": "rgb(36,36,36)"
            },
            "error_y": {
             "color": "rgb(36,36,36)"
            },
            "marker": {
             "line": {
              "color": "white",
              "width": 0.5
             },
             "pattern": {
              "fillmode": "overlay",
              "size": 10,
              "solidity": 0.2
             }
            },
            "type": "bar"
           }
          ],
          "barpolar": [
           {
            "marker": {
             "line": {
              "color": "white",
              "width": 0.5
             },
             "pattern": {
              "fillmode": "overlay",
              "size": 10,
              "solidity": 0.2
             }
            },
            "type": "barpolar"
           }
          ],
          "carpet": [
           {
            "aaxis": {
             "endlinecolor": "rgb(36,36,36)",
             "gridcolor": "white",
             "linecolor": "white",
             "minorgridcolor": "white",
             "startlinecolor": "rgb(36,36,36)"
            },
            "baxis": {
             "endlinecolor": "rgb(36,36,36)",
             "gridcolor": "white",
             "linecolor": "white",
             "minorgridcolor": "white",
             "startlinecolor": "rgb(36,36,36)"
            },
            "type": "carpet"
           }
          ],
          "choropleth": [
           {
            "colorbar": {
             "outlinewidth": 1,
             "tickcolor": "rgb(36,36,36)",
             "ticks": "outside"
            },
            "type": "choropleth"
           }
          ],
          "contour": [
           {
            "colorbar": {
             "outlinewidth": 1,
             "tickcolor": "rgb(36,36,36)",
             "ticks": "outside"
            },
            "colorscale": [
             [
              0,
              "#440154"
             ],
             [
              0.1111111111111111,
              "#482878"
             ],
             [
              0.2222222222222222,
              "#3e4989"
             ],
             [
              0.3333333333333333,
              "#31688e"
             ],
             [
              0.4444444444444444,
              "#26828e"
             ],
             [
              0.5555555555555556,
              "#1f9e89"
             ],
             [
              0.6666666666666666,
              "#35b779"
             ],
             [
              0.7777777777777778,
              "#6ece58"
             ],
             [
              0.8888888888888888,
              "#b5de2b"
             ],
             [
              1,
              "#fde725"
             ]
            ],
            "type": "contour"
           }
          ],
          "contourcarpet": [
           {
            "colorbar": {
             "outlinewidth": 1,
             "tickcolor": "rgb(36,36,36)",
             "ticks": "outside"
            },
            "type": "contourcarpet"
           }
          ],
          "heatmap": [
           {
            "colorbar": {
             "outlinewidth": 1,
             "tickcolor": "rgb(36,36,36)",
             "ticks": "outside"
            },
            "colorscale": [
             [
              0,
              "#440154"
             ],
             [
              0.1111111111111111,
              "#482878"
             ],
             [
              0.2222222222222222,
              "#3e4989"
             ],
             [
              0.3333333333333333,
              "#31688e"
             ],
             [
              0.4444444444444444,
              "#26828e"
             ],
             [
              0.5555555555555556,
              "#1f9e89"
             ],
             [
              0.6666666666666666,
              "#35b779"
             ],
             [
              0.7777777777777778,
              "#6ece58"
             ],
             [
              0.8888888888888888,
              "#b5de2b"
             ],
             [
              1,
              "#fde725"
             ]
            ],
            "type": "heatmap"
           }
          ],
          "heatmapgl": [
           {
            "colorbar": {
             "outlinewidth": 1,
             "tickcolor": "rgb(36,36,36)",
             "ticks": "outside"
            },
            "colorscale": [
             [
              0,
              "#440154"
             ],
             [
              0.1111111111111111,
              "#482878"
             ],
             [
              0.2222222222222222,
              "#3e4989"
             ],
             [
              0.3333333333333333,
              "#31688e"
             ],
             [
              0.4444444444444444,
              "#26828e"
             ],
             [
              0.5555555555555556,
              "#1f9e89"
             ],
             [
              0.6666666666666666,
              "#35b779"
             ],
             [
              0.7777777777777778,
              "#6ece58"
             ],
             [
              0.8888888888888888,
              "#b5de2b"
             ],
             [
              1,
              "#fde725"
             ]
            ],
            "type": "heatmapgl"
           }
          ],
          "histogram": [
           {
            "marker": {
             "line": {
              "color": "white",
              "width": 0.6
             }
            },
            "type": "histogram"
           }
          ],
          "histogram2d": [
           {
            "colorbar": {
             "outlinewidth": 1,
             "tickcolor": "rgb(36,36,36)",
             "ticks": "outside"
            },
            "colorscale": [
             [
              0,
              "#440154"
             ],
             [
              0.1111111111111111,
              "#482878"
             ],
             [
              0.2222222222222222,
              "#3e4989"
             ],
             [
              0.3333333333333333,
              "#31688e"
             ],
             [
              0.4444444444444444,
              "#26828e"
             ],
             [
              0.5555555555555556,
              "#1f9e89"
             ],
             [
              0.6666666666666666,
              "#35b779"
             ],
             [
              0.7777777777777778,
              "#6ece58"
             ],
             [
              0.8888888888888888,
              "#b5de2b"
             ],
             [
              1,
              "#fde725"
             ]
            ],
            "type": "histogram2d"
           }
          ],
          "histogram2dcontour": [
           {
            "colorbar": {
             "outlinewidth": 1,
             "tickcolor": "rgb(36,36,36)",
             "ticks": "outside"
            },
            "colorscale": [
             [
              0,
              "#440154"
             ],
             [
              0.1111111111111111,
              "#482878"
             ],
             [
              0.2222222222222222,
              "#3e4989"
             ],
             [
              0.3333333333333333,
              "#31688e"
             ],
             [
              0.4444444444444444,
              "#26828e"
             ],
             [
              0.5555555555555556,
              "#1f9e89"
             ],
             [
              0.6666666666666666,
              "#35b779"
             ],
             [
              0.7777777777777778,
              "#6ece58"
             ],
             [
              0.8888888888888888,
              "#b5de2b"
             ],
             [
              1,
              "#fde725"
             ]
            ],
            "type": "histogram2dcontour"
           }
          ],
          "mesh3d": [
           {
            "colorbar": {
             "outlinewidth": 1,
             "tickcolor": "rgb(36,36,36)",
             "ticks": "outside"
            },
            "type": "mesh3d"
           }
          ],
          "parcoords": [
           {
            "line": {
             "colorbar": {
              "outlinewidth": 1,
              "tickcolor": "rgb(36,36,36)",
              "ticks": "outside"
             }
            },
            "type": "parcoords"
           }
          ],
          "pie": [
           {
            "automargin": true,
            "type": "pie"
           }
          ],
          "scatter": [
           {
            "marker": {
             "colorbar": {
              "outlinewidth": 1,
              "tickcolor": "rgb(36,36,36)",
              "ticks": "outside"
             }
            },
            "type": "scatter"
           }
          ],
          "scatter3d": [
           {
            "line": {
             "colorbar": {
              "outlinewidth": 1,
              "tickcolor": "rgb(36,36,36)",
              "ticks": "outside"
             }
            },
            "marker": {
             "colorbar": {
              "outlinewidth": 1,
              "tickcolor": "rgb(36,36,36)",
              "ticks": "outside"
             }
            },
            "type": "scatter3d"
           }
          ],
          "scattercarpet": [
           {
            "marker": {
             "colorbar": {
              "outlinewidth": 1,
              "tickcolor": "rgb(36,36,36)",
              "ticks": "outside"
             }
            },
            "type": "scattercarpet"
           }
          ],
          "scattergeo": [
           {
            "marker": {
             "colorbar": {
              "outlinewidth": 1,
              "tickcolor": "rgb(36,36,36)",
              "ticks": "outside"
             }
            },
            "type": "scattergeo"
           }
          ],
          "scattergl": [
           {
            "marker": {
             "colorbar": {
              "outlinewidth": 1,
              "tickcolor": "rgb(36,36,36)",
              "ticks": "outside"
             }
            },
            "type": "scattergl"
           }
          ],
          "scattermapbox": [
           {
            "marker": {
             "colorbar": {
              "outlinewidth": 1,
              "tickcolor": "rgb(36,36,36)",
              "ticks": "outside"
             }
            },
            "type": "scattermapbox"
           }
          ],
          "scatterpolar": [
           {
            "marker": {
             "colorbar": {
              "outlinewidth": 1,
              "tickcolor": "rgb(36,36,36)",
              "ticks": "outside"
             }
            },
            "type": "scatterpolar"
           }
          ],
          "scatterpolargl": [
           {
            "marker": {
             "colorbar": {
              "outlinewidth": 1,
              "tickcolor": "rgb(36,36,36)",
              "ticks": "outside"
             }
            },
            "type": "scatterpolargl"
           }
          ],
          "scatterternary": [
           {
            "marker": {
             "colorbar": {
              "outlinewidth": 1,
              "tickcolor": "rgb(36,36,36)",
              "ticks": "outside"
             }
            },
            "type": "scatterternary"
           }
          ],
          "surface": [
           {
            "colorbar": {
             "outlinewidth": 1,
             "tickcolor": "rgb(36,36,36)",
             "ticks": "outside"
            },
            "colorscale": [
             [
              0,
              "#440154"
             ],
             [
              0.1111111111111111,
              "#482878"
             ],
             [
              0.2222222222222222,
              "#3e4989"
             ],
             [
              0.3333333333333333,
              "#31688e"
             ],
             [
              0.4444444444444444,
              "#26828e"
             ],
             [
              0.5555555555555556,
              "#1f9e89"
             ],
             [
              0.6666666666666666,
              "#35b779"
             ],
             [
              0.7777777777777778,
              "#6ece58"
             ],
             [
              0.8888888888888888,
              "#b5de2b"
             ],
             [
              1,
              "#fde725"
             ]
            ],
            "type": "surface"
           }
          ],
          "table": [
           {
            "cells": {
             "fill": {
              "color": "rgb(237,237,237)"
             },
             "line": {
              "color": "white"
             }
            },
            "header": {
             "fill": {
              "color": "rgb(217,217,217)"
             },
             "line": {
              "color": "white"
             }
            },
            "type": "table"
           }
          ]
         },
         "layout": {
          "annotationdefaults": {
           "arrowhead": 0,
           "arrowwidth": 1
          },
          "autotypenumbers": "strict",
          "coloraxis": {
           "colorbar": {
            "outlinewidth": 1,
            "tickcolor": "rgb(36,36,36)",
            "ticks": "outside"
           }
          },
          "colorscale": {
           "diverging": [
            [
             0,
             "rgb(103,0,31)"
            ],
            [
             0.1,
             "rgb(178,24,43)"
            ],
            [
             0.2,
             "rgb(214,96,77)"
            ],
            [
             0.3,
             "rgb(244,165,130)"
            ],
            [
             0.4,
             "rgb(253,219,199)"
            ],
            [
             0.5,
             "rgb(247,247,247)"
            ],
            [
             0.6,
             "rgb(209,229,240)"
            ],
            [
             0.7,
             "rgb(146,197,222)"
            ],
            [
             0.8,
             "rgb(67,147,195)"
            ],
            [
             0.9,
             "rgb(33,102,172)"
            ],
            [
             1,
             "rgb(5,48,97)"
            ]
           ],
           "sequential": [
            [
             0,
             "#440154"
            ],
            [
             0.1111111111111111,
             "#482878"
            ],
            [
             0.2222222222222222,
             "#3e4989"
            ],
            [
             0.3333333333333333,
             "#31688e"
            ],
            [
             0.4444444444444444,
             "#26828e"
            ],
            [
             0.5555555555555556,
             "#1f9e89"
            ],
            [
             0.6666666666666666,
             "#35b779"
            ],
            [
             0.7777777777777778,
             "#6ece58"
            ],
            [
             0.8888888888888888,
             "#b5de2b"
            ],
            [
             1,
             "#fde725"
            ]
           ],
           "sequentialminus": [
            [
             0,
             "#440154"
            ],
            [
             0.1111111111111111,
             "#482878"
            ],
            [
             0.2222222222222222,
             "#3e4989"
            ],
            [
             0.3333333333333333,
             "#31688e"
            ],
            [
             0.4444444444444444,
             "#26828e"
            ],
            [
             0.5555555555555556,
             "#1f9e89"
            ],
            [
             0.6666666666666666,
             "#35b779"
            ],
            [
             0.7777777777777778,
             "#6ece58"
            ],
            [
             0.8888888888888888,
             "#b5de2b"
            ],
            [
             1,
             "#fde725"
            ]
           ]
          },
          "colorway": [
           "#1F77B4",
           "#FF7F0E",
           "#2CA02C",
           "#D62728",
           "#9467BD",
           "#8C564B",
           "#E377C2",
           "#7F7F7F",
           "#BCBD22",
           "#17BECF"
          ],
          "font": {
           "color": "rgb(36,36,36)"
          },
          "geo": {
           "bgcolor": "white",
           "lakecolor": "white",
           "landcolor": "white",
           "showlakes": true,
           "showland": true,
           "subunitcolor": "white"
          },
          "hoverlabel": {
           "align": "left"
          },
          "hovermode": "closest",
          "mapbox": {
           "style": "light"
          },
          "paper_bgcolor": "white",
          "plot_bgcolor": "white",
          "polar": {
           "angularaxis": {
            "gridcolor": "rgb(232,232,232)",
            "linecolor": "rgb(36,36,36)",
            "showgrid": false,
            "showline": true,
            "ticks": "outside"
           },
           "bgcolor": "white",
           "radialaxis": {
            "gridcolor": "rgb(232,232,232)",
            "linecolor": "rgb(36,36,36)",
            "showgrid": false,
            "showline": true,
            "ticks": "outside"
           }
          },
          "scene": {
           "xaxis": {
            "backgroundcolor": "white",
            "gridcolor": "rgb(232,232,232)",
            "gridwidth": 2,
            "linecolor": "rgb(36,36,36)",
            "showbackground": true,
            "showgrid": false,
            "showline": true,
            "ticks": "outside",
            "zeroline": false,
            "zerolinecolor": "rgb(36,36,36)"
           },
           "yaxis": {
            "backgroundcolor": "white",
            "gridcolor": "rgb(232,232,232)",
            "gridwidth": 2,
            "linecolor": "rgb(36,36,36)",
            "showbackground": true,
            "showgrid": false,
            "showline": true,
            "ticks": "outside",
            "zeroline": false,
            "zerolinecolor": "rgb(36,36,36)"
           },
           "zaxis": {
            "backgroundcolor": "white",
            "gridcolor": "rgb(232,232,232)",
            "gridwidth": 2,
            "linecolor": "rgb(36,36,36)",
            "showbackground": true,
            "showgrid": false,
            "showline": true,
            "ticks": "outside",
            "zeroline": false,
            "zerolinecolor": "rgb(36,36,36)"
           }
          },
          "shapedefaults": {
           "fillcolor": "black",
           "line": {
            "width": 0
           },
           "opacity": 0.3
          },
          "ternary": {
           "aaxis": {
            "gridcolor": "rgb(232,232,232)",
            "linecolor": "rgb(36,36,36)",
            "showgrid": false,
            "showline": true,
            "ticks": "outside"
           },
           "baxis": {
            "gridcolor": "rgb(232,232,232)",
            "linecolor": "rgb(36,36,36)",
            "showgrid": false,
            "showline": true,
            "ticks": "outside"
           },
           "bgcolor": "white",
           "caxis": {
            "gridcolor": "rgb(232,232,232)",
            "linecolor": "rgb(36,36,36)",
            "showgrid": false,
            "showline": true,
            "ticks": "outside"
           }
          },
          "title": {
           "x": 0.05
          },
          "xaxis": {
           "automargin": true,
           "gridcolor": "rgb(232,232,232)",
           "linecolor": "rgb(36,36,36)",
           "showgrid": false,
           "showline": true,
           "ticks": "outside",
           "title": {
            "standoff": 15
           },
           "zeroline": false,
           "zerolinecolor": "rgb(36,36,36)"
          },
          "yaxis": {
           "automargin": true,
           "gridcolor": "rgb(232,232,232)",
           "linecolor": "rgb(36,36,36)",
           "showgrid": false,
           "showline": true,
           "ticks": "outside",
           "title": {
            "standoff": 15
           },
           "zeroline": false,
           "zerolinecolor": "rgb(36,36,36)"
          }
         }
        },
        "title": {
         "text": "Porcentaje de rechazo por origen"
        },
        "width": 1000,
        "xaxis": {
         "anchor": "y",
         "domain": [
          0,
          1
         ],
         "title": {
          "text": "Mes"
         }
        },
        "yaxis": {
         "anchor": "x",
         "domain": [
          0,
          1
         ],
         "title": {
          "text": "% Rechazo MMPP"
         }
        }
       }
      },
      "text/html": [
       "<div>                            <div id=\"f7393388-c67f-4ee8-8ec6-4b5575b103ad\" class=\"plotly-graph-div\" style=\"height:500px; width:1000px;\"></div>            <script type=\"text/javascript\">                require([\"plotly\"], function(Plotly) {                    window.PLOTLYENV=window.PLOTLYENV || {};                                    if (document.getElementById(\"f7393388-c67f-4ee8-8ec6-4b5575b103ad\")) {                    Plotly.newPlot(                        \"f7393388-c67f-4ee8-8ec6-4b5575b103ad\",                        [{\"hovertemplate\":\"Origen=% Rechazo mmpp Propia<br>Mes=%{x}<br>% Rechazo MMPP=%{y}<extra></extra>\",\"legendgroup\":\"% Rechazo mmpp Propia\",\"line\":{\"color\":\"#00609C\",\"dash\":\"solid\"},\"marker\":{\"symbol\":\"circle\"},\"mode\":\"markers+lines\",\"name\":\"% Rechazo mmpp Propia\",\"orientation\":\"v\",\"showlegend\":true,\"type\":\"scatter\",\"x\":[1,2,3,4,5,6,7,8,9],\"xaxis\":\"x\",\"y\":[12.799029328608372,17.05615648718624,14.327277532878746,12.043490886450293,8.644541264910387,7.145300419074167,-0.30087877501311944,13.913818926830515,14.865341454470741],\"yaxis\":\"y\"},{\"hovertemplate\":\"Origen=% Rechazo mmpp Terceros<br>Mes=%{x}<br>% Rechazo MMPP=%{y}<extra></extra>\",\"legendgroup\":\"% Rechazo mmpp Terceros\",\"line\":{\"color\":\"#F4D19F\",\"dash\":\"solid\"},\"marker\":{\"symbol\":\"circle\"},\"mode\":\"markers+lines\",\"name\":\"% Rechazo mmpp Terceros\",\"orientation\":\"v\",\"showlegend\":true,\"type\":\"scatter\",\"x\":[1,2,3,4,5,6,7,8,9],\"xaxis\":\"x\",\"y\":[13.473358658658372,10.224228131166011,7.060909845740373,9.645583378118372,7.98367400128597,13.390415790307491,20.872463236805036,41.533952757771665,17.50396603089107],\"yaxis\":\"y\"}],                        {\"height\":500,\"legend\":{\"title\":{\"text\":\"Origen\"},\"tracegroupgap\":0},\"template\":{\"data\":{\"bar\":[{\"error_x\":{\"color\":\"rgb(36,36,36)\"},\"error_y\":{\"color\":\"rgb(36,36,36)\"},\"marker\":{\"line\":{\"color\":\"white\",\"width\":0.5},\"pattern\":{\"fillmode\":\"overlay\",\"size\":10,\"solidity\":0.2}},\"type\":\"bar\"}],\"barpolar\":[{\"marker\":{\"line\":{\"color\":\"white\",\"width\":0.5},\"pattern\":{\"fillmode\":\"overlay\",\"size\":10,\"solidity\":0.2}},\"type\":\"barpolar\"}],\"carpet\":[{\"aaxis\":{\"endlinecolor\":\"rgb(36,36,36)\",\"gridcolor\":\"white\",\"linecolor\":\"white\",\"minorgridcolor\":\"white\",\"startlinecolor\":\"rgb(36,36,36)\"},\"baxis\":{\"endlinecolor\":\"rgb(36,36,36)\",\"gridcolor\":\"white\",\"linecolor\":\"white\",\"minorgridcolor\":\"white\",\"startlinecolor\":\"rgb(36,36,36)\"},\"type\":\"carpet\"}],\"choropleth\":[{\"colorbar\":{\"outlinewidth\":1,\"tickcolor\":\"rgb(36,36,36)\",\"ticks\":\"outside\"},\"type\":\"choropleth\"}],\"contour\":[{\"colorbar\":{\"outlinewidth\":1,\"tickcolor\":\"rgb(36,36,36)\",\"ticks\":\"outside\"},\"colorscale\":[[0.0,\"#440154\"],[0.1111111111111111,\"#482878\"],[0.2222222222222222,\"#3e4989\"],[0.3333333333333333,\"#31688e\"],[0.4444444444444444,\"#26828e\"],[0.5555555555555556,\"#1f9e89\"],[0.6666666666666666,\"#35b779\"],[0.7777777777777778,\"#6ece58\"],[0.8888888888888888,\"#b5de2b\"],[1.0,\"#fde725\"]],\"type\":\"contour\"}],\"contourcarpet\":[{\"colorbar\":{\"outlinewidth\":1,\"tickcolor\":\"rgb(36,36,36)\",\"ticks\":\"outside\"},\"type\":\"contourcarpet\"}],\"heatmap\":[{\"colorbar\":{\"outlinewidth\":1,\"tickcolor\":\"rgb(36,36,36)\",\"ticks\":\"outside\"},\"colorscale\":[[0.0,\"#440154\"],[0.1111111111111111,\"#482878\"],[0.2222222222222222,\"#3e4989\"],[0.3333333333333333,\"#31688e\"],[0.4444444444444444,\"#26828e\"],[0.5555555555555556,\"#1f9e89\"],[0.6666666666666666,\"#35b779\"],[0.7777777777777778,\"#6ece58\"],[0.8888888888888888,\"#b5de2b\"],[1.0,\"#fde725\"]],\"type\":\"heatmap\"}],\"heatmapgl\":[{\"colorbar\":{\"outlinewidth\":1,\"tickcolor\":\"rgb(36,36,36)\",\"ticks\":\"outside\"},\"colorscale\":[[0.0,\"#440154\"],[0.1111111111111111,\"#482878\"],[0.2222222222222222,\"#3e4989\"],[0.3333333333333333,\"#31688e\"],[0.4444444444444444,\"#26828e\"],[0.5555555555555556,\"#1f9e89\"],[0.6666666666666666,\"#35b779\"],[0.7777777777777778,\"#6ece58\"],[0.8888888888888888,\"#b5de2b\"],[1.0,\"#fde725\"]],\"type\":\"heatmapgl\"}],\"histogram\":[{\"marker\":{\"line\":{\"color\":\"white\",\"width\":0.6}},\"type\":\"histogram\"}],\"histogram2d\":[{\"colorbar\":{\"outlinewidth\":1,\"tickcolor\":\"rgb(36,36,36)\",\"ticks\":\"outside\"},\"colorscale\":[[0.0,\"#440154\"],[0.1111111111111111,\"#482878\"],[0.2222222222222222,\"#3e4989\"],[0.3333333333333333,\"#31688e\"],[0.4444444444444444,\"#26828e\"],[0.5555555555555556,\"#1f9e89\"],[0.6666666666666666,\"#35b779\"],[0.7777777777777778,\"#6ece58\"],[0.8888888888888888,\"#b5de2b\"],[1.0,\"#fde725\"]],\"type\":\"histogram2d\"}],\"histogram2dcontour\":[{\"colorbar\":{\"outlinewidth\":1,\"tickcolor\":\"rgb(36,36,36)\",\"ticks\":\"outside\"},\"colorscale\":[[0.0,\"#440154\"],[0.1111111111111111,\"#482878\"],[0.2222222222222222,\"#3e4989\"],[0.3333333333333333,\"#31688e\"],[0.4444444444444444,\"#26828e\"],[0.5555555555555556,\"#1f9e89\"],[0.6666666666666666,\"#35b779\"],[0.7777777777777778,\"#6ece58\"],[0.8888888888888888,\"#b5de2b\"],[1.0,\"#fde725\"]],\"type\":\"histogram2dcontour\"}],\"mesh3d\":[{\"colorbar\":{\"outlinewidth\":1,\"tickcolor\":\"rgb(36,36,36)\",\"ticks\":\"outside\"},\"type\":\"mesh3d\"}],\"parcoords\":[{\"line\":{\"colorbar\":{\"outlinewidth\":1,\"tickcolor\":\"rgb(36,36,36)\",\"ticks\":\"outside\"}},\"type\":\"parcoords\"}],\"pie\":[{\"automargin\":true,\"type\":\"pie\"}],\"scatter\":[{\"marker\":{\"colorbar\":{\"outlinewidth\":1,\"tickcolor\":\"rgb(36,36,36)\",\"ticks\":\"outside\"}},\"type\":\"scatter\"}],\"scatter3d\":[{\"line\":{\"colorbar\":{\"outlinewidth\":1,\"tickcolor\":\"rgb(36,36,36)\",\"ticks\":\"outside\"}},\"marker\":{\"colorbar\":{\"outlinewidth\":1,\"tickcolor\":\"rgb(36,36,36)\",\"ticks\":\"outside\"}},\"type\":\"scatter3d\"}],\"scattercarpet\":[{\"marker\":{\"colorbar\":{\"outlinewidth\":1,\"tickcolor\":\"rgb(36,36,36)\",\"ticks\":\"outside\"}},\"type\":\"scattercarpet\"}],\"scattergeo\":[{\"marker\":{\"colorbar\":{\"outlinewidth\":1,\"tickcolor\":\"rgb(36,36,36)\",\"ticks\":\"outside\"}},\"type\":\"scattergeo\"}],\"scattergl\":[{\"marker\":{\"colorbar\":{\"outlinewidth\":1,\"tickcolor\":\"rgb(36,36,36)\",\"ticks\":\"outside\"}},\"type\":\"scattergl\"}],\"scattermapbox\":[{\"marker\":{\"colorbar\":{\"outlinewidth\":1,\"tickcolor\":\"rgb(36,36,36)\",\"ticks\":\"outside\"}},\"type\":\"scattermapbox\"}],\"scatterpolar\":[{\"marker\":{\"colorbar\":{\"outlinewidth\":1,\"tickcolor\":\"rgb(36,36,36)\",\"ticks\":\"outside\"}},\"type\":\"scatterpolar\"}],\"scatterpolargl\":[{\"marker\":{\"colorbar\":{\"outlinewidth\":1,\"tickcolor\":\"rgb(36,36,36)\",\"ticks\":\"outside\"}},\"type\":\"scatterpolargl\"}],\"scatterternary\":[{\"marker\":{\"colorbar\":{\"outlinewidth\":1,\"tickcolor\":\"rgb(36,36,36)\",\"ticks\":\"outside\"}},\"type\":\"scatterternary\"}],\"surface\":[{\"colorbar\":{\"outlinewidth\":1,\"tickcolor\":\"rgb(36,36,36)\",\"ticks\":\"outside\"},\"colorscale\":[[0.0,\"#440154\"],[0.1111111111111111,\"#482878\"],[0.2222222222222222,\"#3e4989\"],[0.3333333333333333,\"#31688e\"],[0.4444444444444444,\"#26828e\"],[0.5555555555555556,\"#1f9e89\"],[0.6666666666666666,\"#35b779\"],[0.7777777777777778,\"#6ece58\"],[0.8888888888888888,\"#b5de2b\"],[1.0,\"#fde725\"]],\"type\":\"surface\"}],\"table\":[{\"cells\":{\"fill\":{\"color\":\"rgb(237,237,237)\"},\"line\":{\"color\":\"white\"}},\"header\":{\"fill\":{\"color\":\"rgb(217,217,217)\"},\"line\":{\"color\":\"white\"}},\"type\":\"table\"}]},\"layout\":{\"annotationdefaults\":{\"arrowhead\":0,\"arrowwidth\":1},\"autotypenumbers\":\"strict\",\"coloraxis\":{\"colorbar\":{\"outlinewidth\":1,\"tickcolor\":\"rgb(36,36,36)\",\"ticks\":\"outside\"}},\"colorscale\":{\"diverging\":[[0.0,\"rgb(103,0,31)\"],[0.1,\"rgb(178,24,43)\"],[0.2,\"rgb(214,96,77)\"],[0.3,\"rgb(244,165,130)\"],[0.4,\"rgb(253,219,199)\"],[0.5,\"rgb(247,247,247)\"],[0.6,\"rgb(209,229,240)\"],[0.7,\"rgb(146,197,222)\"],[0.8,\"rgb(67,147,195)\"],[0.9,\"rgb(33,102,172)\"],[1.0,\"rgb(5,48,97)\"]],\"sequential\":[[0.0,\"#440154\"],[0.1111111111111111,\"#482878\"],[0.2222222222222222,\"#3e4989\"],[0.3333333333333333,\"#31688e\"],[0.4444444444444444,\"#26828e\"],[0.5555555555555556,\"#1f9e89\"],[0.6666666666666666,\"#35b779\"],[0.7777777777777778,\"#6ece58\"],[0.8888888888888888,\"#b5de2b\"],[1.0,\"#fde725\"]],\"sequentialminus\":[[0.0,\"#440154\"],[0.1111111111111111,\"#482878\"],[0.2222222222222222,\"#3e4989\"],[0.3333333333333333,\"#31688e\"],[0.4444444444444444,\"#26828e\"],[0.5555555555555556,\"#1f9e89\"],[0.6666666666666666,\"#35b779\"],[0.7777777777777778,\"#6ece58\"],[0.8888888888888888,\"#b5de2b\"],[1.0,\"#fde725\"]]},\"colorway\":[\"#1F77B4\",\"#FF7F0E\",\"#2CA02C\",\"#D62728\",\"#9467BD\",\"#8C564B\",\"#E377C2\",\"#7F7F7F\",\"#BCBD22\",\"#17BECF\"],\"font\":{\"color\":\"rgb(36,36,36)\"},\"geo\":{\"bgcolor\":\"white\",\"lakecolor\":\"white\",\"landcolor\":\"white\",\"showlakes\":true,\"showland\":true,\"subunitcolor\":\"white\"},\"hoverlabel\":{\"align\":\"left\"},\"hovermode\":\"closest\",\"mapbox\":{\"style\":\"light\"},\"paper_bgcolor\":\"white\",\"plot_bgcolor\":\"white\",\"polar\":{\"angularaxis\":{\"gridcolor\":\"rgb(232,232,232)\",\"linecolor\":\"rgb(36,36,36)\",\"showgrid\":false,\"showline\":true,\"ticks\":\"outside\"},\"bgcolor\":\"white\",\"radialaxis\":{\"gridcolor\":\"rgb(232,232,232)\",\"linecolor\":\"rgb(36,36,36)\",\"showgrid\":false,\"showline\":true,\"ticks\":\"outside\"}},\"scene\":{\"xaxis\":{\"backgroundcolor\":\"white\",\"gridcolor\":\"rgb(232,232,232)\",\"gridwidth\":2,\"linecolor\":\"rgb(36,36,36)\",\"showbackground\":true,\"showgrid\":false,\"showline\":true,\"ticks\":\"outside\",\"zeroline\":false,\"zerolinecolor\":\"rgb(36,36,36)\"},\"yaxis\":{\"backgroundcolor\":\"white\",\"gridcolor\":\"rgb(232,232,232)\",\"gridwidth\":2,\"linecolor\":\"rgb(36,36,36)\",\"showbackground\":true,\"showgrid\":false,\"showline\":true,\"ticks\":\"outside\",\"zeroline\":false,\"zerolinecolor\":\"rgb(36,36,36)\"},\"zaxis\":{\"backgroundcolor\":\"white\",\"gridcolor\":\"rgb(232,232,232)\",\"gridwidth\":2,\"linecolor\":\"rgb(36,36,36)\",\"showbackground\":true,\"showgrid\":false,\"showline\":true,\"ticks\":\"outside\",\"zeroline\":false,\"zerolinecolor\":\"rgb(36,36,36)\"}},\"shapedefaults\":{\"fillcolor\":\"black\",\"line\":{\"width\":0},\"opacity\":0.3},\"ternary\":{\"aaxis\":{\"gridcolor\":\"rgb(232,232,232)\",\"linecolor\":\"rgb(36,36,36)\",\"showgrid\":false,\"showline\":true,\"ticks\":\"outside\"},\"baxis\":{\"gridcolor\":\"rgb(232,232,232)\",\"linecolor\":\"rgb(36,36,36)\",\"showgrid\":false,\"showline\":true,\"ticks\":\"outside\"},\"bgcolor\":\"white\",\"caxis\":{\"gridcolor\":\"rgb(232,232,232)\",\"linecolor\":\"rgb(36,36,36)\",\"showgrid\":false,\"showline\":true,\"ticks\":\"outside\"}},\"title\":{\"x\":0.05},\"xaxis\":{\"automargin\":true,\"gridcolor\":\"rgb(232,232,232)\",\"linecolor\":\"rgb(36,36,36)\",\"showgrid\":false,\"showline\":true,\"ticks\":\"outside\",\"title\":{\"standoff\":15},\"zeroline\":false,\"zerolinecolor\":\"rgb(36,36,36)\"},\"yaxis\":{\"automargin\":true,\"gridcolor\":\"rgb(232,232,232)\",\"linecolor\":\"rgb(36,36,36)\",\"showgrid\":false,\"showline\":true,\"ticks\":\"outside\",\"title\":{\"standoff\":15},\"zeroline\":false,\"zerolinecolor\":\"rgb(36,36,36)\"}}},\"title\":{\"text\":\"Porcentaje de rechazo por origen\"},\"width\":1000,\"xaxis\":{\"anchor\":\"y\",\"domain\":[0.0,1.0],\"title\":{\"text\":\"Mes\"}},\"yaxis\":{\"anchor\":\"x\",\"domain\":[0.0,1.0],\"title\":{\"text\":\"% Rechazo MMPP\"}}},                        {\"responsive\": true}                    ).then(function(){\n",
       "                            \n",
       "var gd = document.getElementById('f7393388-c67f-4ee8-8ec6-4b5575b103ad');\n",
       "var x = new MutationObserver(function (mutations, observer) {{\n",
       "        var display = window.getComputedStyle(gd).display;\n",
       "        if (!display || display === 'none') {{\n",
       "            console.log([gd, 'removed!']);\n",
       "            Plotly.purge(gd);\n",
       "            observer.disconnect();\n",
       "        }}\n",
       "}});\n",
       "\n",
       "// Listen for the removal of the full notebook cells\n",
       "var notebookContainer = gd.closest('#notebook-container');\n",
       "if (notebookContainer) {{\n",
       "    x.observe(notebookContainer, {childList: true});\n",
       "}}\n",
       "\n",
       "// Listen for the clearing of the current output cell\n",
       "var outputEl = gd.closest('.output');\n",
       "if (outputEl) {{\n",
       "    x.observe(outputEl, {childList: true});\n",
       "}}\n",
       "\n",
       "                        })                };                });            </script>        </div>"
      ]
     },
     "metadata": {},
     "output_type": "display_data"
    }
   ],
   "source": [
    "import plotly.express as px\n",
    "fig = px.line(datos, x=datos.index, y=['% Rechazo mmpp Propia','% Rechazo mmpp Terceros'], markers=True,\n",
    "                title=\"Porcentaje de rechazo por origen\",\n",
    "                labels={'Mes':'Mes','value':'% Rechazo MMPP','variable':'Origen'},\n",
    "                color_discrete_map={'% Rechazo mmpp Propia': \"#00609C\", '% Rechazo mmpp Terceros': \"#F4D19F\"},\n",
    "                template=\"simple_white\",\n",
    "                width=1000, \n",
    "                height=500,)\n",
    "fig.show()"
   ]
  },
  {
   "cell_type": "code",
   "execution_count": 70,
   "id": "502c9e88",
   "metadata": {},
   "outputs": [
    {
     "name": "stderr",
     "output_type": "stream",
     "text": [
      "C:\\Users\\erossel\\AppData\\Local\\Temp/ipykernel_15932/2249708562.py:8: RuntimeWarning:\n",
      "\n",
      "invalid value encountered in double_scalars\n",
      "\n",
      "C:\\Users\\erossel\\AppData\\Local\\Temp/ipykernel_15932/2249708562.py:9: RuntimeWarning:\n",
      "\n",
      "divide by zero encountered in double_scalars\n",
      "\n"
     ]
    },
    {
     "data": {
      "application/vnd.plotly.v1+json": {
       "config": {
        "plotlyServerURL": "https://plot.ly"
       },
       "data": [
        {
         "hovertemplate": "Origen=% Rechazo mmpp Propia<br>Mes=%{x}<br>% Rechazo MMPP=%{y}<extra></extra>",
         "legendgroup": "% Rechazo mmpp Propia",
         "line": {
          "color": "#00609C",
          "dash": "solid"
         },
         "marker": {
          "symbol": "circle"
         },
         "mode": "markers+lines",
         "name": "% Rechazo mmpp Propia",
         "orientation": "v",
         "showlegend": true,
         "type": "scatter",
         "x": [
          1,
          2,
          3,
          4,
          5,
          6,
          7,
          8,
          9
         ],
         "xaxis": "x",
         "y": [
          25.919578321222055,
          32.49649302067819,
          27.095320404053226,
          20.024183751357135,
          23.10880299599966,
          19.45334848288124,
          36.68857972181003,
          16.441370445184788,
          null
         ],
         "yaxis": "y"
        },
        {
         "hovertemplate": "Origen=% Rechazo mmpp Terceros<br>Mes=%{x}<br>% Rechazo MMPP=%{y}<extra></extra>",
         "legendgroup": "% Rechazo mmpp Terceros",
         "line": {
          "color": "#F4D19F",
          "dash": "solid"
         },
         "marker": {
          "symbol": "circle"
         },
         "mode": "markers+lines",
         "name": "% Rechazo mmpp Terceros",
         "orientation": "v",
         "showlegend": true,
         "type": "scatter",
         "x": [
          1,
          2,
          3,
          4,
          5,
          6,
          7,
          8,
          9
         ],
         "xaxis": "x",
         "y": [
          37.44052293519811,
          31.054725979356423,
          6.117188119439905,
          3.6644045739691005,
          5.235146957187839,
          5.778131220878701,
          7.652346164859823,
          149.84132847136596,
          null
         ],
         "yaxis": "y"
        }
       ],
       "layout": {
        "height": 500,
        "legend": {
         "title": {
          "text": "Origen"
         },
         "tracegroupgap": 0
        },
        "template": {
         "data": {
          "bar": [
           {
            "error_x": {
             "color": "rgb(36,36,36)"
            },
            "error_y": {
             "color": "rgb(36,36,36)"
            },
            "marker": {
             "line": {
              "color": "white",
              "width": 0.5
             },
             "pattern": {
              "fillmode": "overlay",
              "size": 10,
              "solidity": 0.2
             }
            },
            "type": "bar"
           }
          ],
          "barpolar": [
           {
            "marker": {
             "line": {
              "color": "white",
              "width": 0.5
             },
             "pattern": {
              "fillmode": "overlay",
              "size": 10,
              "solidity": 0.2
             }
            },
            "type": "barpolar"
           }
          ],
          "carpet": [
           {
            "aaxis": {
             "endlinecolor": "rgb(36,36,36)",
             "gridcolor": "white",
             "linecolor": "white",
             "minorgridcolor": "white",
             "startlinecolor": "rgb(36,36,36)"
            },
            "baxis": {
             "endlinecolor": "rgb(36,36,36)",
             "gridcolor": "white",
             "linecolor": "white",
             "minorgridcolor": "white",
             "startlinecolor": "rgb(36,36,36)"
            },
            "type": "carpet"
           }
          ],
          "choropleth": [
           {
            "colorbar": {
             "outlinewidth": 1,
             "tickcolor": "rgb(36,36,36)",
             "ticks": "outside"
            },
            "type": "choropleth"
           }
          ],
          "contour": [
           {
            "colorbar": {
             "outlinewidth": 1,
             "tickcolor": "rgb(36,36,36)",
             "ticks": "outside"
            },
            "colorscale": [
             [
              0,
              "#440154"
             ],
             [
              0.1111111111111111,
              "#482878"
             ],
             [
              0.2222222222222222,
              "#3e4989"
             ],
             [
              0.3333333333333333,
              "#31688e"
             ],
             [
              0.4444444444444444,
              "#26828e"
             ],
             [
              0.5555555555555556,
              "#1f9e89"
             ],
             [
              0.6666666666666666,
              "#35b779"
             ],
             [
              0.7777777777777778,
              "#6ece58"
             ],
             [
              0.8888888888888888,
              "#b5de2b"
             ],
             [
              1,
              "#fde725"
             ]
            ],
            "type": "contour"
           }
          ],
          "contourcarpet": [
           {
            "colorbar": {
             "outlinewidth": 1,
             "tickcolor": "rgb(36,36,36)",
             "ticks": "outside"
            },
            "type": "contourcarpet"
           }
          ],
          "heatmap": [
           {
            "colorbar": {
             "outlinewidth": 1,
             "tickcolor": "rgb(36,36,36)",
             "ticks": "outside"
            },
            "colorscale": [
             [
              0,
              "#440154"
             ],
             [
              0.1111111111111111,
              "#482878"
             ],
             [
              0.2222222222222222,
              "#3e4989"
             ],
             [
              0.3333333333333333,
              "#31688e"
             ],
             [
              0.4444444444444444,
              "#26828e"
             ],
             [
              0.5555555555555556,
              "#1f9e89"
             ],
             [
              0.6666666666666666,
              "#35b779"
             ],
             [
              0.7777777777777778,
              "#6ece58"
             ],
             [
              0.8888888888888888,
              "#b5de2b"
             ],
             [
              1,
              "#fde725"
             ]
            ],
            "type": "heatmap"
           }
          ],
          "heatmapgl": [
           {
            "colorbar": {
             "outlinewidth": 1,
             "tickcolor": "rgb(36,36,36)",
             "ticks": "outside"
            },
            "colorscale": [
             [
              0,
              "#440154"
             ],
             [
              0.1111111111111111,
              "#482878"
             ],
             [
              0.2222222222222222,
              "#3e4989"
             ],
             [
              0.3333333333333333,
              "#31688e"
             ],
             [
              0.4444444444444444,
              "#26828e"
             ],
             [
              0.5555555555555556,
              "#1f9e89"
             ],
             [
              0.6666666666666666,
              "#35b779"
             ],
             [
              0.7777777777777778,
              "#6ece58"
             ],
             [
              0.8888888888888888,
              "#b5de2b"
             ],
             [
              1,
              "#fde725"
             ]
            ],
            "type": "heatmapgl"
           }
          ],
          "histogram": [
           {
            "marker": {
             "line": {
              "color": "white",
              "width": 0.6
             }
            },
            "type": "histogram"
           }
          ],
          "histogram2d": [
           {
            "colorbar": {
             "outlinewidth": 1,
             "tickcolor": "rgb(36,36,36)",
             "ticks": "outside"
            },
            "colorscale": [
             [
              0,
              "#440154"
             ],
             [
              0.1111111111111111,
              "#482878"
             ],
             [
              0.2222222222222222,
              "#3e4989"
             ],
             [
              0.3333333333333333,
              "#31688e"
             ],
             [
              0.4444444444444444,
              "#26828e"
             ],
             [
              0.5555555555555556,
              "#1f9e89"
             ],
             [
              0.6666666666666666,
              "#35b779"
             ],
             [
              0.7777777777777778,
              "#6ece58"
             ],
             [
              0.8888888888888888,
              "#b5de2b"
             ],
             [
              1,
              "#fde725"
             ]
            ],
            "type": "histogram2d"
           }
          ],
          "histogram2dcontour": [
           {
            "colorbar": {
             "outlinewidth": 1,
             "tickcolor": "rgb(36,36,36)",
             "ticks": "outside"
            },
            "colorscale": [
             [
              0,
              "#440154"
             ],
             [
              0.1111111111111111,
              "#482878"
             ],
             [
              0.2222222222222222,
              "#3e4989"
             ],
             [
              0.3333333333333333,
              "#31688e"
             ],
             [
              0.4444444444444444,
              "#26828e"
             ],
             [
              0.5555555555555556,
              "#1f9e89"
             ],
             [
              0.6666666666666666,
              "#35b779"
             ],
             [
              0.7777777777777778,
              "#6ece58"
             ],
             [
              0.8888888888888888,
              "#b5de2b"
             ],
             [
              1,
              "#fde725"
             ]
            ],
            "type": "histogram2dcontour"
           }
          ],
          "mesh3d": [
           {
            "colorbar": {
             "outlinewidth": 1,
             "tickcolor": "rgb(36,36,36)",
             "ticks": "outside"
            },
            "type": "mesh3d"
           }
          ],
          "parcoords": [
           {
            "line": {
             "colorbar": {
              "outlinewidth": 1,
              "tickcolor": "rgb(36,36,36)",
              "ticks": "outside"
             }
            },
            "type": "parcoords"
           }
          ],
          "pie": [
           {
            "automargin": true,
            "type": "pie"
           }
          ],
          "scatter": [
           {
            "marker": {
             "colorbar": {
              "outlinewidth": 1,
              "tickcolor": "rgb(36,36,36)",
              "ticks": "outside"
             }
            },
            "type": "scatter"
           }
          ],
          "scatter3d": [
           {
            "line": {
             "colorbar": {
              "outlinewidth": 1,
              "tickcolor": "rgb(36,36,36)",
              "ticks": "outside"
             }
            },
            "marker": {
             "colorbar": {
              "outlinewidth": 1,
              "tickcolor": "rgb(36,36,36)",
              "ticks": "outside"
             }
            },
            "type": "scatter3d"
           }
          ],
          "scattercarpet": [
           {
            "marker": {
             "colorbar": {
              "outlinewidth": 1,
              "tickcolor": "rgb(36,36,36)",
              "ticks": "outside"
             }
            },
            "type": "scattercarpet"
           }
          ],
          "scattergeo": [
           {
            "marker": {
             "colorbar": {
              "outlinewidth": 1,
              "tickcolor": "rgb(36,36,36)",
              "ticks": "outside"
             }
            },
            "type": "scattergeo"
           }
          ],
          "scattergl": [
           {
            "marker": {
             "colorbar": {
              "outlinewidth": 1,
              "tickcolor": "rgb(36,36,36)",
              "ticks": "outside"
             }
            },
            "type": "scattergl"
           }
          ],
          "scattermapbox": [
           {
            "marker": {
             "colorbar": {
              "outlinewidth": 1,
              "tickcolor": "rgb(36,36,36)",
              "ticks": "outside"
             }
            },
            "type": "scattermapbox"
           }
          ],
          "scatterpolar": [
           {
            "marker": {
             "colorbar": {
              "outlinewidth": 1,
              "tickcolor": "rgb(36,36,36)",
              "ticks": "outside"
             }
            },
            "type": "scatterpolar"
           }
          ],
          "scatterpolargl": [
           {
            "marker": {
             "colorbar": {
              "outlinewidth": 1,
              "tickcolor": "rgb(36,36,36)",
              "ticks": "outside"
             }
            },
            "type": "scatterpolargl"
           }
          ],
          "scatterternary": [
           {
            "marker": {
             "colorbar": {
              "outlinewidth": 1,
              "tickcolor": "rgb(36,36,36)",
              "ticks": "outside"
             }
            },
            "type": "scatterternary"
           }
          ],
          "surface": [
           {
            "colorbar": {
             "outlinewidth": 1,
             "tickcolor": "rgb(36,36,36)",
             "ticks": "outside"
            },
            "colorscale": [
             [
              0,
              "#440154"
             ],
             [
              0.1111111111111111,
              "#482878"
             ],
             [
              0.2222222222222222,
              "#3e4989"
             ],
             [
              0.3333333333333333,
              "#31688e"
             ],
             [
              0.4444444444444444,
              "#26828e"
             ],
             [
              0.5555555555555556,
              "#1f9e89"
             ],
             [
              0.6666666666666666,
              "#35b779"
             ],
             [
              0.7777777777777778,
              "#6ece58"
             ],
             [
              0.8888888888888888,
              "#b5de2b"
             ],
             [
              1,
              "#fde725"
             ]
            ],
            "type": "surface"
           }
          ],
          "table": [
           {
            "cells": {
             "fill": {
              "color": "rgb(237,237,237)"
             },
             "line": {
              "color": "white"
             }
            },
            "header": {
             "fill": {
              "color": "rgb(217,217,217)"
             },
             "line": {
              "color": "white"
             }
            },
            "type": "table"
           }
          ]
         },
         "layout": {
          "annotationdefaults": {
           "arrowhead": 0,
           "arrowwidth": 1
          },
          "autotypenumbers": "strict",
          "coloraxis": {
           "colorbar": {
            "outlinewidth": 1,
            "tickcolor": "rgb(36,36,36)",
            "ticks": "outside"
           }
          },
          "colorscale": {
           "diverging": [
            [
             0,
             "rgb(103,0,31)"
            ],
            [
             0.1,
             "rgb(178,24,43)"
            ],
            [
             0.2,
             "rgb(214,96,77)"
            ],
            [
             0.3,
             "rgb(244,165,130)"
            ],
            [
             0.4,
             "rgb(253,219,199)"
            ],
            [
             0.5,
             "rgb(247,247,247)"
            ],
            [
             0.6,
             "rgb(209,229,240)"
            ],
            [
             0.7,
             "rgb(146,197,222)"
            ],
            [
             0.8,
             "rgb(67,147,195)"
            ],
            [
             0.9,
             "rgb(33,102,172)"
            ],
            [
             1,
             "rgb(5,48,97)"
            ]
           ],
           "sequential": [
            [
             0,
             "#440154"
            ],
            [
             0.1111111111111111,
             "#482878"
            ],
            [
             0.2222222222222222,
             "#3e4989"
            ],
            [
             0.3333333333333333,
             "#31688e"
            ],
            [
             0.4444444444444444,
             "#26828e"
            ],
            [
             0.5555555555555556,
             "#1f9e89"
            ],
            [
             0.6666666666666666,
             "#35b779"
            ],
            [
             0.7777777777777778,
             "#6ece58"
            ],
            [
             0.8888888888888888,
             "#b5de2b"
            ],
            [
             1,
             "#fde725"
            ]
           ],
           "sequentialminus": [
            [
             0,
             "#440154"
            ],
            [
             0.1111111111111111,
             "#482878"
            ],
            [
             0.2222222222222222,
             "#3e4989"
            ],
            [
             0.3333333333333333,
             "#31688e"
            ],
            [
             0.4444444444444444,
             "#26828e"
            ],
            [
             0.5555555555555556,
             "#1f9e89"
            ],
            [
             0.6666666666666666,
             "#35b779"
            ],
            [
             0.7777777777777778,
             "#6ece58"
            ],
            [
             0.8888888888888888,
             "#b5de2b"
            ],
            [
             1,
             "#fde725"
            ]
           ]
          },
          "colorway": [
           "#1F77B4",
           "#FF7F0E",
           "#2CA02C",
           "#D62728",
           "#9467BD",
           "#8C564B",
           "#E377C2",
           "#7F7F7F",
           "#BCBD22",
           "#17BECF"
          ],
          "font": {
           "color": "rgb(36,36,36)"
          },
          "geo": {
           "bgcolor": "white",
           "lakecolor": "white",
           "landcolor": "white",
           "showlakes": true,
           "showland": true,
           "subunitcolor": "white"
          },
          "hoverlabel": {
           "align": "left"
          },
          "hovermode": "closest",
          "mapbox": {
           "style": "light"
          },
          "paper_bgcolor": "white",
          "plot_bgcolor": "white",
          "polar": {
           "angularaxis": {
            "gridcolor": "rgb(232,232,232)",
            "linecolor": "rgb(36,36,36)",
            "showgrid": false,
            "showline": true,
            "ticks": "outside"
           },
           "bgcolor": "white",
           "radialaxis": {
            "gridcolor": "rgb(232,232,232)",
            "linecolor": "rgb(36,36,36)",
            "showgrid": false,
            "showline": true,
            "ticks": "outside"
           }
          },
          "scene": {
           "xaxis": {
            "backgroundcolor": "white",
            "gridcolor": "rgb(232,232,232)",
            "gridwidth": 2,
            "linecolor": "rgb(36,36,36)",
            "showbackground": true,
            "showgrid": false,
            "showline": true,
            "ticks": "outside",
            "zeroline": false,
            "zerolinecolor": "rgb(36,36,36)"
           },
           "yaxis": {
            "backgroundcolor": "white",
            "gridcolor": "rgb(232,232,232)",
            "gridwidth": 2,
            "linecolor": "rgb(36,36,36)",
            "showbackground": true,
            "showgrid": false,
            "showline": true,
            "ticks": "outside",
            "zeroline": false,
            "zerolinecolor": "rgb(36,36,36)"
           },
           "zaxis": {
            "backgroundcolor": "white",
            "gridcolor": "rgb(232,232,232)",
            "gridwidth": 2,
            "linecolor": "rgb(36,36,36)",
            "showbackground": true,
            "showgrid": false,
            "showline": true,
            "ticks": "outside",
            "zeroline": false,
            "zerolinecolor": "rgb(36,36,36)"
           }
          },
          "shapedefaults": {
           "fillcolor": "black",
           "line": {
            "width": 0
           },
           "opacity": 0.3
          },
          "ternary": {
           "aaxis": {
            "gridcolor": "rgb(232,232,232)",
            "linecolor": "rgb(36,36,36)",
            "showgrid": false,
            "showline": true,
            "ticks": "outside"
           },
           "baxis": {
            "gridcolor": "rgb(232,232,232)",
            "linecolor": "rgb(36,36,36)",
            "showgrid": false,
            "showline": true,
            "ticks": "outside"
           },
           "bgcolor": "white",
           "caxis": {
            "gridcolor": "rgb(232,232,232)",
            "linecolor": "rgb(36,36,36)",
            "showgrid": false,
            "showline": true,
            "ticks": "outside"
           }
          },
          "title": {
           "x": 0.05
          },
          "xaxis": {
           "automargin": true,
           "gridcolor": "rgb(232,232,232)",
           "linecolor": "rgb(36,36,36)",
           "showgrid": false,
           "showline": true,
           "ticks": "outside",
           "title": {
            "standoff": 15
           },
           "zeroline": false,
           "zerolinecolor": "rgb(36,36,36)"
          },
          "yaxis": {
           "automargin": true,
           "gridcolor": "rgb(232,232,232)",
           "linecolor": "rgb(36,36,36)",
           "showgrid": false,
           "showline": true,
           "ticks": "outside",
           "title": {
            "standoff": 15
           },
           "zeroline": false,
           "zerolinecolor": "rgb(36,36,36)"
          }
         }
        },
        "title": {
         "text": "Porcentaje de rechazo por origen Sudmaris"
        },
        "width": 1000,
        "xaxis": {
         "anchor": "y",
         "domain": [
          0,
          1
         ],
         "title": {
          "text": "Mes"
         }
        },
        "yaxis": {
         "anchor": "x",
         "domain": [
          0,
          1
         ],
         "title": {
          "text": "% Rechazo MMPP"
         }
        }
       }
      },
      "text/html": [
       "<div>                            <div id=\"3d7bdfbd-5276-4c64-9add-e2635075d59a\" class=\"plotly-graph-div\" style=\"height:500px; width:1000px;\"></div>            <script type=\"text/javascript\">                require([\"plotly\"], function(Plotly) {                    window.PLOTLYENV=window.PLOTLYENV || {};                                    if (document.getElementById(\"3d7bdfbd-5276-4c64-9add-e2635075d59a\")) {                    Plotly.newPlot(                        \"3d7bdfbd-5276-4c64-9add-e2635075d59a\",                        [{\"hovertemplate\":\"Origen=% Rechazo mmpp Propia<br>Mes=%{x}<br>% Rechazo MMPP=%{y}<extra></extra>\",\"legendgroup\":\"% Rechazo mmpp Propia\",\"line\":{\"color\":\"#00609C\",\"dash\":\"solid\"},\"marker\":{\"symbol\":\"circle\"},\"mode\":\"markers+lines\",\"name\":\"% Rechazo mmpp Propia\",\"orientation\":\"v\",\"showlegend\":true,\"type\":\"scatter\",\"x\":[1,2,3,4,5,6,7,8,9],\"xaxis\":\"x\",\"y\":[25.919578321222055,32.49649302067819,27.095320404053226,20.024183751357135,23.10880299599966,19.45334848288124,36.68857972181003,16.441370445184788,null],\"yaxis\":\"y\"},{\"hovertemplate\":\"Origen=% Rechazo mmpp Terceros<br>Mes=%{x}<br>% Rechazo MMPP=%{y}<extra></extra>\",\"legendgroup\":\"% Rechazo mmpp Terceros\",\"line\":{\"color\":\"#F4D19F\",\"dash\":\"solid\"},\"marker\":{\"symbol\":\"circle\"},\"mode\":\"markers+lines\",\"name\":\"% Rechazo mmpp Terceros\",\"orientation\":\"v\",\"showlegend\":true,\"type\":\"scatter\",\"x\":[1,2,3,4,5,6,7,8,9],\"xaxis\":\"x\",\"y\":[37.44052293519811,31.054725979356423,6.117188119439905,3.6644045739691005,5.235146957187839,5.778131220878701,7.652346164859823,149.84132847136596,null],\"yaxis\":\"y\"}],                        {\"height\":500,\"legend\":{\"title\":{\"text\":\"Origen\"},\"tracegroupgap\":0},\"template\":{\"data\":{\"bar\":[{\"error_x\":{\"color\":\"rgb(36,36,36)\"},\"error_y\":{\"color\":\"rgb(36,36,36)\"},\"marker\":{\"line\":{\"color\":\"white\",\"width\":0.5},\"pattern\":{\"fillmode\":\"overlay\",\"size\":10,\"solidity\":0.2}},\"type\":\"bar\"}],\"barpolar\":[{\"marker\":{\"line\":{\"color\":\"white\",\"width\":0.5},\"pattern\":{\"fillmode\":\"overlay\",\"size\":10,\"solidity\":0.2}},\"type\":\"barpolar\"}],\"carpet\":[{\"aaxis\":{\"endlinecolor\":\"rgb(36,36,36)\",\"gridcolor\":\"white\",\"linecolor\":\"white\",\"minorgridcolor\":\"white\",\"startlinecolor\":\"rgb(36,36,36)\"},\"baxis\":{\"endlinecolor\":\"rgb(36,36,36)\",\"gridcolor\":\"white\",\"linecolor\":\"white\",\"minorgridcolor\":\"white\",\"startlinecolor\":\"rgb(36,36,36)\"},\"type\":\"carpet\"}],\"choropleth\":[{\"colorbar\":{\"outlinewidth\":1,\"tickcolor\":\"rgb(36,36,36)\",\"ticks\":\"outside\"},\"type\":\"choropleth\"}],\"contour\":[{\"colorbar\":{\"outlinewidth\":1,\"tickcolor\":\"rgb(36,36,36)\",\"ticks\":\"outside\"},\"colorscale\":[[0.0,\"#440154\"],[0.1111111111111111,\"#482878\"],[0.2222222222222222,\"#3e4989\"],[0.3333333333333333,\"#31688e\"],[0.4444444444444444,\"#26828e\"],[0.5555555555555556,\"#1f9e89\"],[0.6666666666666666,\"#35b779\"],[0.7777777777777778,\"#6ece58\"],[0.8888888888888888,\"#b5de2b\"],[1.0,\"#fde725\"]],\"type\":\"contour\"}],\"contourcarpet\":[{\"colorbar\":{\"outlinewidth\":1,\"tickcolor\":\"rgb(36,36,36)\",\"ticks\":\"outside\"},\"type\":\"contourcarpet\"}],\"heatmap\":[{\"colorbar\":{\"outlinewidth\":1,\"tickcolor\":\"rgb(36,36,36)\",\"ticks\":\"outside\"},\"colorscale\":[[0.0,\"#440154\"],[0.1111111111111111,\"#482878\"],[0.2222222222222222,\"#3e4989\"],[0.3333333333333333,\"#31688e\"],[0.4444444444444444,\"#26828e\"],[0.5555555555555556,\"#1f9e89\"],[0.6666666666666666,\"#35b779\"],[0.7777777777777778,\"#6ece58\"],[0.8888888888888888,\"#b5de2b\"],[1.0,\"#fde725\"]],\"type\":\"heatmap\"}],\"heatmapgl\":[{\"colorbar\":{\"outlinewidth\":1,\"tickcolor\":\"rgb(36,36,36)\",\"ticks\":\"outside\"},\"colorscale\":[[0.0,\"#440154\"],[0.1111111111111111,\"#482878\"],[0.2222222222222222,\"#3e4989\"],[0.3333333333333333,\"#31688e\"],[0.4444444444444444,\"#26828e\"],[0.5555555555555556,\"#1f9e89\"],[0.6666666666666666,\"#35b779\"],[0.7777777777777778,\"#6ece58\"],[0.8888888888888888,\"#b5de2b\"],[1.0,\"#fde725\"]],\"type\":\"heatmapgl\"}],\"histogram\":[{\"marker\":{\"line\":{\"color\":\"white\",\"width\":0.6}},\"type\":\"histogram\"}],\"histogram2d\":[{\"colorbar\":{\"outlinewidth\":1,\"tickcolor\":\"rgb(36,36,36)\",\"ticks\":\"outside\"},\"colorscale\":[[0.0,\"#440154\"],[0.1111111111111111,\"#482878\"],[0.2222222222222222,\"#3e4989\"],[0.3333333333333333,\"#31688e\"],[0.4444444444444444,\"#26828e\"],[0.5555555555555556,\"#1f9e89\"],[0.6666666666666666,\"#35b779\"],[0.7777777777777778,\"#6ece58\"],[0.8888888888888888,\"#b5de2b\"],[1.0,\"#fde725\"]],\"type\":\"histogram2d\"}],\"histogram2dcontour\":[{\"colorbar\":{\"outlinewidth\":1,\"tickcolor\":\"rgb(36,36,36)\",\"ticks\":\"outside\"},\"colorscale\":[[0.0,\"#440154\"],[0.1111111111111111,\"#482878\"],[0.2222222222222222,\"#3e4989\"],[0.3333333333333333,\"#31688e\"],[0.4444444444444444,\"#26828e\"],[0.5555555555555556,\"#1f9e89\"],[0.6666666666666666,\"#35b779\"],[0.7777777777777778,\"#6ece58\"],[0.8888888888888888,\"#b5de2b\"],[1.0,\"#fde725\"]],\"type\":\"histogram2dcontour\"}],\"mesh3d\":[{\"colorbar\":{\"outlinewidth\":1,\"tickcolor\":\"rgb(36,36,36)\",\"ticks\":\"outside\"},\"type\":\"mesh3d\"}],\"parcoords\":[{\"line\":{\"colorbar\":{\"outlinewidth\":1,\"tickcolor\":\"rgb(36,36,36)\",\"ticks\":\"outside\"}},\"type\":\"parcoords\"}],\"pie\":[{\"automargin\":true,\"type\":\"pie\"}],\"scatter\":[{\"marker\":{\"colorbar\":{\"outlinewidth\":1,\"tickcolor\":\"rgb(36,36,36)\",\"ticks\":\"outside\"}},\"type\":\"scatter\"}],\"scatter3d\":[{\"line\":{\"colorbar\":{\"outlinewidth\":1,\"tickcolor\":\"rgb(36,36,36)\",\"ticks\":\"outside\"}},\"marker\":{\"colorbar\":{\"outlinewidth\":1,\"tickcolor\":\"rgb(36,36,36)\",\"ticks\":\"outside\"}},\"type\":\"scatter3d\"}],\"scattercarpet\":[{\"marker\":{\"colorbar\":{\"outlinewidth\":1,\"tickcolor\":\"rgb(36,36,36)\",\"ticks\":\"outside\"}},\"type\":\"scattercarpet\"}],\"scattergeo\":[{\"marker\":{\"colorbar\":{\"outlinewidth\":1,\"tickcolor\":\"rgb(36,36,36)\",\"ticks\":\"outside\"}},\"type\":\"scattergeo\"}],\"scattergl\":[{\"marker\":{\"colorbar\":{\"outlinewidth\":1,\"tickcolor\":\"rgb(36,36,36)\",\"ticks\":\"outside\"}},\"type\":\"scattergl\"}],\"scattermapbox\":[{\"marker\":{\"colorbar\":{\"outlinewidth\":1,\"tickcolor\":\"rgb(36,36,36)\",\"ticks\":\"outside\"}},\"type\":\"scattermapbox\"}],\"scatterpolar\":[{\"marker\":{\"colorbar\":{\"outlinewidth\":1,\"tickcolor\":\"rgb(36,36,36)\",\"ticks\":\"outside\"}},\"type\":\"scatterpolar\"}],\"scatterpolargl\":[{\"marker\":{\"colorbar\":{\"outlinewidth\":1,\"tickcolor\":\"rgb(36,36,36)\",\"ticks\":\"outside\"}},\"type\":\"scatterpolargl\"}],\"scatterternary\":[{\"marker\":{\"colorbar\":{\"outlinewidth\":1,\"tickcolor\":\"rgb(36,36,36)\",\"ticks\":\"outside\"}},\"type\":\"scatterternary\"}],\"surface\":[{\"colorbar\":{\"outlinewidth\":1,\"tickcolor\":\"rgb(36,36,36)\",\"ticks\":\"outside\"},\"colorscale\":[[0.0,\"#440154\"],[0.1111111111111111,\"#482878\"],[0.2222222222222222,\"#3e4989\"],[0.3333333333333333,\"#31688e\"],[0.4444444444444444,\"#26828e\"],[0.5555555555555556,\"#1f9e89\"],[0.6666666666666666,\"#35b779\"],[0.7777777777777778,\"#6ece58\"],[0.8888888888888888,\"#b5de2b\"],[1.0,\"#fde725\"]],\"type\":\"surface\"}],\"table\":[{\"cells\":{\"fill\":{\"color\":\"rgb(237,237,237)\"},\"line\":{\"color\":\"white\"}},\"header\":{\"fill\":{\"color\":\"rgb(217,217,217)\"},\"line\":{\"color\":\"white\"}},\"type\":\"table\"}]},\"layout\":{\"annotationdefaults\":{\"arrowhead\":0,\"arrowwidth\":1},\"autotypenumbers\":\"strict\",\"coloraxis\":{\"colorbar\":{\"outlinewidth\":1,\"tickcolor\":\"rgb(36,36,36)\",\"ticks\":\"outside\"}},\"colorscale\":{\"diverging\":[[0.0,\"rgb(103,0,31)\"],[0.1,\"rgb(178,24,43)\"],[0.2,\"rgb(214,96,77)\"],[0.3,\"rgb(244,165,130)\"],[0.4,\"rgb(253,219,199)\"],[0.5,\"rgb(247,247,247)\"],[0.6,\"rgb(209,229,240)\"],[0.7,\"rgb(146,197,222)\"],[0.8,\"rgb(67,147,195)\"],[0.9,\"rgb(33,102,172)\"],[1.0,\"rgb(5,48,97)\"]],\"sequential\":[[0.0,\"#440154\"],[0.1111111111111111,\"#482878\"],[0.2222222222222222,\"#3e4989\"],[0.3333333333333333,\"#31688e\"],[0.4444444444444444,\"#26828e\"],[0.5555555555555556,\"#1f9e89\"],[0.6666666666666666,\"#35b779\"],[0.7777777777777778,\"#6ece58\"],[0.8888888888888888,\"#b5de2b\"],[1.0,\"#fde725\"]],\"sequentialminus\":[[0.0,\"#440154\"],[0.1111111111111111,\"#482878\"],[0.2222222222222222,\"#3e4989\"],[0.3333333333333333,\"#31688e\"],[0.4444444444444444,\"#26828e\"],[0.5555555555555556,\"#1f9e89\"],[0.6666666666666666,\"#35b779\"],[0.7777777777777778,\"#6ece58\"],[0.8888888888888888,\"#b5de2b\"],[1.0,\"#fde725\"]]},\"colorway\":[\"#1F77B4\",\"#FF7F0E\",\"#2CA02C\",\"#D62728\",\"#9467BD\",\"#8C564B\",\"#E377C2\",\"#7F7F7F\",\"#BCBD22\",\"#17BECF\"],\"font\":{\"color\":\"rgb(36,36,36)\"},\"geo\":{\"bgcolor\":\"white\",\"lakecolor\":\"white\",\"landcolor\":\"white\",\"showlakes\":true,\"showland\":true,\"subunitcolor\":\"white\"},\"hoverlabel\":{\"align\":\"left\"},\"hovermode\":\"closest\",\"mapbox\":{\"style\":\"light\"},\"paper_bgcolor\":\"white\",\"plot_bgcolor\":\"white\",\"polar\":{\"angularaxis\":{\"gridcolor\":\"rgb(232,232,232)\",\"linecolor\":\"rgb(36,36,36)\",\"showgrid\":false,\"showline\":true,\"ticks\":\"outside\"},\"bgcolor\":\"white\",\"radialaxis\":{\"gridcolor\":\"rgb(232,232,232)\",\"linecolor\":\"rgb(36,36,36)\",\"showgrid\":false,\"showline\":true,\"ticks\":\"outside\"}},\"scene\":{\"xaxis\":{\"backgroundcolor\":\"white\",\"gridcolor\":\"rgb(232,232,232)\",\"gridwidth\":2,\"linecolor\":\"rgb(36,36,36)\",\"showbackground\":true,\"showgrid\":false,\"showline\":true,\"ticks\":\"outside\",\"zeroline\":false,\"zerolinecolor\":\"rgb(36,36,36)\"},\"yaxis\":{\"backgroundcolor\":\"white\",\"gridcolor\":\"rgb(232,232,232)\",\"gridwidth\":2,\"linecolor\":\"rgb(36,36,36)\",\"showbackground\":true,\"showgrid\":false,\"showline\":true,\"ticks\":\"outside\",\"zeroline\":false,\"zerolinecolor\":\"rgb(36,36,36)\"},\"zaxis\":{\"backgroundcolor\":\"white\",\"gridcolor\":\"rgb(232,232,232)\",\"gridwidth\":2,\"linecolor\":\"rgb(36,36,36)\",\"showbackground\":true,\"showgrid\":false,\"showline\":true,\"ticks\":\"outside\",\"zeroline\":false,\"zerolinecolor\":\"rgb(36,36,36)\"}},\"shapedefaults\":{\"fillcolor\":\"black\",\"line\":{\"width\":0},\"opacity\":0.3},\"ternary\":{\"aaxis\":{\"gridcolor\":\"rgb(232,232,232)\",\"linecolor\":\"rgb(36,36,36)\",\"showgrid\":false,\"showline\":true,\"ticks\":\"outside\"},\"baxis\":{\"gridcolor\":\"rgb(232,232,232)\",\"linecolor\":\"rgb(36,36,36)\",\"showgrid\":false,\"showline\":true,\"ticks\":\"outside\"},\"bgcolor\":\"white\",\"caxis\":{\"gridcolor\":\"rgb(232,232,232)\",\"linecolor\":\"rgb(36,36,36)\",\"showgrid\":false,\"showline\":true,\"ticks\":\"outside\"}},\"title\":{\"x\":0.05},\"xaxis\":{\"automargin\":true,\"gridcolor\":\"rgb(232,232,232)\",\"linecolor\":\"rgb(36,36,36)\",\"showgrid\":false,\"showline\":true,\"ticks\":\"outside\",\"title\":{\"standoff\":15},\"zeroline\":false,\"zerolinecolor\":\"rgb(36,36,36)\"},\"yaxis\":{\"automargin\":true,\"gridcolor\":\"rgb(232,232,232)\",\"linecolor\":\"rgb(36,36,36)\",\"showgrid\":false,\"showline\":true,\"ticks\":\"outside\",\"title\":{\"standoff\":15},\"zeroline\":false,\"zerolinecolor\":\"rgb(36,36,36)\"}}},\"title\":{\"text\":\"Porcentaje de rechazo por origen Sudmaris\"},\"width\":1000,\"xaxis\":{\"anchor\":\"y\",\"domain\":[0.0,1.0],\"title\":{\"text\":\"Mes\"}},\"yaxis\":{\"anchor\":\"x\",\"domain\":[0.0,1.0],\"title\":{\"text\":\"% Rechazo MMPP\"}}},                        {\"responsive\": true}                    ).then(function(){\n",
       "                            \n",
       "var gd = document.getElementById('3d7bdfbd-5276-4c64-9add-e2635075d59a');\n",
       "var x = new MutationObserver(function (mutations, observer) {{\n",
       "        var display = window.getComputedStyle(gd).display;\n",
       "        if (!display || display === 'none') {{\n",
       "            console.log([gd, 'removed!']);\n",
       "            Plotly.purge(gd);\n",
       "            observer.disconnect();\n",
       "        }}\n",
       "}});\n",
       "\n",
       "// Listen for the removal of the full notebook cells\n",
       "var notebookContainer = gd.closest('#notebook-container');\n",
       "if (notebookContainer) {{\n",
       "    x.observe(notebookContainer, {childList: true});\n",
       "}}\n",
       "\n",
       "// Listen for the clearing of the current output cell\n",
       "var outputEl = gd.closest('.output');\n",
       "if (outputEl) {{\n",
       "    x.observe(outputEl, {childList: true});\n",
       "}}\n",
       "\n",
       "                        })                };                });            </script>        </div>"
      ]
     },
     "metadata": {},
     "output_type": "display_data"
    }
   ],
   "source": [
    "datos = ingresos_mmpp[ingresos_mmpp.Empresa == empresa].copy()\n",
    "datos['Indicadores'] = [dict_indicadores_2[datos.Indicador.iloc[i]] for i in range(len(datos.Indicador))]\n",
    "datos['Propietario'] = [dict_propiedad[datos.Indicador.iloc[i]] for i in range(len(datos.Indicador))]\n",
    "datos.drop_duplicates(inplace = True, subset=['Indicador','Valor','Mes','Año','Empresa'])\n",
    "\n",
    "datos = pd.pivot_table(datos[datos.Indicadores != 'Unidades por kilo'], index=['Mes'], columns=['Propietario','Indicadores'], values='Valor')\n",
    "for i in datos.index:\n",
    "    datos.loc[i,('Materia Prima Propia','% Rechazo mmpp')] = (datos.loc[i,('Materia Prima Propia','Ingreso Materia Prima Bruta')] - datos.loc[i,('Materia Prima Propia','Ingreso Materia Prima Neta')]) /datos.loc[i,('Materia Prima Propia','Ingreso Materia Prima Bruta')]*100\n",
    "    datos.loc[i,('Materia Prima Terceros','% Rechazo mmpp')] = (datos.loc[i,('Materia Prima Terceros','Ingreso Materia Prima Bruta')] - datos.loc[i,('Materia Prima Terceros','Ingreso Materia Prima Neta')]) /datos.loc[i,('Materia Prima Propia','Ingreso Materia Prima Bruta')]*100\n",
    "\n",
    "datos = datos.loc[idx[:],idx[:,'% Rechazo mmpp']]\n",
    "datos.columns = ['% Rechazo mmpp Propia','% Rechazo mmpp Terceros']\n",
    "\n",
    "import plotly.express as px\n",
    "fig = px.line(datos, x=datos.index, y=['% Rechazo mmpp Propia','% Rechazo mmpp Terceros'], markers=True,\n",
    "                title=\"Porcentaje de rechazo por origen \"+empresa,\n",
    "                labels={'Mes':'Mes','value':'% Rechazo MMPP','variable':'Origen'},\n",
    "                color_discrete_map={'% Rechazo mmpp Propia': \"#00609C\", '% Rechazo mmpp Terceros': \"#F4D19F\"},\n",
    "                template=\"simple_white\",\n",
    "                width=1000, \n",
    "                height=500,)\n",
    "fig.show()"
   ]
  },
  {
   "cell_type": "markdown",
   "id": "b8cdc4a5",
   "metadata": {},
   "source": [
    "# Productos"
   ]
  },
  {
   "cell_type": "markdown",
   "id": "1ca070a4",
   "metadata": {},
   "source": [
    "### Industria"
   ]
  },
  {
   "cell_type": "code",
   "execution_count": 900,
   "id": "5718a9b9",
   "metadata": {},
   "outputs": [
    {
     "data": {
      "text/html": [
       "<div>\n",
       "<style scoped>\n",
       "    .dataframe tbody tr th:only-of-type {\n",
       "        vertical-align: middle;\n",
       "    }\n",
       "\n",
       "    .dataframe tbody tr th {\n",
       "        vertical-align: top;\n",
       "    }\n",
       "\n",
       "    .dataframe thead tr th {\n",
       "        text-align: left;\n",
       "    }\n",
       "\n",
       "    .dataframe thead tr:last-of-type th {\n",
       "        text-align: right;\n",
       "    }\n",
       "</style>\n",
       "<table border=\"1\" class=\"dataframe\">\n",
       "  <thead>\n",
       "    <tr>\n",
       "      <th></th>\n",
       "      <th colspan=\"2\" halign=\"left\">Enero</th>\n",
       "      <th colspan=\"2\" halign=\"left\">Febrero</th>\n",
       "      <th colspan=\"2\" halign=\"left\">Marzo</th>\n",
       "      <th colspan=\"2\" halign=\"left\">Abril</th>\n",
       "      <th colspan=\"2\" halign=\"left\">Mayo</th>\n",
       "      <th>...</th>\n",
       "      <th colspan=\"2\" halign=\"left\">Octubre</th>\n",
       "      <th colspan=\"2\" halign=\"left\">Noviembre</th>\n",
       "      <th colspan=\"2\" halign=\"left\">Diciembre</th>\n",
       "      <th colspan=\"2\" halign=\"left\">Total</th>\n",
       "      <th colspan=\"2\" halign=\"left\">Promedio</th>\n",
       "    </tr>\n",
       "    <tr>\n",
       "      <th></th>\n",
       "      <th>Ton</th>\n",
       "      <th>%</th>\n",
       "      <th>Ton</th>\n",
       "      <th>%</th>\n",
       "      <th>Ton</th>\n",
       "      <th>%</th>\n",
       "      <th>Ton</th>\n",
       "      <th>%</th>\n",
       "      <th>Ton</th>\n",
       "      <th>%</th>\n",
       "      <th>...</th>\n",
       "      <th>Ton</th>\n",
       "      <th>%</th>\n",
       "      <th>Ton</th>\n",
       "      <th>%</th>\n",
       "      <th>Ton</th>\n",
       "      <th>%</th>\n",
       "      <th>Ton</th>\n",
       "      <th>%</th>\n",
       "      <th>Ton</th>\n",
       "      <th>%</th>\n",
       "    </tr>\n",
       "    <tr>\n",
       "      <th>Producto</th>\n",
       "      <th></th>\n",
       "      <th></th>\n",
       "      <th></th>\n",
       "      <th></th>\n",
       "      <th></th>\n",
       "      <th></th>\n",
       "      <th></th>\n",
       "      <th></th>\n",
       "      <th></th>\n",
       "      <th></th>\n",
       "      <th></th>\n",
       "      <th></th>\n",
       "      <th></th>\n",
       "      <th></th>\n",
       "      <th></th>\n",
       "      <th></th>\n",
       "      <th></th>\n",
       "      <th></th>\n",
       "      <th></th>\n",
       "      <th></th>\n",
       "      <th></th>\n",
       "    </tr>\n",
       "  </thead>\n",
       "  <tbody>\n",
       "    <tr>\n",
       "      <th>Carne</th>\n",
       "      <td>131195.1</td>\n",
       "      <td>59.0</td>\n",
       "      <td>132293.9</td>\n",
       "      <td>60.0</td>\n",
       "      <td>160544.1</td>\n",
       "      <td>58.0</td>\n",
       "      <td>149826.1</td>\n",
       "      <td>56.0</td>\n",
       "      <td>60.0</td>\n",
       "      <td>143917.7</td>\n",
       "      <td>...</td>\n",
       "      <td>0.0</td>\n",
       "      <td>NaN</td>\n",
       "      <td>0.0</td>\n",
       "      <td>NaN</td>\n",
       "      <td>0.0</td>\n",
       "      <td>NaN</td>\n",
       "      <td>998051.0</td>\n",
       "      <td>53.0</td>\n",
       "      <td>83171.0</td>\n",
       "      <td>53.0</td>\n",
       "    </tr>\n",
       "    <tr>\n",
       "      <th>Entero</th>\n",
       "      <td>85025.3</td>\n",
       "      <td>38.0</td>\n",
       "      <td>83631.9</td>\n",
       "      <td>38.0</td>\n",
       "      <td>112798.1</td>\n",
       "      <td>41.0</td>\n",
       "      <td>112999.6</td>\n",
       "      <td>42.0</td>\n",
       "      <td>39.0</td>\n",
       "      <td>92557.4</td>\n",
       "      <td>...</td>\n",
       "      <td>0.0</td>\n",
       "      <td>NaN</td>\n",
       "      <td>0.0</td>\n",
       "      <td>NaN</td>\n",
       "      <td>0.0</td>\n",
       "      <td>NaN</td>\n",
       "      <td>852907.0</td>\n",
       "      <td>45.0</td>\n",
       "      <td>71076.0</td>\n",
       "      <td>45.0</td>\n",
       "    </tr>\n",
       "    <tr>\n",
       "      <th>Media Concha</th>\n",
       "      <td>6744.2</td>\n",
       "      <td>3.0</td>\n",
       "      <td>3419.4</td>\n",
       "      <td>2.0</td>\n",
       "      <td>3691.5</td>\n",
       "      <td>1.0</td>\n",
       "      <td>5699.2</td>\n",
       "      <td>2.0</td>\n",
       "      <td>2.0</td>\n",
       "      <td>3850.3</td>\n",
       "      <td>...</td>\n",
       "      <td>0.0</td>\n",
       "      <td>NaN</td>\n",
       "      <td>0.0</td>\n",
       "      <td>NaN</td>\n",
       "      <td>0.0</td>\n",
       "      <td>NaN</td>\n",
       "      <td>34825.0</td>\n",
       "      <td>2.0</td>\n",
       "      <td>2902.0</td>\n",
       "      <td>2.0</td>\n",
       "    </tr>\n",
       "  </tbody>\n",
       "</table>\n",
       "<p>3 rows × 28 columns</p>\n",
       "</div>"
      ],
      "text/plain": [
       "                 Enero         Febrero           Marzo           Abril        \\\n",
       "                   Ton     %       Ton     %       Ton     %       Ton     %   \n",
       "Producto                                                                       \n",
       "Carne         131195.1  59.0  132293.9  60.0  160544.1  58.0  149826.1  56.0   \n",
       "Entero         85025.3  38.0   83631.9  38.0  112798.1  41.0  112999.6  42.0   \n",
       "Media Concha    6744.2   3.0    3419.4   2.0    3691.5   1.0    5699.2   2.0   \n",
       "\n",
       "              Mayo            ... Octubre     Noviembre     Diciembre      \\\n",
       "               Ton         %  ...     Ton   %       Ton   %       Ton   %   \n",
       "Producto                      ...                                           \n",
       "Carne         60.0  143917.7  ...     0.0 NaN       0.0 NaN       0.0 NaN   \n",
       "Entero        39.0   92557.4  ...     0.0 NaN       0.0 NaN       0.0 NaN   \n",
       "Media Concha   2.0    3850.3  ...     0.0 NaN       0.0 NaN       0.0 NaN   \n",
       "\n",
       "                 Total       Promedio        \n",
       "                   Ton     %      Ton     %  \n",
       "Producto                                     \n",
       "Carne         998051.0  53.0  83171.0  53.0  \n",
       "Entero        852907.0  45.0  71076.0  45.0  \n",
       "Media Concha   34825.0   2.0   2902.0   2.0  \n",
       "\n",
       "[3 rows x 28 columns]"
      ]
     },
     "execution_count": 900,
     "metadata": {},
     "output_type": "execute_result"
    }
   ],
   "source": [
    "producto = pd.read_csv('../Procesos_Producto_2021.csv')\n",
    "producto.head()\n",
    "\n",
    "filtro = (producto.Producto == 'Carne') | (producto.Producto == 'Entero') | (producto.Producto == 'Media Concha')\n",
    "datos = producto.loc[filtro].pivot_table(index='Producto',columns='Mes', values='Valor')\n",
    "total = datos.sum(axis=1).round(0)\n",
    "average = datos.mean(axis=1).round(0)\n",
    "datos[13] = total\n",
    "datos[14] = average\n",
    "datos\n",
    "\n",
    "filtro = (producto.Producto == 'Carne') | (producto.Producto == 'Entero') | (producto.Producto == 'Media Concha')\n",
    "datos2 = producto.loc[filtro].pivot_table(index='Producto',columns='Mes', values='Valor')\n",
    "total2 = datos2.sum(axis=1).round(0)\n",
    "average2 = datos2.mean(axis=1).round(0)\n",
    "datos2[13] = total2\n",
    "datos2[14] = average2\n",
    "datos2 = datos2.transform(lambda x: (x / x.sum()).round(2))*100\n",
    "datos2\n",
    "\n",
    "largo = len(datos.columns)\n",
    "new_index = []\n",
    "for i in range(1, largo+1):\n",
    "    if i == largo - 1:\n",
    "        new_index.append(('Total','Ton'))\n",
    "        new_index.append(('Total','%'))\n",
    "    elif i == largo:\n",
    "        new_index.append(('Promedio','Ton'))\n",
    "        new_index.append(('Promedio','%'))\n",
    "    else: \n",
    "        new_index.append((dict_meses[i],'Ton'))\n",
    "        new_index.append((dict_meses[i],'%'))\n",
    "\n",
    "pv3 = pd.concat([datos, datos2], axis=1).sort_index(level=0,axis=1)\n",
    "pv3.columns = pd.MultiIndex.from_tuples(new_index)\n",
    "pv3.round(1)\n",
    "\n",
    "largo = len(pv3.columns)\n",
    "for i in range(1,largo+1,2):\n",
    "    if pv3.iloc[:,i].sum() != 100:\n",
    "        pv3.iloc[:,[i-1, i]] = pv3.iloc[:,[i,i-1]].copy() \n",
    "        \n",
    "pv3 = pv3.round(1)\n",
    "pv3\n"
   ]
  },
  {
   "cell_type": "markdown",
   "id": "7b3852f2",
   "metadata": {},
   "source": [
    "### Empresa"
   ]
  },
  {
   "cell_type": "code",
   "execution_count": 870,
   "id": "d9bcc0c3",
   "metadata": {},
   "outputs": [
    {
     "data": {
      "text/html": [
       "<div>\n",
       "<style scoped>\n",
       "    .dataframe tbody tr th:only-of-type {\n",
       "        vertical-align: middle;\n",
       "    }\n",
       "\n",
       "    .dataframe tbody tr th {\n",
       "        vertical-align: top;\n",
       "    }\n",
       "\n",
       "    .dataframe thead tr th {\n",
       "        text-align: left;\n",
       "    }\n",
       "\n",
       "    .dataframe thead tr:last-of-type th {\n",
       "        text-align: right;\n",
       "    }\n",
       "</style>\n",
       "<table border=\"1\" class=\"dataframe\">\n",
       "  <thead>\n",
       "    <tr>\n",
       "      <th></th>\n",
       "      <th colspan=\"2\" halign=\"left\">Enero</th>\n",
       "      <th colspan=\"2\" halign=\"left\">Febrero</th>\n",
       "      <th colspan=\"2\" halign=\"left\">Marzo</th>\n",
       "      <th colspan=\"2\" halign=\"left\">Abril</th>\n",
       "      <th colspan=\"2\" halign=\"left\">Mayo</th>\n",
       "      <th>...</th>\n",
       "      <th colspan=\"2\" halign=\"left\">Octubre</th>\n",
       "      <th colspan=\"2\" halign=\"left\">Noviembre</th>\n",
       "      <th colspan=\"2\" halign=\"left\">Diciembre</th>\n",
       "      <th colspan=\"2\" halign=\"left\">Total</th>\n",
       "      <th colspan=\"2\" halign=\"left\">Promedio</th>\n",
       "    </tr>\n",
       "    <tr>\n",
       "      <th></th>\n",
       "      <th>Ton</th>\n",
       "      <th>%</th>\n",
       "      <th>Ton</th>\n",
       "      <th>%</th>\n",
       "      <th>Ton</th>\n",
       "      <th>%</th>\n",
       "      <th>Ton</th>\n",
       "      <th>%</th>\n",
       "      <th>Ton</th>\n",
       "      <th>%</th>\n",
       "      <th>...</th>\n",
       "      <th>Ton</th>\n",
       "      <th>%</th>\n",
       "      <th>Ton</th>\n",
       "      <th>%</th>\n",
       "      <th>Ton</th>\n",
       "      <th>%</th>\n",
       "      <th>Ton</th>\n",
       "      <th>%</th>\n",
       "      <th>Ton</th>\n",
       "      <th>%</th>\n",
       "    </tr>\n",
       "    <tr>\n",
       "      <th>Producto</th>\n",
       "      <th></th>\n",
       "      <th></th>\n",
       "      <th></th>\n",
       "      <th></th>\n",
       "      <th></th>\n",
       "      <th></th>\n",
       "      <th></th>\n",
       "      <th></th>\n",
       "      <th></th>\n",
       "      <th></th>\n",
       "      <th></th>\n",
       "      <th></th>\n",
       "      <th></th>\n",
       "      <th></th>\n",
       "      <th></th>\n",
       "      <th></th>\n",
       "      <th></th>\n",
       "      <th></th>\n",
       "      <th></th>\n",
       "      <th></th>\n",
       "      <th></th>\n",
       "    </tr>\n",
       "  </thead>\n",
       "  <tbody>\n",
       "    <tr>\n",
       "      <th>Carne</th>\n",
       "      <td>0.0</td>\n",
       "      <td>59.0</td>\n",
       "      <td>0.0</td>\n",
       "      <td>60.0</td>\n",
       "      <td>0.0</td>\n",
       "      <td>58.0</td>\n",
       "      <td>0.0</td>\n",
       "      <td>56.0</td>\n",
       "      <td>60.0</td>\n",
       "      <td>0.0</td>\n",
       "      <td>...</td>\n",
       "      <td>0.0</td>\n",
       "      <td>NaN</td>\n",
       "      <td>0.0</td>\n",
       "      <td>NaN</td>\n",
       "      <td>0.0</td>\n",
       "      <td>NaN</td>\n",
       "      <td>0.0</td>\n",
       "      <td>53.0</td>\n",
       "      <td>0.0</td>\n",
       "      <td>53.0</td>\n",
       "    </tr>\n",
       "    <tr>\n",
       "      <th>Entero</th>\n",
       "      <td>106228.0</td>\n",
       "      <td>38.0</td>\n",
       "      <td>75970.5</td>\n",
       "      <td>38.0</td>\n",
       "      <td>120903.1</td>\n",
       "      <td>41.0</td>\n",
       "      <td>93752.1</td>\n",
       "      <td>42.0</td>\n",
       "      <td>39.0</td>\n",
       "      <td>88610.5</td>\n",
       "      <td>...</td>\n",
       "      <td>0.0</td>\n",
       "      <td>NaN</td>\n",
       "      <td>0.0</td>\n",
       "      <td>NaN</td>\n",
       "      <td>0.0</td>\n",
       "      <td>NaN</td>\n",
       "      <td>921661.0</td>\n",
       "      <td>45.0</td>\n",
       "      <td>76805.0</td>\n",
       "      <td>45.0</td>\n",
       "    </tr>\n",
       "    <tr>\n",
       "      <th>Media Concha</th>\n",
       "      <td>3069.0</td>\n",
       "      <td>3.0</td>\n",
       "      <td>4807.0</td>\n",
       "      <td>2.0</td>\n",
       "      <td>2299.0</td>\n",
       "      <td>1.0</td>\n",
       "      <td>1503.3</td>\n",
       "      <td>2.0</td>\n",
       "      <td>2.0</td>\n",
       "      <td>1188.0</td>\n",
       "      <td>...</td>\n",
       "      <td>0.0</td>\n",
       "      <td>NaN</td>\n",
       "      <td>0.0</td>\n",
       "      <td>NaN</td>\n",
       "      <td>0.0</td>\n",
       "      <td>NaN</td>\n",
       "      <td>14568.0</td>\n",
       "      <td>2.0</td>\n",
       "      <td>1214.0</td>\n",
       "      <td>2.0</td>\n",
       "    </tr>\n",
       "  </tbody>\n",
       "</table>\n",
       "<p>3 rows × 28 columns</p>\n",
       "</div>"
      ],
      "text/plain": [
       "                 Enero        Febrero           Marzo          Abril        \\\n",
       "                   Ton     %      Ton     %       Ton     %      Ton     %   \n",
       "Producto                                                                     \n",
       "Carne              0.0  59.0      0.0  60.0       0.0  58.0      0.0  56.0   \n",
       "Entero        106228.0  38.0  75970.5  38.0  120903.1  41.0  93752.1  42.0   \n",
       "Media Concha    3069.0   3.0   4807.0   2.0    2299.0   1.0   1503.3   2.0   \n",
       "\n",
       "              Mayo           ... Octubre     Noviembre     Diciembre      \\\n",
       "               Ton        %  ...     Ton   %       Ton   %       Ton   %   \n",
       "Producto                     ...                                           \n",
       "Carne         60.0      0.0  ...     0.0 NaN       0.0 NaN       0.0 NaN   \n",
       "Entero        39.0  88610.5  ...     0.0 NaN       0.0 NaN       0.0 NaN   \n",
       "Media Concha   2.0   1188.0  ...     0.0 NaN       0.0 NaN       0.0 NaN   \n",
       "\n",
       "                 Total       Promedio        \n",
       "                   Ton     %      Ton     %  \n",
       "Producto                                     \n",
       "Carne              0.0  53.0      0.0  53.0  \n",
       "Entero        921661.0  45.0  76805.0  45.0  \n",
       "Media Concha   14568.0   2.0   1214.0   2.0  \n",
       "\n",
       "[3 rows x 28 columns]"
      ]
     },
     "execution_count": 870,
     "metadata": {},
     "output_type": "execute_result"
    }
   ],
   "source": [
    "empresa = 'Sudmaris'\n",
    "filtro = (producto.Empresa == empresa) & ((producto.Producto == 'Carne') | (producto.Producto == 'Entero') | (producto.Producto == 'Media Concha'))\n",
    "datos = producto.loc[filtro].pivot_table(index='Producto',columns='Mes', values='Valor')\n",
    "total = datos.sum(axis=1).round(0)\n",
    "average = datos.mean(axis=1).round(0)\n",
    "datos[13] = total\n",
    "datos[14] = average\n",
    "datos\n",
    "\n",
    "filtro = (producto.Producto == 'Carne') | (producto.Producto == 'Entero') | (producto.Producto == 'Media Concha')\n",
    "datos2 = producto.loc[filtro].pivot_table(index='Producto',columns='Mes', values='Valor')\n",
    "total2 = datos2.sum(axis=1).round(0)\n",
    "average2 = datos2.mean(axis=1).round(0)\n",
    "datos2[13] = total2\n",
    "datos2[14] = average2\n",
    "datos2 = datos2.transform(lambda x: (x / x.sum()).round(2))*100\n",
    "datos2\n",
    "\n",
    "largo = len(datos.columns)\n",
    "new_index = []\n",
    "for i in range(1, largo+1):\n",
    "    if i == largo - 1:\n",
    "        new_index.append(('Total','Ton'))\n",
    "        new_index.append(('Total','%'))\n",
    "    elif i == largo:\n",
    "        new_index.append(('Promedio','Ton'))\n",
    "        new_index.append(('Promedio','%'))\n",
    "    else: \n",
    "        new_index.append((dict_meses[i],'Ton'))\n",
    "        new_index.append((dict_meses[i],'%'))\n",
    "\n",
    "pv3 = pd.concat([datos, datos2], axis=1).sort_index(level=0,axis=1)\n",
    "pv3.columns = pd.MultiIndex.from_tuples(new_index)\n",
    "pv3.round(1)\n",
    "\n",
    "largo = len(pv3.columns)\n",
    "for i in range(1,largo+1,2):\n",
    "    if pv3.iloc[:,i].sum() != 100:\n",
    "        pv3.iloc[:,[i-1, i]] = pv3.iloc[:,[i,i-1]].copy() \n",
    "        \n",
    "pv3 = pv3.round(1)\n",
    "pv3\n"
   ]
  },
  {
   "cell_type": "markdown",
   "id": "031c7468",
   "metadata": {},
   "source": [
    "### Otras Industrias"
   ]
  },
  {
   "cell_type": "code",
   "execution_count": 869,
   "id": "a7e5f1cf",
   "metadata": {},
   "outputs": [
    {
     "data": {
      "text/html": [
       "<div>\n",
       "<style scoped>\n",
       "    .dataframe tbody tr th:only-of-type {\n",
       "        vertical-align: middle;\n",
       "    }\n",
       "\n",
       "    .dataframe tbody tr th {\n",
       "        vertical-align: top;\n",
       "    }\n",
       "\n",
       "    .dataframe thead tr th {\n",
       "        text-align: left;\n",
       "    }\n",
       "\n",
       "    .dataframe thead tr:last-of-type th {\n",
       "        text-align: right;\n",
       "    }\n",
       "</style>\n",
       "<table border=\"1\" class=\"dataframe\">\n",
       "  <thead>\n",
       "    <tr>\n",
       "      <th></th>\n",
       "      <th colspan=\"2\" halign=\"left\">Enero</th>\n",
       "      <th colspan=\"2\" halign=\"left\">Febrero</th>\n",
       "      <th colspan=\"2\" halign=\"left\">Marzo</th>\n",
       "      <th colspan=\"2\" halign=\"left\">Abril</th>\n",
       "      <th colspan=\"2\" halign=\"left\">Mayo</th>\n",
       "      <th>...</th>\n",
       "      <th colspan=\"2\" halign=\"left\">Julio</th>\n",
       "      <th colspan=\"2\" halign=\"left\">Agosto</th>\n",
       "      <th colspan=\"2\" halign=\"left\">Septiembre</th>\n",
       "      <th colspan=\"2\" halign=\"left\">Total</th>\n",
       "      <th colspan=\"2\" halign=\"left\">Promedio</th>\n",
       "    </tr>\n",
       "    <tr>\n",
       "      <th></th>\n",
       "      <th>Ton</th>\n",
       "      <th>%</th>\n",
       "      <th>Ton</th>\n",
       "      <th>%</th>\n",
       "      <th>Ton</th>\n",
       "      <th>%</th>\n",
       "      <th>Ton</th>\n",
       "      <th>%</th>\n",
       "      <th>Ton</th>\n",
       "      <th>%</th>\n",
       "      <th>...</th>\n",
       "      <th>Ton</th>\n",
       "      <th>%</th>\n",
       "      <th>Ton</th>\n",
       "      <th>%</th>\n",
       "      <th>Ton</th>\n",
       "      <th>%</th>\n",
       "      <th>Ton</th>\n",
       "      <th>%</th>\n",
       "      <th>Ton</th>\n",
       "      <th>%</th>\n",
       "    </tr>\n",
       "    <tr>\n",
       "      <th>Producto</th>\n",
       "      <th></th>\n",
       "      <th></th>\n",
       "      <th></th>\n",
       "      <th></th>\n",
       "      <th></th>\n",
       "      <th></th>\n",
       "      <th></th>\n",
       "      <th></th>\n",
       "      <th></th>\n",
       "      <th></th>\n",
       "      <th></th>\n",
       "      <th></th>\n",
       "      <th></th>\n",
       "      <th></th>\n",
       "      <th></th>\n",
       "      <th></th>\n",
       "      <th></th>\n",
       "      <th></th>\n",
       "      <th></th>\n",
       "      <th></th>\n",
       "      <th></th>\n",
       "    </tr>\n",
       "  </thead>\n",
       "  <tbody>\n",
       "    <tr>\n",
       "      <th>Carne</th>\n",
       "      <td>141690.8</td>\n",
       "      <td>59.0</td>\n",
       "      <td>142877.4</td>\n",
       "      <td>60.0</td>\n",
       "      <td>176598.5</td>\n",
       "      <td>58.0</td>\n",
       "      <td>165597.3</td>\n",
       "      <td>56.0</td>\n",
       "      <td>60.0</td>\n",
       "      <td>158309.4</td>\n",
       "      <td>...</td>\n",
       "      <td>123203.4</td>\n",
       "      <td>49.0</td>\n",
       "      <td>36672.5</td>\n",
       "      <td>30.0</td>\n",
       "      <td>19427.9</td>\n",
       "      <td>16.0</td>\n",
       "      <td>1094508.0</td>\n",
       "      <td>53.0</td>\n",
       "      <td>121612.0</td>\n",
       "      <td>53.0</td>\n",
       "    </tr>\n",
       "    <tr>\n",
       "      <th>Entero</th>\n",
       "      <td>80481.8</td>\n",
       "      <td>38.0</td>\n",
       "      <td>85273.7</td>\n",
       "      <td>38.0</td>\n",
       "      <td>110587.6</td>\n",
       "      <td>41.0</td>\n",
       "      <td>119415.4</td>\n",
       "      <td>42.0</td>\n",
       "      <td>39.0</td>\n",
       "      <td>93873.1</td>\n",
       "      <td>...</td>\n",
       "      <td>107696.4</td>\n",
       "      <td>50.0</td>\n",
       "      <td>68919.1</td>\n",
       "      <td>67.0</td>\n",
       "      <td>82510.4</td>\n",
       "      <td>81.0</td>\n",
       "      <td>838252.0</td>\n",
       "      <td>45.0</td>\n",
       "      <td>93139.0</td>\n",
       "      <td>45.0</td>\n",
       "    </tr>\n",
       "    <tr>\n",
       "      <th>Media Concha</th>\n",
       "      <td>7269.2</td>\n",
       "      <td>3.0</td>\n",
       "      <td>3141.9</td>\n",
       "      <td>2.0</td>\n",
       "      <td>4012.8</td>\n",
       "      <td>1.0</td>\n",
       "      <td>7272.6</td>\n",
       "      <td>2.0</td>\n",
       "      <td>2.0</td>\n",
       "      <td>4649.0</td>\n",
       "      <td>...</td>\n",
       "      <td>2716.3</td>\n",
       "      <td>1.0</td>\n",
       "      <td>3633.8</td>\n",
       "      <td>3.0</td>\n",
       "      <td>3849.0</td>\n",
       "      <td>3.0</td>\n",
       "      <td>41134.0</td>\n",
       "      <td>2.0</td>\n",
       "      <td>4570.0</td>\n",
       "      <td>2.0</td>\n",
       "    </tr>\n",
       "  </tbody>\n",
       "</table>\n",
       "<p>3 rows × 22 columns</p>\n",
       "</div>"
      ],
      "text/plain": [
       "                 Enero         Febrero           Marzo           Abril        \\\n",
       "                   Ton     %       Ton     %       Ton     %       Ton     %   \n",
       "Producto                                                                       \n",
       "Carne         141690.8  59.0  142877.4  60.0  176598.5  58.0  165597.3  56.0   \n",
       "Entero         80481.8  38.0   85273.7  38.0  110587.6  41.0  119415.4  42.0   \n",
       "Media Concha    7269.2   3.0    3141.9   2.0    4012.8   1.0    7272.6   2.0   \n",
       "\n",
       "              Mayo            ...     Julio         Agosto       Septiembre  \\\n",
       "               Ton         %  ...       Ton     %      Ton     %        Ton   \n",
       "Producto                      ...                                             \n",
       "Carne         60.0  158309.4  ...  123203.4  49.0  36672.5  30.0    19427.9   \n",
       "Entero        39.0   93873.1  ...  107696.4  50.0  68919.1  67.0    82510.4   \n",
       "Media Concha   2.0    4649.0  ...    2716.3   1.0   3633.8   3.0     3849.0   \n",
       "\n",
       "                        Total        Promedio        \n",
       "                 %        Ton     %       Ton     %  \n",
       "Producto                                             \n",
       "Carne         16.0  1094508.0  53.0  121612.0  53.0  \n",
       "Entero        81.0   838252.0  45.0   93139.0  45.0  \n",
       "Media Concha   3.0    41134.0   2.0    4570.0   2.0  \n",
       "\n",
       "[3 rows x 22 columns]"
      ]
     },
     "execution_count": 869,
     "metadata": {},
     "output_type": "execute_result"
    }
   ],
   "source": [
    "empresa = 'Sudmaris'\n",
    "filtro = (producto.Empresa != empresa) & ((producto.Producto == 'Carne') | (producto.Producto == 'Entero') | (producto.Producto == 'Media Concha'))\n",
    "datos = producto.loc[filtro].pivot_table(index='Producto',columns='Mes', values='Valor')\n",
    "total = datos.sum(axis=1).round(0)\n",
    "average = datos.mean(axis=1).round(0)\n",
    "datos[13] = total\n",
    "datos[14] = average\n",
    "datos\n",
    "\n",
    "filtro = (producto.Producto == 'Carne') | (producto.Producto == 'Entero') | (producto.Producto == 'Media Concha')\n",
    "datos2 = producto.loc[filtro].pivot_table(index='Producto',columns='Mes', values='Valor')\n",
    "total2 = datos2.sum(axis=1).round(0)\n",
    "average2 = datos2.mean(axis=1).round(0)\n",
    "datos2[13] = total2\n",
    "datos2[14] = average2\n",
    "datos2 = datos2.transform(lambda x: (x / x.sum()).round(2))*100\n",
    "datos2\n",
    "\n",
    "largo = len(datos.columns)\n",
    "new_index = []\n",
    "for i in range(1, largo+1):\n",
    "    if i == largo - 1:\n",
    "        new_index.append(('Total','Ton'))\n",
    "        new_index.append(('Total','%'))\n",
    "    elif i == largo:\n",
    "        new_index.append(('Promedio','Ton'))\n",
    "        new_index.append(('Promedio','%'))\n",
    "    else: \n",
    "        new_index.append((dict_meses[i],'Ton'))\n",
    "        new_index.append((dict_meses[i],'%'))\n",
    "\n",
    "pv3 = pd.concat([datos, datos2], axis=1).sort_index(level=0,axis=1)\n",
    "pv3.dropna(axis=1, inplace=True, thresh = 1)\n",
    "pv3.columns = pd.MultiIndex.from_tuples(new_index)\n",
    "pv3.round(1)\n",
    "\n",
    "largo = len(pv3.columns)\n",
    "for i in range(1,largo+1,2):\n",
    "    if pv3.iloc[:,i].sum() != 100:\n",
    "        pv3.iloc[:,[i-1, i]] = pv3.iloc[:,[i,i-1]].copy() \n",
    "        \n",
    "pv3 = pv3.round(1)\n",
    "pv3\n",
    "\n"
   ]
  },
  {
   "cell_type": "markdown",
   "id": "21f61ce8",
   "metadata": {},
   "source": [
    "# Detalle Producto"
   ]
  },
  {
   "cell_type": "code",
   "execution_count": 915,
   "id": "e10832d9",
   "metadata": {},
   "outputs": [
    {
     "data": {
      "text/html": [
       "<div>\n",
       "<style scoped>\n",
       "    .dataframe tbody tr th:only-of-type {\n",
       "        vertical-align: middle;\n",
       "    }\n",
       "\n",
       "    .dataframe tbody tr th {\n",
       "        vertical-align: top;\n",
       "    }\n",
       "\n",
       "    .dataframe thead th {\n",
       "        text-align: right;\n",
       "    }\n",
       "</style>\n",
       "<table border=\"1\" class=\"dataframe\">\n",
       "  <thead>\n",
       "    <tr style=\"text-align: right;\">\n",
       "      <th></th>\n",
       "      <th></th>\n",
       "      <th>Valor</th>\n",
       "      <th>%</th>\n",
       "    </tr>\n",
       "    <tr>\n",
       "      <th>Producto</th>\n",
       "      <th>Calibre</th>\n",
       "      <th></th>\n",
       "      <th></th>\n",
       "    </tr>\n",
       "  </thead>\n",
       "  <tbody>\n",
       "    <tr>\n",
       "      <th rowspan=\"7\" valign=\"top\">Carne</th>\n",
       "      <th>50-100 UNI/KG</th>\n",
       "      <td>1444.0</td>\n",
       "      <td>0.0</td>\n",
       "    </tr>\n",
       "    <tr>\n",
       "      <th>100-200 UNI/KG</th>\n",
       "      <td>214333.0</td>\n",
       "      <td>27.0</td>\n",
       "    </tr>\n",
       "    <tr>\n",
       "      <th>200-300 UNI/KG</th>\n",
       "      <td>342066.0</td>\n",
       "      <td>43.0</td>\n",
       "    </tr>\n",
       "    <tr>\n",
       "      <th>300-500 UNI/KG</th>\n",
       "      <td>187196.0</td>\n",
       "      <td>24.0</td>\n",
       "    </tr>\n",
       "    <tr>\n",
       "      <th>500-1000 UNI/KG</th>\n",
       "      <td>10315.0</td>\n",
       "      <td>1.0</td>\n",
       "    </tr>\n",
       "    <tr>\n",
       "      <th>INDUSTRIAL</th>\n",
       "      <td>37586.0</td>\n",
       "      <td>5.0</td>\n",
       "    </tr>\n",
       "    <tr>\n",
       "      <th>Total</th>\n",
       "      <td>792940.0</td>\n",
       "      <td>100.0</td>\n",
       "    </tr>\n",
       "    <tr>\n",
       "      <th rowspan=\"3\" valign=\"top\">Entero</th>\n",
       "      <th>CON SALSA</th>\n",
       "      <td>35806.0</td>\n",
       "      <td>20.0</td>\n",
       "    </tr>\n",
       "    <tr>\n",
       "      <th>NATURAL</th>\n",
       "      <td>143297.0</td>\n",
       "      <td>80.0</td>\n",
       "    </tr>\n",
       "    <tr>\n",
       "      <th>Total</th>\n",
       "      <td>179103.0</td>\n",
       "      <td>100.0</td>\n",
       "    </tr>\n",
       "    <tr>\n",
       "      <th rowspan=\"5\" valign=\"top\">Media Concha</th>\n",
       "      <th>40-60 UNI/KG</th>\n",
       "      <td>3781.0</td>\n",
       "      <td>20.0</td>\n",
       "    </tr>\n",
       "    <tr>\n",
       "      <th>60-80 UNI/KG</th>\n",
       "      <td>12604.0</td>\n",
       "      <td>67.0</td>\n",
       "    </tr>\n",
       "    <tr>\n",
       "      <th>80-100 UNI/KG</th>\n",
       "      <td>2260.0</td>\n",
       "      <td>12.0</td>\n",
       "    </tr>\n",
       "    <tr>\n",
       "      <th>100 UP UNI/KG</th>\n",
       "      <td>171.0</td>\n",
       "      <td>1.0</td>\n",
       "    </tr>\n",
       "    <tr>\n",
       "      <th>Total</th>\n",
       "      <td>18815.0</td>\n",
       "      <td>100.0</td>\n",
       "    </tr>\n",
       "    <tr>\n",
       "      <th>General</th>\n",
       "      <th>Total</th>\n",
       "      <td>990858.0</td>\n",
       "      <td>300.0</td>\n",
       "    </tr>\n",
       "  </tbody>\n",
       "</table>\n",
       "</div>"
      ],
      "text/plain": [
       "                                 Valor      %\n",
       "Producto     Calibre                         \n",
       "Carne        50-100 UNI/KG      1444.0    0.0\n",
       "             100-200 UNI/KG   214333.0   27.0\n",
       "             200-300 UNI/KG   342066.0   43.0\n",
       "             300-500 UNI/KG   187196.0   24.0\n",
       "             500-1000 UNI/KG   10315.0    1.0\n",
       "             INDUSTRIAL        37586.0    5.0\n",
       "             Total            792940.0  100.0\n",
       "Entero       CON SALSA         35806.0   20.0\n",
       "             NATURAL          143297.0   80.0\n",
       "             Total            179103.0  100.0\n",
       "Media Concha 40-60 UNI/KG       3781.0   20.0\n",
       "             60-80 UNI/KG      12604.0   67.0\n",
       "             80-100 UNI/KG      2260.0   12.0\n",
       "             100 UP UNI/KG       171.0    1.0\n",
       "             Total             18815.0  100.0\n",
       "General      Total            990858.0  300.0"
      ]
     },
     "execution_count": 915,
     "metadata": {},
     "output_type": "execute_result"
    }
   ],
   "source": [
    "producto = pd.read_csv('../Procesos_Producto_2021.csv')\n",
    "producto.drop_duplicates(inplace=True)\n",
    "filtro = (producto.Producto == 'Carne') | (producto.Producto == 'Entero') | (producto.Producto == 'Media Concha')\n",
    "producto.drop_duplicates(inplace=True)\n",
    "datos = producto.loc[filtro].pivot_table(index=['Producto','Calibre'], values='Valor')\n",
    "\n",
    "for p, c in datos.index:\n",
    "    datos.loc[(p, c),'%'] = datos.loc[(p, c),'Valor']*100/datos.loc[idx[p,:],'Valor'].sum()\n",
    "    \n",
    "#Reindex\n",
    "new_index = [(       'Carne',   '50-100 UNI/KG'),\n",
    "            (       'Carne',  '100-200 UNI/KG'),\n",
    "            (       'Carne',  '200-300 UNI/KG'),\n",
    "            (       'Carne',  '300-500 UNI/KG'),\n",
    "            (       'Carne', '500-1000 UNI/KG'),\n",
    "            (       'Carne',      'INDUSTRIAL'),\n",
    "            (      'Entero',       'CON SALSA'),\n",
    "            (      'Entero',         'NATURAL'),\n",
    "            ('Media Concha',    '40-60 UNI/KG'),\n",
    "            ('Media Concha',    '60-80 UNI/KG'),\n",
    "            ('Media Concha',   '80-100 UNI/KG'),\n",
    "            ('Media Concha',   '100 UP UNI/KG')]\n",
    "\n",
    "datos = datos.loc[new_index]\n",
    "\n",
    "datos = pd.concat([\n",
    "    d.append(d.sum().rename((k, 'Total')))\n",
    "    for k, d in datos.groupby(level=0)\n",
    "]).append(datos.sum().rename(('General', 'Total'))).round()\n",
    "\n",
    "datos"
   ]
  },
  {
   "cell_type": "markdown",
   "id": "f5319a9e",
   "metadata": {},
   "source": [
    "### Empresa"
   ]
  },
  {
   "cell_type": "code",
   "execution_count": 917,
   "id": "2780214f",
   "metadata": {},
   "outputs": [
    {
     "name": "stderr",
     "output_type": "stream",
     "text": [
      "/var/folders/f8/dscw5x7s14n8dmf67ydf66zr0000gn/T/ipykernel_1625/3174729568.py:10: RuntimeWarning:\n",
      "\n",
      "invalid value encountered in double_scalars\n",
      "\n"
     ]
    },
    {
     "data": {
      "text/html": [
       "<div>\n",
       "<style scoped>\n",
       "    .dataframe tbody tr th:only-of-type {\n",
       "        vertical-align: middle;\n",
       "    }\n",
       "\n",
       "    .dataframe tbody tr th {\n",
       "        vertical-align: top;\n",
       "    }\n",
       "\n",
       "    .dataframe thead th {\n",
       "        text-align: right;\n",
       "    }\n",
       "</style>\n",
       "<table border=\"1\" class=\"dataframe\">\n",
       "  <thead>\n",
       "    <tr style=\"text-align: right;\">\n",
       "      <th></th>\n",
       "      <th></th>\n",
       "      <th>Valor</th>\n",
       "      <th>%</th>\n",
       "    </tr>\n",
       "    <tr>\n",
       "      <th>Producto</th>\n",
       "      <th>Calibre</th>\n",
       "      <th></th>\n",
       "      <th></th>\n",
       "    </tr>\n",
       "  </thead>\n",
       "  <tbody>\n",
       "    <tr>\n",
       "      <th rowspan=\"2\" valign=\"top\">Carne</th>\n",
       "      <th>50-100 UNI/KG</th>\n",
       "      <td>0.0</td>\n",
       "      <td>NaN</td>\n",
       "    </tr>\n",
       "    <tr>\n",
       "      <th>Total</th>\n",
       "      <td>0.0</td>\n",
       "      <td>0.0</td>\n",
       "    </tr>\n",
       "    <tr>\n",
       "      <th rowspan=\"2\" valign=\"top\">Entero</th>\n",
       "      <th>NATURAL</th>\n",
       "      <td>95344.0</td>\n",
       "      <td>100.0</td>\n",
       "    </tr>\n",
       "    <tr>\n",
       "      <th>Total</th>\n",
       "      <td>95344.0</td>\n",
       "      <td>100.0</td>\n",
       "    </tr>\n",
       "    <tr>\n",
       "      <th rowspan=\"2\" valign=\"top\">Media Concha</th>\n",
       "      <th>40-60 UNI/KG</th>\n",
       "      <td>2032.0</td>\n",
       "      <td>100.0</td>\n",
       "    </tr>\n",
       "    <tr>\n",
       "      <th>Total</th>\n",
       "      <td>2032.0</td>\n",
       "      <td>100.0</td>\n",
       "    </tr>\n",
       "    <tr>\n",
       "      <th>General</th>\n",
       "      <th>Total</th>\n",
       "      <td>97376.0</td>\n",
       "      <td>200.0</td>\n",
       "    </tr>\n",
       "  </tbody>\n",
       "</table>\n",
       "</div>"
      ],
      "text/plain": [
       "                              Valor      %\n",
       "Producto     Calibre                      \n",
       "Carne        50-100 UNI/KG      0.0    NaN\n",
       "             Total              0.0    0.0\n",
       "Entero       NATURAL        95344.0  100.0\n",
       "             Total          95344.0  100.0\n",
       "Media Concha 40-60 UNI/KG    2032.0  100.0\n",
       "             Total           2032.0  100.0\n",
       "General      Total          97376.0  200.0"
      ]
     },
     "execution_count": 917,
     "metadata": {},
     "output_type": "execute_result"
    }
   ],
   "source": [
    "producto = pd.read_csv('../Procesos_Producto_2021.csv')\n",
    "producto.drop_duplicates(inplace=True)\n",
    "empresa = 'Sudmaris'\n",
    "\n",
    "filtro = (producto.Empresa == empresa) & ((producto.Producto == 'Carne') | (producto.Producto == 'Entero') | (producto.Producto == 'Media Concha'))\n",
    "producto.drop_duplicates(inplace=True)\n",
    "datos = producto.loc[filtro].pivot_table(index=['Producto','Calibre'], values='Valor')\n",
    "\n",
    "for p, c in datos.index:\n",
    "    datos.loc[(p, c),'%'] = datos.loc[(p, c),'Valor']*100/datos.loc[idx[p,:],'Valor'].sum()\n",
    "    \n",
    "#Reindex\n",
    "try: \n",
    "    new_index = [(       'Carne',   '50-100 UNI/KG'),\n",
    "            (       'Carne',  '100-200 UNI/KG'),\n",
    "            (       'Carne',  '200-300 UNI/KG'),\n",
    "            (       'Carne',  '300-500 UNI/KG'),\n",
    "            (       'Carne', '500-1000 UNI/KG'),\n",
    "            (       'Carne',      'INDUSTRIAL'),\n",
    "            (      'Entero',       'CON SALSA'),\n",
    "            (      'Entero',         'NATURAL'),\n",
    "            ('Media Concha',    '40-60 UNI/KG'),\n",
    "            ('Media Concha',    '60-80 UNI/KG'),\n",
    "            ('Media Concha',   '80-100 UNI/KG'),\n",
    "            ('Media Concha',   '100 UP UNI/KG')]\n",
    "\n",
    "    datos = datos.loc[new_index]\n",
    "\n",
    "    datos = pd.concat([\n",
    "        d.append(d.sum().rename((k, 'Total')))\n",
    "        for k, d in datos.groupby(level=0)\n",
    "    ]).append(datos.sum().rename(('General', 'Total'))).round()\n",
    "except:\n",
    "    datos = pd.concat([\n",
    "        d.append(d.sum().rename((k, 'Total')))\n",
    "        for k, d in datos.groupby(level=0)\n",
    "    ]).append(datos.sum().rename(('General', 'Total'))).round()\n",
    "    \n",
    "datos"
   ]
  },
  {
   "cell_type": "markdown",
   "id": "f7dc31f7",
   "metadata": {},
   "source": [
    "### Otras industrias"
   ]
  },
  {
   "cell_type": "code",
   "execution_count": 918,
   "id": "77847f47",
   "metadata": {},
   "outputs": [
    {
     "data": {
      "text/html": [
       "<div>\n",
       "<style scoped>\n",
       "    .dataframe tbody tr th:only-of-type {\n",
       "        vertical-align: middle;\n",
       "    }\n",
       "\n",
       "    .dataframe tbody tr th {\n",
       "        vertical-align: top;\n",
       "    }\n",
       "\n",
       "    .dataframe thead th {\n",
       "        text-align: right;\n",
       "    }\n",
       "</style>\n",
       "<table border=\"1\" class=\"dataframe\">\n",
       "  <thead>\n",
       "    <tr style=\"text-align: right;\">\n",
       "      <th></th>\n",
       "      <th></th>\n",
       "      <th>Valor</th>\n",
       "      <th>%</th>\n",
       "    </tr>\n",
       "    <tr>\n",
       "      <th>Producto</th>\n",
       "      <th>Calibre</th>\n",
       "      <th></th>\n",
       "      <th></th>\n",
       "    </tr>\n",
       "  </thead>\n",
       "  <tbody>\n",
       "    <tr>\n",
       "      <th rowspan=\"7\" valign=\"top\">Carne</th>\n",
       "      <th>50-100 UNI/KG</th>\n",
       "      <td>2003.0</td>\n",
       "      <td>0.0</td>\n",
       "    </tr>\n",
       "    <tr>\n",
       "      <th>100-200 UNI/KG</th>\n",
       "      <td>214333.0</td>\n",
       "      <td>27.0</td>\n",
       "    </tr>\n",
       "    <tr>\n",
       "      <th>200-300 UNI/KG</th>\n",
       "      <td>342066.0</td>\n",
       "      <td>43.0</td>\n",
       "    </tr>\n",
       "    <tr>\n",
       "      <th>300-500 UNI/KG</th>\n",
       "      <td>187196.0</td>\n",
       "      <td>24.0</td>\n",
       "    </tr>\n",
       "    <tr>\n",
       "      <th>500-1000 UNI/KG</th>\n",
       "      <td>10315.0</td>\n",
       "      <td>1.0</td>\n",
       "    </tr>\n",
       "    <tr>\n",
       "      <th>INDUSTRIAL</th>\n",
       "      <td>37586.0</td>\n",
       "      <td>5.0</td>\n",
       "    </tr>\n",
       "    <tr>\n",
       "      <th>Total</th>\n",
       "      <td>793499.0</td>\n",
       "      <td>100.0</td>\n",
       "    </tr>\n",
       "    <tr>\n",
       "      <th rowspan=\"3\" valign=\"top\">Entero</th>\n",
       "      <th>CON SALSA</th>\n",
       "      <td>35806.0</td>\n",
       "      <td>17.0</td>\n",
       "    </tr>\n",
       "    <tr>\n",
       "      <th>NATURAL</th>\n",
       "      <td>172885.0</td>\n",
       "      <td>83.0</td>\n",
       "    </tr>\n",
       "    <tr>\n",
       "      <th>Total</th>\n",
       "      <td>208691.0</td>\n",
       "      <td>100.0</td>\n",
       "    </tr>\n",
       "    <tr>\n",
       "      <th rowspan=\"5\" valign=\"top\">Media Concha</th>\n",
       "      <th>40-60 UNI/KG</th>\n",
       "      <td>5076.0</td>\n",
       "      <td>25.0</td>\n",
       "    </tr>\n",
       "    <tr>\n",
       "      <th>60-80 UNI/KG</th>\n",
       "      <td>12604.0</td>\n",
       "      <td>63.0</td>\n",
       "    </tr>\n",
       "    <tr>\n",
       "      <th>80-100 UNI/KG</th>\n",
       "      <td>2260.0</td>\n",
       "      <td>11.0</td>\n",
       "    </tr>\n",
       "    <tr>\n",
       "      <th>100 UP UNI/KG</th>\n",
       "      <td>171.0</td>\n",
       "      <td>1.0</td>\n",
       "    </tr>\n",
       "    <tr>\n",
       "      <th>Total</th>\n",
       "      <td>20111.0</td>\n",
       "      <td>100.0</td>\n",
       "    </tr>\n",
       "    <tr>\n",
       "      <th>General</th>\n",
       "      <th>Total</th>\n",
       "      <td>1022301.0</td>\n",
       "      <td>300.0</td>\n",
       "    </tr>\n",
       "  </tbody>\n",
       "</table>\n",
       "</div>"
      ],
      "text/plain": [
       "                                  Valor      %\n",
       "Producto     Calibre                          \n",
       "Carne        50-100 UNI/KG       2003.0    0.0\n",
       "             100-200 UNI/KG    214333.0   27.0\n",
       "             200-300 UNI/KG    342066.0   43.0\n",
       "             300-500 UNI/KG    187196.0   24.0\n",
       "             500-1000 UNI/KG    10315.0    1.0\n",
       "             INDUSTRIAL         37586.0    5.0\n",
       "             Total             793499.0  100.0\n",
       "Entero       CON SALSA          35806.0   17.0\n",
       "             NATURAL           172885.0   83.0\n",
       "             Total             208691.0  100.0\n",
       "Media Concha 40-60 UNI/KG        5076.0   25.0\n",
       "             60-80 UNI/KG       12604.0   63.0\n",
       "             80-100 UNI/KG       2260.0   11.0\n",
       "             100 UP UNI/KG        171.0    1.0\n",
       "             Total              20111.0  100.0\n",
       "General      Total            1022301.0  300.0"
      ]
     },
     "execution_count": 918,
     "metadata": {},
     "output_type": "execute_result"
    }
   ],
   "source": [
    "producto = pd.read_csv('../Procesos_Producto_2021.csv')\n",
    "producto.drop_duplicates(inplace=True)\n",
    "empresa = 'Sudmaris'\n",
    "\n",
    "filtro = (producto.Empresa != empresa) & ((producto.Producto == 'Carne') | (producto.Producto == 'Entero') | (producto.Producto == 'Media Concha'))\n",
    "producto.drop_duplicates(inplace=True)\n",
    "datos = producto.loc[filtro].pivot_table(index=['Producto','Calibre'], values='Valor')\n",
    "\n",
    "for p, c in datos.index:\n",
    "    datos.loc[(p, c),'%'] = datos.loc[(p, c),'Valor']*100/datos.loc[idx[p,:],'Valor'].sum()\n",
    "    \n",
    "#Reindex\n",
    "try: \n",
    "    new_index = [(       'Carne',   '50-100 UNI/KG'),\n",
    "            (       'Carne',  '100-200 UNI/KG'),\n",
    "            (       'Carne',  '200-300 UNI/KG'),\n",
    "            (       'Carne',  '300-500 UNI/KG'),\n",
    "            (       'Carne', '500-1000 UNI/KG'),\n",
    "            (       'Carne',      'INDUSTRIAL'),\n",
    "            (      'Entero',       'CON SALSA'),\n",
    "            (      'Entero',         'NATURAL'),\n",
    "            ('Media Concha',    '40-60 UNI/KG'),\n",
    "            ('Media Concha',    '60-80 UNI/KG'),\n",
    "            ('Media Concha',   '80-100 UNI/KG'),\n",
    "            ('Media Concha',   '100 UP UNI/KG')]\n",
    "\n",
    "    datos = datos.loc[new_index]\n",
    "\n",
    "    datos = pd.concat([\n",
    "        d.append(d.sum().rename((k, 'Total')))\n",
    "        for k, d in datos.groupby(level=0)\n",
    "    ]).append(datos.sum().rename(('General', 'Total'))).round()\n",
    "except:\n",
    "    datos = pd.concat([\n",
    "        d.append(d.sum().rename((k, 'Total')))\n",
    "        for k, d in datos.groupby(level=0)\n",
    "    ]).append(datos.sum().rename(('General', 'Total'))).round()\n",
    "    \n",
    "datos"
   ]
  },
  {
   "cell_type": "markdown",
   "id": "0b3c4ef1",
   "metadata": {},
   "source": [
    "### Solo último mes"
   ]
  },
  {
   "cell_type": "code",
   "execution_count": 920,
   "id": "87e29c8c",
   "metadata": {},
   "outputs": [
    {
     "data": {
      "text/html": [
       "<div>\n",
       "<style scoped>\n",
       "    .dataframe tbody tr th:only-of-type {\n",
       "        vertical-align: middle;\n",
       "    }\n",
       "\n",
       "    .dataframe tbody tr th {\n",
       "        vertical-align: top;\n",
       "    }\n",
       "\n",
       "    .dataframe thead th {\n",
       "        text-align: right;\n",
       "    }\n",
       "</style>\n",
       "<table border=\"1\" class=\"dataframe\">\n",
       "  <thead>\n",
       "    <tr style=\"text-align: right;\">\n",
       "      <th></th>\n",
       "      <th></th>\n",
       "      <th>Valor</th>\n",
       "      <th>%</th>\n",
       "    </tr>\n",
       "    <tr>\n",
       "      <th>Producto</th>\n",
       "      <th>Calibre</th>\n",
       "      <th></th>\n",
       "      <th></th>\n",
       "    </tr>\n",
       "  </thead>\n",
       "  <tbody>\n",
       "    <tr>\n",
       "      <th rowspan=\"7\" valign=\"top\">Carne</th>\n",
       "      <th>50-100 UNI/KG</th>\n",
       "      <td>1700.0</td>\n",
       "      <td>0.0</td>\n",
       "    </tr>\n",
       "    <tr>\n",
       "      <th>100-200 UNI/KG</th>\n",
       "      <td>106160.0</td>\n",
       "      <td>14.0</td>\n",
       "    </tr>\n",
       "    <tr>\n",
       "      <th>200-300 UNI/KG</th>\n",
       "      <td>253276.0</td>\n",
       "      <td>32.0</td>\n",
       "    </tr>\n",
       "    <tr>\n",
       "      <th>300-500 UNI/KG</th>\n",
       "      <td>372683.0</td>\n",
       "      <td>48.0</td>\n",
       "    </tr>\n",
       "    <tr>\n",
       "      <th>500-1000 UNI/KG</th>\n",
       "      <td>16597.0</td>\n",
       "      <td>2.0</td>\n",
       "    </tr>\n",
       "    <tr>\n",
       "      <th>INDUSTRIAL</th>\n",
       "      <td>29307.0</td>\n",
       "      <td>4.0</td>\n",
       "    </tr>\n",
       "    <tr>\n",
       "      <th>Total</th>\n",
       "      <td>779722.0</td>\n",
       "      <td>100.0</td>\n",
       "    </tr>\n",
       "    <tr>\n",
       "      <th rowspan=\"3\" valign=\"top\">Entero</th>\n",
       "      <th>CON SALSA</th>\n",
       "      <td>11373.0</td>\n",
       "      <td>5.0</td>\n",
       "    </tr>\n",
       "    <tr>\n",
       "      <th>NATURAL</th>\n",
       "      <td>204226.0</td>\n",
       "      <td>95.0</td>\n",
       "    </tr>\n",
       "    <tr>\n",
       "      <th>Total</th>\n",
       "      <td>215600.0</td>\n",
       "      <td>100.0</td>\n",
       "    </tr>\n",
       "    <tr>\n",
       "      <th rowspan=\"5\" valign=\"top\">Media Concha</th>\n",
       "      <th>40-60 UNI/KG</th>\n",
       "      <td>782.0</td>\n",
       "      <td>7.0</td>\n",
       "    </tr>\n",
       "    <tr>\n",
       "      <th>60-80 UNI/KG</th>\n",
       "      <td>8856.0</td>\n",
       "      <td>76.0</td>\n",
       "    </tr>\n",
       "    <tr>\n",
       "      <th>80-100 UNI/KG</th>\n",
       "      <td>2022.0</td>\n",
       "      <td>17.0</td>\n",
       "    </tr>\n",
       "    <tr>\n",
       "      <th>100 UP UNI/KG</th>\n",
       "      <td>18.0</td>\n",
       "      <td>0.0</td>\n",
       "    </tr>\n",
       "    <tr>\n",
       "      <th>Total</th>\n",
       "      <td>11678.0</td>\n",
       "      <td>100.0</td>\n",
       "    </tr>\n",
       "    <tr>\n",
       "      <th>General</th>\n",
       "      <th>Total</th>\n",
       "      <td>1006999.0</td>\n",
       "      <td>300.0</td>\n",
       "    </tr>\n",
       "  </tbody>\n",
       "</table>\n",
       "</div>"
      ],
      "text/plain": [
       "                                  Valor      %\n",
       "Producto     Calibre                          \n",
       "Carne        50-100 UNI/KG       1700.0    0.0\n",
       "             100-200 UNI/KG    106160.0   14.0\n",
       "             200-300 UNI/KG    253276.0   32.0\n",
       "             300-500 UNI/KG    372683.0   48.0\n",
       "             500-1000 UNI/KG    16597.0    2.0\n",
       "             INDUSTRIAL         29307.0    4.0\n",
       "             Total             779722.0  100.0\n",
       "Entero       CON SALSA          11373.0    5.0\n",
       "             NATURAL           204226.0   95.0\n",
       "             Total             215600.0  100.0\n",
       "Media Concha 40-60 UNI/KG         782.0    7.0\n",
       "             60-80 UNI/KG        8856.0   76.0\n",
       "             80-100 UNI/KG       2022.0   17.0\n",
       "             100 UP UNI/KG         18.0    0.0\n",
       "             Total              11678.0  100.0\n",
       "General      Total            1006999.0  300.0"
      ]
     },
     "execution_count": 920,
     "metadata": {},
     "output_type": "execute_result"
    }
   ],
   "source": [
    "producto = pd.read_csv('../Procesos_Producto_2021.csv')\n",
    "producto.drop_duplicates(inplace=True)\n",
    "mes = 7\n",
    "filtro = (producto.Mes == mes) & ((producto.Producto == 'Carne') | (producto.Producto == 'Entero') | (producto.Producto == 'Media Concha'))\n",
    "producto.drop_duplicates(inplace=True)\n",
    "datos = producto.loc[filtro].pivot_table(index=['Producto','Calibre'], values='Valor')\n",
    "\n",
    "for p, c in datos.index:\n",
    "    datos.loc[(p, c),'%'] = datos.loc[(p, c),'Valor']*100/datos.loc[idx[p,:],'Valor'].sum()\n",
    "    \n",
    "#Reindex\n",
    "new_index = [(       'Carne',   '50-100 UNI/KG'),\n",
    "            (       'Carne',  '100-200 UNI/KG'),\n",
    "            (       'Carne',  '200-300 UNI/KG'),\n",
    "            (       'Carne',  '300-500 UNI/KG'),\n",
    "            (       'Carne', '500-1000 UNI/KG'),\n",
    "            (       'Carne',      'INDUSTRIAL'),\n",
    "            (      'Entero',       'CON SALSA'),\n",
    "            (      'Entero',         'NATURAL'),\n",
    "            ('Media Concha',    '40-60 UNI/KG'),\n",
    "            ('Media Concha',    '60-80 UNI/KG'),\n",
    "            ('Media Concha',   '80-100 UNI/KG'),\n",
    "            ('Media Concha',   '100 UP UNI/KG')]\n",
    "\n",
    "datos = datos.loc[new_index]\n",
    "\n",
    "datos = pd.concat([\n",
    "    d.append(d.sum().rename((k, 'Total')))\n",
    "    for k, d in datos.groupby(level=0)\n",
    "]).append(datos.sum().rename(('General', 'Total'))).round()\n",
    "\n",
    "datos"
   ]
  },
  {
   "cell_type": "code",
   "execution_count": 921,
   "id": "eed418ae",
   "metadata": {},
   "outputs": [
    {
     "data": {
      "text/html": [
       "<div>\n",
       "<style scoped>\n",
       "    .dataframe tbody tr th:only-of-type {\n",
       "        vertical-align: middle;\n",
       "    }\n",
       "\n",
       "    .dataframe tbody tr th {\n",
       "        vertical-align: top;\n",
       "    }\n",
       "\n",
       "    .dataframe thead th {\n",
       "        text-align: right;\n",
       "    }\n",
       "</style>\n",
       "<table border=\"1\" class=\"dataframe\">\n",
       "  <thead>\n",
       "    <tr style=\"text-align: right;\">\n",
       "      <th></th>\n",
       "      <th></th>\n",
       "      <th>Valor</th>\n",
       "      <th>%</th>\n",
       "    </tr>\n",
       "    <tr>\n",
       "      <th>Producto</th>\n",
       "      <th>Calibre</th>\n",
       "      <th></th>\n",
       "      <th></th>\n",
       "    </tr>\n",
       "  </thead>\n",
       "  <tbody>\n",
       "    <tr>\n",
       "      <th rowspan=\"7\" valign=\"top\">Carne</th>\n",
       "      <th>50-100 UNI/KG</th>\n",
       "      <td>1974.0</td>\n",
       "      <td>0.0</td>\n",
       "    </tr>\n",
       "    <tr>\n",
       "      <th>100-200 UNI/KG</th>\n",
       "      <td>226815.0</td>\n",
       "      <td>29.0</td>\n",
       "    </tr>\n",
       "    <tr>\n",
       "      <th>200-300 UNI/KG</th>\n",
       "      <td>352311.0</td>\n",
       "      <td>44.0</td>\n",
       "    </tr>\n",
       "    <tr>\n",
       "      <th>300-500 UNI/KG</th>\n",
       "      <td>165793.0</td>\n",
       "      <td>21.0</td>\n",
       "    </tr>\n",
       "    <tr>\n",
       "      <th>500-1000 UNI/KG</th>\n",
       "      <td>9590.0</td>\n",
       "      <td>1.0</td>\n",
       "    </tr>\n",
       "    <tr>\n",
       "      <th>INDUSTRIAL</th>\n",
       "      <td>38542.0</td>\n",
       "      <td>5.0</td>\n",
       "    </tr>\n",
       "    <tr>\n",
       "      <th>Total</th>\n",
       "      <td>795025.0</td>\n",
       "      <td>100.0</td>\n",
       "    </tr>\n",
       "    <tr>\n",
       "      <th rowspan=\"3\" valign=\"top\">Entero</th>\n",
       "      <th>CON SALSA</th>\n",
       "      <td>39296.0</td>\n",
       "      <td>19.0</td>\n",
       "    </tr>\n",
       "    <tr>\n",
       "      <th>NATURAL</th>\n",
       "      <td>164716.0</td>\n",
       "      <td>81.0</td>\n",
       "    </tr>\n",
       "    <tr>\n",
       "      <th>Total</th>\n",
       "      <td>204012.0</td>\n",
       "      <td>100.0</td>\n",
       "    </tr>\n",
       "    <tr>\n",
       "      <th rowspan=\"5\" valign=\"top\">Media Concha</th>\n",
       "      <th>40-60 UNI/KG</th>\n",
       "      <td>5376.0</td>\n",
       "      <td>26.0</td>\n",
       "    </tr>\n",
       "    <tr>\n",
       "      <th>60-80 UNI/KG</th>\n",
       "      <td>13020.0</td>\n",
       "      <td>62.0</td>\n",
       "    </tr>\n",
       "    <tr>\n",
       "      <th>80-100 UNI/KG</th>\n",
       "      <td>2288.0</td>\n",
       "      <td>11.0</td>\n",
       "    </tr>\n",
       "    <tr>\n",
       "      <th>100 UP UNI/KG</th>\n",
       "      <td>202.0</td>\n",
       "      <td>1.0</td>\n",
       "    </tr>\n",
       "    <tr>\n",
       "      <th>Total</th>\n",
       "      <td>20886.0</td>\n",
       "      <td>100.0</td>\n",
       "    </tr>\n",
       "    <tr>\n",
       "      <th>General</th>\n",
       "      <th>Total</th>\n",
       "      <td>1019923.0</td>\n",
       "      <td>300.0</td>\n",
       "    </tr>\n",
       "  </tbody>\n",
       "</table>\n",
       "</div>"
      ],
      "text/plain": [
       "                                  Valor      %\n",
       "Producto     Calibre                          \n",
       "Carne        50-100 UNI/KG       1974.0    0.0\n",
       "             100-200 UNI/KG    226815.0   29.0\n",
       "             200-300 UNI/KG    352311.0   44.0\n",
       "             300-500 UNI/KG    165793.0   21.0\n",
       "             500-1000 UNI/KG     9590.0    1.0\n",
       "             INDUSTRIAL         38542.0    5.0\n",
       "             Total             795025.0  100.0\n",
       "Entero       CON SALSA          39296.0   19.0\n",
       "             NATURAL           164716.0   81.0\n",
       "             Total             204012.0  100.0\n",
       "Media Concha 40-60 UNI/KG        5376.0   26.0\n",
       "             60-80 UNI/KG       13020.0   62.0\n",
       "             80-100 UNI/KG       2288.0   11.0\n",
       "             100 UP UNI/KG        202.0    1.0\n",
       "             Total              20886.0  100.0\n",
       "General      Total            1019923.0  300.0"
      ]
     },
     "execution_count": 921,
     "metadata": {},
     "output_type": "execute_result"
    }
   ],
   "source": [
    "producto = pd.read_csv('../Procesos_Producto_2021.csv')\n",
    "producto.drop_duplicates(inplace=True)\n",
    "empresa = 'Sudmaris'\n",
    "mes = 7\n",
    "\n",
    "filtro = (producto.Mes != mes) & (producto.Empresa != empresa) & ((producto.Producto == 'Carne') | (producto.Producto == 'Entero') | (producto.Producto == 'Media Concha'))\n",
    "producto.drop_duplicates(inplace=True)\n",
    "datos = producto.loc[filtro].pivot_table(index=['Producto','Calibre'], values='Valor')\n",
    "\n",
    "for p, c in datos.index:\n",
    "    datos.loc[(p, c),'%'] = datos.loc[(p, c),'Valor']*100/datos.loc[idx[p,:],'Valor'].sum()\n",
    "    \n",
    "#Reindex\n",
    "try: \n",
    "    new_index = [(       'Carne',   '50-100 UNI/KG'),\n",
    "            (       'Carne',  '100-200 UNI/KG'),\n",
    "            (       'Carne',  '200-300 UNI/KG'),\n",
    "            (       'Carne',  '300-500 UNI/KG'),\n",
    "            (       'Carne', '500-1000 UNI/KG'),\n",
    "            (       'Carne',      'INDUSTRIAL'),\n",
    "            (      'Entero',       'CON SALSA'),\n",
    "            (      'Entero',         'NATURAL'),\n",
    "            ('Media Concha',    '40-60 UNI/KG'),\n",
    "            ('Media Concha',    '60-80 UNI/KG'),\n",
    "            ('Media Concha',   '80-100 UNI/KG'),\n",
    "            ('Media Concha',   '100 UP UNI/KG')]\n",
    "\n",
    "    datos = datos.loc[new_index]\n",
    "\n",
    "    datos = pd.concat([\n",
    "        d.append(d.sum().rename((k, 'Total')))\n",
    "        for k, d in datos.groupby(level=0)\n",
    "    ]).append(datos.sum().rename(('General', 'Total'))).round()\n",
    "except:\n",
    "    datos = pd.concat([\n",
    "        d.append(d.sum().rename((k, 'Total')))\n",
    "        for k, d in datos.groupby(level=0)\n",
    "    ]).append(datos.sum().rename(('General', 'Total'))).round()\n",
    "    \n",
    "datos"
   ]
  },
  {
   "cell_type": "markdown",
   "id": "820c3eb1",
   "metadata": {},
   "source": [
    "# Dotación"
   ]
  },
  {
   "cell_type": "code",
   "execution_count": 929,
   "id": "4e068f8e",
   "metadata": {},
   "outputs": [],
   "source": [
    "dotacion = pd.read_csv('../Procesos_Dotacion_2021.csv')\n",
    "dotacion.head()\n",
    "\n",
    "dict_cargos =  {\n",
    "    'Operarios directos (producción)': 'Operarios Directos',\n",
    "    'Jefes de Turno': 'Supervisores Directos',\n",
    "    'Supervisores Producción': 'Supervisores Directos',\n",
    "    'Operarios Indirectos (Frigorífico, Aseo, etc)': 'Personal Indirecto',\n",
    "    'Supervisores Calidad': 'Personal Indirecto',\n",
    "    'Monitores Calidad': 'Personal Indirecto',\n",
    "    'Operadores Mantención y Administración Directo Planta (Contador': 'Personal Indirecto',\n",
    "    'Tesorero': 'Personal Indirecto',\n",
    "    'Asistente Contabilidad': 'Personal Indirecto',\n",
    "    'Jefe RRHH': 'Personal Indirecto',\n",
    "    'Jefe de Adquisición': 'Personal Indirecto',\n",
    "    'Prevención de Riesgo': 'Personal Indirecto',\n",
    "    'Control de Gestión': 'Personal Indirecto',\n",
    "    'Otro cargo que su trabajo esté asociado directamente con Planta': 'Personal Indirecto',\n",
    "}\n",
    "\n",
    "dotacion['Grupo'] = dotacion.Cargo.apply(lambda c: dict_cargos[c])\n",
    "dotacion['Tipo'] = dotacion.Grupo.apply(lambda g: 'Personal Directo' if g != 'Personal Indirecto' else g)\n",
    "dotacion['Personal Planta'] = dotacion['Personal Planta Contrato Plazo Fijo'] + dotacion['Personal Planta Contrato Plazo Indefinido']"
   ]
  },
  {
   "cell_type": "code",
   "execution_count": 932,
   "id": "45d74dc5",
   "metadata": {},
   "outputs": [
    {
     "data": {
      "text/html": [
       "<div>\n",
       "<style scoped>\n",
       "    .dataframe tbody tr th:only-of-type {\n",
       "        vertical-align: middle;\n",
       "    }\n",
       "\n",
       "    .dataframe tbody tr th {\n",
       "        vertical-align: top;\n",
       "    }\n",
       "\n",
       "    .dataframe thead tr th {\n",
       "        text-align: left;\n",
       "    }\n",
       "\n",
       "    .dataframe thead tr:last-of-type th {\n",
       "        text-align: right;\n",
       "    }\n",
       "</style>\n",
       "<table border=\"1\" class=\"dataframe\">\n",
       "  <thead>\n",
       "    <tr>\n",
       "      <th></th>\n",
       "      <th colspan=\"10\" halign=\"left\">Personal Planta</th>\n",
       "    </tr>\n",
       "    <tr>\n",
       "      <th>Mes</th>\n",
       "      <th>1</th>\n",
       "      <th>2</th>\n",
       "      <th>3</th>\n",
       "      <th>4</th>\n",
       "      <th>5</th>\n",
       "      <th>6</th>\n",
       "      <th>7</th>\n",
       "      <th>8</th>\n",
       "      <th>9</th>\n",
       "      <th>2021</th>\n",
       "    </tr>\n",
       "    <tr>\n",
       "      <th>Tipo</th>\n",
       "      <th></th>\n",
       "      <th></th>\n",
       "      <th></th>\n",
       "      <th></th>\n",
       "      <th></th>\n",
       "      <th></th>\n",
       "      <th></th>\n",
       "      <th></th>\n",
       "      <th></th>\n",
       "      <th></th>\n",
       "    </tr>\n",
       "  </thead>\n",
       "  <tbody>\n",
       "    <tr>\n",
       "      <th>Personal Directo</th>\n",
       "      <td>1247.2600</td>\n",
       "      <td>1195.2600</td>\n",
       "      <td>1063.9000</td>\n",
       "      <td>880.2</td>\n",
       "      <td>1014.24</td>\n",
       "      <td>962.40</td>\n",
       "      <td>720.80</td>\n",
       "      <td>936.90</td>\n",
       "      <td>404.83</td>\n",
       "      <td>1477.0</td>\n",
       "    </tr>\n",
       "    <tr>\n",
       "      <th>Personal Indirecto</th>\n",
       "      <td>584.7333</td>\n",
       "      <td>627.8333</td>\n",
       "      <td>666.4333</td>\n",
       "      <td>544.8</td>\n",
       "      <td>656.96</td>\n",
       "      <td>645.13</td>\n",
       "      <td>508.03</td>\n",
       "      <td>571.17</td>\n",
       "      <td>310.53</td>\n",
       "      <td>907.0</td>\n",
       "    </tr>\n",
       "  </tbody>\n",
       "</table>\n",
       "</div>"
      ],
      "text/plain": [
       "                   Personal Planta                                        \\\n",
       "Mes                           1          2          3      4        5      \n",
       "Tipo                                                                       \n",
       "Personal Directo         1247.2600  1195.2600  1063.9000  880.2  1014.24   \n",
       "Personal Indirecto        584.7333   627.8333   666.4333  544.8   656.96   \n",
       "\n",
       "                                                            \n",
       "Mes                   6       7       8       9       2021  \n",
       "Tipo                                                        \n",
       "Personal Directo    962.40  720.80  936.90  404.83  1477.0  \n",
       "Personal Indirecto  645.13  508.03  571.17  310.53   907.0  "
      ]
     },
     "execution_count": 932,
     "metadata": {},
     "output_type": "execute_result"
    }
   ],
   "source": [
    "tabla = dotacion[['Tipo','Mes','Personal Planta']].pivot_table(index = 'Tipo', columns = 'Mes', aggfunc = np.sum)\n",
    "tabla"
   ]
  },
  {
   "cell_type": "code",
   "execution_count": 933,
   "id": "2c4cd0af",
   "metadata": {},
   "outputs": [],
   "source": [
    "tabla.loc[('Total personal')] = tabla.sum(axis=0)"
   ]
  },
  {
   "cell_type": "code",
   "execution_count": 940,
   "id": "1df95753",
   "metadata": {},
   "outputs": [
    {
     "data": {
      "text/html": [
       "<div>\n",
       "<style scoped>\n",
       "    .dataframe tbody tr th:only-of-type {\n",
       "        vertical-align: middle;\n",
       "    }\n",
       "\n",
       "    .dataframe tbody tr th {\n",
       "        vertical-align: top;\n",
       "    }\n",
       "\n",
       "    .dataframe thead tr th {\n",
       "        text-align: left;\n",
       "    }\n",
       "\n",
       "    .dataframe thead tr:last-of-type th {\n",
       "        text-align: right;\n",
       "    }\n",
       "</style>\n",
       "<table border=\"1\" class=\"dataframe\">\n",
       "  <thead>\n",
       "    <tr>\n",
       "      <th></th>\n",
       "      <th colspan=\"10\" halign=\"left\">Personal Planta</th>\n",
       "    </tr>\n",
       "    <tr>\n",
       "      <th>Mes</th>\n",
       "      <th>1</th>\n",
       "      <th>2</th>\n",
       "      <th>3</th>\n",
       "      <th>4</th>\n",
       "      <th>5</th>\n",
       "      <th>6</th>\n",
       "      <th>7</th>\n",
       "      <th>8</th>\n",
       "      <th>9</th>\n",
       "      <th>2021</th>\n",
       "    </tr>\n",
       "    <tr>\n",
       "      <th>Tipo</th>\n",
       "      <th></th>\n",
       "      <th></th>\n",
       "      <th></th>\n",
       "      <th></th>\n",
       "      <th></th>\n",
       "      <th></th>\n",
       "      <th></th>\n",
       "      <th></th>\n",
       "      <th></th>\n",
       "      <th></th>\n",
       "    </tr>\n",
       "  </thead>\n",
       "  <tbody>\n",
       "    <tr>\n",
       "      <th>Personal Directo</th>\n",
       "      <td>1247.0</td>\n",
       "      <td>1195.0</td>\n",
       "      <td>1064.0</td>\n",
       "      <td>880.0</td>\n",
       "      <td>1014.0</td>\n",
       "      <td>962.0</td>\n",
       "      <td>721.0</td>\n",
       "      <td>937.0</td>\n",
       "      <td>405.0</td>\n",
       "      <td>1477.0</td>\n",
       "    </tr>\n",
       "    <tr>\n",
       "      <th>Personal Indirecto</th>\n",
       "      <td>585.0</td>\n",
       "      <td>628.0</td>\n",
       "      <td>666.0</td>\n",
       "      <td>545.0</td>\n",
       "      <td>657.0</td>\n",
       "      <td>645.0</td>\n",
       "      <td>508.0</td>\n",
       "      <td>571.0</td>\n",
       "      <td>311.0</td>\n",
       "      <td>907.0</td>\n",
       "    </tr>\n",
       "    <tr>\n",
       "      <th>Total personal</th>\n",
       "      <td>1832.0</td>\n",
       "      <td>1823.0</td>\n",
       "      <td>1730.0</td>\n",
       "      <td>1425.0</td>\n",
       "      <td>1671.0</td>\n",
       "      <td>1608.0</td>\n",
       "      <td>1229.0</td>\n",
       "      <td>1508.0</td>\n",
       "      <td>715.0</td>\n",
       "      <td>2384.0</td>\n",
       "    </tr>\n",
       "  </tbody>\n",
       "</table>\n",
       "</div>"
      ],
      "text/plain": [
       "                   Personal Planta                                          \\\n",
       "Mes                           1       2       3       4       5       6      \n",
       "Tipo                                                                         \n",
       "Personal Directo            1247.0  1195.0  1064.0   880.0  1014.0   962.0   \n",
       "Personal Indirecto           585.0   628.0   666.0   545.0   657.0   645.0   \n",
       "Total personal              1832.0  1823.0  1730.0  1425.0  1671.0  1608.0   \n",
       "\n",
       "                                                   \n",
       "Mes                   7       8      9       2021  \n",
       "Tipo                                               \n",
       "Personal Directo     721.0   937.0  405.0  1477.0  \n",
       "Personal Indirecto   508.0   571.0  311.0   907.0  \n",
       "Total personal      1229.0  1508.0  715.0  2384.0  "
      ]
     },
     "execution_count": 940,
     "metadata": {},
     "output_type": "execute_result"
    }
   ],
   "source": [
    "tabla = tabla.round()\n",
    "tabla"
   ]
  },
  {
   "cell_type": "code",
   "execution_count": null,
   "id": "18315ad2",
   "metadata": {},
   "outputs": [],
   "source": []
  }
 ],
 "metadata": {
  "kernelspec": {
   "display_name": "Python 3",
   "language": "python",
   "name": "python3"
  },
  "language_info": {
   "codemirror_mode": {
    "name": "ipython",
    "version": 3
   },
   "file_extension": ".py",
   "mimetype": "text/x-python",
   "name": "python",
   "nbconvert_exporter": "python",
   "pygments_lexer": "ipython3",
   "version": "3.6.13"
  }
 },
 "nbformat": 4,
 "nbformat_minor": 5
}
